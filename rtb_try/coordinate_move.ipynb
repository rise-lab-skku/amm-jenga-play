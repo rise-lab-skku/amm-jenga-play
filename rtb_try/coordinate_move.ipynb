{
 "cells": [
  {
   "cell_type": "code",
   "execution_count": 1,
   "metadata": {},
   "outputs": [
    {
     "name": "stdout",
     "output_type": "stream",
     "text": [
      "ERobot: panda (by Franka Emika), 7 joints (RRRRRRR), 1 gripper, geometry, collision\n",
      "┌─────┬──────────────┬───────┬─────────────┬────────────────────────────────────────────────┐\n",
      "│link │     link     │ joint │   parent    │              ETS: parent to link               │\n",
      "├─────┼──────────────┼───────┼─────────────┼────────────────────────────────────────────────┤\n",
      "│   0\u001b[0m │ \u001b[38;5;4mpanda_link0\u001b[0m  │      \u001b[0m │ BASE\u001b[0m        │ SE3()\u001b[0m                                          │\n",
      "│   1\u001b[0m │ panda_link1\u001b[0m  │     0\u001b[0m │ panda_link0\u001b[0m │ SE3(0, 0, 0.333) ⊕ Rz(q0)\u001b[0m                      │\n",
      "│   2\u001b[0m │ panda_link2\u001b[0m  │     1\u001b[0m │ panda_link1\u001b[0m │ SE3(-90°, -0°, 0°) ⊕ Rz(q1)\u001b[0m                    │\n",
      "│   3\u001b[0m │ panda_link3\u001b[0m  │     2\u001b[0m │ panda_link2\u001b[0m │ SE3(0, -0.316, 0; 90°, -0°, 0°) ⊕ Rz(q2)\u001b[0m       │\n",
      "│   4\u001b[0m │ panda_link4\u001b[0m  │     3\u001b[0m │ panda_link3\u001b[0m │ SE3(0.0825, 0, 0; 90°, -0°, 0°) ⊕ Rz(q3)\u001b[0m       │\n",
      "│   5\u001b[0m │ panda_link5\u001b[0m  │     4\u001b[0m │ panda_link4\u001b[0m │ SE3(-0.0825, 0.384, 0; -90°, -0°, 0°) ⊕ Rz(q4)\u001b[0m │\n",
      "│   6\u001b[0m │ panda_link6\u001b[0m  │     5\u001b[0m │ panda_link5\u001b[0m │ SE3(90°, -0°, 0°) ⊕ Rz(q5)\u001b[0m                     │\n",
      "│   7\u001b[0m │ panda_link7\u001b[0m  │     6\u001b[0m │ panda_link6\u001b[0m │ SE3(0.088, 0, 0; 90°, -0°, 0°) ⊕ Rz(q6)\u001b[0m        │\n",
      "│   8\u001b[0m │ \u001b[38;5;4m@panda_link8\u001b[0m │      \u001b[0m │ panda_link7\u001b[0m │ SE3(0, 0, 0.107)\u001b[0m                               │\n",
      "└─────┴──────────────┴───────┴─────────────┴────────────────────────────────────────────────┘\n",
      "\n",
      "┌─────┬─────┬────────┬─────┬───────┬─────┬───────┬──────┐\n",
      "│name │ q0  │ q1     │ q2  │ q3    │ q4  │ q5    │ q6   │\n",
      "├─────┼─────┼────────┼─────┼───────┼─────┼───────┼──────┤\n",
      "│  qr\u001b[0m │  0°\u001b[0m │ -17.2°\u001b[0m │  0°\u001b[0m │ -126°\u001b[0m │  0°\u001b[0m │  115°\u001b[0m │  45°\u001b[0m │\n",
      "│  qz\u001b[0m │  0°\u001b[0m │  0°\u001b[0m    │  0°\u001b[0m │  0°\u001b[0m   │  0°\u001b[0m │  0°\u001b[0m   │  0°\u001b[0m  │\n",
      "└─────┴─────┴────────┴─────┴───────┴─────┴───────┴──────┘\n",
      "\n"
     ]
    }
   ],
   "source": [
    "import numpy as np\n",
    "import roboticstoolbox as rtb\n",
    "import spatialmath as sm\n",
    "from swift import Swift\n",
    "import math\n",
    "import spatialgeometry as sg\n",
    "from typing import Tuple\n",
    "panda = rtb.models.Panda()\n",
    "print(panda)\n",
    "\n",
    "# # Use the default start and end links\n",
    "# print(panda.fkine(panda.qr))\n",
    "\n",
    "# # Use string start and end links\n",
    "# print(panda.fkine(panda.qr, start=\"panda_link0\", end=\"panda_link5\"))\n",
    "\n",
    "# # Use reference start and end links\n",
    "# print(panda.fkine(panda.qr, start=panda.links[3], end=panda.grippers[0]))"
   ]
  },
  {
   "cell_type": "code",
   "execution_count": 2,
   "metadata": {},
   "outputs": [],
   "source": [
    "env = Swift()\n",
    "# env.launch(realtime=True, browser=\"notebook\")\n",
    "env.launch(realtime=True)\n",
    "env.add(panda)\n",
    "# end-effector axes\n",
    "ee_axes = sg.Axes(0.1)\n",
    "\n",
    "# goal axes\n",
    "goal_axes = sg.Axes(0.1)\n",
    "\n",
    "# Add the axes to the environment\n",
    "env.add(ee_axes)\n",
    "env.add(goal_axes) \n",
    "env.step(0)"
   ]
  },
  {
   "cell_type": "code",
   "execution_count": 3,
   "metadata": {},
   "outputs": [],
   "source": [
    "# Change the robot configuration to the ready position\n",
    "panda.q = panda.qr\n",
    "\n",
    "# Step the sim to view the robot in this configuration\n",
    "env.step(0)\n",
    "\n",
    "# A variable to specify when to break the loop\n",
    "arrived = False\n",
    "\n",
    "# Specify the gain for the p_servo method\n",
    "gain = np.array([1.0, 1.0, 1.0, 1.0, 1.0, 1.0])\n",
    "\n",
    "# Specify our timestep\n",
    "dt = 0.05"
   ]
  },
  {
   "cell_type": "code",
   "execution_count": 4,
   "metadata": {},
   "outputs": [
    {
     "name": "stdout",
     "output_type": "stream",
     "text": [
      "[[ 6.12323400e-17 -1.00000000e+00  6.12323400e-17  2.50000000e-01]\n",
      " [ 0.00000000e+00  6.12323400e-17  1.00000000e+00  2.50000000e-01]\n",
      " [-1.00000000e+00 -6.12323400e-17  3.74939946e-33  2.50000000e-01]\n",
      " [ 0.00000000e+00  0.00000000e+00  0.00000000e+00  1.00000000e+00]]\n",
      "ARRived\n"
     ]
    }
   ],
   "source": [
    "Tep = sm.SE3.Trans(0.25, 0.25, 0.25)* sm.SE3.RPY(-np.pi/2,np.pi/2, 0)\n",
    "Tep = Tep.A\n",
    "# Set the goal axes to Tep\n",
    "goal_axes.T = Tep\n",
    "while not arrived:\n",
    "    # Work out the base frame manipulator Jacobian using the current robot configuration\n",
    "    J = panda.jacob0(panda.q)\n",
    "\n",
    "    # The end-effector pose of the panda (using .A to get a numpy array instead of an SE3 object)\n",
    "    Te = panda.fkine(panda.q).A\n",
    "\n",
    "    # Since the Panda has 7 joints, the Jacobian is not square, therefore we must\n",
    "    # use the pseudoinverse (the pinv method)\n",
    "    J_pinv = np.linalg.pinv(J)\n",
    "\n",
    "    # Calculate the required end-effector velocity and whether the robot has arrived\n",
    "    ev, arrived = rtb.p_servo(Te, Tep, gain=gain, threshold=0.001, method='angle-axis')\n",
    "\n",
    "    # Calculate the required joint velocities and apply to the robot\n",
    "    panda.qd = J_pinv @ ev\n",
    "\n",
    "    # Update the ee axes\n",
    "    ee_axes.T = Te\n",
    "\n",
    "    # Step the simulator by dt seconds\n",
    "    env.step(dt)\n",
    "print(Tep)\n",
    "print(\"ARRived\")\n",
    "arrived = False"
   ]
  },
  {
   "cell_type": "code",
   "execution_count": 5,
   "metadata": {},
   "outputs": [],
   "source": [
    "# Set the goal axes to Tep\n",
    "goal_axes.T = sm.SE3.Trans(0.25, 0.1, 0.25) * sm.SE3.RPY(-np.pi/2, np.pi/2,0)\n",
    "\n",
    "# Make the target move, set its velocity\n",
    "# goal_axes.v = np.array([0.0, 0.02, 0.02, 0.0, 0.0, 0.0])\n",
    "# goal_axes.v = np.zeros(6)\n",
    "\n",
    "gain = np.array([1.0, 1.0, 1.0, 1.0, 1.0, 1.0])\n",
    "# Run the simulation for 300 steps\n",
    "# As the target never stops moving, the robot will never arrive at the goal,\n",
    "# but it will continuously track towards it\n",
    "while not arrived:\n",
    "\n",
    "\n",
    "    # Work out the base frame manipulator Jacobian using the current robot configuration\n",
    "    J = panda.jacob0(panda.q)\n",
    "\n",
    "    # The end-effector pose of the panda (using .A to get a numpy array instead of an SE3 object)\n",
    "    Te = panda.fkine(panda.q).A\n",
    "\n",
    "    # Since the Panda has 7 joints, the Jacobian is not square, therefore we must\n",
    "    # use the pseudoinverse (the pinv method)\n",
    "    J_pinv = np.linalg.pinv(J)\n",
    "\n",
    "    # Calculate the required end-effector velocity\n",
    "    # Here we feed in the goal_axes.T, which is an SE3, as our goal pose\n",
    "    ev, arrived = rtb.p_servo(Te, goal_axes.T, gain=gain, threshold=0.001, method='angle-axis')\n",
    "\n",
    "    # Calculate the required joint velocities and apply to the robot\n",
    "    panda.qd = J_pinv @ ev\n",
    "\n",
    "    # Update the ee axes\n",
    "    ee_axes.T = Te\n",
    "\n",
    "    # Step the simulator by dt seconds\n",
    "    env.step(dt)"
   ]
  },
  {
   "cell_type": "code",
   "execution_count": null,
   "metadata": {},
   "outputs": [],
   "source": []
  },
  {
   "cell_type": "code",
   "execution_count": null,
   "metadata": {},
   "outputs": [],
   "source": []
  },
  {
   "cell_type": "code",
   "execution_count": null,
   "metadata": {},
   "outputs": [],
   "source": []
  }
 ],
 "metadata": {
  "kernelspec": {
   "display_name": ".venv",
   "language": "python",
   "name": "python3"
  },
  "language_info": {
   "codemirror_mode": {
    "name": "ipython",
    "version": 3
   },
   "file_extension": ".py",
   "mimetype": "text/x-python",
   "name": "python",
   "nbconvert_exporter": "python",
   "pygments_lexer": "ipython3",
   "version": "3.8.10"
  },
  "orig_nbformat": 4
 },
 "nbformat": 4,
 "nbformat_minor": 2
}
