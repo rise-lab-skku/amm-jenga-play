{
 "cells": [
  {
   "cell_type": "code",
   "execution_count": 9,
   "metadata": {},
   "outputs": [
    {
     "name": "stdout",
     "output_type": "stream",
     "text": [
      "HSV :  [[[ 77 239 163]]]\n",
      "Coordinates of pixel: X:  1035 Y:  898\n",
      "HSV :  [[[ 77 231 167]]]\n",
      "Coordinates of pixel: X:  1034 Y:  998\n",
      "HSV :  [[[ 78 213 174]]]\n",
      "Coordinates of pixel: X:  1045 Y:  1097\n",
      "HSV :  [[[ 78 169 175]]]\n",
      "Coordinates of pixel: X:  1038 Y:  1190\n",
      "HSV :  [[[ 76 241 165]]]\n",
      "Coordinates of pixel: X:  1035 Y:  817\n",
      "HSV :  [[[ 76 239 162]]]\n",
      "Coordinates of pixel: X:  1036 Y:  734\n"
     ]
    }
   ],
   "source": [
    "import cv2\n",
    "import numpy as np\n",
    "import pickle\n",
    " \n",
    "def mouseRGB(event,x,y,flags,param):\n",
    "    if event == cv2.EVENT_LBUTTONDOWN: #checks mouse left button down condition\n",
    "        colorsB = image[y,x,0]\n",
    "        colorsG = image[y,x,1]\n",
    "        colorsR = image[y,x,2]\n",
    "        colors = image[y,x]\n",
    "        hsv_value= np.uint8([[[colorsB ,colorsG,colorsR ]]])\n",
    "        hsv = cv2.cvtColor(hsv_value,cv2.COLOR_BGR2HSV)\n",
    "        print (\"HSV : \" ,hsv)\n",
    "        # print(\"Red: \",colorsR)\n",
    "        # print(\"Green: \",colorsG)\n",
    "        # print(\"Blue: \",colorsB)\n",
    "        # print(\"BRG Format: \",colors)\n",
    "        print(\"Coordinates of pixel: X: \",x,\"Y: \",y)\n",
    " \n",
    "# Read an image, a window and bind the function to window\n",
    "with open('/home/hr/Desktop/rgb.p', 'rb') as rgb:\n",
    "    r = pickle.load(rgb)\n",
    "\n",
    "image = r\n",
    "# mage = cv2.imread('/home/shs/Desktop/rgb1.png') #name of image\n",
    "cv2.namedWindow('mouseRGB')\n",
    "cv2.setMouseCallback('mouseRGB',mouseRGB)\n",
    " \n",
    "#Do until esc pressed\n",
    "while(1):\n",
    "    cv2.imshow('mouseRGB',image)\n",
    "    if cv2.waitKey(20) & 0xFF == 27:\n",
    "        break\n",
    "#if esc pressed, finish.\n",
    "cv2.destroyAllWindows()"
   ]
  },
  {
   "cell_type": "code",
   "execution_count": null,
   "metadata": {},
   "outputs": [],
   "source": []
  }
 ],
 "metadata": {
  "kernelspec": {
   "display_name": "Python 3",
   "language": "python",
   "name": "python3"
  },
  "language_info": {
   "codemirror_mode": {
    "name": "ipython",
    "version": 3
   },
   "file_extension": ".py",
   "mimetype": "text/x-python",
   "name": "python",
   "nbconvert_exporter": "python",
   "pygments_lexer": "ipython3",
   "version": "3.8.10"
  },
  "orig_nbformat": 4
 },
 "nbformat": 4,
 "nbformat_minor": 2
}
