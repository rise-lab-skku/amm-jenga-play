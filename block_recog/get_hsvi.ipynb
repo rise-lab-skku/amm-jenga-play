{
 "cells": [
  {
   "cell_type": "code",
   "execution_count": 7,
   "metadata": {},
   "outputs": [
    {
     "name": "stdout",
     "output_type": "stream",
     "text": [
      "HSV :  [[[177  80 246]]]\n",
      "Coordinates of pixel: X:  887 Y:  434\n",
      "HSV :  [[[  0  77 244]]]\n",
      "Coordinates of pixel: X:  909 Y:  427\n",
      "HSV :  [[[  0  74 255]]]\n",
      "Coordinates of pixel: X:  942 Y:  424\n",
      "HSV :  [[[177  72 253]]]\n",
      "Coordinates of pixel: X:  955 Y:  434\n",
      "HSV :  [[[177  70 255]]]\n",
      "Coordinates of pixel: X:  989 Y:  439\n",
      "HSV :  [[[175  73 252]]]\n",
      "Coordinates of pixel: X:  1020 Y:  451\n",
      "HSV :  [[[177  71 254]]]\n",
      "Coordinates of pixel: X:  1050 Y:  459\n",
      "HSV :  [[[175  71 253]]]\n",
      "Coordinates of pixel: X:  1072 Y:  466\n",
      "HSV :  [[[174  68 249]]]\n",
      "Coordinates of pixel: X:  1069 Y:  482\n",
      "HSV :  [[[173  72 252]]]\n",
      "Coordinates of pixel: X:  1023 Y:  472\n",
      "HSV :  [[[175  72 254]]]\n",
      "Coordinates of pixel: X:  985 Y:  463\n",
      "HSV :  [[[175  74 253]]]\n",
      "Coordinates of pixel: X:  948 Y:  450\n",
      "HSV :  [[[175  74 250]]]\n",
      "Coordinates of pixel: X:  929 Y:  447\n",
      "HSV :  [[[175  83 241]]]\n",
      "Coordinates of pixel: X:  894 Y:  452\n",
      "HSV :  [[[175  83 240]]]\n",
      "Coordinates of pixel: X:  908 Y:  449\n",
      "HSV :  [[[178  80 244]]]\n",
      "Coordinates of pixel: X:  909 Y:  432\n",
      "HSV :  [[[177  80 244]]]\n",
      "Coordinates of pixel: X:  891 Y:  438\n"
     ]
    }
   ],
   "source": [
    "import cv2\n",
    "import numpy as np\n",
    "import pickle\n",
    " \n",
    "def mouseRGB(event,x,y,flags,param):\n",
    "    if event == cv2.EVENT_LBUTTONDOWN: #checks mouse left button down condition\n",
    "        colorsB = image[y,x,0]\n",
    "        colorsG = image[y,x,1]\n",
    "        colorsR = image[y,x,2]\n",
    "        colors = image[y,x]\n",
    "        hsv_value= np.uint8([[[colorsB ,colorsG,colorsR ]]])\n",
    "        hsv = cv2.cvtColor(hsv_value,cv2.COLOR_BGR2HSV)\n",
    "        print (\"HSV : \" ,hsv)\n",
    "        # print(\"Red: \",colorsR)\n",
    "        # print(\"Green: \",colorsG)\n",
    "        # print(\"Blue: \",colorsB)\n",
    "        # print(\"BRG Format: \",colors)\n",
    "        print(\"Coordinates of pixel: X: \",x,\"Y: \",y)\n",
    " \n",
    "# Read an image, a window and bind the function to window\n",
    "with open('/home/hr/Desktop/cali.p', 'rb') as rgb:\n",
    "    r = pickle.load(rgb)\n",
    "\n",
    "image = r\n",
    "green=cv2.inRange(cv2.cvtColor(image,cv2.COLOR_BGR2HSV), (45, 80, 80), (85, 255,255))\n",
    "pink=cv2.inRange(cv2.cvtColor(image,cv2.COLOR_BGR2HSV), (150, 35, 80), (180, 125,255))\n",
    "# mage = cv2.imread('/home/shs/Desktop/rgb1.png') #name of image\n",
    "cv2.namedWindow('mouseRGB',flags=cv2.WINDOW_AUTOSIZE)\n",
    "cv2.setMouseCallback('mouseRGB',mouseRGB)\n",
    "#Do until enter pressed\n",
    "cv2.imshow('mouseRGB',image)\n",
    "while not cv2.waitKey() == 13:\n",
    "    pass\n",
    "cv2.destroyAllWindows()"
   ]
  },
  {
   "cell_type": "code",
   "execution_count": null,
   "metadata": {},
   "outputs": [],
   "source": [
    "cv2.namedWindow('mouseRGB',flags=cv2.WINDOW_AUTOSIZE)\n",
    "cv2.imshow('mouseRGB',image)\n",
    "\n",
    "while not cv2.waitKey() == 13:\n",
    "    pass"
   ]
  },
  {
   "cell_type": "code",
   "execution_count": null,
   "metadata": {},
   "outputs": [],
   "source": [
    "import cv2\n",
    "import pickle\n",
    "image=pickle.load(open('/home/hr/Desktop/cali.p','rb'))\n",
    "\n"
   ]
  }
 ],
 "metadata": {
  "kernelspec": {
   "display_name": "Python 3",
   "language": "python",
   "name": "python3"
  },
  "language_info": {
   "codemirror_mode": {
    "name": "ipython",
    "version": 3
   },
   "file_extension": ".py",
   "mimetype": "text/x-python",
   "name": "python",
   "nbconvert_exporter": "python",
   "pygments_lexer": "ipython3",
   "version": "3.8.10"
  },
  "orig_nbformat": 4
 },
 "nbformat": 4,
 "nbformat_minor": 2
}
