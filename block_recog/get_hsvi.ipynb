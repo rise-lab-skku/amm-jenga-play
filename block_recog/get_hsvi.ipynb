{
 "cells": [
  {
   "cell_type": "code",
   "execution_count": 18,
   "metadata": {},
   "outputs": [
    {
     "name": "stdout",
     "output_type": "stream",
     "text": [
      "HSV :  [[[153  87 108]]]\n",
      "Coordinates of pixel: X:  1044 Y:  1135\n",
      "HSV :  [[[124  73 116]]]\n",
      "Coordinates of pixel: X:  1044 Y:  1152\n",
      "HSV :  [[[135  73 109]]]\n",
      "Coordinates of pixel: X:  1043 Y:  1088\n",
      "HSV :  [[[143  99 118]]]\n",
      "Coordinates of pixel: X:  1041 Y:  1082\n",
      "HSV :  [[[154  96 112]]]\n",
      "Coordinates of pixel: X:  1045 Y:  1021\n",
      "HSV :  [[[150  77 103]]]\n",
      "Coordinates of pixel: X:  1043 Y:  1032\n",
      "HSV :  [[[125  61 104]]]\n",
      "Coordinates of pixel: X:  1046 Y:  965\n",
      "HSV :  [[[138  66 101]]]\n",
      "Coordinates of pixel: X:  1042 Y:  909\n",
      "HSV :  [[[126  88 107]]]\n",
      "Coordinates of pixel: X:  1041 Y:  852\n",
      "HSV :  [[[129  97 113]]]\n",
      "Coordinates of pixel: X:  1044 Y:  844\n"
     ]
    }
   ],
   "source": [
    "import cv2\n",
    "import numpy as np\n",
    "import pickle\n",
    " \n",
    "def mouseRGB(event,x,y,flags,param):\n",
    "    if event == cv2.EVENT_LBUTTONDOWN: #checks mouse left button down condition\n",
    "        colorsB = image[y,x,0]\n",
    "        colorsG = image[y,x,1]\n",
    "        colorsR = image[y,x,2]\n",
    "        colors = image[y,x]\n",
    "        hsv_value= np.uint8([[[colorsB ,colorsG,colorsR ]]])\n",
    "        hsv = cv2.cvtColor(hsv_value,cv2.COLOR_BGR2HSV)\n",
    "        print (\"HSV : \" ,hsv)\n",
    "        # print(\"Red: \",colorsR)\n",
    "        # print(\"Green: \",colorsG)\n",
    "        # print(\"Blue: \",colorsB)\n",
    "        # print(\"BRG Format: \",colors)\n",
    "        print(\"Coordinates of pixel: X: \",x,\"Y: \",y)\n",
    " \n",
    "# Read an image, a window and bind the function to window\n",
    "with open('/home/hr/Desktop/rgb.p', 'rb') as rgb:\n",
    "    r = pickle.load(rgb)\n",
    "\n",
    "image = r\n",
    "# mage = cv2.imread('/home/shs/Desktop/rgb1.png') #name of image\n",
    "cv2.namedWindow('mouseRGB')\n",
    "cv2.setMouseCallback('mouseRGB',mouseRGB)\n",
    " \n",
    "#Do until esc pressed\n",
    "while(1):\n",
    "    cv2.imshow('mouseRGB',image)\n",
    "    if cv2.waitKey(20) & 0xFF == 27:\n",
    "        break\n",
    "#if esc pressed, finish.\n",
    "cv2.destroyAllWindows()"
   ]
  },
  {
   "cell_type": "code",
   "execution_count": null,
   "metadata": {},
   "outputs": [],
   "source": []
  }
 ],
 "metadata": {
  "kernelspec": {
   "display_name": "Python 3",
   "language": "python",
   "name": "python3"
  },
  "language_info": {
   "codemirror_mode": {
    "name": "ipython",
    "version": 3
   },
   "file_extension": ".py",
   "mimetype": "text/x-python",
   "name": "python",
   "nbconvert_exporter": "python",
   "pygments_lexer": "ipython3",
   "version": "3.8.10"
  },
  "orig_nbformat": 4
 },
 "nbformat": 4,
 "nbformat_minor": 2
}
