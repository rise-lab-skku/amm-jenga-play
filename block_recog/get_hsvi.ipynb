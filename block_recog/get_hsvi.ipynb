{
 "cells": [
  {
   "cell_type": "code",
   "execution_count": 13,
   "metadata": {},
   "outputs": [],
   "source": [
    "import cv2\n",
    "import numpy as np\n",
    "import pickle\n",
    " \n",
    "def mouseRGB(event,x,y,flags,param):\n",
    "    if event == cv2.EVENT_LBUTTONDOWN: #checks mouse left button down condition\n",
    "        colorsB = image[y,x,0]\n",
    "        colorsG = image[y,x,1]\n",
    "        colorsR = image[y,x,2]\n",
    "        colors = image[y,x]\n",
    "        hsv_value= np.uint8([[[colorsB ,colorsG,colorsR ]]])\n",
    "        hsv = cv2.cvtColor(hsv_value,cv2.COLOR_BGR2HSV)\n",
    "        print (\"HSV : \" ,hsv)\n",
    "        # print(\"Red: \",colorsR)\n",
    "        # print(\"Green: \",colorsG)\n",
    "        # print(\"Blue: \",colorsB)\n",
    "        # print(\"BRG Format: \",colors)\n",
    "        print(\"Coordinates of pixel: X: \",x,\"Y: \",y)\n",
    " \n",
    "# Read an image, a window and bind the function to window\n",
    "with open('/home/mirinae/catkin_ws/src/amm-jenga-play/block_recog/test_imgs/rgb.p', 'rb') as rgb:\n",
    "    r = pickle.load(rgb)\n",
    "\n",
    "image = r\n",
    "# mage = cv2.imread('/home/shs/Desktop/rgb1.png') #name of image\n",
    "cv2.namedWindow('mouseRGB',flags=cv2.WINDOW_AUTOSIZE)\n",
    "cv2.setMouseCallback('mouseRGB',mouseRGB)\n",
    "#Do until enter pressed\n",
    "cv2.imshow('mouseRGB',image)\n",
    "while not cv2.waitKey() == 13:\n",
    "    pass\n",
    "cv2.destroyAllWindows()"
   ]
  }
 ],
 "metadata": {
  "kernelspec": {
   "display_name": "Python 3",
   "language": "python",
   "name": "python3"
  },
  "language_info": {
   "codemirror_mode": {
    "name": "ipython",
    "version": 3
   },
   "file_extension": ".py",
   "mimetype": "text/x-python",
   "name": "python",
   "nbconvert_exporter": "python",
   "pygments_lexer": "ipython3",
   "version": "3.8.10"
  },
  "orig_nbformat": 4
 },
 "nbformat": 4,
 "nbformat_minor": 2
}
