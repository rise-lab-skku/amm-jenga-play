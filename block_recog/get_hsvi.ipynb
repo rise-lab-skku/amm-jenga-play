{
 "cells": [
  {
   "cell_type": "code",
   "execution_count": 9,
   "metadata": {},
   "outputs": [
    {
     "name": "stdout",
     "output_type": "stream",
     "text": [
      "HSV :  [[[103  28  64]]]\n",
      "Coordinates of pixel: X:  1147 Y:  145\n",
      "HSV :  [[[ 56 204  10]]]\n",
      "Coordinates of pixel: X:  1082 Y:  348\n",
      "HSV :  [[[114  30  42]]]\n",
      "Coordinates of pixel: X:  1123 Y:  747\n",
      "HSV :  [[[101  58  35]]]\n",
      "Coordinates of pixel: X:  1154 Y:  383\n",
      "HSV :  [[[115  38  40]]]\n",
      "Coordinates of pixel: X:  1097 Y:  311\n",
      "HSV :  [[[120  18  28]]]\n",
      "Coordinates of pixel: X:  1184 Y:  507\n",
      "HSV :  [[[125  25  61]]]\n",
      "Coordinates of pixel: X:  1109 Y:  1080\n",
      "HSV :  [[[96 29 44]]]\n",
      "Coordinates of pixel: X:  1137 Y:  867\n"
     ]
    }
   ],
   "source": [
    "import cv2\n",
    "import numpy as np\n",
    "import pickle\n",
    " \n",
    "def mouseRGB(event,x,y,flags,param):\n",
    "    if event == cv2.EVENT_LBUTTONDOWN: #checks mouse left button down condition\n",
    "        colorsB = image[y,x,0]\n",
    "        colorsG = image[y,x,1]\n",
    "        colorsR = image[y,x,2]\n",
    "        colors = image[y,x]\n",
    "        hsv_value= np.uint8([[[colorsB ,colorsG,colorsR ]]])\n",
    "        hsv = cv2.cvtColor(hsv_value,cv2.COLOR_BGR2HSV)\n",
    "        print (\"HSV : \" ,hsv)\n",
    "        # print(\"Red: \",colorsR)\n",
    "        # print(\"Green: \",colorsG)\n",
    "        # print(\"Blue: \",colorsB)\n",
    "        # print(\"BRG Format: \",colors)\n",
    "        print(\"Coordinates of pixel: X: \",x,\"Y: \",y)\n",
    " \n",
    "# Read an image, a window and bind the function to window\n",
    "with open('/home/hr/Desktop/cali.p', 'rb') as rgb:\n",
    "    r = pickle.load(rgb)\n",
    "\n",
    "image = r\n",
    "green=cv2.inRange(cv2.cvtColor(image,cv2.COLOR_BGR2HSV), (45, 80, 80), (85, 255,255))\n",
    "pink=cv2.inRange(cv2.cvtColor(image,cv2.COLOR_BGR2HSV), (150, 35, 80), (180, 125,255))\n",
    "# mage = cv2.imread('/home/shs/Desktop/rgb1.png') #name of image\n",
    "cv2.namedWindow('mouseRGB',flags=cv2.WINDOW_AUTOSIZE)\n",
    "cv2.setMouseCallback('mouseRGB',mouseRGB)\n",
    "#Do until enter pressed\n",
    "cv2.imshow('mouseRGB',image)\n",
    "while not cv2.waitKey() == 13:\n",
    "    pass\n",
    "cv2.destroyAllWindows()"
   ]
  },
  {
   "cell_type": "code",
   "execution_count": null,
   "metadata": {},
   "outputs": [],
   "source": [
    "cv2.namedWindow('mouseRGB',flags=cv2.WINDOW_AUTOSIZE)\n",
    "cv2.imshow('mouseRGB',image)\n",
    "\n",
    "while not cv2.waitKey() == 13:\n",
    "    pass"
   ]
  },
  {
   "cell_type": "code",
   "execution_count": null,
   "metadata": {},
   "outputs": [],
   "source": [
    "import cv2\n",
    "import pickle\n",
    "image=pickle.load(open('/home/hr/Desktop/cali.p','rb'))\n",
    "\n"
   ]
  }
 ],
 "metadata": {
  "kernelspec": {
   "display_name": "Python 3",
   "language": "python",
   "name": "python3"
  },
  "language_info": {
   "codemirror_mode": {
    "name": "ipython",
    "version": 3
   },
   "file_extension": ".py",
   "mimetype": "text/x-python",
   "name": "python",
   "nbconvert_exporter": "python",
   "pygments_lexer": "ipython3",
   "version": "3.8.10"
  },
  "orig_nbformat": 4
 },
 "nbformat": 4,
 "nbformat_minor": 2
}
