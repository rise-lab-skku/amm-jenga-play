{
 "cells": [
  {
   "cell_type": "code",
   "execution_count": 16,
   "metadata": {},
   "outputs": [
    {
     "name": "stdout",
     "output_type": "stream",
     "text": [
      "HSV :  [[[ 36   7 192]]]\n",
      "Coordinates of pixel: X:  722 Y:  447\n",
      "HSV :  [[[ 34  19 188]]]\n",
      "Coordinates of pixel: X:  1174 Y:  133\n",
      "HSV :  [[[ 35   8 186]]]\n",
      "Coordinates of pixel: X:  1219 Y:  377\n",
      "HSV :  [[[ 34  11 189]]]\n",
      "Coordinates of pixel: X:  862 Y:  213\n",
      "HSV :  [[[ 34  11 189]]]\n",
      "Coordinates of pixel: X:  862 Y:  213\n",
      "HSV :  [[[ 35  26 186]]]\n",
      "Coordinates of pixel: X:  1566 Y:  258\n",
      "HSV :  [[[ 34  11 186]]]\n",
      "Coordinates of pixel: X:  1424 Y:  718\n",
      "HSV :  [[[ 30  14 187]]]\n",
      "Coordinates of pixel: X:  606 Y:  262\n",
      "HSV :  [[[ 30  16 186]]]\n",
      "Coordinates of pixel: X:  477 Y:  220\n",
      "HSV :  [[[ 34  19 187]]]\n",
      "Coordinates of pixel: X:  1422 Y:  205\n",
      "HSV :  [[[ 35  15 191]]]\n",
      "Coordinates of pixel: X:  220 Y:  109\n",
      "HSV :  [[[ 35  17 191]]]\n",
      "Coordinates of pixel: X:  895 Y:  141\n",
      "HSV :  [[[ 30  14 187]]]\n",
      "Coordinates of pixel: X:  694 Y:  159\n",
      "HSV :  [[[ 35  17 191]]]\n",
      "Coordinates of pixel: X:  745 Y:  156\n",
      "HSV :  [[[ 30  17 185]]]\n",
      "Coordinates of pixel: X:  458 Y:  207\n",
      "HSV :  [[[175 227 183]]]\n",
      "Coordinates of pixel: X:  925 Y:  466\n",
      "HSV :  [[[175 222 187]]]\n",
      "Coordinates of pixel: X:  987 Y:  465\n",
      "HSV :  [[[ 35  15 191]]]\n",
      "Coordinates of pixel: X:  820 Y:  169\n",
      "HSV :  [[[ 34  11 189]]]\n",
      "Coordinates of pixel: X:  1137 Y:  372\n",
      "HSV :  [[[ 34  11 190]]]\n",
      "Coordinates of pixel: X:  1113 Y:  425\n",
      "HSV :  [[[175 223 186]]]\n",
      "Coordinates of pixel: X:  1025 Y:  476\n",
      "HSV :  [[[ 34  11 190]]]\n",
      "Coordinates of pixel: X:  759 Y:  284\n",
      "HSV :  [[[ 35  23 185]]]\n",
      "Coordinates of pixel: X:  1584 Y:  244\n"
     ]
    },
    {
     "ename": "KeyboardInterrupt",
     "evalue": "",
     "output_type": "error",
     "traceback": [
      "\u001b[0;31m---------------------------------------------------------------------------\u001b[0m",
      "\u001b[0;31mKeyboardInterrupt\u001b[0m                         Traceback (most recent call last)",
      "Cell \u001b[0;32mIn[16], line 32\u001b[0m\n\u001b[1;32m     30\u001b[0m cv2\u001b[39m.\u001b[39mimshow(\u001b[39m'\u001b[39m\u001b[39mmouseRGB\u001b[39m\u001b[39m'\u001b[39m,image)\n\u001b[1;32m     31\u001b[0m \u001b[39mwhile\u001b[39;00m(\u001b[39m1\u001b[39m):\n\u001b[0;32m---> 32\u001b[0m     tmp\u001b[39m=\u001b[39mcv2\u001b[39m.\u001b[39;49mwaitKey(\u001b[39m20\u001b[39;49m)\n\u001b[1;32m     33\u001b[0m     \u001b[39mif\u001b[39;00m tmp \u001b[39m&\u001b[39m \u001b[39m0xFF\u001b[39m \u001b[39m==\u001b[39m \u001b[39m20\u001b[39m:\n\u001b[1;32m     34\u001b[0m         \u001b[39mprint\u001b[39m(tmp)\n",
      "\u001b[0;31mKeyboardInterrupt\u001b[0m: "
     ]
    }
   ],
   "source": [
    "import cv2\n",
    "import numpy as np\n",
    "import pickle\n",
    " \n",
    "def mouseRGB(event,x,y,flags,param):\n",
    "    if event == cv2.EVENT_LBUTTONDOWN: #checks mouse left button down condition\n",
    "        colorsB = image[y,x,0]\n",
    "        colorsG = image[y,x,1]\n",
    "        colorsR = image[y,x,2]\n",
    "        colors = image[y,x]\n",
    "        hsv_value= np.uint8([[[colorsB ,colorsG,colorsR ]]])\n",
    "        hsv = cv2.cvtColor(hsv_value,cv2.COLOR_BGR2HSV)\n",
    "        print (\"HSV : \" ,hsv)\n",
    "        # print(\"Red: \",colorsR)\n",
    "        # print(\"Green: \",colorsG)\n",
    "        # print(\"Blue: \",colorsB)\n",
    "        # print(\"BRG Format: \",colors)\n",
    "        print(\"Coordinates of pixel: X: \",x,\"Y: \",y)\n",
    " \n",
    "# Read an image, a window and bind the function to window\n",
    "with open('/home/mirinae/catkin_ws/src/amm-jenga-play/block_recog/test_imgs/rgb.p', 'rb') as rgb:\n",
    "    r = pickle.load(rgb)\n",
    "\n",
    "image = r\n",
    "# mage = cv2.imread('/home/shs/Desktop/rgb1.png') #name of image\n",
    "cv2.namedWindow('mouseRGB',flags=cv2.WND_PROP_FULLSCREEN)\n",
    "cv2.setWindowProperty(\"mouseRGB\",cv2.WND_PROP_FULLSCREEN,cv2.WINDOW_FULLSCREEN)\n",
    "cv2.setMouseCallback('mouseRGB',mouseRGB)\n",
    "#Do until esc pressed\n",
    "cv2.imshow('mouseRGB',image)\n",
    "while(1):\n",
    "    tmp=cv2.waitKey(20)\n",
    "    if tmp & 0xFF == 20:\n",
    "        print(tmp)\n",
    "        break\n",
    "#if esc pressed, finish.\n",
    "cv2.destroyAllWindows()"
   ]
  },
  {
   "cell_type": "code",
   "execution_count": 18,
   "metadata": {},
   "outputs": [],
   "source": [
    "cv2.destroyAllWindows()"
   ]
  }
 ],
 "metadata": {
  "kernelspec": {
   "display_name": "Python 3",
   "language": "python",
   "name": "python3"
  },
  "language_info": {
   "codemirror_mode": {
    "name": "ipython",
    "version": 3
   },
   "file_extension": ".py",
   "mimetype": "text/x-python",
   "name": "python",
   "nbconvert_exporter": "python",
   "pygments_lexer": "ipython3",
   "version": "3.8.10"
  },
  "orig_nbformat": 4
 },
 "nbformat": 4,
 "nbformat_minor": 2
}
