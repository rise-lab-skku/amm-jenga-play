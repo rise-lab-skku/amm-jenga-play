{
 "cells": [
  {
   "cell_type": "code",
   "execution_count": 15,
   "metadata": {},
   "outputs": [],
   "source": [
    "import numpy as np\n",
    "import cv2\n",
    "import glob\n",
    "from matplotlib import pyplot as plt\n",
    "import open3d as o3d"
   ]
  },
  {
   "cell_type": "code",
   "execution_count": 16,
   "metadata": {},
   "outputs": [
    {
     "name": "stdout",
     "output_type": "stream",
     "text": [
      "color shape:  (480, 640, 3)\n",
      "depth shape:  (480, 640)\n"
     ]
    }
   ],
   "source": [
    "img_color = cv2.imread('test_imgs/color_new.png')\n",
    "img_depth = cv2.imread('test_imgs/depth_new.png', 0)\n",
    "print('color shape: ', img_color.shape)\n",
    "print('depth shape: ', img_depth.shape)"
   ]
  },
  {
   "cell_type": "code",
   "execution_count": 17,
   "metadata": {},
   "outputs": [],
   "source": [
    "height, width = img_color.shape[:2] # 이미지의 높이와 너비 불러옴, 가로 [0], 세로[1]\n",
    "\n",
    "img_hsv = cv2.cvtColor(img_color, cv2.COLOR_BGR2HSV) # cvtColor 함수를 이용하여 hsv 색공간으로 변환\n",
    "\n",
    "lower_violet = (125-20, 30, 30)\n",
    "upper_violet = (125+20, 255, 255)\n",
    "\n",
    "# # lower boundary RED color range values; Hue (0 - 10)\n",
    "# lower_red1 = np.array([0, 75, 100])\n",
    "# upper_red1 = np.array([10, 120, 255])\n",
    "\n",
    "# # upper boundary RED color range values; Hue (160 - 180)\n",
    "# lower_red2 = np.array([150,75,100])\n",
    "# upper_red2 = np.array([179,120,255])\n",
    "\n",
    "# mask_red1 = cv2.inRange(img_hsv, lower_red1, upper_red1)\n",
    "# mask_red2 = cv2.inRange(img_hsv, lower_red2, upper_red2)\n",
    "# img_mask = mask_red1 + mask_red2\n",
    "\n",
    "img_mask = cv2.inRange(img_hsv, lower_violet, upper_violet) # 범위내의 픽셀들은 흰색, 나머지 검은색\n",
    "\n",
    "kernel = cv2.getStructuringElement(cv2.MORPH_RECT, (3,3))\n",
    "erosion_image = cv2.erode(img_mask, kernel, iterations=2)  #// make erosion image\n",
    "img_mask = cv2.dilate(erosion_image, kernel, iterations=2)  #// make dilation image\n"
   ]
  },
  {
   "cell_type": "code",
   "execution_count": 18,
   "metadata": {},
   "outputs": [],
   "source": [
    "# 바이너리 이미지를 마스크로 사용하여 원본이미지에서 범위값에 해당하는 영상부분을 획득\n",
    "img_result = cv2.bitwise_and(img_color, img_color, mask = img_mask) "
   ]
  },
  {
   "cell_type": "code",
   "execution_count": 19,
   "metadata": {},
   "outputs": [],
   "source": [
    "cv2.imshow('img_color', img_color)\n",
    "cv2.imshow('img_depth',img_depth)\n",
    "# cv2.imshow('img_result', img_result)\n",
    "cv2.waitKey(0)\n",
    "cv2.destroyAllWindows()"
   ]
  },
  {
   "cell_type": "code",
   "execution_count": 20,
   "metadata": {},
   "outputs": [],
   "source": [
    "_, src_bin = cv2.threshold(img_mask, 0, 255, cv2.THRESH_OTSU)\n",
    "\n",
    "cnt, labels, stats, centroids = cv2.connectedComponentsWithStats(src_bin)\n",
    "\n",
    "dst = cv2.bitwise_and(img_color, img_color, mask = img_mask) \n",
    "\n",
    "blocks = []\n",
    "\n",
    "for i in range(1, cnt): # 각각의 객체 정보에 들어가기 위해 반복문. 범위를 1부터 시작한 이유는 배경을 제외\n",
    "    (x, y, w, h, area) = stats[i]\n",
    "    cen_x, cen_y = map(int, centroids[i])\n",
    "\n",
    "    # 노이즈 제거\n",
    "    if area < 600:\n",
    "        continue\n",
    "    \n",
    "    blocks.append([x,y,w,h,area])\n",
    "    \n",
    "    # cv2.rectangle(dst, (x, y, w, h), (0, 255, 255))\n",
    "    # cv2.rectangle(img_color, (x, y, w, h), (0, 0, 255))\n",
    "    # cv2.line(img_color, (cen_x, cen_y), (cen_x, cen_y), (0,0,255), 5)\n"
   ]
  },
  {
   "cell_type": "code",
   "execution_count": 21,
   "metadata": {},
   "outputs": [],
   "source": [
    "\n",
    "cv2.imshow('src', img_mask)\n",
    "# cv2.imshow('src_bin', src_bin)\n",
    "cv2.imshow('dst', dst)\n",
    "# cv2.imshow('img_color', img_color)\n",
    "cv2.waitKey()\n",
    "cv2.destroyAllWindows()"
   ]
  },
  {
   "cell_type": "code",
   "execution_count": 22,
   "metadata": {},
   "outputs": [
    {
     "data": {
      "text/plain": [
       "[]"
      ]
     },
     "execution_count": 22,
     "metadata": {},
     "output_type": "execute_result"
    }
   ],
   "source": [
    "blocks"
   ]
  },
  {
   "cell_type": "code",
   "execution_count": 23,
   "metadata": {},
   "outputs": [
    {
     "data": {
      "text/plain": [
       "array([[0, 0, 0, ..., 0, 0, 0],\n",
       "       [0, 0, 0, ..., 0, 0, 0],\n",
       "       [0, 0, 0, ..., 0, 0, 0],\n",
       "       ...,\n",
       "       [0, 0, 0, ..., 0, 0, 0],\n",
       "       [0, 0, 0, ..., 0, 0, 0],\n",
       "       [0, 0, 0, ..., 0, 0, 0]], dtype=uint8)"
      ]
     },
     "execution_count": 23,
     "metadata": {},
     "output_type": "execute_result"
    }
   ],
   "source": [
    "img_mask*(labels==1)"
   ]
  },
  {
   "cell_type": "code",
   "execution_count": 24,
   "metadata": {},
   "outputs": [
    {
     "data": {
      "text/plain": [
       "array([[False, False, False, ..., False, False, False],\n",
       "       [False, False, False, ..., False, False, False],\n",
       "       [False, False, False, ..., False, False, False],\n",
       "       ...,\n",
       "       [False, False, False, ..., False, False, False],\n",
       "       [False, False, False, ..., False, False, False],\n",
       "       [False, False, False, ..., False, False, False]])"
      ]
     },
     "execution_count": 24,
     "metadata": {},
     "output_type": "execute_result"
    }
   ],
   "source": [
    "(labels==1)"
   ]
  },
  {
   "cell_type": "code",
   "execution_count": 25,
   "metadata": {},
   "outputs": [],
   "source": [
    "binary_mask = (img_mask*(labels==1)//255)"
   ]
  },
  {
   "cell_type": "code",
   "execution_count": 26,
   "metadata": {},
   "outputs": [
    {
     "data": {
      "text/plain": [
       "(480, 640)"
      ]
     },
     "execution_count": 26,
     "metadata": {},
     "output_type": "execute_result"
    }
   ],
   "source": [
    "(img_depth*binary_mask).shape"
   ]
  },
  {
   "cell_type": "code",
   "execution_count": 27,
   "metadata": {},
   "outputs": [],
   "source": [
    "get_block_depth = img_depth*binary_mask"
   ]
  },
  {
   "cell_type": "code",
   "execution_count": 28,
   "metadata": {},
   "outputs": [],
   "source": [
    "cv2.imshow('block_depth', get_block_depth)\n",
    "\n",
    "cv2.waitKey()\n",
    "cv2.destroyAllWindows()"
   ]
  },
  {
   "cell_type": "code",
   "execution_count": null,
   "metadata": {},
   "outputs": [],
   "source": []
  }
 ],
 "metadata": {
  "kernelspec": {
   "display_name": "urp",
   "language": "python",
   "name": "python3"
  },
  "language_info": {
   "codemirror_mode": {
    "name": "ipython",
    "version": 3
   },
   "file_extension": ".py",
   "mimetype": "text/x-python",
   "name": "python",
   "nbconvert_exporter": "python",
   "pygments_lexer": "ipython3",
   "version": "3.8.10"
  },
  "orig_nbformat": 4
 },
 "nbformat": 4,
 "nbformat_minor": 2
}
