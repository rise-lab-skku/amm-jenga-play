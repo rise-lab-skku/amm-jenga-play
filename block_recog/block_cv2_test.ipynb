{
 "cells": [
  {
   "cell_type": "code",
   "execution_count": 1,
   "metadata": {},
   "outputs": [],
   "source": [
    "import numpy as np\n",
    "import cv2\n",
    "import glob\n",
    "from matplotlib import pyplot as plt"
   ]
  },
  {
   "cell_type": "code",
   "execution_count": 2,
   "metadata": {},
   "outputs": [
    {
     "name": "stdout",
     "output_type": "stream",
     "text": [
      "shape:  (4032, 3024, 3)\n"
     ]
    }
   ],
   "source": [
    "img_color = cv2.imread('color1.jpg') # 이미지 파일을 컬러로 불러옴\n",
    "print('shape: ', img_color.shape)"
   ]
  },
  {
   "cell_type": "code",
   "execution_count": 3,
   "metadata": {},
   "outputs": [],
   "source": [
    "height, width = img_color.shape[:2] # 이미지의 높이와 너비 불러옴, 가로 [0], 세로[1]\n",
    "\n",
    "img_hsv = cv2.cvtColor(img_color, cv2.COLOR_BGR2HSV) # cvtColor 함수를 이용하여 hsv 색공간으로 변환\n",
    "\n",
    "lower_blue = (60-15, 30, 30) # hsv 이미지에서 바이너리 이미지로 생성 , 적당한 값 30\n",
    "upper_blue = (60+15, 255, 255)\n",
    "img_mask = cv2.inRange(img_hsv, lower_blue, upper_blue) # 범위내의 픽셀들은 흰색, 나머지 검은색\n"
   ]
  },
  {
   "cell_type": "code",
   "execution_count": 4,
   "metadata": {},
   "outputs": [],
   "source": [
    "# 바이너리 이미지를 마스크로 사용하여 원본이미지에서 범위값에 해당하는 영상부분을 획득\n",
    "img_result = cv2.bitwise_and(img_color, img_color, mask = img_mask) "
   ]
  },
  {
   "cell_type": "code",
   "execution_count": 5,
   "metadata": {},
   "outputs": [],
   "source": [
    "img_color = cv2.resize(img_color, (300,400))\n",
    "img_mask = cv2.resize(img_mask, (300,400))\n",
    "img_result = cv2.resize(img_result, (300,400))"
   ]
  },
  {
   "cell_type": "code",
   "execution_count": 6,
   "metadata": {},
   "outputs": [],
   "source": [
    "# cv2.imshow('img_color', img_color)\n",
    "# cv2.imshow('img_mask',img_mask)\n",
    "# cv2.imshow('img_result', img_result)\n",
    "# cv2.waitKey(0)\n",
    "# cv2.destroyAllWindows()"
   ]
  },
  {
   "cell_type": "code",
   "execution_count": 12,
   "metadata": {},
   "outputs": [],
   "source": [
    "_, src_bin = cv2.threshold(img_mask, 0, 255, cv2.THRESH_OTSU)\n",
    "\n",
    "cnt, labels, stats, centroids = cv2.connectedComponentsWithStats(src_bin)\n",
    "\n",
    "dst = cv2.cvtColor(img_mask, cv2.COLOR_GRAY2BGR)\n",
    "\n",
    "blocks = []\n",
    "\n",
    "for i in range(1, cnt): # 각각의 객체 정보에 들어가기 위해 반복문. 범위를 1부터 시작한 이유는 배경을 제외\n",
    "    (x, y, w, h, area) = stats[i]\n",
    "\n",
    "    # 노이즈 제거\n",
    "    if area < 20:\n",
    "        continue\n",
    "    \n",
    "    blocks.append([x,y,w,h,area])\n",
    "    \n",
    "    cv2.rectangle(dst, (x, y, w, h), (0, 255, 255))\n",
    "\n",
    "# cv2.imshow('src', img_mask)\n",
    "# cv2.imshow('src_bin', src_bin)\n",
    "# cv2.imshow('dst', dst)\n",
    "# cv2.waitKey()\n",
    "# cv2.destroyAllWindows()"
   ]
  },
  {
   "cell_type": "code",
   "execution_count": 13,
   "metadata": {},
   "outputs": [
    {
     "data": {
      "text/plain": [
       "[[128, 128, 80, 47, 1428],\n",
       " [131, 160, 74, 55, 1195],\n",
       " [130, 192, 71, 56, 908],\n",
       " [132, 221, 67, 58, 764],\n",
       " [133, 248, 62, 56, 610],\n",
       " [132, 269, 61, 61, 612]]"
      ]
     },
     "execution_count": 13,
     "metadata": {},
     "output_type": "execute_result"
    }
   ],
   "source": [
    "blocks"
   ]
  },
  {
   "cell_type": "code",
   "execution_count": null,
   "metadata": {},
   "outputs": [],
   "source": []
  }
 ],
 "metadata": {
  "kernelspec": {
   "display_name": "urp",
   "language": "python",
   "name": "python3"
  },
  "language_info": {
   "codemirror_mode": {
    "name": "ipython",
    "version": 3
   },
   "file_extension": ".py",
   "mimetype": "text/x-python",
   "name": "python",
   "nbconvert_exporter": "python",
   "pygments_lexer": "ipython3",
   "version": "3.8.10"
  },
  "orig_nbformat": 4
 },
 "nbformat": 4,
 "nbformat_minor": 2
}
