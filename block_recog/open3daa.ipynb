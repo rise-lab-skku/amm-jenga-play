{
 "cells": [
  {
   "cell_type": "code",
   "execution_count": 1,
   "metadata": {},
   "outputs": [
    {
     "name": "stdout",
     "output_type": "stream",
     "text": [
      "Jupyter environment detected. Enabling Open3D WebVisualizer.\n",
      "[Open3D INFO] WebRTC GUI backend enabled.\n",
      "[Open3D INFO] WebRTCWindowSystem: HTTP handshake server disabled.\n"
     ]
    }
   ],
   "source": [
    "import open3d as o3d\n",
    "import numpy as np\n",
    "import cv2\n",
    "import glob\n",
    "from matplotlib import pyplot as plt"
   ]
  },
  {
   "cell_type": "code",
   "execution_count": 3,
   "metadata": {},
   "outputs": [
    {
     "name": "stdout",
     "output_type": "stream",
     "text": [
      "color shape:  (480, 640, 3)\n",
      "depth shape:  (480, 640)\n"
     ]
    }
   ],
   "source": [
    "img_color = cv2.imread('test_imgs/color_new.png')\n",
    "img_depth = cv2.imread('test_imgs/depth_new.png', 0)\n",
    "print('color shape: ', img_color.shape)\n",
    "print('depth shape: ', img_depth.shape)"
   ]
  },
  {
   "cell_type": "code",
   "execution_count": 4,
   "metadata": {},
   "outputs": [],
   "source": [
    "intrinsic = o3d.camera.PinholeCameraIntrinsic()\n",
    "intrinsic.intrinsic_matrix = [[322.282420, 0, 320.818268],[0, 322.282420, 178.779297],[0, 0, 1]]"
   ]
  },
  {
   "cell_type": "code",
   "execution_count": 5,
   "metadata": {},
   "outputs": [],
   "source": [
    "def get_pointcloud_from_color_depth(color_image, depth_image, intrinsic):\n",
    "    o3d_img = o3d.geometry.Image()\n",
    "    \n",
    "    if isinstance(color_image, type(o3d_img)):\n",
    "        pass\n",
    "    elif isinstance(color_image, np.ndarray):\n",
    "        color_image = cv2.cvtColor(color_image, cv2.COLOR_BGR2RGB)\n",
    "        color_image = o3d.geometry.Image(color_image)\n",
    "        \n",
    "    if isinstance(depth_image, type(o3d_img)):\n",
    "        pass\n",
    "    elif isinstance(depth_image, np.ndarray):\n",
    "        depth_image = o3d.geometry.Image(depth_image)\n",
    "        \n",
    "    rgbd_image = o3d.geometry.RGBDImage.create_from_color_and_depth(color_image, depth_image)\n",
    "    pcd = o3d.geometry.PointCloud.create_from_rgbd_image(rgbd_image, intrinsic)\n",
    "    \n",
    "    return pcd"
   ]
  },
  {
   "cell_type": "code",
   "execution_count": 6,
   "metadata": {},
   "outputs": [],
   "source": [
    "pcd = get_pointcloud_from_color_depth(color_image=img_color, depth_image=img_depth, intrinsic=intrinsic)"
   ]
  },
  {
   "cell_type": "code",
   "execution_count": 7,
   "metadata": {},
   "outputs": [
    {
     "name": "stdout",
     "output_type": "stream",
     "text": [
      "PointCloud with 276695 points.\n",
      "[[-0.00044893 -0.00025017  0.00045098]\n",
      " [-0.00044753 -0.00025017  0.00045098]\n",
      " [-0.00044613 -0.00025017  0.00045098]\n",
      " ...\n",
      " [ 0.00022062  0.00021919  0.00023529]\n",
      " [ 0.00022135  0.00021919  0.00023529]\n",
      " [ 0.00022208  0.00021919  0.00023529]]\n"
     ]
    }
   ],
   "source": [
    "print(pcd)\n",
    "print(np.asarray(pcd.points))\n",
    "o3d.visualization.draw_geometries([pcd])"
   ]
  },
  {
   "cell_type": "code",
   "execution_count": 12,
   "metadata": {},
   "outputs": [
    {
     "name": "stdout",
     "output_type": "stream",
     "text": [
      "TriangleMesh with 12 points and 4 triangles.\n"
     ]
    }
   ],
   "source": [
    "mesh = o3d.io.read_triangle_mesh(\"mesh/jenga_tower_side_xy.stl\")\n",
    "print(mesh)"
   ]
  },
  {
   "cell_type": "code",
   "execution_count": 19,
   "metadata": {},
   "outputs": [],
   "source": [
    "mesh_frame = o3d.geometry.TriangleMesh.create_coordinate_frame(\n",
    "    size=50, origin=[0, 0, 0])"
   ]
  },
  {
   "cell_type": "code",
   "execution_count": 20,
   "metadata": {},
   "outputs": [],
   "source": [
    "mesh.compute_vertex_normals()\n",
    "o3d.visualization.draw_geometries([mesh, mesh_frame])"
   ]
  },
  {
   "cell_type": "code",
   "execution_count": 21,
   "metadata": {},
   "outputs": [],
   "source": [
    "pcd = mesh.sample_points_uniformly(number_of_points=5000)\n",
    "o3d.visualization.draw_geometries([pcd, mesh_frame])"
   ]
  },
  {
   "cell_type": "code",
   "execution_count": null,
   "metadata": {},
   "outputs": [],
   "source": []
  }
 ],
 "metadata": {
  "kernelspec": {
   "display_name": "Python 3",
   "language": "python",
   "name": "python3"
  },
  "language_info": {
   "codemirror_mode": {
    "name": "ipython",
    "version": 3
   },
   "file_extension": ".py",
   "mimetype": "text/x-python",
   "name": "python",
   "nbconvert_exporter": "python",
   "pygments_lexer": "ipython3",
   "version": "3.8.10"
  },
  "orig_nbformat": 4
 },
 "nbformat": 4,
 "nbformat_minor": 2
}
