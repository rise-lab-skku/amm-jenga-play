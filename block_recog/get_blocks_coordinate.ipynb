{
 "cells": [
  {
   "attachments": {},
   "cell_type": "markdown",
   "metadata": {},
   "source": [
    "# Blcok Recognition"
   ]
  },
  {
   "attachments": {},
   "cell_type": "markdown",
   "metadata": {},
   "source": [
    "## Import Libraries"
   ]
  },
  {
   "cell_type": "code",
   "execution_count": 1,
   "metadata": {},
   "outputs": [
    {
     "name": "stdout",
     "output_type": "stream",
     "text": [
      "Jupyter environment detected. Enabling Open3D WebVisualizer.\n",
      "[Open3D INFO] WebRTC GUI backend enabled.\n",
      "[Open3D INFO] WebRTCWindowSystem: HTTP handshake server disabled.\n"
     ]
    }
   ],
   "source": [
    "import numpy as np\n",
    "import cv2\n",
    "import glob\n",
    "from matplotlib import pyplot as plt\n",
    "import open3d as o3d\n",
    "import copy\n",
    "import pickle"
   ]
  },
  {
   "cell_type": "code",
   "execution_count": 2,
   "metadata": {},
   "outputs": [],
   "source": [
    "with open('./test_imgs/dep.p', 'rb') as dep:\n",
    "    d = pickle.load(dep, encoding=\"16UC1\")"
   ]
  },
  {
   "cell_type": "code",
   "execution_count": 3,
   "metadata": {},
   "outputs": [],
   "source": [
    "with open('./test_imgs/rgb.p', 'rb') as rgb:\n",
    "    r = pickle.load(rgb)\n"
   ]
  },
  {
   "cell_type": "code",
   "execution_count": 4,
   "metadata": {},
   "outputs": [
    {
     "data": {
      "text/plain": [
       "915"
      ]
     },
     "execution_count": 4,
     "metadata": {},
     "output_type": "execute_result"
    }
   ],
   "source": [
    "d.max()"
   ]
  },
  {
   "attachments": {},
   "cell_type": "markdown",
   "metadata": {},
   "source": [
    "## Read Test Images"
   ]
  },
  {
   "cell_type": "code",
   "execution_count": 5,
   "metadata": {},
   "outputs": [
    {
     "name": "stdout",
     "output_type": "stream",
     "text": [
      "color shape:  (1536, 2048, 3)\n",
      "depth shape:  (1536, 2048)\n"
     ]
    }
   ],
   "source": [
    "# img_color = cv2.imread('test_imgs/jenga_tower_color.png')\n",
    "# img_depth = cv2.imread('test_imgs/jenga_tower_depth.png', 0)\n",
    "# img_color = cv2.imread('/home/shs/Desktop/rgb1.png')\n",
    "# img_depth = cv2.imread('/home/shs/Desktop/dep.png', 0)\n",
    "img_color = r\n",
    "img_depth = d\n",
    "print('color shape: ', img_color.shape)\n",
    "print('depth shape: ', img_depth.shape)\n",
    "\n",
    "cv2.imshow(f'color', img_color)\n",
    "# cv2.imwrite('../imgs/red_extract.png', each_color_filtered)\n",
    "cv2.waitKey(0)\n",
    "cv2.destroyAllWindows()\n"
   ]
  },
  {
   "attachments": {},
   "cell_type": "markdown",
   "metadata": {},
   "source": [
    "## Extract Blocks' Masks By Colors"
   ]
  },
  {
   "cell_type": "code",
   "execution_count": 6,
   "metadata": {},
   "outputs": [],
   "source": [
    "height, width = img_color.shape[:2] # 이미지의 높이와 너비 불러옴, 가로 [0], 세로[1]\n",
    "\n",
    "img_hsv = cv2.cvtColor(img_color, cv2.COLOR_BGR2HSV) # cvtColor 함수를 이용하여 hsv 색공간으로 변환"
   ]
  },
  {
   "cell_type": "code",
   "execution_count": 7,
   "metadata": {},
   "outputs": [],
   "source": [
    "colors = ['green', 'pink', 'yellow', 'blue', 'violet', 'red']"
   ]
  },
  {
   "cell_type": "code",
   "execution_count": 8,
   "metadata": {},
   "outputs": [],
   "source": [
    "# RED\n",
    "lower_red1 = np.array([0, 130, 50])\n",
    "upper_red1 = np.array([15, 255, 255])\n",
    "lower_red2 = np.array([160,130,50])\n",
    "upper_red2 = np.array([179,255,255])\n",
    "\n",
    "# PINK\n",
    "lower_pink1 = np.array([0, 55, 80])\n",
    "upper_pink1 = np.array([10, 130, 255])\n",
    "lower_pink2 = np.array([150,55,80])\n",
    "upper_pink2 = np.array([179,130,255])\n",
    "\n",
    "# GREEN\n",
    "lower_green = (70-20, 50, 50)\n",
    "upper_green = (70+15, 255, 255)\n",
    "\n",
    "# YELLOW\n",
    "lower_yellow = (30-10, 80, 80)\n",
    "upper_yellow = (30+10, 255, 255)\n",
    "\n",
    "# BLUE\n",
    "lower_blue = (100-10, 100, 100)\n",
    "upper_blue = (100+9, 255, 255)\n",
    "\n",
    "# VIOLET\n",
    "lower_violet = (130-20, 60, 60)\n",
    "upper_violet = (130+20, 255, 255)"
   ]
  },
  {
   "cell_type": "code",
   "execution_count": 9,
   "metadata": {},
   "outputs": [],
   "source": [
    "blocks_rgb_by_color = []\n",
    "blocks_mask_by_color = []\n",
    "for color in colors:\n",
    "    if color == 'pink' or color =='red':\n",
    "        for i in (1,2):\n",
    "            exec(f\"lower_color{i} = lower_{color}{i}\")\n",
    "            exec(f\"upper_color{i} = upper_{color}{i}\")\n",
    "\n",
    "        mask_color1 = cv2.inRange(img_hsv, lower_color1, upper_color1)\n",
    "        mask_color2 = cv2.inRange(img_hsv, lower_color2, upper_color2)\n",
    "        img_mask_color = mask_color1 + mask_color2\n",
    "        \n",
    "        # Denoise by Erosion and Dilation\n",
    "        kernel = cv2.getStructuringElement(cv2.MORPH_RECT, (3,3))\n",
    "        erosion_image_color = cv2.erode(img_mask_color, kernel, iterations=2)  #// make erosion image\n",
    "        img_mask_color = cv2.dilate(erosion_image_color, kernel, iterations=2)  #// make dilation image\n",
    "\n",
    "        # 바이너리 이미지를 마스크로 사용하여 원본이미지에서 범위값에 해당하는 영상부분을 획득\n",
    "        img_result_color = cv2.bitwise_and(img_color, img_color, mask = img_mask_color) \n",
    "        \n",
    "        exec(f\"img_result_{color} = img_result_color\")\n",
    "    \n",
    "    else:\n",
    "        exec(f\"lower_color = lower_{color}\")\n",
    "        exec(f\"upper_color = upper_{color}\")\n",
    "\n",
    "        img_mask_color = cv2.inRange(img_hsv, lower_color, upper_color) # 범위내의 픽셀들은 흰색, 나머지 검은색\n",
    "\n",
    "        kernel = cv2.getStructuringElement(cv2.MORPH_RECT, (3,3))\n",
    "        erosion_image_color = cv2.erode(img_mask_color, kernel, iterations=1)  #// make erosion image\n",
    "        img_mask_color = cv2.dilate(erosion_image_color, kernel, iterations=1)  #// make dilation image\n",
    "\n",
    "        # 바이너리 이미지를 마스크로 사용하여 원본이미지에서 범위값에 해당하는 영상부분을 획득\n",
    "        img_result_color = cv2.bitwise_and(img_color, img_color, mask = img_mask_color) \n",
    "\n",
    "        exec(f\"img_result_{color} = img_result_color\")\n",
    "        \n",
    "    _, src_bin = cv2.threshold(img_mask_color, 0, 255, cv2.THRESH_OTSU)\n",
    "    each_color_filtered = cv2.bitwise_and(img_color, img_color, mask = src_bin)\n",
    "    \n",
    "    if color == 'violet':\n",
    "        cv2.imshow('src_bin', src_bin)\n",
    "        # cv2.imwrite('../imgs/red_mask.png', src_bin)\n",
    "        cv2.imshow(f'{color}_filtered', each_color_filtered)\n",
    "        # cv2.imwrite('../imgs/red_extract.png', each_color_filtered)\n",
    "        cv2.waitKey(0)\n",
    "        cv2.destroyAllWindows()\n",
    "\n",
    "    cnt, labels, stats, centroids = cv2.connectedComponentsWithStats(src_bin)\n",
    "\n",
    "    blocks_color = []\n",
    "    blocks_mask = []\n",
    "\n",
    "    for i in range(1, cnt): # 각각의 객체 정보에 들어가기 위해 반복문. 범위를 1부터 시작한 이유는 배경을 제외\n",
    "        (x, y, w, h, area) = stats[i]\n",
    "        cen_x, cen_y = map(int, centroids[i])\n",
    "        block_mask = (labels==i)*img_mask_color\n",
    "        block_color = cv2.bitwise_and(img_color, img_color, mask = block_mask)\n",
    "        \n",
    "        # 노이즈 제거\n",
    "        if area < 300:\n",
    "            continue\n",
    "        \n",
    "        if color == 'violet':\n",
    "            cv2.imshow('blk clr', block_color)\n",
    "            # cv2.imwrite('../imgs/red_block2_color.png', block_color)\n",
    "            cv2.imshow('blk msk', block_mask)\n",
    "            # cv2.imwrite('../imgs/red_block2_mask.png', block_mask)\n",
    "            cv2.waitKey(0)\n",
    "            cv2.destroyAllWindows()\n",
    "            \n",
    "        \n",
    "        blocks_color.append(block_color)\n",
    "        blocks_mask.append(block_mask)\n",
    "        \n",
    "        \n",
    "    exec(f\"blocks_rgb_{color} = blocks_color\")\n",
    "    exec(f\"blocks_mask_{color} = blocks_mask\")\n",
    "    exec(f\"blocks_rgb_by_color.append(blocks_rgb_{color})\")\n",
    "    exec(f\"blocks_mask_by_color.append(blocks_mask_{color})\")\n",
    "    "
   ]
  },
  {
   "cell_type": "code",
   "execution_count": 10,
   "metadata": {},
   "outputs": [],
   "source": [
    "tower_mask = 0\n",
    "tower_color = 0\n",
    "for mask, color in zip(blocks_mask_by_color, blocks_rgb_by_color):\n",
    "    for block_m in mask:\n",
    "        tower_mask += block_m\n",
    "    \n",
    "    for block_c in color:\n",
    "        tower_color += block_c"
   ]
  },
  {
   "cell_type": "code",
   "execution_count": 11,
   "metadata": {},
   "outputs": [],
   "source": [
    "cv2.imshow('tower mask', tower_mask)\n",
    "# cv2.imwrite('../imgs/tower_mask.png', tower_mask)\n",
    "cv2.imshow('tower color', tower_color)\n",
    "# cv2.imwrite('../imgs/tower_color.png', tower_color)\n",
    "cv2.waitKey(0)\n",
    "cv2.destroyAllWindows()"
   ]
  },
  {
   "cell_type": "code",
   "execution_count": 12,
   "metadata": {},
   "outputs": [
    {
     "name": "stdout",
     "output_type": "stream",
     "text": [
      "green\n",
      "6 Blocks\n",
      "pink\n",
      "6 Blocks\n",
      "yellow\n",
      "6 Blocks\n",
      "blue\n",
      "6 Blocks\n",
      "violet\n",
      "6 Blocks\n",
      "red\n",
      "6 Blocks\n"
     ]
    }
   ],
   "source": [
    "for c, b, rgb_m in zip(colors, blocks_mask_by_color, blocks_rgb_by_color):\n",
    "    print(c)\n",
    "    print(len(b), \"Blocks\")"
   ]
  },
  {
   "attachments": {},
   "cell_type": "markdown",
   "metadata": {},
   "source": [
    "## Get PointCloud from RGB Image + Depth Image"
   ]
  },
  {
   "cell_type": "code",
   "execution_count": 13,
   "metadata": {},
   "outputs": [],
   "source": [
    "# temp intrinsic matrix\n",
    "intrinsic = o3d.camera.PinholeCameraIntrinsic()\n",
    "intrinsic.intrinsic_matrix = [[968.813, 0, 1023.83],\n",
    "                              [0, 968.635, 775.975],\n",
    "                              [0, 0, 1]]\n",
    "\n",
    "\n",
    "# extrinsic = np.array([[0.999987, 0.00512943, 0.000573447, -32.0559],\n",
    "#                      [-0.00516119, 0.994725, 0.102443, -1.91788],\n",
    "#                      [-4.49478e-05, -0.102445, 0.994739, 3.99916],\n",
    "#                      [0, 0, 0, 1]])\n",
    "# extrinsic"
   ]
  },
  {
   "cell_type": "code",
   "execution_count": 14,
   "metadata": {},
   "outputs": [],
   "source": [
    "mesh_frame = o3d.geometry.TriangleMesh.create_coordinate_frame(\n",
    "    size=50, origin=[0, 0, 0])\n",
    "mesh_frame_small = o3d.geometry.TriangleMesh.create_coordinate_frame(\n",
    "    size=0.1, origin=[0, 0, 0])"
   ]
  },
  {
   "cell_type": "code",
   "execution_count": 40,
   "metadata": {},
   "outputs": [],
   "source": [
    "def get_pointcloud_from_color_depth(color_image, depth_image, intrinsic):\n",
    "    o3d_img = o3d.geometry.Image()\n",
    "    \n",
    "    if isinstance(color_image, type(o3d_img)):\n",
    "        pass\n",
    "    elif isinstance(color_image, np.ndarray):\n",
    "        color_image = cv2.cvtColor(color_image, cv2.COLOR_BGR2RGB)\n",
    "        color_image = o3d.geometry.Image(color_image)\n",
    "        \n",
    "    if isinstance(depth_image, type(o3d_img)):\n",
    "        pass\n",
    "    elif isinstance(depth_image, np.ndarray):\n",
    "        depth_image = o3d.geometry.Image(depth_image)\n",
    "        \n",
    "    # rgbd_image = o3d.geometry.RGBDImage.create_from_color_and_depth(color_image, depth_image, depth_scale=1, depth_trunc=3000.0, convert_rgb_to_intensity=False)\n",
    "    rgbd_image = o3d.geometry.RGBDImage.create_from_color_and_depth(color_image, depth_image, convert_rgb_to_intensity=False)\n",
    "    # print(np.asarray(rgbd_image.depth).max())\n",
    "    pcd = o3d.geometry.PointCloud.create_from_rgbd_image(rgbd_image, intrinsic)\n",
    "    \n",
    "    return pcd"
   ]
  },
  {
   "cell_type": "code",
   "execution_count": 41,
   "metadata": {},
   "outputs": [],
   "source": [
    "masked_depth = cv2.bitwise_and(img_depth, img_depth, mask = tower_mask)"
   ]
  },
  {
   "cell_type": "code",
   "execution_count": 42,
   "metadata": {},
   "outputs": [],
   "source": [
    "tower_pcd = get_pointcloud_from_color_depth(color_image=tower_color, depth_image=masked_depth, intrinsic=intrinsic)"
   ]
  },
  {
   "cell_type": "code",
   "execution_count": 43,
   "metadata": {},
   "outputs": [
    {
     "name": "stdout",
     "output_type": "stream",
     "text": [
      "PointCloud with 269656 points.\n",
      "[[-0.01771596 -0.07790306  0.215     ]\n",
      " [-0.0175754  -0.0782654   0.21600001]\n",
      " [-0.01735245 -0.0782654   0.21600001]\n",
      " ...\n",
      " [-0.01776494  0.10756967  0.23      ]\n",
      " [-0.01752753  0.10756967  0.23      ]\n",
      " [-0.01729013  0.10756967  0.23      ]]\n"
     ]
    }
   ],
   "source": [
    "print(tower_pcd)\n",
    "print(np.asarray(tower_pcd.points))\n",
    "o3d.visualization.draw_geometries([tower_pcd])"
   ]
  },
  {
   "cell_type": "code",
   "execution_count": null,
   "metadata": {},
   "outputs": [],
   "source": []
  },
  {
   "cell_type": "code",
   "execution_count": 44,
   "metadata": {},
   "outputs": [
    {
     "name": "stdout",
     "output_type": "stream",
     "text": [
      "X min/max: -0.19102764527657992 0.05288281771218741\n",
      "Y min/max: -0.31632264375882324 0.11035418559026333\n",
      "Z min/max: 0.2150000035762787 0.8889999985694885\n"
     ]
    }
   ],
   "source": [
    "points = np.asarray(tower_pcd.points)\n",
    "\n",
    "print(\"X min/max:\", np.min(points[:, 0]), np.max(points[:, 0]))\n",
    "print(\"Y min/max:\", np.min(points[:, 1]), np.max(points[:, 1]))\n",
    "print(\"Z min/max:\", np.min(points[:, 2]), np.max(points[:, 2]))"
   ]
  },
  {
   "cell_type": "code",
   "execution_count": 46,
   "metadata": {},
   "outputs": [],
   "source": [
    "blocks_pcd_by_color = []\n",
    "all_pcd = []\n",
    "for color, block_mask in zip(colors, blocks_mask_by_color):\n",
    "    # print(color)\n",
    "    # if color != 'blue':\n",
    "    #     continue\n",
    "    blocks_pcd = []\n",
    "    for msk in block_mask:\n",
    "        masked_block_rgb = cv2.bitwise_and(tower_color, tower_color, mask = msk)\n",
    "        masked_block_depth = cv2.bitwise_and(img_depth, img_depth, mask = msk)\n",
    "        \n",
    "        # Get Each Block's PointCloud\n",
    "        pcd = get_pointcloud_from_color_depth(color_image=masked_block_rgb, depth_image=masked_block_depth, intrinsic=intrinsic)\n",
    "        \n",
    "        # Remove Outlier Points\n",
    "        pcd, _ = pcd.remove_radius_outlier(1024, 0.025)\n",
    "        blocks_pcd.append(pcd)\n",
    "        all_pcd.append(pcd)\n",
    "        \n",
    "        # if color=='blue':\n",
    "        #     o3d.visualization.draw_geometries([pcd])\n",
    "    \n",
    "    exec(f\"blocks_pcd_{color} = blocks_pcd\")\n",
    "    exec(f\"blocks_pcd_by_color.append(blocks_pcd_{color})\")"
   ]
  },
  {
   "cell_type": "code",
   "execution_count": 47,
   "metadata": {},
   "outputs": [
    {
     "name": "stdout",
     "output_type": "stream",
     "text": [
      "PointCloud with 268886 points.\n"
     ]
    }
   ],
   "source": [
    "pcd_combined = o3d.geometry.PointCloud()\n",
    "for point_id in range(len(all_pcd)):\n",
    "    pcd_combined += all_pcd[point_id]\n",
    "\n",
    "print(pcd_combined)\n",
    "# print(len(pcd_combined.points))"
   ]
  },
  {
   "cell_type": "code",
   "execution_count": 48,
   "metadata": {},
   "outputs": [
    {
     "name": "stdout",
     "output_type": "stream",
     "text": [
      "X min/max: -0.06142136013038187 0.05288281771218741\n",
      "Y min/max: -0.08187781871597376 0.11035418559026333\n",
      "Z min/max: 0.2150000035762787 0.3070000112056732\n"
     ]
    }
   ],
   "source": [
    "points = np.asarray(pcd_combined.points)\n",
    "\n",
    "print(\"X min/max:\", np.min(points[:, 0]), np.max(points[:, 0]))\n",
    "print(\"Y min/max:\", np.min(points[:, 1]), np.max(points[:, 1]))\n",
    "print(\"Z min/max:\", np.min(points[:, 2]), np.max(points[:, 2]))"
   ]
  },
  {
   "cell_type": "code",
   "execution_count": 49,
   "metadata": {},
   "outputs": [
    {
     "data": {
      "text/plain": [
       "0.1922320043062371"
      ]
     },
     "execution_count": 49,
     "metadata": {},
     "output_type": "execute_result"
    }
   ],
   "source": [
    "np.max(points[:, 1]) - np.min(points[:, 1])"
   ]
  },
  {
   "cell_type": "code",
   "execution_count": 50,
   "metadata": {},
   "outputs": [
    {
     "data": {
      "text/plain": [
       "6"
      ]
     },
     "execution_count": 50,
     "metadata": {},
     "output_type": "execute_result"
    }
   ],
   "source": [
    "len(blocks_pcd_by_color)"
   ]
  },
  {
   "attachments": {},
   "cell_type": "markdown",
   "metadata": {},
   "source": [
    "## Tower ICP"
   ]
  },
  {
   "cell_type": "code",
   "execution_count": 51,
   "metadata": {},
   "outputs": [],
   "source": [
    "\n",
    "o3d.visualization.draw_geometries([pcd_combined, mesh_frame_small])\n",
    "\n",
    "# o3d.visualization.draw_geometries([pcd_combined, mesh_frame])"
   ]
  },
  {
   "cell_type": "code",
   "execution_count": 71,
   "metadata": {},
   "outputs": [
    {
     "name": "stdout",
     "output_type": "stream",
     "text": [
      "TriangleMesh with 12 points and 4 triangles.\n",
      "PointCloud with 268886 points.\n"
     ]
    }
   ],
   "source": [
    "mesh_tower = o3d.io.read_triangle_mesh(\"mesh/jenga_tower_side_xy_m.stl\")\n",
    "print(mesh_tower)\n",
    "\n",
    "mesh_tower.compute_vertex_normals()\n",
    "\n",
    "pcd_mesh = mesh_tower.sample_points_uniformly(number_of_points=len(pcd_combined.points))\n",
    "print(pcd_mesh)\n",
    "o3d.visualization.draw_geometries([pcd_mesh, mesh_frame_small])"
   ]
  },
  {
   "cell_type": "code",
   "execution_count": 57,
   "metadata": {},
   "outputs": [
    {
     "name": "stdout",
     "output_type": "stream",
     "text": [
      "X min/max: -0.037499376509743255 0.037500001490116126\n",
      "Y min/max: -0.03749911713496078 0.037500001490116126\n",
      "Z min/max: 6.444058746873984e-07 0.17999979060928495\n"
     ]
    }
   ],
   "source": [
    "points = np.asarray(pcd_mesh.points)\n",
    "\n",
    "print(\"X min/max:\", np.min(points[:, 0]), np.max(points[:, 0]))\n",
    "print(\"Y min/max:\", np.min(points[:, 1]), np.max(points[:, 1]))\n",
    "print(\"Z min/max:\", np.min(points[:, 2]), np.max(points[:, 2]))"
   ]
  },
  {
   "cell_type": "code",
   "execution_count": 58,
   "metadata": {},
   "outputs": [],
   "source": [
    "initial_transform = np.asarray([[0, 0, -1, 0],\n",
    "                                [-1, 0, 0, 0],\n",
    "                                [0, 1, 0, 0],\n",
    "                                [0, 0, 0, 1]])"
   ]
  },
  {
   "cell_type": "code",
   "execution_count": 72,
   "metadata": {},
   "outputs": [],
   "source": [
    "def prepare_icp(source, target):\n",
    "    source_tmp = copy.deepcopy(source)\n",
    "    target_tmp = copy.deepcopy(target)\n",
    "    \n",
    "    # make the point cloud into right position\n",
    "    source_tmp.transform(initial_transform)\n",
    "    \n",
    "    # move the source pcd to do icp\n",
    "    move = np.array(target_tmp.get_oriented_bounding_box().get_center() - source_tmp.get_oriented_bounding_box().get_center())\n",
    "\n",
    "    source_tmp.transform(np.linalg.inv(initial_transform))\n",
    "    \n",
    "    o3d.visualization.draw_geometries([source_tmp, target_tmp, mesh_frame_small])\n",
    "    \n",
    "    return source_tmp, target_tmp, move"
   ]
  },
  {
   "cell_type": "code",
   "execution_count": 73,
   "metadata": {},
   "outputs": [],
   "source": [
    "source, target,  move = prepare_icp(pcd_combined, pcd_mesh)"
   ]
  },
  {
   "cell_type": "code",
   "execution_count": 61,
   "metadata": {},
   "outputs": [
    {
     "data": {
      "text/plain": [
       "array([0.27379077, 0.00237033, 0.07618712])"
      ]
     },
     "execution_count": 61,
     "metadata": {},
     "output_type": "execute_result"
    }
   ],
   "source": [
    "move"
   ]
  },
  {
   "cell_type": "code",
   "execution_count": 64,
   "metadata": {},
   "outputs": [],
   "source": [
    "def draw_registration_result(source, target, transformation):\n",
    "    source_temp = copy.deepcopy(source)\n",
    "    target_temp = copy.deepcopy(target)\n",
    "    # source_temp.paint_uniform_color([1, 0.706, 0])\n",
    "    # target_temp.paint_uniform_color([0, 0.651, 0.929])\n",
    "    source_temp.transform(transformation)\n",
    "    o3d.visualization.draw_geometries([source_temp, target_temp, mesh_frame_small])"
   ]
  },
  {
   "cell_type": "code",
   "execution_count": 74,
   "metadata": {},
   "outputs": [],
   "source": [
    "threshold = 10\n",
    "trans_init = np.asarray([[0, 0, -1, move[0]],\n",
    "                         [-1, 0, 0, move[1]],\n",
    "                         [0, 1, 0, move[2]],\n",
    "                         [0, 0, 0, 1]])\n",
    "draw_registration_result(source, target, trans_init)"
   ]
  },
  {
   "cell_type": "code",
   "execution_count": 75,
   "metadata": {},
   "outputs": [
    {
     "name": "stdout",
     "output_type": "stream",
     "text": [
      "Initial alignment\n",
      "RegistrationResult with fitness=1.000000e+00, inlier_rmse=1.496020e-02, and correspondence_set size of 268886\n",
      "Access transformation to get result.\n"
     ]
    }
   ],
   "source": [
    "print(\"Initial alignment\")\n",
    "evaluation = o3d.pipelines.registration.evaluate_registration(\n",
    "    source, target, threshold, trans_init)\n",
    "print(evaluation)"
   ]
  },
  {
   "cell_type": "code",
   "execution_count": 76,
   "metadata": {},
   "outputs": [
    {
     "name": "stdout",
     "output_type": "stream",
     "text": [
      "RegistrationResult with fitness=1.000000e+00, inlier_rmse=2.538356e-03, and correspondence_set size of 268886\n",
      "Access transformation to get result.\n",
      "Transformation is:\n",
      "[[ 0.50438813 -0.01385589 -0.86336587  0.24548433]\n",
      " [-0.86314903  0.01946725 -0.50457387  0.13886496]\n",
      " [ 0.02379868  0.99971448 -0.00214065  0.07811924]\n",
      " [ 0.          0.          0.          1.        ]]\n"
     ]
    }
   ],
   "source": [
    "reg_p2p = o3d.pipelines.registration.registration_icp(\n",
    "    source, target, threshold, trans_init,\n",
    "    o3d.pipelines.registration.TransformationEstimationPointToPoint(),\n",
    "    o3d.pipelines.registration.ICPConvergenceCriteria(max_iteration=2000))\n",
    "print(reg_p2p)\n",
    "print(\"Transformation is:\")\n",
    "print(reg_p2p.transformation)\n",
    "draw_registration_result(source, target, reg_p2p.transformation)"
   ]
  },
  {
   "cell_type": "code",
   "execution_count": 77,
   "metadata": {},
   "outputs": [],
   "source": [
    "draw_registration_result(source, target, reg_p2p.transformation)"
   ]
  },
  {
   "cell_type": "code",
   "execution_count": 78,
   "metadata": {},
   "outputs": [
    {
     "data": {
      "text/plain": [
       "PointCloud with 268886 points."
      ]
     },
     "execution_count": 78,
     "metadata": {},
     "output_type": "execute_result"
    }
   ],
   "source": [
    "source_temp = copy.deepcopy(source)\n",
    "\n",
    "source_temp.transform(reg_p2p.transformation)\n"
   ]
  },
  {
   "cell_type": "code",
   "execution_count": 79,
   "metadata": {},
   "outputs": [
    {
     "data": {
      "text/plain": [
       "-0.004467924183290603"
      ]
     },
     "execution_count": 79,
     "metadata": {},
     "output_type": "execute_result"
    }
   ],
   "source": [
    "(np.array(source_temp.points))[:,2].min()"
   ]
  },
  {
   "attachments": {},
   "cell_type": "markdown",
   "metadata": {},
   "source": [
    "## Blocks Transformation"
   ]
  },
  {
   "cell_type": "code",
   "execution_count": 80,
   "metadata": {},
   "outputs": [],
   "source": [
    "trans1 = reg_p2p.transformation"
   ]
  },
  {
   "cell_type": "code",
   "execution_count": 90,
   "metadata": {},
   "outputs": [],
   "source": [
    "trans = copy.deepcopy(reg_p2p.transformation)"
   ]
  },
  {
   "cell_type": "code",
   "execution_count": 91,
   "metadata": {},
   "outputs": [
    {
     "name": "stdout",
     "output_type": "stream",
     "text": [
      "[[ 0.50438813 -0.01385589 -0.86336587  0.24548433]\n",
      " [-0.86314903  0.01946725 -0.50457387  0.13886496]\n",
      " [ 0.02379868  0.99971448 -0.00214065  0.07811924]\n",
      " [ 0.          0.          0.          1.        ]]\n",
      "[[ 0.50438813 -0.86314903  0.02379868 -0.00581736]\n",
      " [-0.01385589  0.01946725  0.99971448 -0.07739885]\n",
      " [-0.86336587 -0.50457387 -0.00214065  0.28217765]\n",
      " [ 0.          0.          0.          1.        ]]\n"
     ]
    }
   ],
   "source": [
    "print(trans)\n",
    "# trans[0,3]/=1000\n",
    "# trans[1,3]/=1000\n",
    "# trans[2,3]/=1000\n",
    "\n",
    "print(np.linalg.inv(trans))"
   ]
  },
  {
   "cell_type": "code",
   "execution_count": 92,
   "metadata": {},
   "outputs": [],
   "source": [
    "def transform_blocks(pcd, icp_transform):\n",
    "    pcd_temp = copy.deepcopy(pcd)\n",
    "    aa = o3d.cpu.pybind.utility.Vector3dVector(np.array(pcd_temp.points))\n",
    "    pcd_temp.points = aa\n",
    "    pcd_temp.transform(icp_transform)\n",
    "    \n",
    "    return pcd_temp"
   ]
  },
  {
   "cell_type": "code",
   "execution_count": 96,
   "metadata": {},
   "outputs": [],
   "source": [
    "# WHAT IS THE TARGET BLOCK?\n",
    "target_block_color = 'pink'\n",
    "target_block_label = 3"
   ]
  },
  {
   "cell_type": "code",
   "execution_count": 97,
   "metadata": {},
   "outputs": [
    {
     "name": "stdout",
     "output_type": "stream",
     "text": [
      "pink\n",
      "3\n",
      "BOX EXTENT :  [0.02488132 0.00711003 0.01619454]\n",
      "BOX CENTER COORDINATE :  [-0.03392999  0.03826045  0.09506387]\n",
      "PULL DIRECTION : -X\n",
      "-----BLOCK CENTER COORDINATE-----\n",
      "X : -0.03392998671052094\n",
      "Y : 0.0007604499793128564\n",
      "Z : 0.0950638701693086\n",
      "-----TARGET COORDINATE-----\n",
      "X : -0.18392998671052094\n",
      "Y : 0.0007604499793128564\n",
      "Z : 0.0950638701693086\n",
      "----------------------------------\n"
     ]
    }
   ],
   "source": [
    "for col, pcds in zip(colors, blocks_pcd_by_color):\n",
    "    if col != target_block_color:\n",
    "        continue\n",
    "    print(col)\n",
    "    \n",
    "    for idx, pcd in enumerate(pcds):\n",
    "        if idx != target_block_label:\n",
    "            continue\n",
    "        \n",
    "        # print(\"--------------------------------\")\n",
    "        print(idx)\n",
    "\n",
    "        new_trans = copy.deepcopy(trans)\n",
    "        # new_trans[0,3]*=1000\n",
    "        # new_trans[1,3]*=1000\n",
    "        # new_trans[2,3]*=1000\n",
    "\n",
    "        pcd_new = transform_blocks(pcd, new_trans)\n",
    "        \n",
    "        # o3d.visualization.draw_geometries([pcd_new, mesh_frame, pcd_new.get_axis_aligned_bounding_box()])\n",
    "        \n",
    "        box_extent = pcd_new.get_axis_aligned_bounding_box().get_extent()\n",
    "        print(\"BOX EXTENT : \", box_extent)\n",
    "        \n",
    "        center_coordinate = np.array(pcd_new.get_axis_aligned_bounding_box().get_box_points()).mean(axis=0)\n",
    "        \n",
    "        # print(np.array(pcd_new.get_axis_aligned_bounding_box().get_box_points()))\n",
    "        print(\"BOX CENTER COORDINATE : \", center_coordinate)\n",
    "        \n",
    "        # print(\"BOX MAX X,Y and MEAN Z Coordinate\")\n",
    "        x_mean = np.array(pcd_new.get_axis_aligned_bounding_box().get_box_points())[:,0].mean()\n",
    "        y_mean = np.array(pcd_new.get_axis_aligned_bounding_box().get_box_points())[:,1].mean()\n",
    "        z_mean = np.array(pcd_new.get_axis_aligned_bounding_box().get_box_points())[:,2].mean()\n",
    "        \n",
    "        if box_extent[1] > 0.070:\n",
    "            print(\"PULL DIRECTION : X\")\n",
    "            vector = np.array([-1, 0, 0])\n",
    "            print(\"-----BLOCK CENTER COORDINATE-----\")\n",
    "            cen_x = x_mean #- 25/2\n",
    "            cen_y = y_mean #- 75/2\n",
    "            cen_z = z_mean\n",
    "            print(\"X :\", cen_x)\n",
    "            print(\"Y :\", cen_y)\n",
    "            print(\"Z :\", cen_z)\n",
    "            pt1 = o3d.cpu.pybind.utility.Vector3dVector(np.array([[cen_x, cen_y, z_mean], [cen_x - 0.00001, cen_y - 0.00001, cen_z - 0.00001], [cen_x + 0.00001, cen_y + 0.00001, cen_z + 0.00001]]))\n",
    "            print(\"-----TARGET COORDINATE-----\")\n",
    "            target_x = cen_x + 0.150\n",
    "            target_y = cen_y\n",
    "            target_z = cen_z\n",
    "            print(\"X :\", target_x)\n",
    "            print(\"Y :\", target_y)\n",
    "            print(\"Z :\", target_z)\n",
    "            pt2 = o3d.cpu.pybind.utility.Vector3dVector(np.array([[target_x, target_y, target_z], [target_x - 0.00001, target_y - 0.00001, target_z - 0.00001], [target_x + 0.00001, target_y + 0.00001, target_z + 0.00001]]))\n",
    "            print(\"----------------------------------\")\n",
    "            \n",
    "        elif box_extent[0] > 0.070:\n",
    "            print(\"PULL DIRECTION : Y\")\n",
    "            vector = np.array([0, -1, 0])\n",
    "            print(\"-----BLOCK CENTER COORDINATE-----\")\n",
    "            cen_x = x_mean# - 75/2\n",
    "            cen_y = y_mean# - 25/2\n",
    "            cen_z = z_mean\n",
    "            print(\"X :\", cen_x)\n",
    "            print(\"Y :\", cen_y)\n",
    "            print(\"Z :\", cen_z)\n",
    "            pt1 = o3d.cpu.pybind.utility.Vector3dVector(np.array([[cen_x, cen_y, z_mean], [cen_x - 0.00001, cen_y - 0.00001, cen_z - 0.00001], [cen_x + 0.00001, cen_y + 0.00001, cen_z + 0.00001]]))\n",
    "            print(\"-----TARGET COORDINATE-----\")\n",
    "            target_x = cen_x\n",
    "            target_y = cen_y + 0.150\n",
    "            target_z = cen_z\n",
    "            print(\"X :\", target_x)\n",
    "            print(\"Y :\", target_y)\n",
    "            print(\"Z :\", target_z)\n",
    "            pt2 = o3d.cpu.pybind.utility.Vector3dVector(np.array([[target_x, target_y, target_z], [target_x - 0.00001, target_y - 0.00001, target_z - 0.00001], [target_x + 0.00001, target_y + 0.00001, target_z + 0.00001]]))\n",
    "            print(\"----------------------------------\")\n",
    "            \n",
    "        elif abs(center_coordinate[0]) < 0.010 and box_extent [1] < 0.015:\n",
    "            print(\"PUSH DIRECTION : Y or -Y\")\n",
    "            vector = np.array([0, -1, 0])\n",
    "            print(\"-----BLOCK CENTER COORDINATE-----\")\n",
    "            cen_x = x_mean# - 25/2\n",
    "            cen_y = y_mean - 0.075/2\n",
    "            cen_z = z_mean\n",
    "            print(\"X :\", cen_x)\n",
    "            print(\"Y :\", cen_y)\n",
    "            print(\"Z :\", cen_z)\n",
    "            pt1 = o3d.cpu.pybind.utility.Vector3dVector(np.array([[cen_x, cen_y, z_mean], [cen_x - 0.00001, cen_y - 0.00001, cen_z - 0.00001], [cen_x + 0.00001, cen_y + 0.00001, cen_z + 0.00001]]))\n",
    "            print(\"-----TARGET COORDINATE-----\")\n",
    "            target_x = cen_x\n",
    "            target_y = cen_y + 0.150\n",
    "            target_z = cen_z\n",
    "            print(\"X :\", target_x)\n",
    "            print(\"Y :\", target_y)\n",
    "            print(\"Z :\", target_z)\n",
    "            pt2 = o3d.cpu.pybind.utility.Vector3dVector(np.array([[target_x, target_y, target_z], [target_x - 0.00001, target_y - 0.00001, target_z - 0.00001], [target_x + 0.00001, target_y + 0.00001, target_z + 0.00001]]))\n",
    "            print(\"----------------------------------\")\n",
    "            \n",
    "        elif abs(center_coordinate[1]) < 0.010 and box_extent [0] < 0.015:\n",
    "            print(\"PUSH DIRECTION : X or -X\")\n",
    "            vector = np.array([-1, 0, 0])\n",
    "            print(\"-----BLOCK CENTER COORDINATE-----\")\n",
    "            cen_x = x_mean - 0.075/2\n",
    "            cen_y = y_mean# - 25/2\n",
    "            cen_z = z_mean\n",
    "            print(\"X :\", cen_x)\n",
    "            print(\"Y :\", cen_y)\n",
    "            print(\"Z :\", cen_z)\n",
    "            pt1 = o3d.cpu.pybind.utility.Vector3dVector(np.array([[cen_x, cen_y, z_mean], [cen_x - 0.00001, cen_y - 0.00001, cen_z - 0.00001], [cen_x + 0.00001, cen_y + 0.00001, cen_z + 0.00001]]))\n",
    "            print(\"-----TARGET COORDINATE-----\")\n",
    "            target_x = cen_x + 0.150\n",
    "            target_y = cen_y\n",
    "            target_z = cen_z\n",
    "            print(\"X :\", target_x)\n",
    "            print(\"Y :\", target_y)\n",
    "            print(\"Z :\", target_z)\n",
    "            pt2 = o3d.cpu.pybind.utility.Vector3dVector(np.array([[target_x, target_y, target_z], [target_x - 0.00001, target_y - 0.00001, target_z - 0.00001], [target_x + 0.00001, target_y + 0.00001, target_z + 0.00001]]))\n",
    "            print(\"----------------------------------\")\n",
    "            \n",
    "        elif box_extent[1] < 0.015:\n",
    "            print(\"PULL DIRECTION : -X\")\n",
    "            vector = np.array([1, 0, 0])\n",
    "            print(\"-----BLOCK CENTER COORDINATE-----\")\n",
    "            cen_x = x_mean# - 25/2\n",
    "            cen_y = y_mean - 0.075/2\n",
    "            cen_z = z_mean\n",
    "            print(\"X :\", cen_x)\n",
    "            print(\"Y :\", cen_y)\n",
    "            print(\"Z :\", cen_z)\n",
    "            pt1 = o3d.cpu.pybind.utility.Vector3dVector(np.array([[cen_x, cen_y, z_mean], [cen_x - 0.00001, cen_y - 0.00001, cen_z - 0.00001], [cen_x + 0.00001, cen_y + 0.00001, cen_z + 0.00001]]))\n",
    "            print(\"-----TARGET COORDINATE-----\")\n",
    "            target_x = cen_x - 0.150\n",
    "            target_y = cen_y\n",
    "            target_z = cen_z\n",
    "            print(\"X :\", target_x)\n",
    "            print(\"Y :\", target_y)\n",
    "            print(\"Z :\", target_z)\n",
    "            pt2 = o3d.cpu.pybind.utility.Vector3dVector(np.array([[target_x, target_y, target_z], [target_x - 0.00001, target_y - 0.00001, target_z - 0.00001], [target_x + 0.00001, target_y + 0.00001, target_z + 0.00001]]))\n",
    "            print(\"----------------------------------\")\n",
    "            \n",
    "        elif box_extent[0] < 0.015:\n",
    "            print(\"PULL DIRECTION : -Y\")\n",
    "            vector = np.array([0, 1, 0])\n",
    "            print(\"-----BLOCK CENTER COORDINATE-----\")\n",
    "            cen_x = x_mean - 0.075/2\n",
    "            cen_y = y_mean# - 25/2\n",
    "            cen_z = z_mean\n",
    "            print(\"X :\", cen_x)\n",
    "            print(\"Y :\", cen_y)\n",
    "            print(\"Z :\", cen_z)\n",
    "            pt1 = o3d.cpu.pybind.utility.Vector3dVector(np.array([[cen_x, cen_y, z_mean], [cen_x - 0.00001, cen_y - 0.00001, cen_z - 0.00001], [cen_x + 0.00001, cen_y + 0.00001, cen_z + 0.00001]]))\n",
    "            print(\"-----TARGET COORDINATE-----\")\n",
    "            target_x = cen_x\n",
    "            target_y = cen_y - 0.150\n",
    "            target_z = cen_z\n",
    "            print(\"X :\", target_x)\n",
    "            print(\"Y :\", target_y)\n",
    "            print(\"Z :\", target_z)\n",
    "            pt2 = o3d.cpu.pybind.utility.Vector3dVector(np.array([[target_x, target_y, target_z], [target_x - 0.00001, target_y - 0.00001, target_z - 0.00001], [target_x + 0.00001, target_y + 0.00001, target_z + 0.00001]]))\n",
    "            print(\"----------------------------------\")\n",
    "            \n",
    "        else:\n",
    "            print(\"NOTHING\")\n",
    "            \n",
    "        mesh_COORD = o3d.geometry.TriangleMesh.create_coordinate_frame(size=10, origin=center_coordinate)\n",
    "        ptc1 = o3d.geometry.PointCloud()\n",
    "        ptc1.points = pt1\n",
    "        ptc1.paint_uniform_color([1, 0, 0])\n",
    "        ptc2 = o3d.geometry.PointCloud()\n",
    "        ptc2.points = pt2\n",
    "        ptc2.paint_uniform_color([0, 0, 1])\n",
    "        line = o3d.geometry.LineSet.create_from_point_cloud_correspondences(ptc1, ptc2, [(0,0)])\n",
    "        o3d.visualization.draw_geometries([pcd_new, source_temp, mesh_frame_small, ptc1, ptc2, line])"
   ]
  },
  {
   "cell_type": "code",
   "execution_count": null,
   "metadata": {},
   "outputs": [],
   "source": [
    "o3d.visualization.draw_geometries([source_temp, mesh_frame, source_temp.get_axis_aligned_bounding_box()])"
   ]
  },
  {
   "cell_type": "code",
   "execution_count": null,
   "metadata": {},
   "outputs": [
    {
     "data": {
      "text/plain": [
       "array([[-38.936143  , -40.32110286,  -2.44609773],\n",
       "       [ 42.05933228, -40.32110286,  -2.44609773],\n",
       "       [-38.936143  ,  41.71935903,  -2.44609773],\n",
       "       [-38.936143  , -40.32110286, 181.9211539 ],\n",
       "       [ 42.05933228,  41.71935903, 181.9211539 ],\n",
       "       [-38.936143  ,  41.71935903, 181.9211539 ],\n",
       "       [ 42.05933228, -40.32110286, 181.9211539 ],\n",
       "       [ 42.05933228,  41.71935903,  -2.44609773]])"
      ]
     },
     "execution_count": 94,
     "metadata": {},
     "output_type": "execute_result"
    }
   ],
   "source": [
    "np.array(source_temp.get_axis_aligned_bounding_box().get_box_points())"
   ]
  },
  {
   "cell_type": "code",
   "execution_count": null,
   "metadata": {},
   "outputs": [
    {
     "data": {
      "text/plain": [
       "181.92115390385513"
      ]
     },
     "execution_count": 95,
     "metadata": {},
     "output_type": "execute_result"
    }
   ],
   "source": [
    "np.array(source_temp.points)[:,2].max()"
   ]
  },
  {
   "cell_type": "code",
   "execution_count": null,
   "metadata": {},
   "outputs": [
    {
     "data": {
      "text/plain": [
       "array([[  0., 150.,   0.],\n",
       "       [  0., 150.,   0.],\n",
       "       [  0., 150.,   0.]])"
      ]
     },
     "execution_count": 96,
     "metadata": {},
     "output_type": "execute_result"
    }
   ],
   "source": [
    "np.array(pt1)-np.array(pt2)"
   ]
  },
  {
   "cell_type": "code",
   "execution_count": null,
   "metadata": {},
   "outputs": [],
   "source": [
    "o3d.visualization.draw_geometries([pcd_new, mesh_frame])"
   ]
  },
  {
   "cell_type": "code",
   "execution_count": null,
   "metadata": {},
   "outputs": [],
   "source": [
    "c = np.array([target_x, target_y, target_z, 1])"
   ]
  },
  {
   "cell_type": "code",
   "execution_count": null,
   "metadata": {},
   "outputs": [
    {
     "data": {
      "text/plain": [
       "array([ 0.00137939, -0.17581395,  0.09795376,  0.001     ])"
      ]
     },
     "execution_count": 99,
     "metadata": {},
     "output_type": "execute_result"
    }
   ],
   "source": [
    "c/1000"
   ]
  },
  {
   "cell_type": "code",
   "execution_count": null,
   "metadata": {},
   "outputs": [
    {
     "data": {
      "text/plain": [
       "array([0, 1, 0])"
      ]
     },
     "execution_count": 100,
     "metadata": {},
     "output_type": "execute_result"
    }
   ],
   "source": [
    "vector"
   ]
  },
  {
   "cell_type": "code",
   "execution_count": null,
   "metadata": {},
   "outputs": [],
   "source": [
    "v = np.array([cen_x, cen_y, cen_z, 1])"
   ]
  },
  {
   "cell_type": "code",
   "execution_count": null,
   "metadata": {},
   "outputs": [
    {
     "data": {
      "text/plain": [
       "array([[ 0.69082414, -0.72290048,  0.01330072, -0.02312606],\n",
       "       [-0.06774742, -0.04640438,  0.99662276, -0.02256718],\n",
       "       [-0.71984186, -0.68939214, -0.08103191,  0.35422174],\n",
       "       [ 0.        ,  0.        ,  0.        ,  1.        ]])"
      ]
     },
     "execution_count": 102,
     "metadata": {},
     "output_type": "execute_result"
    }
   ],
   "source": [
    "np.linalg.inv(trans)"
   ]
  },
  {
   "cell_type": "code",
   "execution_count": null,
   "metadata": {},
   "outputs": [
    {
     "data": {
      "text/plain": [
       "array([129.32863137, 105.66546793, 112.628655  ,   1.        ])"
      ]
     },
     "execution_count": 103,
     "metadata": {},
     "output_type": "execute_result"
    }
   ],
   "source": [
    "np.inner(np.linalg.inv(trans), c)"
   ]
  },
  {
   "cell_type": "code",
   "execution_count": null,
   "metadata": {},
   "outputs": [],
   "source": [
    "c2 = np.inner(np.linalg.inv(trans), c)[:3]\n",
    "v2 = np.inner(np.linalg.inv(trans), v)[:3]"
   ]
  },
  {
   "cell_type": "code",
   "execution_count": null,
   "metadata": {},
   "outputs": [
    {
     "data": {
      "text/plain": [
       "array([129.32863137, 105.66546793, 112.628655  ])"
      ]
     },
     "execution_count": 105,
     "metadata": {},
     "output_type": "execute_result"
    }
   ],
   "source": [
    "c2"
   ]
  },
  {
   "cell_type": "code",
   "execution_count": null,
   "metadata": {},
   "outputs": [
    {
     "data": {
      "text/plain": [
       "array([20.89355932, 98.70481027,  9.21983335])"
      ]
     },
     "execution_count": 106,
     "metadata": {},
     "output_type": "execute_result"
    }
   ],
   "source": [
    "v2"
   ]
  },
  {
   "cell_type": "code",
   "execution_count": null,
   "metadata": {},
   "outputs": [],
   "source": [
    "tar_x, tar_y, tar_z = c2"
   ]
  },
  {
   "cell_type": "code",
   "execution_count": null,
   "metadata": {},
   "outputs": [
    {
     "data": {
      "text/plain": [
       "array([108.43507204,   6.96065766, 103.40882165])"
      ]
     },
     "execution_count": 108,
     "metadata": {},
     "output_type": "execute_result"
    }
   ],
   "source": [
    "c2-v2"
   ]
  },
  {
   "cell_type": "code",
   "execution_count": null,
   "metadata": {},
   "outputs": [],
   "source": [
    "ptpt = o3d.cpu.pybind.utility.Vector3dVector(np.array([[tar_x, tar_y, tar_z], [tar_x - 0.00001, tar_y - 0.00001, tar_z - 0.00001], [tar_x + 0.00001, tar_y + 0.00001, tar_z + 0.00001]]))\n"
   ]
  },
  {
   "cell_type": "code",
   "execution_count": null,
   "metadata": {},
   "outputs": [],
   "source": [
    "ptpt2 = o3d.cpu.pybind.utility.Vector3dVector(np.array([[v2[0], v2[1], v2[2]], [v2[0] - 0.00001, v2[1] - 0.00001, v2[2] - 0.00001], [v2[0] + 0.00001, v2[1] + 0.00001, v2[2] + 0.00001]]))\n"
   ]
  },
  {
   "cell_type": "code",
   "execution_count": null,
   "metadata": {},
   "outputs": [],
   "source": [
    "ptpcd = o3d.geometry.PointCloud()\n",
    "ptpcd.points = ptpt\n",
    "\n",
    "ptpcd2 = o3d.geometry.PointCloud()\n",
    "ptpcd2.points = ptpt2"
   ]
  },
  {
   "cell_type": "code",
   "execution_count": null,
   "metadata": {},
   "outputs": [],
   "source": [
    "o3d.visualization.draw_geometries([pcd_combined, ptpcd, ptpcd2, mesh_frame, pcd_target])"
   ]
  },
  {
   "cell_type": "code",
   "execution_count": null,
   "metadata": {},
   "outputs": [
    {
     "name": "stdout",
     "output_type": "stream",
     "text": [
      "TriangleMesh with 12 points and 4 triangles.\n"
     ]
    }
   ],
   "source": [
    "mesh_tower = o3d.io.read_triangle_mesh(\"mesh/jenga_tower_side_xy.stl\")\n",
    "print(mesh_tower)"
   ]
  }
 ],
 "metadata": {
  "kernelspec": {
   "display_name": "urp",
   "language": "python",
   "name": "python3"
  },
  "language_info": {
   "codemirror_mode": {
    "name": "ipython",
    "version": 3
   },
   "file_extension": ".py",
   "mimetype": "text/x-python",
   "name": "python",
   "nbconvert_exporter": "python",
   "pygments_lexer": "ipython3",
   "version": "3.8.10"
  },
  "orig_nbformat": 4
 },
 "nbformat": 4,
 "nbformat_minor": 2
}
