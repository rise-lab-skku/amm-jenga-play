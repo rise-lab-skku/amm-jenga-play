{
 "cells": [
  {
   "attachments": {},
   "cell_type": "markdown",
   "metadata": {},
   "source": [
    "# Blcok Recognition"
   ]
  },
  {
   "attachments": {},
   "cell_type": "markdown",
   "metadata": {},
   "source": [
    "## Import Libraries"
   ]
  },
  {
   "cell_type": "code",
   "execution_count": 12,
   "metadata": {},
   "outputs": [],
   "source": [
    "import numpy as np\n",
    "import cv2\n",
    "import glob\n",
    "from matplotlib import pyplot as plt\n",
    "import open3d as o3d\n",
    "import copy\n",
    "import pickle"
   ]
  },
  {
   "cell_type": "code",
   "execution_count": 13,
   "metadata": {},
   "outputs": [],
   "source": [
    "with open('./test_imgs/dep.p', 'rb') as dep:\n",
    "    d = pickle.load(dep, encoding=\"16UC1\")"
   ]
  },
  {
   "cell_type": "code",
   "execution_count": 14,
   "metadata": {},
   "outputs": [],
   "source": [
    "with open('./test_imgs/rgb.p', 'rb') as rgb:\n",
    "    r = pickle.load(rgb)\n"
   ]
  },
  {
   "cell_type": "code",
   "execution_count": 15,
   "metadata": {},
   "outputs": [
    {
     "data": {
      "text/plain": [
       "915"
      ]
     },
     "execution_count": 15,
     "metadata": {},
     "output_type": "execute_result"
    }
   ],
   "source": [
    "d.max()"
   ]
  },
  {
   "attachments": {},
   "cell_type": "markdown",
   "metadata": {},
   "source": [
    "## Read Test Images"
   ]
  },
  {
   "cell_type": "code",
   "execution_count": 16,
   "metadata": {},
   "outputs": [
    {
     "name": "stdout",
     "output_type": "stream",
     "text": [
      "color shape:  (1536, 2048, 3)\n",
      "depth shape:  (1536, 2048)\n"
     ]
    }
   ],
   "source": [
    "# 로봇이 촬영할 때 카메라가 거꾸로 있다고 가정\n",
    "img_color = cv2.rotate(r, cv2.ROTATE_180) \n",
    "img_depth = cv2.rotate(d, cv2.ROTATE_180) \n",
    "print('color shape: ', img_color.shape)\n",
    "print('depth shape: ', img_depth.shape)\n",
    "\n",
    "cv2.imshow(f'color', img_color)\n",
    "cv2.imshow(f'depth', img_depth)\n",
    "# # cv2.imwrite('../imgs/red_extract.png', each_color_filtered)\n",
    "cv2.waitKey(0)\n",
    "cv2.destroyAllWindows()"
   ]
  },
  {
   "attachments": {},
   "cell_type": "markdown",
   "metadata": {},
   "source": [
    "## Extract Blocks' Masks By Colors"
   ]
  },
  {
   "cell_type": "code",
   "execution_count": 17,
   "metadata": {},
   "outputs": [],
   "source": [
    "height, width = img_color.shape[:2] # 이미지의 높이와 너비 불러옴, 가로 [0], 세로[1]\n",
    "\n",
    "img_hsv = cv2.cvtColor(img_color, cv2.COLOR_BGR2HSV) # cvtColor 함수를 이용하여 hsv 색공간으로 변환"
   ]
  },
  {
   "cell_type": "code",
   "execution_count": 18,
   "metadata": {},
   "outputs": [],
   "source": [
    "colors = ['green', 'pink', 'yellow', 'blue', 'violet', 'red']"
   ]
  },
  {
   "cell_type": "code",
   "execution_count": 19,
   "metadata": {},
   "outputs": [],
   "source": [
    "# RED\n",
    "lower_red1 = np.array([0, 130, 50])\n",
    "upper_red1 = np.array([15, 255, 255])\n",
    "lower_red2 = np.array([160,130,50])\n",
    "upper_red2 = np.array([179,255,255])\n",
    "\n",
    "# PINK\n",
    "lower_pink1 = np.array([0, 55, 80])\n",
    "upper_pink1 = np.array([10, 130, 255])\n",
    "lower_pink2 = np.array([150,55,80])\n",
    "upper_pink2 = np.array([179,130,255])\n",
    "\n",
    "# GREEN\n",
    "lower_green = (70-20, 50, 50)\n",
    "upper_green = (70+15, 255, 255)\n",
    "\n",
    "# YELLOW\n",
    "lower_yellow = (30-10, 80, 80)\n",
    "upper_yellow = (30+10, 255, 255)\n",
    "\n",
    "# BLUE\n",
    "lower_blue = (100-10, 100, 100)\n",
    "upper_blue = (100+9, 255, 255)\n",
    "\n",
    "# VIOLET\n",
    "lower_violet = (130-20, 60, 60)\n",
    "upper_violet = (130+20, 255, 255)"
   ]
  },
  {
   "cell_type": "code",
   "execution_count": 20,
   "metadata": {},
   "outputs": [],
   "source": [
    "blocks_rgb_by_color = []\n",
    "blocks_mask_by_color = []\n",
    "for color in colors:\n",
    "    if color == 'pink' or color =='red':\n",
    "        for i in (1,2):\n",
    "            exec(f\"lower_color{i} = lower_{color}{i}\")\n",
    "            exec(f\"upper_color{i} = upper_{color}{i}\")\n",
    "\n",
    "        mask_color1 = cv2.inRange(img_hsv, lower_color1, upper_color1)\n",
    "        mask_color2 = cv2.inRange(img_hsv, lower_color2, upper_color2)\n",
    "        img_mask_color = mask_color1 + mask_color2\n",
    "    \n",
    "    else:\n",
    "        exec(f\"lower_color = lower_{color}\")\n",
    "        exec(f\"upper_color = upper_{color}\")\n",
    "\n",
    "        img_mask_color = cv2.inRange(img_hsv, lower_color, upper_color) # 범위내의 픽셀들은 흰색, 나머지 검은색\n",
    "\n",
    "    kernel = cv2.getStructuringElement(cv2.MORPH_RECT, (3,3))\n",
    "    erosion_image_color = cv2.erode(img_mask_color, kernel, iterations=1)  #// make erosion image\n",
    "    img_mask_color = cv2.dilate(erosion_image_color, kernel, iterations=1)  #// make dilation image\n",
    "\n",
    "    # 바이너리 이미지를 마스크로 사용하여 원본이미지에서 범위값에 해당하는 영상부분을 획득\n",
    "    img_result_color = cv2.bitwise_and(img_color, img_color, mask = img_mask_color) \n",
    "\n",
    "    exec(f\"img_result_{color} = img_result_color\")\n",
    "        \n",
    "    _, src_bin = cv2.threshold(img_mask_color, 0, 255, cv2.THRESH_OTSU)\n",
    "    each_color_filtered = cv2.bitwise_and(img_color, img_color, mask = src_bin)\n",
    "    \n",
    "    # if color == 'violet':\n",
    "    #     cv2.imshow('src_bin', src_bin)\n",
    "    #     # cv2.imwrite('../imgs/red_mask.png', src_bin)\n",
    "    #     cv2.imshow(f'{color}_filtered', each_color_filtered)\n",
    "    #     # cv2.imwrite('../imgs/red_extract.png', each_color_filtered)\n",
    "    #     cv2.waitKey(0)\n",
    "    #     cv2.destroyAllWindows()\n",
    "\n",
    "    cnt, labels, stats, centroids = cv2.connectedComponentsWithStats(src_bin)\n",
    "\n",
    "    blocks_color = []\n",
    "    blocks_mask = []\n",
    "\n",
    "    for i in range(1, cnt): # 각각의 객체 정보에 들어가기 위해 반복문. 범위를 1부터 시작한 이유는 배경을 제외\n",
    "        (x, y, w, h, area) = stats[i]\n",
    "        cen_x, cen_y = map(int, centroids[i])\n",
    "        block_mask = (labels==i)*img_mask_color\n",
    "        block_color = cv2.bitwise_and(img_color, img_color, mask = block_mask)\n",
    "        \n",
    "        # 노이즈 제거\n",
    "        if area < 300:\n",
    "            continue\n",
    "        \n",
    "        # if color == 'violet':\n",
    "        #     cv2.imshow('blk clr', block_color)\n",
    "        #     # cv2.imwrite('../imgs/red_block2_color.png', block_color)\n",
    "        #     cv2.imshow('blk msk', block_mask)\n",
    "        #     # cv2.imwrite('../imgs/red_block2_mask.png', block_mask)\n",
    "        #     cv2.waitKey(0)\n",
    "        #     cv2.destroyAllWindows()\n",
    "            \n",
    "        \n",
    "        blocks_color.append(block_color)\n",
    "        blocks_mask.append(block_mask)\n",
    "        \n",
    "        \n",
    "    exec(f\"blocks_rgb_{color} = blocks_color\")\n",
    "    exec(f\"blocks_mask_{color} = blocks_mask\")\n",
    "    exec(f\"blocks_rgb_by_color.append(blocks_rgb_{color})\")\n",
    "    exec(f\"blocks_mask_by_color.append(blocks_mask_{color})\")\n",
    "    "
   ]
  },
  {
   "cell_type": "code",
   "execution_count": 21,
   "metadata": {},
   "outputs": [],
   "source": [
    "tower_mask = 0\n",
    "tower_color = 0\n",
    "for mask, color in zip(blocks_mask_by_color, blocks_rgb_by_color):\n",
    "    for block_m in mask:\n",
    "        tower_mask += block_m\n",
    "    \n",
    "    for block_c in color:\n",
    "        tower_color += block_c"
   ]
  },
  {
   "cell_type": "code",
   "execution_count": 22,
   "metadata": {},
   "outputs": [],
   "source": [
    "# cv2.imshow('tower mask', tower_mask)\n",
    "# # cv2.imwrite('../imgs/tower_mask.png', tower_mask)\n",
    "# cv2.imshow('tower color', tower_color)\n",
    "# # cv2.imwrite('../imgs/tower_color.png', tower_color)\n",
    "# cv2.waitKey(0)\n",
    "# cv2.destroyAllWindows()"
   ]
  },
  {
   "cell_type": "code",
   "execution_count": 23,
   "metadata": {},
   "outputs": [
    {
     "name": "stdout",
     "output_type": "stream",
     "text": [
      "green\n",
      "6 Blocks\n",
      "pink\n",
      "6 Blocks\n",
      "yellow\n",
      "6 Blocks\n",
      "blue\n",
      "6 Blocks\n",
      "violet\n",
      "6 Blocks\n",
      "red\n",
      "6 Blocks\n"
     ]
    }
   ],
   "source": [
    "for c, b, rgb_m in zip(colors, blocks_mask_by_color, blocks_rgb_by_color):\n",
    "    print(c)\n",
    "    print(len(b), \"Blocks\")"
   ]
  },
  {
   "attachments": {},
   "cell_type": "markdown",
   "metadata": {},
   "source": [
    "## Get PointCloud from RGB Image + Depth Image"
   ]
  },
  {
   "cell_type": "code",
   "execution_count": 24,
   "metadata": {},
   "outputs": [],
   "source": [
    "# temp intrinsic matrix\n",
    "intrinsic = o3d.camera.PinholeCameraIntrinsic()\n",
    "intrinsic.intrinsic_matrix = [[968.813, 0, 1023.83],\n",
    "                              [0, 968.635, 775.975],\n",
    "                              [0, 0, 1]]\n",
    "\n",
    "\n",
    "# extrinsic = np.array([[0.999987, 0.00512943, 0.000573447, -32.0559],\n",
    "#                      [-0.00516119, 0.994725, 0.102443, -1.91788],\n",
    "#                      [-4.49478e-05, -0.102445, 0.994739, 3.99916],\n",
    "#                      [0, 0, 0, 1]])\n",
    "# extrinsic"
   ]
  },
  {
   "cell_type": "code",
   "execution_count": 25,
   "metadata": {},
   "outputs": [],
   "source": [
    "mesh_frame = o3d.geometry.TriangleMesh.create_coordinate_frame(\n",
    "    size=50, origin=[0, 0, 0])\n",
    "mesh_frame_small = o3d.geometry.TriangleMesh.create_coordinate_frame(\n",
    "    size=0.1, origin=[0, 0, 0])"
   ]
  },
  {
   "cell_type": "code",
   "execution_count": 26,
   "metadata": {},
   "outputs": [],
   "source": [
    "def get_pointcloud_from_color_depth(color_image, depth_image, intrinsic):\n",
    "    o3d_img = o3d.geometry.Image()\n",
    "    \n",
    "    if isinstance(color_image, type(o3d_img)):\n",
    "        pass\n",
    "    elif isinstance(color_image, np.ndarray):\n",
    "        color_image = cv2.cvtColor(color_image, cv2.COLOR_BGR2RGB)\n",
    "        color_image = o3d.geometry.Image(color_image)\n",
    "        \n",
    "    if isinstance(depth_image, type(o3d_img)):\n",
    "        pass\n",
    "    elif isinstance(depth_image, np.ndarray):\n",
    "        depth_image = o3d.geometry.Image(depth_image)\n",
    "        \n",
    "    # rgbd_image = o3d.geometry.RGBDImage.create_from_color_and_depth(color_image, depth_image, depth_scale=1, depth_trunc=3000.0, convert_rgb_to_intensity=False)\n",
    "    rgbd_image = o3d.geometry.RGBDImage.create_from_color_and_depth(color_image, depth_image, convert_rgb_to_intensity=False)\n",
    "    # print(np.asarray(rgbd_image.depth).max())\n",
    "    pcd = o3d.geometry.PointCloud.create_from_rgbd_image(rgbd_image, intrinsic)\n",
    "    \n",
    "    return pcd"
   ]
  },
  {
   "cell_type": "code",
   "execution_count": 27,
   "metadata": {},
   "outputs": [],
   "source": [
    "masked_depth = cv2.bitwise_and(img_depth, img_depth, mask = tower_mask)"
   ]
  },
  {
   "cell_type": "code",
   "execution_count": 28,
   "metadata": {},
   "outputs": [],
   "source": [
    "tower_pcd = get_pointcloud_from_color_depth(color_image=tower_color, depth_image=masked_depth, intrinsic=intrinsic)\n"
   ]
  },
  {
   "cell_type": "code",
   "execution_count": 29,
   "metadata": {},
   "outputs": [
    {
     "name": "stdout",
     "output_type": "stream",
     "text": [
      "<class 'open3d.cpu.pybind.geometry.PointCloud'>\n"
     ]
    }
   ],
   "source": [
    "print(type(tower_pcd))"
   ]
  },
  {
   "cell_type": "code",
   "execution_count": 30,
   "metadata": {},
   "outputs": [
    {
     "name": "stdout",
     "output_type": "stream",
     "text": [
      "PointCloud with 269786 points.\n",
      "[[ 0.01713344 -0.11159441  0.23      ]\n",
      " [ 0.01737084 -0.11159441  0.23      ]\n",
      " [ 0.01760825 -0.11159441  0.23      ]\n",
      " ...\n",
      " [ 0.06503258  0.30194741  0.87300003]\n",
      " [ 0.06593369  0.30194741  0.87300003]\n",
      " [ 0.06683479  0.30194741  0.87300003]]\n"
     ]
    }
   ],
   "source": [
    "print(tower_pcd)\n",
    "print(np.asarray(tower_pcd.points))\n",
    "# o3d.visualization.draw_geometries([tower_pcd])"
   ]
  },
  {
   "cell_type": "code",
   "execution_count": 31,
   "metadata": {},
   "outputs": [
    {
     "name": "stdout",
     "output_type": "stream",
     "text": [
      "X min/max: -0.05306539164999172 0.19042678626746515\n",
      "Y min/max: -0.11450141345070337 0.3019474142753751\n",
      "Z min/max: 0.2150000035762787 0.8889999985694885\n"
     ]
    }
   ],
   "source": [
    "points = np.asarray(tower_pcd.points)\n",
    "\n",
    "print(\"X min/max:\", np.min(points[:, 0]), np.max(points[:, 0]))\n",
    "print(\"Y min/max:\", np.min(points[:, 1]), np.max(points[:, 1]))\n",
    "print(\"Z min/max:\", np.min(points[:, 2]), np.max(points[:, 2]))"
   ]
  },
  {
   "cell_type": "code",
   "execution_count": 32,
   "metadata": {},
   "outputs": [],
   "source": [
    "blocks_pcd_by_color = []\n",
    "all_pcd = []\n",
    "for color, block_mask in zip(colors, blocks_mask_by_color):\n",
    "    # print(color)\n",
    "    # if color != 'blue':\n",
    "    #     continue\n",
    "    blocks_pcd = []\n",
    "    for msk in block_mask:\n",
    "        masked_block_rgb = cv2.bitwise_and(tower_color, tower_color, mask = msk)\n",
    "        masked_block_depth = cv2.bitwise_and(img_depth, img_depth, mask = msk)\n",
    "        \n",
    "        # Get Each Block's PointCloud\n",
    "        pcd = get_pointcloud_from_color_depth(color_image=masked_block_rgb, depth_image=masked_block_depth, intrinsic=intrinsic)\n",
    "        \n",
    "        # Remove Outlier Points\n",
    "        pcd, _ = pcd.remove_radius_outlier(1024, 0.025)\n",
    "        blocks_pcd.append(pcd)\n",
    "        all_pcd.append(pcd)\n",
    "        \n",
    "        # if color=='blue':\n",
    "        #     o3d.visualization.draw_geometries([pcd])\n",
    "    \n",
    "    exec(f\"blocks_pcd_{color} = blocks_pcd\")\n",
    "    exec(f\"blocks_pcd_by_color.append(blocks_pcd_{color})\")"
   ]
  },
  {
   "cell_type": "code",
   "execution_count": 33,
   "metadata": {},
   "outputs": [
    {
     "name": "stdout",
     "output_type": "stream",
     "text": [
      "PointCloud with 269007 points.\n"
     ]
    }
   ],
   "source": [
    "pcd_combined = o3d.geometry.PointCloud()\n",
    "for point_id in range(len(all_pcd)):\n",
    "    pcd_combined += all_pcd[point_id]\n",
    "\n",
    "print(pcd_combined)\n",
    "# print(len(pcd_combined.points))"
   ]
  },
  {
   "cell_type": "code",
   "execution_count": 34,
   "metadata": {},
   "outputs": [
    {
     "name": "stdout",
     "output_type": "stream",
     "text": [
      "X min/max: -0.05306539164999172 0.06121221759472663\n",
      "Y min/max: -0.11450141345070337 0.07756784144283184\n",
      "Z min/max: 0.2150000035762787 0.3070000112056732\n"
     ]
    }
   ],
   "source": [
    "points = np.asarray(pcd_combined.points)\n",
    "\n",
    "print(\"X min/max:\", np.min(points[:, 0]), np.max(points[:, 0]))\n",
    "print(\"Y min/max:\", np.min(points[:, 1]), np.max(points[:, 1]))\n",
    "print(\"Z min/max:\", np.min(points[:, 2]), np.max(points[:, 2]))"
   ]
  },
  {
   "cell_type": "code",
   "execution_count": 35,
   "metadata": {},
   "outputs": [
    {
     "data": {
      "text/plain": [
       "0.1920692548935352"
      ]
     },
     "execution_count": 35,
     "metadata": {},
     "output_type": "execute_result"
    }
   ],
   "source": [
    "np.max(points[:, 1]) - np.min(points[:, 1])"
   ]
  },
  {
   "cell_type": "code",
   "execution_count": 36,
   "metadata": {},
   "outputs": [
    {
     "data": {
      "text/plain": [
       "6"
      ]
     },
     "execution_count": 36,
     "metadata": {},
     "output_type": "execute_result"
    }
   ],
   "source": [
    "len(blocks_pcd_by_color)"
   ]
  },
  {
   "attachments": {},
   "cell_type": "markdown",
   "metadata": {},
   "source": [
    "## Tower ICP"
   ]
  },
  {
   "cell_type": "code",
   "execution_count": 37,
   "metadata": {},
   "outputs": [],
   "source": [
    "\n",
    "# o3d.visualization.draw_geometries([pcd_combined, mesh_frame_small])\n",
    "\n",
    "# o3d.visualization.draw_geometries([pcd_combined, mesh_frame])"
   ]
  },
  {
   "cell_type": "code",
   "execution_count": 38,
   "metadata": {},
   "outputs": [
    {
     "name": "stdout",
     "output_type": "stream",
     "text": [
      "TriangleMesh with 12 points and 4 triangles.\n",
      "PointCloud with 269007 points.\n"
     ]
    }
   ],
   "source": [
    "mesh_tower = o3d.io.read_triangle_mesh(\"mesh/jenga_tower_side_xy_m.stl\")\n",
    "print(mesh_tower)\n",
    "\n",
    "mesh_tower.compute_vertex_normals()\n",
    "\n",
    "pcd_mesh = mesh_tower.sample_points_uniformly(number_of_points=len(pcd_combined.points))\n",
    "print(pcd_mesh)\n",
    "# o3d.visualization.draw_geometries([pcd_mesh, mesh_frame_small])"
   ]
  },
  {
   "cell_type": "code",
   "execution_count": 39,
   "metadata": {},
   "outputs": [
    {
     "name": "stdout",
     "output_type": "stream",
     "text": [
      "X min/max: -0.03749879204111599 0.037500001490116126\n",
      "Y min/max: -0.037499972581512137 0.037500001490116126\n",
      "Z min/max: 3.785183279382088e-07 0.17999809894047558\n"
     ]
    }
   ],
   "source": [
    "points = np.asarray(pcd_mesh.points)\n",
    "\n",
    "print(\"X min/max:\", np.min(points[:, 0]), np.max(points[:, 0]))\n",
    "print(\"Y min/max:\", np.min(points[:, 1]), np.max(points[:, 1]))\n",
    "print(\"Z min/max:\", np.min(points[:, 2]), np.max(points[:, 2]))"
   ]
  },
  {
   "cell_type": "code",
   "execution_count": 40,
   "metadata": {},
   "outputs": [],
   "source": [
    "initial_transform = np.asarray([[0, 0, -1, 0],\n",
    "                                [-1, 0, 0, 0],\n",
    "                                [0, 1, 0, 0],\n",
    "                                [0, 0, 0, 1]])"
   ]
  },
  {
   "cell_type": "code",
   "execution_count": 41,
   "metadata": {},
   "outputs": [],
   "source": [
    "def prepare_icp(source, target):\n",
    "    source_tmp = copy.deepcopy(source)\n",
    "    target_tmp = copy.deepcopy(target)\n",
    "    \n",
    "    # make the point cloud into right position\n",
    "    source_tmp.transform(initial_transform)\n",
    "    \n",
    "    # move the source pcd to do icp\n",
    "    move = np.array(target_tmp.get_oriented_bounding_box().get_center() - source_tmp.get_oriented_bounding_box().get_center())\n",
    "\n",
    "    source_tmp.transform(np.linalg.inv(initial_transform))\n",
    "    \n",
    "    # o3d.visualization.draw_geometries([source_tmp, target_tmp, mesh_frame_small])\n",
    "    \n",
    "    return source_tmp, target_tmp, move"
   ]
  },
  {
   "cell_type": "code",
   "execution_count": 42,
   "metadata": {},
   "outputs": [],
   "source": [
    "source, target,  move = prepare_icp(pcd_combined, pcd_mesh)"
   ]
  },
  {
   "cell_type": "code",
   "execution_count": 43,
   "metadata": {},
   "outputs": [
    {
     "data": {
      "text/plain": [
       "array([0.27339369, 0.03429041, 0.10818072])"
      ]
     },
     "execution_count": 43,
     "metadata": {},
     "output_type": "execute_result"
    }
   ],
   "source": [
    "move"
   ]
  },
  {
   "cell_type": "code",
   "execution_count": 44,
   "metadata": {},
   "outputs": [],
   "source": [
    "def draw_registration_result(source, target, transformation):\n",
    "    source_temp = copy.deepcopy(source)\n",
    "    target_temp = copy.deepcopy(target)\n",
    "    # source_temp.paint_uniform_color([1, 0.706, 0])\n",
    "    # target_temp.paint_uniform_color([0, 0.651, 0.929])\n",
    "    source_temp.transform(transformation)\n",
    "    # o3d.visualization.draw_geometries([source_temp, target_temp, mesh_frame_small])"
   ]
  },
  {
   "cell_type": "code",
   "execution_count": 45,
   "metadata": {},
   "outputs": [],
   "source": [
    "threshold = 10\n",
    "trans_init = np.asarray([[0, 0, -1, move[0]],\n",
    "                         [-1, 0, 0, move[1]],\n",
    "                         [0, 1, 0, move[2]],\n",
    "                         [0, 0, 0, 1]])\n",
    "draw_registration_result(source, target, trans_init)"
   ]
  },
  {
   "cell_type": "code",
   "execution_count": 46,
   "metadata": {},
   "outputs": [
    {
     "name": "stdout",
     "output_type": "stream",
     "text": [
      "Initial alignment\n",
      "RegistrationResult with fitness=1.000000e+00, inlier_rmse=2.557053e-02, and correspondence_set size of 269007\n",
      "Access transformation to get result.\n"
     ]
    }
   ],
   "source": [
    "print(\"Initial alignment\")\n",
    "evaluation = o3d.pipelines.registration.evaluate_registration(\n",
    "    source, target, threshold, trans_init)\n",
    "print(evaluation)"
   ]
  },
  {
   "cell_type": "code",
   "execution_count": 47,
   "metadata": {},
   "outputs": [
    {
     "name": "stdout",
     "output_type": "stream",
     "text": [
      "RegistrationResult with fitness=1.000000e+00, inlier_rmse=2.538638e-03, and correspondence_set size of 269007\n",
      "Access transformation to get result.\n",
      "Transformation is:\n",
      "[[ 0.85948065 -0.01970152 -0.51078847  0.1408736 ]\n",
      " [-0.51059216  0.01434031 -0.85970344  0.24441399]\n",
      " [ 0.02426233  0.99970306  0.00226578  0.10621108]\n",
      " [ 0.          0.          0.          1.        ]]\n"
     ]
    }
   ],
   "source": [
    "reg_p2p = o3d.pipelines.registration.registration_icp(\n",
    "    source, target, threshold, trans_init,\n",
    "    o3d.pipelines.registration.TransformationEstimationPointToPoint(),\n",
    "    o3d.pipelines.registration.ICPConvergenceCriteria(max_iteration=2000))\n",
    "print(reg_p2p)\n",
    "print(\"Transformation is:\")\n",
    "print(reg_p2p.transformation)\n",
    "draw_registration_result(source, target, reg_p2p.transformation)"
   ]
  },
  {
   "cell_type": "code",
   "execution_count": 48,
   "metadata": {},
   "outputs": [],
   "source": [
    "draw_registration_result(source, target, reg_p2p.transformation)"
   ]
  },
  {
   "cell_type": "code",
   "execution_count": 49,
   "metadata": {},
   "outputs": [
    {
     "data": {
      "text/plain": [
       "PointCloud with 269007 points."
      ]
     },
     "execution_count": 49,
     "metadata": {},
     "output_type": "execute_result"
    }
   ],
   "source": [
    "source_temp = copy.deepcopy(source)\n",
    "\n",
    "source_temp.transform(reg_p2p.transformation)\n"
   ]
  },
  {
   "cell_type": "code",
   "execution_count": 50,
   "metadata": {},
   "outputs": [
    {
     "data": {
      "text/plain": [
       "-0.007190095336150434"
      ]
     },
     "execution_count": 50,
     "metadata": {},
     "output_type": "execute_result"
    }
   ],
   "source": [
    "(np.array(source_temp.points))[:,2].min()"
   ]
  },
  {
   "attachments": {},
   "cell_type": "markdown",
   "metadata": {},
   "source": [
    "## Blocks Transformation"
   ]
  },
  {
   "cell_type": "code",
   "execution_count": 51,
   "metadata": {},
   "outputs": [],
   "source": [
    "trans1 = reg_p2p.transformation"
   ]
  },
  {
   "cell_type": "code",
   "execution_count": 52,
   "metadata": {},
   "outputs": [],
   "source": [
    "trans = copy.deepcopy(reg_p2p.transformation)"
   ]
  },
  {
   "cell_type": "code",
   "execution_count": 53,
   "metadata": {},
   "outputs": [
    {
     "name": "stdout",
     "output_type": "stream",
     "text": [
      "[[ 0.85948065 -0.01970152 -0.51078847  0.1408736 ]\n",
      " [-0.51059216  0.01434031 -0.85970344  0.24441399]\n",
      " [ 0.02426233  0.99970306  0.00226578  0.10621108]\n",
      " [ 0.          0.          0.          1.        ]]\n",
      "[[ 0.85948065 -0.51059216  0.02426233  0.0011408 ]\n",
      " [-0.01970152  0.01434031  0.99970306 -0.10690909]\n",
      " [-0.51078847 -0.85970344  0.00226578  0.28183951]\n",
      " [ 0.          0.          0.          1.        ]]\n"
     ]
    }
   ],
   "source": [
    "print(trans)\n",
    "# trans[0,3]/=1000\n",
    "# trans[1,3]/=1000\n",
    "# trans[2,3]/=1000\n",
    "\n",
    "print(np.linalg.inv(trans))"
   ]
  },
  {
   "cell_type": "code",
   "execution_count": 54,
   "metadata": {},
   "outputs": [],
   "source": [
    "def transform_blocks(pcd, icp_transform):\n",
    "    pcd_temp = copy.deepcopy(pcd)\n",
    "    aa = o3d.cpu.pybind.utility.Vector3dVector(np.array(pcd_temp.points))\n",
    "    pcd_temp.points = aa\n",
    "    pcd_temp.transform(icp_transform)\n",
    "    \n",
    "    return pcd_temp"
   ]
  },
  {
   "cell_type": "code",
   "execution_count": 69,
   "metadata": {},
   "outputs": [],
   "source": [
    "# WHAT IS THE TARGET BLOCK?\n",
    "target_block_color = 'init'\n",
    "target_block_label = 2"
   ]
  },
  {
   "cell_type": "markdown",
   "metadata": {},
   "source": [
    "**처음 카메라 돌릴때 알아내야하는 것**\n",
    "1. MESH <-> CAMERA 변환 관계\n",
    "2. 각 블럭(or 색)의 초기 상태를 알면 됨\n",
    "\t* 어떤 방향으로 놓여있는지 (x or y)\n",
    "\t* 몇층에 놓여있는지 or z축 좌표"
   ]
  },
  {
   "cell_type": "code",
   "execution_count": 70,
   "metadata": {},
   "outputs": [],
   "source": [
    "def get_true_box_center_coordinates_xy(cen_x, cen_y):\n",
    "    if abs(cen_x) < 0.0125:\n",
    "        true_x = 0.0\n",
    "    elif cen_x > 0:\n",
    "        true_x = 0.025\n",
    "    else:\n",
    "        true_x = -0.025\n",
    "            \n",
    "    if abs(cen_y) < 0.0125:\n",
    "        true_y = 0.0\n",
    "    elif cen_y > 0:\n",
    "        true_y = 0.025\n",
    "    else:\n",
    "        true_y = -0.025\n",
    "    \n",
    "    return true_x, true_y"
   ]
  },
  {
   "cell_type": "code",
   "execution_count": 71,
   "metadata": {},
   "outputs": [],
   "source": [
    "tower_map = [[255 for _ in range(3)] for _ in range(12)]"
   ]
  },
  {
   "cell_type": "code",
   "execution_count": 72,
   "metadata": {},
   "outputs": [
    {
     "name": "stdout",
     "output_type": "stream",
     "text": [
      "green\n",
      "0\n",
      "BOX EXTENT :  [0.02752979 0.09236838 0.02066313]\n",
      "BOX CENTER COORDINATE :  [ 0.03046866 -0.0061032   0.00314147]\n",
      "FLOORS : 0\n",
      "true_z : 0.0075\n",
      "---------------------------------------------------------------\n",
      "X MEAN :  0.030468663516413308\n",
      "Y MEAN :  -0.006103195564764102\n",
      "Z MEAN :  0.003141467485789806\n",
      "################ CASE 1 ################\n",
      "BLOCK DIRECTION : Y\n",
      "PULL DIRECTION : X\n",
      "-----BLOCK CENTER COORDINATE-----\n",
      "X : 0.030468663516413308\n",
      "Y : -0.006103195564764102\n",
      "Z : 0.003141467485789806\n",
      "----------------------------------\n",
      "TRUE COORDINATES\n",
      "true_x : 0.025\n",
      "true_y : 0.0\n",
      "true_z : 0.0075\n",
      "1\n",
      "BOX EXTENT :  [0.02937401 0.08277518 0.01730902]\n",
      "BOX CENTER COORDINATE :  [ 0.02685474 -0.00552588  0.03502278]\n",
      "FLOORS : 2\n",
      "true_z : 0.0375\n",
      "---------------------------------------------------------------\n",
      "X MEAN :  0.026854740629517315\n",
      "Y MEAN :  -0.005525878057918057\n",
      "Z MEAN :  0.03502277546803851\n",
      "################ CASE 1 ################\n",
      "BLOCK DIRECTION : Y\n",
      "PULL DIRECTION : X\n",
      "-----BLOCK CENTER COORDINATE-----\n",
      "X : 0.026854740629517315\n",
      "Y : -0.005525878057918057\n",
      "Z : 0.03502277546803851\n",
      "----------------------------------\n",
      "TRUE COORDINATES\n",
      "true_x : 0.025\n",
      "true_y : 0.0\n",
      "true_z : 0.0375\n",
      "2\n",
      "BOX EXTENT :  [0.03101953 0.0796298  0.0184531 ]\n",
      "BOX CENTER COORDINATE :  [ 0.02756359 -0.00255146  0.06762534]\n",
      "FLOORS : 4\n",
      "true_z : 0.0675\n",
      "---------------------------------------------------------------\n",
      "X MEAN :  0.02756359139144851\n",
      "Y MEAN :  -0.0025514575324517147\n",
      "Z MEAN :  0.06762534332375122\n",
      "################ CASE 1 ################\n",
      "BLOCK DIRECTION : Y\n",
      "PULL DIRECTION : X\n",
      "-----BLOCK CENTER COORDINATE-----\n",
      "X : 0.02756359139144851\n",
      "Y : -0.0025514575324517147\n",
      "Z : 0.06762534332375122\n",
      "----------------------------------\n",
      "TRUE COORDINATES\n",
      "true_x : 0.025\n",
      "true_y : 0.0\n",
      "true_z : 0.0675\n",
      "3\n",
      "BOX EXTENT :  [0.0382236  0.08424946 0.01620288]\n",
      "BOX CENTER COORDINATE :  [ 0.02857748 -0.00454379  0.10003705]\n",
      "FLOORS : 6\n",
      "true_z : 0.0975\n",
      "---------------------------------------------------------------\n",
      "X MEAN :  0.028577478050189994\n",
      "Y MEAN :  -0.004543794084409983\n",
      "Z MEAN :  0.10003704752553662\n",
      "################ CASE 1 ################\n",
      "BLOCK DIRECTION : Y\n",
      "PULL DIRECTION : X\n",
      "-----BLOCK CENTER COORDINATE-----\n",
      "X : 0.028577478050189994\n",
      "Y : -0.004543794084409983\n",
      "Z : 0.10003704752553662\n",
      "----------------------------------\n",
      "TRUE COORDINATES\n",
      "true_x : 0.025\n",
      "true_y : 0.0\n",
      "true_z : 0.0975\n",
      "4\n",
      "BOX EXTENT :  [0.03914873 0.07852892 0.0169608 ]\n",
      "BOX CENTER COORDINATE :  [ 0.02933497 -0.00083011  0.13214234]\n",
      "FLOORS : 8\n",
      "true_z : 0.1275\n",
      "---------------------------------------------------------------\n",
      "X MEAN :  0.029334967323069096\n",
      "Y MEAN :  -0.0008301112240642339\n",
      "Z MEAN :  0.13214234322344537\n",
      "################ CASE 1 ################\n",
      "BLOCK DIRECTION : Y\n",
      "PULL DIRECTION : X\n",
      "-----BLOCK CENTER COORDINATE-----\n",
      "X : 0.029334967323069096\n",
      "Y : -0.0008301112240642339\n",
      "Z : 0.13214234322344537\n",
      "----------------------------------\n",
      "TRUE COORDINATES\n",
      "true_x : 0.025\n",
      "true_y : 0.0\n",
      "true_z : 0.1275\n",
      "5\n",
      "BOX EXTENT :  [0.03609517 0.08145525 0.01721939]\n",
      "BOX CENTER COORDINATE :  [0.03101357 0.0007768  0.16372093]\n",
      "FLOORS : 10\n",
      "true_z : 0.1575\n",
      "---------------------------------------------------------------\n",
      "X MEAN :  0.031013569678835395\n",
      "Y MEAN :  0.000776801755658571\n",
      "Z MEAN :  0.16372092596761448\n",
      "################ CASE 1 ################\n",
      "BLOCK DIRECTION : Y\n",
      "PULL DIRECTION : X\n",
      "-----BLOCK CENTER COORDINATE-----\n",
      "X : 0.031013569678835395\n",
      "Y : 0.000776801755658571\n",
      "Z : 0.16372092596761448\n",
      "----------------------------------\n",
      "TRUE COORDINATES\n",
      "true_x : 0.025\n",
      "true_y : 0.0\n",
      "true_z : 0.1575\n",
      "pink\n",
      "0\n",
      "BOX EXTENT :  [0.0050936  0.03480124 0.01687518]\n",
      "BOX CENTER COORDINATE :  [ 0.03931982 -0.0329282   0.02011783]\n",
      "FLOORS : 1\n",
      "true_z : 0.0225\n",
      "---------------------------------------------------------------\n",
      "X MEAN :  0.0393198243667228\n",
      "Y MEAN :  -0.032928200487842924\n",
      "Z MEAN :  0.020117831900911917\n",
      "################ CASE 6 ################\n",
      "BLOCK DIRECTION : X\n",
      "PULL DIRECTION : -Y\n",
      "-----BLOCK CENTER COORDINATE-----\n",
      "X : 0.0018198243667228026\n",
      "Y : -0.032928200487842924\n",
      "Z : 0.020117831900911917\n",
      "----------------------------------\n",
      "TRUE COORDINATES\n",
      "true_x : 0.0\n",
      "true_y : -0.025\n",
      "true_z : 0.0225\n",
      "1\n",
      "BOX EXTENT :  [0.00681436 0.02977924 0.01935689]\n",
      "BOX CENTER COORDINATE :  [ 0.04107235 -0.02768145  0.0519236 ]\n",
      "FLOORS : 3\n",
      "true_z : 0.0525\n",
      "---------------------------------------------------------------\n",
      "X MEAN :  0.041072352671116474\n",
      "Y MEAN :  -0.02768145323270521\n",
      "Z MEAN :  0.05192360123564675\n",
      "################ CASE 6 ################\n",
      "BLOCK DIRECTION : X\n",
      "PULL DIRECTION : -Y\n",
      "-----BLOCK CENTER COORDINATE-----\n",
      "X : 0.0035723526711164758\n",
      "Y : -0.02768145323270521\n",
      "Z : 0.05192360123564675\n",
      "----------------------------------\n",
      "TRUE COORDINATES\n",
      "true_x : 0.0\n",
      "true_y : -0.025\n",
      "true_z : 0.0525\n",
      "2\n",
      "BOX EXTENT :  [0.00709214 0.02488464 0.01597287]\n",
      "BOX CENTER COORDINATE :  [ 0.03817814 -0.03423518  0.08415485]\n",
      "FLOORS : 5\n",
      "true_z : 0.08249999999999999\n",
      "---------------------------------------------------------------\n",
      "X MEAN :  0.03817814228331227\n",
      "Y MEAN :  -0.03423517508124188\n",
      "Z MEAN :  0.08415485058293014\n",
      "################ CASE 6 ################\n",
      "BLOCK DIRECTION : X\n",
      "PULL DIRECTION : -Y\n",
      "-----BLOCK CENTER COORDINATE-----\n",
      "X : 0.0006781422833122691\n",
      "Y : -0.03423517508124188\n",
      "Z : 0.08415485058293014\n",
      "----------------------------------\n",
      "TRUE COORDINATES\n",
      "true_x : 0.0\n",
      "true_y : -0.025\n",
      "true_z : 0.08249999999999999\n",
      "3\n",
      "BOX EXTENT :  [0.00911544 0.0175123  0.01567492]\n",
      "BOX CENTER COORDINATE :  [ 0.03989282 -0.0311485   0.11701835]\n",
      "FLOORS : 7\n",
      "true_z : 0.11249999999999999\n",
      "---------------------------------------------------------------\n",
      "X MEAN :  0.03989281635004793\n",
      "Y MEAN :  -0.03114849586655863\n",
      "Z MEAN :  0.11701835126958157\n",
      "################ CASE 6 ################\n",
      "BLOCK DIRECTION : X\n",
      "PULL DIRECTION : -Y\n",
      "-----BLOCK CENTER COORDINATE-----\n",
      "X : 0.002392816350047934\n",
      "Y : -0.03114849586655863\n",
      "Z : 0.11701835126958157\n",
      "----------------------------------\n",
      "TRUE COORDINATES\n",
      "true_x : 0.0\n",
      "true_y : -0.025\n",
      "true_z : 0.11249999999999999\n",
      "4\n",
      "BOX EXTENT :  [0.01025359 0.02359063 0.017747  ]\n",
      "BOX CENTER COORDINATE :  [ 0.0407379  -0.02897725  0.14911506]\n",
      "FLOORS : 9\n",
      "true_z : 0.14250000000000002\n",
      "---------------------------------------------------------------\n",
      "X MEAN :  0.04073790442341522\n",
      "Y MEAN :  -0.028977250915924013\n",
      "Z MEAN :  0.14911505878873438\n",
      "################ CASE 6 ################\n",
      "BLOCK DIRECTION : X\n",
      "PULL DIRECTION : -Y\n",
      "-----BLOCK CENTER COORDINATE-----\n",
      "X : 0.0032379044234152193\n",
      "Y : -0.028977250915924013\n",
      "Z : 0.14911505878873438\n",
      "----------------------------------\n",
      "TRUE COORDINATES\n",
      "true_x : 0.0\n",
      "true_y : -0.025\n",
      "true_z : 0.14250000000000002\n",
      "5\n",
      "BOX EXTENT :  [0.01036045 0.03074855 0.01295609]\n",
      "BOX CENTER COORDINATE :  [ 0.04580907 -0.01823419  0.17744918]\n",
      "FLOORS : 11\n",
      "true_z : 0.1725\n",
      "---------------------------------------------------------------\n",
      "X MEAN :  0.04580906821928993\n",
      "Y MEAN :  -0.018234189888374622\n",
      "Z MEAN :  0.17744917724216502\n",
      "################ CASE 6 ################\n",
      "BLOCK DIRECTION : X\n",
      "PULL DIRECTION : -Y\n",
      "-----BLOCK CENTER COORDINATE-----\n",
      "X : 0.00830906821928993\n",
      "Y : -0.018234189888374622\n",
      "Z : 0.17744917724216502\n",
      "----------------------------------\n",
      "TRUE COORDINATES\n",
      "true_x : 0.0\n",
      "true_y : -0.025\n",
      "true_z : 0.1725\n",
      "yellow\n",
      "0\n",
      "BOX EXTENT :  [0.02680898 0.00461515 0.01650876]\n",
      "BOX CENTER COORDINATE :  [-0.0225688   0.03989486  0.00349908]\n",
      "FLOORS : 0\n",
      "true_z : 0.0075\n",
      "---------------------------------------------------------------\n",
      "X MEAN :  -0.0225687965764962\n",
      "Y MEAN :  0.03989486390729945\n",
      "Z MEAN :  0.003499081407226684\n",
      "################ CASE 5 ################\n",
      "BLOCK DIRECTION : Y\n",
      "PULL DIRECTION : -X\n",
      "-----BLOCK CENTER COORDINATE-----\n",
      "X : -0.0225687965764962\n",
      "Y : 0.002394863907299448\n",
      "Z : 0.003499081407226684\n",
      "----------------------------------\n",
      "TRUE COORDINATES\n",
      "true_x : -0.025\n",
      "true_y : 0.0\n",
      "true_z : 0.0075\n",
      "1\n",
      "BOX EXTENT :  [0.02730062 0.00502018 0.01606668]\n",
      "BOX CENTER COORDINATE :  [-0.02657531  0.0399608   0.03532685]\n",
      "FLOORS : 2\n",
      "true_z : 0.0375\n",
      "---------------------------------------------------------------\n",
      "X MEAN :  -0.02657531243028942\n",
      "Y MEAN :  0.039960803919942986\n",
      "Z MEAN :  0.03532685129016672\n",
      "################ CASE 5 ################\n",
      "BLOCK DIRECTION : Y\n",
      "PULL DIRECTION : -X\n",
      "-----BLOCK CENTER COORDINATE-----\n",
      "X : -0.02657531243028942\n",
      "Y : 0.0024608039199429874\n",
      "Z : 0.03532685129016672\n",
      "----------------------------------\n",
      "TRUE COORDINATES\n",
      "true_x : -0.025\n",
      "true_y : 0.0\n",
      "true_z : 0.0375\n",
      "2\n",
      "BOX EXTENT :  [0.02702533 0.00602237 0.01546475]\n",
      "BOX CENTER COORDINATE :  [-0.02645966  0.03943412  0.06736953]\n",
      "FLOORS : 4\n",
      "true_z : 0.0675\n",
      "---------------------------------------------------------------\n",
      "X MEAN :  -0.026459658311628872\n",
      "Y MEAN :  0.039434118037265875\n",
      "Z MEAN :  0.06736952949192129\n",
      "################ CASE 5 ################\n",
      "BLOCK DIRECTION : Y\n",
      "PULL DIRECTION : -X\n",
      "-----BLOCK CENTER COORDINATE-----\n",
      "X : -0.026459658311628872\n",
      "Y : 0.0019341180372658764\n",
      "Z : 0.06736952949192129\n",
      "----------------------------------\n",
      "TRUE COORDINATES\n",
      "true_x : -0.025\n",
      "true_y : 0.0\n",
      "true_z : 0.0675\n",
      "3\n",
      "BOX EXTENT :  [0.0273034  0.00772672 0.01512953]\n",
      "BOX CENTER COORDINATE :  [-0.02867423  0.03915458  0.09878663]\n",
      "FLOORS : 6\n",
      "true_z : 0.0975\n",
      "---------------------------------------------------------------\n",
      "X MEAN :  -0.028674226976843395\n",
      "Y MEAN :  0.03915458159047369\n",
      "Z MEAN :  0.09878662884070205\n",
      "################ CASE 5 ################\n",
      "BLOCK DIRECTION : Y\n",
      "PULL DIRECTION : -X\n",
      "-----BLOCK CENTER COORDINATE-----\n",
      "X : -0.028674226976843395\n",
      "Y : 0.001654581590473693\n",
      "Z : 0.09878662884070205\n",
      "----------------------------------\n",
      "TRUE COORDINATES\n",
      "true_x : -0.025\n",
      "true_y : 0.0\n",
      "true_z : 0.0975\n",
      "4\n",
      "BOX EXTENT :  [0.02617204 0.0079831  0.01526532]\n",
      "BOX CENTER COORDINATE :  [-0.02784611  0.03836277  0.13000776]\n",
      "FLOORS : 8\n",
      "true_z : 0.1275\n",
      "---------------------------------------------------------------\n",
      "X MEAN :  -0.02784611167438683\n",
      "Y MEAN :  0.03836277242047545\n",
      "Z MEAN :  0.13000776459374885\n",
      "################ CASE 5 ################\n",
      "BLOCK DIRECTION : Y\n",
      "PULL DIRECTION : -X\n",
      "-----BLOCK CENTER COORDINATE-----\n",
      "X : -0.02784611167438683\n",
      "Y : 0.0008627724204754508\n",
      "Z : 0.13000776459374885\n",
      "----------------------------------\n",
      "TRUE COORDINATES\n",
      "true_x : -0.025\n",
      "true_y : 0.0\n",
      "true_z : 0.1275\n",
      "5\n",
      "BOX EXTENT :  [0.02663234 0.00665979 0.0164801 ]\n",
      "BOX CENTER COORDINATE :  [-0.02420108  0.03703087  0.16114487]\n",
      "FLOORS : 10\n",
      "true_z : 0.1575\n",
      "---------------------------------------------------------------\n",
      "X MEAN :  -0.02420108126716901\n",
      "Y MEAN :  0.037030868325162225\n",
      "Z MEAN :  0.16114487034742472\n",
      "################ CASE 5 ################\n",
      "BLOCK DIRECTION : Y\n",
      "PULL DIRECTION : -X\n",
      "-----BLOCK CENTER COORDINATE-----\n",
      "X : -0.02420108126716901\n",
      "Y : -0.00046913167483777357\n",
      "Z : 0.16114487034742472\n",
      "----------------------------------\n",
      "TRUE COORDINATES\n",
      "true_x : -0.025\n",
      "true_y : 0.0\n",
      "true_z : 0.1575\n",
      "blue\n",
      "0\n",
      "BOX EXTENT :  [0.00407214 0.02427667 0.01551568]\n",
      "BOX CENTER COORDINATE :  [ 0.03959354 -0.00379323  0.02040646]\n",
      "FLOORS : 1\n",
      "true_z : 0.0225\n",
      "---------------------------------------------------------------\n",
      "X MEAN :  0.03959353564879495\n",
      "Y MEAN :  -0.003793231367249364\n",
      "Z MEAN :  0.020406459668334466\n",
      "################ CASE 4 ################\n",
      "BLOCK DIRECTION : X\n",
      "PUSH DIRECTION : X or -X\n",
      "-----BLOCK CENTER COORDINATE-----\n",
      "X : 0.002093535648794949\n",
      "Y : -0.003793231367249364\n",
      "Z : 0.020406459668334466\n",
      "----------------------------------\n",
      "TRUE COORDINATES\n",
      "true_x : 0.0\n",
      "true_y : 0.0\n",
      "true_z : 0.0225\n",
      "1\n",
      "BOX EXTENT :  [0.00516861 0.02377708 0.01680509]\n",
      "BOX CENTER COORDINATE :  [ 0.03839249 -0.00540252  0.05172369]\n",
      "FLOORS : 3\n",
      "true_z : 0.0525\n",
      "---------------------------------------------------------------\n",
      "X MEAN :  0.03839248821737601\n",
      "Y MEAN :  -0.005402523254027652\n",
      "Z MEAN :  0.051723691076112466\n",
      "################ CASE 4 ################\n",
      "BLOCK DIRECTION : X\n",
      "PUSH DIRECTION : X or -X\n",
      "-----BLOCK CENTER COORDINATE-----\n",
      "X : 0.0008924882173760099\n",
      "Y : -0.005402523254027652\n",
      "Z : 0.051723691076112466\n",
      "----------------------------------\n",
      "TRUE COORDINATES\n",
      "true_x : 0.0\n",
      "true_y : 0.0\n",
      "true_z : 0.0525\n",
      "2\n",
      "BOX EXTENT :  [0.00473583 0.02737675 0.01516974]\n",
      "BOX CENTER COORDINATE :  [ 0.03579438 -0.00996893  0.08422796]\n",
      "FLOORS : 5\n",
      "true_z : 0.08249999999999999\n",
      "---------------------------------------------------------------\n",
      "X MEAN :  0.035794375631523746\n",
      "Y MEAN :  -0.009968934566567361\n",
      "Z MEAN :  0.08422796348321654\n",
      "################ CASE 4 ################\n",
      "BLOCK DIRECTION : X\n",
      "PUSH DIRECTION : X or -X\n",
      "-----BLOCK CENTER COORDINATE-----\n",
      "X : -0.0017056243684762523\n",
      "Y : -0.009968934566567361\n",
      "Z : 0.08422796348321654\n",
      "----------------------------------\n",
      "TRUE COORDINATES\n",
      "true_x : 0.0\n",
      "true_y : 0.0\n",
      "true_z : 0.08249999999999999\n",
      "3\n",
      "BOX EXTENT :  [0.00571814 0.03404891 0.01654568]\n",
      "BOX CENTER COORDINATE :  [ 0.03644358 -0.00755733  0.11642833]\n",
      "FLOORS : 7\n",
      "true_z : 0.11249999999999999\n",
      "---------------------------------------------------------------\n",
      "X MEAN :  0.03644358071825175\n",
      "Y MEAN :  -0.007557328143240422\n",
      "Z MEAN :  0.11642833037286308\n",
      "################ CASE 4 ################\n",
      "BLOCK DIRECTION : X\n",
      "PUSH DIRECTION : X or -X\n",
      "-----BLOCK CENTER COORDINATE-----\n",
      "X : -0.0010564192817482457\n",
      "Y : -0.007557328143240422\n",
      "Z : 0.11642833037286308\n",
      "----------------------------------\n",
      "TRUE COORDINATES\n",
      "true_x : 0.0\n",
      "true_y : 0.0\n",
      "true_z : 0.11249999999999999\n",
      "4\n",
      "BOX EXTENT :  [0.00623311 0.03366429 0.01725974]\n",
      "BOX CENTER COORDINATE :  [ 0.03644825 -0.0075817   0.14902507]\n",
      "FLOORS : 9\n",
      "true_z : 0.14250000000000002\n",
      "---------------------------------------------------------------\n",
      "X MEAN :  0.036448245137999095\n",
      "Y MEAN :  -0.00758169768460866\n",
      "Z MEAN :  0.1490250653876633\n",
      "################ CASE 4 ################\n",
      "BLOCK DIRECTION : X\n",
      "PUSH DIRECTION : X or -X\n",
      "-----BLOCK CENTER COORDINATE-----\n",
      "X : -0.0010517548620009032\n",
      "Y : -0.00758169768460866\n",
      "Z : 0.1490250653876633\n",
      "----------------------------------\n",
      "TRUE COORDINATES\n",
      "true_x : 0.0\n",
      "true_y : 0.0\n",
      "true_z : 0.14250000000000002\n",
      "5\n",
      "BOX EXTENT :  [0.01083197 0.03907418 0.01316474]\n",
      "BOX CENTER COORDINATE :  [0.04470125 0.00462777 0.17712497]\n",
      "FLOORS : 11\n",
      "true_z : 0.1725\n",
      "---------------------------------------------------------------\n",
      "X MEAN :  0.04470124710664163\n",
      "Y MEAN :  0.004627771229459218\n",
      "Z MEAN :  0.17712497261592003\n",
      "################ CASE 4 ################\n",
      "BLOCK DIRECTION : X\n",
      "PUSH DIRECTION : X or -X\n",
      "-----BLOCK CENTER COORDINATE-----\n",
      "X : 0.007201247106641634\n",
      "Y : 0.004627771229459218\n",
      "Z : 0.17712497261592003\n",
      "----------------------------------\n",
      "TRUE COORDINATES\n",
      "true_x : 0.0\n",
      "true_y : 0.0\n",
      "true_z : 0.1725\n",
      "violet\n",
      "0\n",
      "BOX EXTENT :  [0.02621478 0.0043597  0.0151435 ]\n",
      "BOX CENTER COORDINATE :  [0.00424353 0.03923045 0.00477313]\n",
      "FLOORS : 0\n",
      "true_z : 0.0075\n",
      "---------------------------------------------------------------\n",
      "X MEAN :  0.0042435283524139625\n",
      "Y MEAN :  0.03923045467724952\n",
      "Z MEAN :  0.004773129439702671\n",
      "################ CASE 3 ################\n",
      "BLOCK DIRECTION : Y\n",
      "PUSH DIRECTION : Y or -Y\n",
      "-----BLOCK CENTER COORDINATE-----\n",
      "X : 0.0042435283524139625\n",
      "Y : 0.0017304546772495197\n",
      "Z : 0.004773129439702671\n",
      "----------------------------------\n",
      "TRUE COORDINATES\n",
      "true_x : 0.0\n",
      "true_y : 0.0\n",
      "true_z : 0.0075\n",
      "1\n",
      "BOX EXTENT :  [0.02550224 0.00474862 0.01540467]\n",
      "BOX CENTER COORDINATE :  [-0.00047539  0.03641893  0.03590707]\n",
      "FLOORS : 2\n",
      "true_z : 0.0375\n",
      "---------------------------------------------------------------\n",
      "X MEAN :  -0.0004753894939219655\n",
      "Y MEAN :  0.03641892746638274\n",
      "Z MEAN :  0.03590707014107355\n",
      "################ CASE 3 ################\n",
      "BLOCK DIRECTION : Y\n",
      "PUSH DIRECTION : Y or -Y\n",
      "-----BLOCK CENTER COORDINATE-----\n",
      "X : -0.0004753894939219655\n",
      "Y : -0.001081072533617257\n",
      "Z : 0.03590707014107355\n",
      "----------------------------------\n",
      "TRUE COORDINATES\n",
      "true_x : 0.0\n",
      "true_y : 0.0\n",
      "true_z : 0.0375\n",
      "2\n",
      "BOX EXTENT :  [0.0267918  0.00443036 0.01500804]\n",
      "BOX CENTER COORDINATE :  [-0.00110715  0.03722002  0.06784004]\n",
      "FLOORS : 4\n",
      "true_z : 0.0675\n",
      "---------------------------------------------------------------\n",
      "X MEAN :  -0.001107149250789849\n",
      "Y MEAN :  0.037220022248554474\n",
      "Z MEAN :  0.06784003646097657\n",
      "################ CASE 3 ################\n",
      "BLOCK DIRECTION : Y\n",
      "PUSH DIRECTION : Y or -Y\n",
      "-----BLOCK CENTER COORDINATE-----\n",
      "X : -0.001107149250789849\n",
      "Y : -0.00027997775144552456\n",
      "Z : 0.06784003646097657\n",
      "----------------------------------\n",
      "TRUE COORDINATES\n",
      "true_x : 0.0\n",
      "true_y : 0.0\n",
      "true_z : 0.0675\n",
      "3\n",
      "BOX EXTENT :  [0.02640879 0.00695224 0.01537152]\n",
      "BOX CENTER COORDINATE :  [-0.00239082  0.0377749   0.09913318]\n",
      "FLOORS : 6\n",
      "true_z : 0.0975\n",
      "---------------------------------------------------------------\n",
      "X MEAN :  -0.0023908188362118388\n",
      "Y MEAN :  0.03777490146769279\n",
      "Z MEAN :  0.09913318117664865\n",
      "################ CASE 3 ################\n",
      "BLOCK DIRECTION : Y\n",
      "PUSH DIRECTION : Y or -Y\n",
      "-----BLOCK CENTER COORDINATE-----\n",
      "X : -0.0023908188362118388\n",
      "Y : 0.0002749014676927883\n",
      "Z : 0.09913318117664865\n",
      "----------------------------------\n",
      "TRUE COORDINATES\n",
      "true_x : 0.0\n",
      "true_y : 0.0\n",
      "true_z : 0.0975\n",
      "4\n",
      "BOX EXTENT :  [0.02639278 0.00625746 0.0158441 ]\n",
      "BOX CENTER COORDINATE :  [-0.0023805   0.03649771  0.13083404]\n",
      "FLOORS : 8\n",
      "true_z : 0.1275\n",
      "---------------------------------------------------------------\n",
      "X MEAN :  -0.0023805004704531146\n",
      "Y MEAN :  0.03649771340319584\n",
      "Z MEAN :  0.1308340362751458\n",
      "################ CASE 3 ################\n",
      "BLOCK DIRECTION : Y\n",
      "PUSH DIRECTION : Y or -Y\n",
      "-----BLOCK CENTER COORDINATE-----\n",
      "X : -0.0023805004704531146\n",
      "Y : -0.0010022865968041597\n",
      "Z : 0.1308340362751458\n",
      "----------------------------------\n",
      "TRUE COORDINATES\n",
      "true_x : 0.0\n",
      "true_y : 0.0\n",
      "true_z : 0.1275\n",
      "5\n",
      "BOX EXTENT :  [0.02708149 0.00914588 0.01595719]\n",
      "BOX CENTER COORDINATE :  [-1.20502307e-05  3.64914048e-02  1.61975275e-01]\n",
      "FLOORS : 10\n",
      "true_z : 0.1575\n",
      "---------------------------------------------------------------\n",
      "X MEAN :  -1.2050230689647501e-05\n",
      "Y MEAN :  0.03649140479440019\n",
      "Z MEAN :  0.16197527494419411\n",
      "################ CASE 3 ################\n",
      "BLOCK DIRECTION : Y\n",
      "PUSH DIRECTION : Y or -Y\n",
      "-----BLOCK CENTER COORDINATE-----\n",
      "X : -1.2050230689647501e-05\n",
      "Y : -0.001008595205599809\n",
      "Z : 0.16197527494419411\n",
      "----------------------------------\n",
      "TRUE COORDINATES\n",
      "true_x : 0.0\n",
      "true_y : 0.0\n",
      "true_z : 0.1575\n",
      "red\n",
      "0\n",
      "BOX EXTENT :  [0.07834987 0.03816699 0.01862062]\n",
      "BOX CENTER COORDINATE :  [0.00189523 0.02307145 0.02048103]\n",
      "FLOORS : 1\n",
      "true_z : 0.0225\n",
      "---------------------------------------------------------------\n",
      "X MEAN :  0.0018952296520847248\n",
      "Y MEAN :  0.023071453039197262\n",
      "Z MEAN :  0.020481027255823223\n",
      "################ CASE 2 ################\n",
      "BLOCK DIRECTION : X\n",
      "PULL DIRECTION : Y\n",
      "-----BLOCK CENTER COORDINATE-----\n",
      "X : 0.0018952296520847248\n",
      "Y : 0.023071453039197262\n",
      "Z : 0.020481027255823223\n",
      "----------------------------------\n",
      "TRUE COORDINATES\n",
      "true_x : 0.0\n",
      "true_y : 0.025\n",
      "true_z : 0.0225\n",
      "1\n",
      "BOX EXTENT :  [0.07915723 0.03855307 0.01921036]\n",
      "BOX CENTER COORDINATE :  [-0.00034047  0.02503843  0.05115702]\n",
      "FLOORS : 3\n",
      "true_z : 0.0525\n",
      "---------------------------------------------------------------\n",
      "X MEAN :  -0.0003404739804793097\n",
      "Y MEAN :  0.025038433487038672\n",
      "Z MEAN :  0.05115701560391621\n",
      "################ CASE 2 ################\n",
      "BLOCK DIRECTION : X\n",
      "PULL DIRECTION : Y\n",
      "-----BLOCK CENTER COORDINATE-----\n",
      "X : -0.0003404739804793097\n",
      "Y : 0.025038433487038672\n",
      "Z : 0.05115701560391621\n",
      "----------------------------------\n",
      "TRUE COORDINATES\n",
      "true_x : 0.0\n",
      "true_y : 0.025\n",
      "true_z : 0.0525\n",
      "2\n",
      "BOX EXTENT :  [0.07859172 0.04083927 0.01772382]\n",
      "BOX CENTER COORDINATE :  [-0.00195415  0.02133109  0.08314457]\n",
      "FLOORS : 5\n",
      "true_z : 0.08249999999999999\n",
      "---------------------------------------------------------------\n",
      "X MEAN :  -0.0019541504103154778\n",
      "Y MEAN :  0.021331085087430215\n",
      "Z MEAN :  0.08314456901790496\n",
      "################ CASE 2 ################\n",
      "BLOCK DIRECTION : X\n",
      "PULL DIRECTION : Y\n",
      "-----BLOCK CENTER COORDINATE-----\n",
      "X : -0.0019541504103154778\n",
      "Y : 0.021331085087430215\n",
      "Z : 0.08314456901790496\n",
      "----------------------------------\n",
      "TRUE COORDINATES\n",
      "true_x : 0.0\n",
      "true_y : 0.025\n",
      "true_z : 0.08249999999999999\n",
      "3\n",
      "BOX EXTENT :  [0.07906455 0.03721036 0.01782741]\n",
      "BOX CENTER COORDINATE :  [-0.00220836  0.02252497  0.11559612]\n",
      "FLOORS : 7\n",
      "true_z : 0.11249999999999999\n",
      "---------------------------------------------------------------\n",
      "X MEAN :  -0.0022083642450696286\n",
      "Y MEAN :  0.022524971577245895\n",
      "Z MEAN :  0.11559611787949026\n",
      "################ CASE 2 ################\n",
      "BLOCK DIRECTION : X\n",
      "PULL DIRECTION : Y\n",
      "-----BLOCK CENTER COORDINATE-----\n",
      "X : -0.0022083642450696286\n",
      "Y : 0.022524971577245895\n",
      "Z : 0.11559611787949026\n",
      "----------------------------------\n",
      "TRUE COORDINATES\n",
      "true_x : 0.0\n",
      "true_y : 0.025\n",
      "true_z : 0.11249999999999999\n",
      "4\n",
      "BOX EXTENT :  [0.0772219  0.04225313 0.02051883]\n",
      "BOX CENTER COORDINATE :  [-0.0006447   0.0224234   0.14738704]\n",
      "FLOORS : 9\n",
      "true_z : 0.14250000000000002\n",
      "---------------------------------------------------------------\n",
      "X MEAN :  -0.0006447048753984649\n",
      "Y MEAN :  0.02242340484905843\n",
      "Z MEAN :  0.14738704211522946\n",
      "################ CASE 2 ################\n",
      "BLOCK DIRECTION : X\n",
      "PULL DIRECTION : Y\n",
      "-----BLOCK CENTER COORDINATE-----\n",
      "X : -0.0006447048753984649\n",
      "Y : 0.02242340484905843\n",
      "Z : 0.14738704211522946\n",
      "----------------------------------\n",
      "TRUE COORDINATES\n",
      "true_x : 0.0\n",
      "true_y : 0.025\n",
      "true_z : 0.14250000000000002\n",
      "5\n",
      "BOX EXTENT :  [0.08520419 0.04300871 0.01545956]\n",
      "BOX CENTER COORDINATE :  [0.00447398 0.03337595 0.17657299]\n",
      "FLOORS : 11\n",
      "true_z : 0.1725\n",
      "---------------------------------------------------------------\n",
      "X MEAN :  0.004473984155251486\n",
      "Y MEAN :  0.033375946465595524\n",
      "Z MEAN :  0.17657298683121492\n",
      "################ CASE 2 ################\n",
      "BLOCK DIRECTION : X\n",
      "PULL DIRECTION : Y\n",
      "-----BLOCK CENTER COORDINATE-----\n",
      "X : 0.004473984155251486\n",
      "Y : 0.033375946465595524\n",
      "Z : 0.17657298683121492\n",
      "----------------------------------\n",
      "TRUE COORDINATES\n",
      "true_x : 0.0\n",
      "true_y : 0.025\n",
      "true_z : 0.1725\n"
     ]
    }
   ],
   "source": [
    "for i, (col, pcds) in enumerate(zip(colors, blocks_pcd_by_color)):\n",
    "    if target_block_color == 'init':\n",
    "        pass\n",
    "    elif col != target_block_color:\n",
    "        continue\n",
    "    print(col)\n",
    "    \n",
    "    for idx, pcd in enumerate(pcds):\n",
    "        if target_block_color == 'init':\n",
    "            pass\n",
    "        elif idx != target_block_label:\n",
    "            continue\n",
    "        \n",
    "        # print(\"--------------------------------\")\n",
    "        print(idx)\n",
    "\n",
    "        new_trans = copy.deepcopy(trans)\n",
    "\n",
    "        pcd_new = transform_blocks(pcd, new_trans)\n",
    "        \n",
    "        box_extent = pcd_new.get_axis_aligned_bounding_box().get_extent()\n",
    "        print(\"BOX EXTENT : \", box_extent)\n",
    "        \n",
    "        center_coordinate = np.array(pcd_new.get_axis_aligned_bounding_box().get_box_points()).mean(axis=0)\n",
    "        \n",
    "        # print(np.array(pcd_new.get_axis_aligned_bounding_box().get_box_points()))\n",
    "        print(\"BOX CENTER COORDINATE : \", center_coordinate)\n",
    "        \n",
    "        floors = int(center_coordinate[2] // 0.015)\n",
    "        print(\"FLOORS :\", floors)\n",
    "        \n",
    "        # print(mok, nameoji)\n",
    "        true_z = floors * 0.015 + 0.0075\n",
    "        print(\"true_z :\", true_z)\n",
    "        \n",
    "        # print(\"BOX MAX X,Y and MEAN Z Coordinate\")\n",
    "        print(\"---------------------------------------------------------------\")\n",
    "        \n",
    "        x_mean = np.array(pcd_new.get_axis_aligned_bounding_box().get_box_points())[:,0].mean()\n",
    "        y_mean = np.array(pcd_new.get_axis_aligned_bounding_box().get_box_points())[:,1].mean()\n",
    "        z_mean = np.array(pcd_new.get_axis_aligned_bounding_box().get_box_points())[:,2].mean()\n",
    "        print(\"X MEAN : \", x_mean)\n",
    "        print(\"Y MEAN : \", y_mean)\n",
    "        print(\"Z MEAN : \", z_mean)\n",
    "        \n",
    "        if box_extent[1] > 0.070:\n",
    "            print(\"################ CASE 1 ################\")\n",
    "            print(\"BLOCK DIRECTION : Y\")\n",
    "            print(\"PULL DIRECTION : X\")\n",
    "            vector = np.array([-1, 0, 0])\n",
    "            print(\"-----BLOCK CENTER COORDINATE-----\")\n",
    "            cen_x = x_mean #- 25/2\n",
    "            cen_y = y_mean #- 75/2\n",
    "            cen_z = z_mean\n",
    "            print(\"X :\", cen_x)\n",
    "            print(\"Y :\", cen_y)\n",
    "            print(\"Z :\", cen_z)\n",
    "            pt1 = o3d.cpu.pybind.utility.Vector3dVector(np.array([[cen_x, cen_y, z_mean], [cen_x - 0.00001, cen_y - 0.00001, cen_z - 0.00001], [cen_x + 0.00001, cen_y + 0.00001, cen_z + 0.00001]]))\n",
    "            tower_map[floors][0] = i\n",
    "            true_x, true_y = get_true_box_center_coordinates_xy(cen_x, cen_y)\n",
    "            floor_dir = (floors%2, 'X')\n",
    "            print(\"----------------------------------\")\n",
    "            \n",
    "        elif box_extent[0] > 0.070:\n",
    "            print(\"################ CASE 2 ################\")\n",
    "            print(\"BLOCK DIRECTION : X\")\n",
    "            print(\"PULL DIRECTION : Y\")\n",
    "            vector = np.array([0, -1, 0])\n",
    "            print(\"-----BLOCK CENTER COORDINATE-----\")\n",
    "            cen_x = x_mean# - 75/2\n",
    "            cen_y = y_mean# - 25/2\n",
    "            cen_z = z_mean\n",
    "            print(\"X :\", cen_x)\n",
    "            print(\"Y :\", cen_y)\n",
    "            print(\"Z :\", cen_z)\n",
    "            pt1 = o3d.cpu.pybind.utility.Vector3dVector(np.array([[cen_x, cen_y, z_mean], [cen_x - 0.00001, cen_y - 0.00001, cen_z - 0.00001], [cen_x + 0.00001, cen_y + 0.00001, cen_z + 0.00001]]))\n",
    "            tower_map[floors][0] = i\n",
    "            true_x, true_y = get_true_box_center_coordinates_xy(cen_x, cen_y)\n",
    "            print(\"----------------------------------\")\n",
    "            \n",
    "        elif abs(center_coordinate[0]) < 0.010 and box_extent [1] < 0.015:\n",
    "            print(\"################ CASE 3 ################\")\n",
    "            print(\"BLOCK DIRECTION : Y\")\n",
    "            print(\"PUSH DIRECTION : Y or -Y\")\n",
    "            vector = np.array([0, -1, 0])\n",
    "            print(\"-----BLOCK CENTER COORDINATE-----\")\n",
    "            cen_x = x_mean# - 25/2\n",
    "            cen_y = y_mean - 0.075/2\n",
    "            cen_z = z_mean\n",
    "            print(\"X :\", cen_x)\n",
    "            print(\"Y :\", cen_y)\n",
    "            print(\"Z :\", cen_z)\n",
    "            pt1 = o3d.cpu.pybind.utility.Vector3dVector(np.array([[cen_x, cen_y, z_mean], [cen_x - 0.00001, cen_y - 0.00001, cen_z - 0.00001], [cen_x + 0.00001, cen_y + 0.00001, cen_z + 0.00001]]))\n",
    "            tower_map[floors][1] = i\n",
    "            true_x, true_y = get_true_box_center_coordinates_xy(cen_x, cen_y)\n",
    "            print(\"----------------------------------\")\n",
    "            \n",
    "        elif abs(center_coordinate[1]) < 0.010 and box_extent [0] < 0.015:\n",
    "            print(\"################ CASE 4 ################\")\n",
    "            print(\"BLOCK DIRECTION : X\")\n",
    "            print(\"PUSH DIRECTION : X or -X\")\n",
    "            vector = np.array([-1, 0, 0])\n",
    "            print(\"-----BLOCK CENTER COORDINATE-----\")\n",
    "            cen_x = x_mean - 0.075/2\n",
    "            cen_y = y_mean# - 25/2\n",
    "            cen_z = z_mean\n",
    "            print(\"X :\", cen_x)\n",
    "            print(\"Y :\", cen_y)\n",
    "            print(\"Z :\", cen_z)\n",
    "            pt1 = o3d.cpu.pybind.utility.Vector3dVector(np.array([[cen_x, cen_y, z_mean], [cen_x - 0.00001, cen_y - 0.00001, cen_z - 0.00001], [cen_x + 0.00001, cen_y + 0.00001, cen_z + 0.00001]]))\n",
    "            tower_map[floors][1] = i\n",
    "            true_x, true_y = get_true_box_center_coordinates_xy(cen_x, cen_y)\n",
    "            print(\"----------------------------------\")\n",
    "            \n",
    "        elif box_extent[1] < 0.015:\n",
    "            print(\"################ CASE 5 ################\")\n",
    "            print(\"BLOCK DIRECTION : Y\")\n",
    "            print(\"PULL DIRECTION : -X\")\n",
    "            vector = np.array([1, 0, 0])\n",
    "            print(\"-----BLOCK CENTER COORDINATE-----\")\n",
    "            cen_x = x_mean# - 25/2\n",
    "            cen_y = y_mean - 0.075/2\n",
    "            cen_z = z_mean\n",
    "            print(\"X :\", cen_x)\n",
    "            print(\"Y :\", cen_y)\n",
    "            print(\"Z :\", cen_z)\n",
    "            pt1 = o3d.cpu.pybind.utility.Vector3dVector(np.array([[cen_x, cen_y, z_mean], [cen_x - 0.00001, cen_y - 0.00001, cen_z - 0.00001], [cen_x + 0.00001, cen_y + 0.00001, cen_z + 0.00001]]))\n",
    "            tower_map[floors][2] = i\n",
    "            true_x, true_y = get_true_box_center_coordinates_xy(cen_x, cen_y)\n",
    "            print(\"----------------------------------\")\n",
    "            \n",
    "        elif box_extent[0] < 0.015:\n",
    "            print(\"################ CASE 6 ################\")\n",
    "            print(\"BLOCK DIRECTION : X\")\n",
    "            print(\"PULL DIRECTION : -Y\")\n",
    "            vector = np.array([0, 1, 0])\n",
    "            print(\"-----BLOCK CENTER COORDINATE-----\")\n",
    "            cen_x = x_mean - 0.075/2\n",
    "            cen_y = y_mean# - 25/2\n",
    "            cen_z = z_mean\n",
    "            print(\"X :\", cen_x)\n",
    "            print(\"Y :\", cen_y)\n",
    "            print(\"Z :\", cen_z)\n",
    "            pt1 = o3d.cpu.pybind.utility.Vector3dVector(np.array([[cen_x, cen_y, z_mean], [cen_x - 0.00001, cen_y - 0.00001, cen_z - 0.00001], [cen_x + 0.00001, cen_y + 0.00001, cen_z + 0.00001]]))\n",
    "            tower_map[floors][2] = i\n",
    "            true_x, true_y = get_true_box_center_coordinates_xy(cen_x, cen_y)\n",
    "            print(\"----------------------------------\")\n",
    "            \n",
    "        else:\n",
    "            print(\"NOTHING\")\n",
    "            \n",
    "        if abs(cen_x) < 0.0125:\n",
    "            true_x = 0.0\n",
    "        elif cen_x > 0:\n",
    "            true_x = 0.025\n",
    "        else:\n",
    "            true_x = -0.025\n",
    "            \n",
    "        if abs(cen_y) < 0.0125:\n",
    "            true_y = 0.0\n",
    "        elif cen_y > 0:\n",
    "            true_y = 0.025\n",
    "        else:\n",
    "            true_y = -0.025\n",
    "        \n",
    "        print(\"TRUE COORDINATES\")\n",
    "        print(\"true_x :\", true_x)\n",
    "        print(\"true_y :\", true_y)\n",
    "        print(\"true_z :\", true_z)\n",
    "        \n",
    "        pt2 = o3d.cpu.pybind.utility.Vector3dVector(np.array([[true_x, true_y, true_z], [true_x - 0.00001, true_y - 0.00001, true_z - 0.00001], [true_x + 0.00001, true_y + 0.00001, true_z + 0.00001]]))\n",
    "            \n",
    "        mesh_COORD = o3d.geometry.TriangleMesh.create_coordinate_frame(size=10, origin=center_coordinate)\n",
    "        ptc1 = o3d.geometry.PointCloud()\n",
    "        ptc1.points = pt1\n",
    "        ptc1.paint_uniform_color([1, 0, 0])\n",
    "        ptc2 = o3d.geometry.PointCloud()\n",
    "        ptc2.points = pt2\n",
    "        ptc2.paint_uniform_color([0, 0, 1])\n",
    "        line = o3d.geometry.LineSet.create_from_point_cloud_correspondences(ptc1, ptc2, [(0,0)])\n",
    "        # o3d.visualization.draw_geometries([pcd_new, source_temp, mesh_frame_small, ptc1, ptc2, line])"
   ]
  },
  {
   "cell_type": "code",
   "execution_count": 73,
   "metadata": {},
   "outputs": [
    {
     "name": "stdout",
     "output_type": "stream",
     "text": [
      "TriangleMesh with 12 points and 4 triangles.\n",
      "PointCloud with 269007 points.\n"
     ]
    }
   ],
   "source": [
    "mesh_block_x = o3d.io.read_triangle_mesh(\"mesh/single_block_y_m.stl\")\n",
    "print(mesh_tower)\n",
    "\n",
    "mesh_tower.compute_vertex_normals()\n",
    "\n",
    "pcd_mesh = mesh_tower.sample_points_uniformly(number_of_points=len(pcd_combined.points))\n",
    "print(pcd_mesh)"
   ]
  },
  {
   "cell_type": "code",
   "execution_count": 74,
   "metadata": {},
   "outputs": [
    {
     "data": {
      "text/plain": [
       "[[0, 4, 2],\n",
       " [5, 3, 1],\n",
       " [0, 4, 2],\n",
       " [5, 3, 1],\n",
       " [0, 4, 2],\n",
       " [5, 3, 1],\n",
       " [0, 4, 2],\n",
       " [5, 3, 1],\n",
       " [0, 4, 2],\n",
       " [5, 3, 1],\n",
       " [0, 4, 2],\n",
       " [5, 3, 1]]"
      ]
     },
     "execution_count": 74,
     "metadata": {},
     "output_type": "execute_result"
    }
   ],
   "source": [
    "tower_map"
   ]
  },
  {
   "cell_type": "markdown",
   "metadata": {},
   "source": [
    "* 숫자(index) 형태로 색 전달\n",
    "    * 2d list 전달해야하는데 그 형태로 전달하는거보다 2d int array를 Image 형태로 바꾸고 msg로 전달하는게 편할듯 함\n",
    "    * msg 받는 쪽에서도 Image 형태로 받은 후 np.array 형태로 변환, list 처럼 사용"
   ]
  },
  {
   "cell_type": "markdown",
   "metadata": {},
   "source": [
    "cv2_to_imgmsg"
   ]
  },
  {
   "cell_type": "markdown",
   "metadata": {},
   "source": [
    "sensor_msgs/Image"
   ]
  },
  {
   "cell_type": "code",
   "execution_count": 61,
   "metadata": {},
   "outputs": [],
   "source": [
    "tower_map = np.array(tower_map).astype('uint8')"
   ]
  },
  {
   "cell_type": "code",
   "execution_count": 62,
   "metadata": {},
   "outputs": [
    {
     "data": {
      "text/plain": [
       "(12, 3)"
      ]
     },
     "execution_count": 62,
     "metadata": {},
     "output_type": "execute_result"
    }
   ],
   "source": [
    "tower_map.shape"
   ]
  },
  {
   "cell_type": "code",
   "execution_count": 63,
   "metadata": {},
   "outputs": [],
   "source": [
    "cv2.imshow('tower map', tower_map)\n",
    "\n",
    "cv2.waitKey(0)\n",
    "cv2.destroyAllWindows()"
   ]
  },
  {
   "cell_type": "code",
   "execution_count": null,
   "metadata": {},
   "outputs": [],
   "source": []
  }
 ],
 "metadata": {
  "kernelspec": {
   "display_name": "urp",
   "language": "python",
   "name": "python3"
  },
  "language_info": {
   "codemirror_mode": {
    "name": "ipython",
    "version": 3
   },
   "file_extension": ".py",
   "mimetype": "text/x-python",
   "name": "python",
   "nbconvert_exporter": "python",
   "pygments_lexer": "ipython3",
   "version": "3.8.10"
  },
  "orig_nbformat": 4
 },
 "nbformat": 4,
 "nbformat_minor": 2
}
