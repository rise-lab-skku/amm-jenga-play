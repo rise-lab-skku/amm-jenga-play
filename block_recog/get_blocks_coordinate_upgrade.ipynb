{
 "cells": [
  {
   "attachments": {},
   "cell_type": "markdown",
   "metadata": {},
   "source": [
    "# Blcok Recognition"
   ]
  },
  {
   "attachments": {},
   "cell_type": "markdown",
   "metadata": {},
   "source": [
    "## Import Libraries"
   ]
  },
  {
   "cell_type": "code",
   "execution_count": 1,
   "metadata": {},
   "outputs": [
    {
     "name": "stdout",
     "output_type": "stream",
     "text": [
      "Jupyter environment detected. Enabling Open3D WebVisualizer.\n",
      "[Open3D INFO] WebRTC GUI backend enabled.\n",
      "[Open3D INFO] WebRTCWindowSystem: HTTP handshake server disabled.\n"
     ]
    }
   ],
   "source": [
    "import numpy as np\n",
    "import cv2\n",
    "import glob\n",
    "from matplotlib import pyplot as plt\n",
    "import open3d as o3d\n",
    "import copy\n",
    "import pickle"
   ]
  },
  {
   "cell_type": "code",
   "execution_count": 2,
   "metadata": {},
   "outputs": [],
   "source": [
    "with open('./test_imgs/dep.p', 'rb') as dep:\n",
    "    d = pickle.load(dep, encoding=\"16UC1\")"
   ]
  },
  {
   "cell_type": "code",
   "execution_count": 3,
   "metadata": {},
   "outputs": [],
   "source": [
    "with open('./test_imgs/rgb.p', 'rb') as rgb:\n",
    "    r = pickle.load(rgb)\n"
   ]
  },
  {
   "cell_type": "code",
   "execution_count": 4,
   "metadata": {},
   "outputs": [
    {
     "data": {
      "text/plain": [
       "915"
      ]
     },
     "execution_count": 4,
     "metadata": {},
     "output_type": "execute_result"
    }
   ],
   "source": [
    "d.max()"
   ]
  },
  {
   "attachments": {},
   "cell_type": "markdown",
   "metadata": {},
   "source": [
    "## Read Test Images"
   ]
  },
  {
   "cell_type": "code",
   "execution_count": 5,
   "metadata": {},
   "outputs": [
    {
     "name": "stdout",
     "output_type": "stream",
     "text": [
      "color shape:  (1536, 2048, 3)\n",
      "depth shape:  (1536, 2048)\n"
     ]
    }
   ],
   "source": [
    "# 로봇이 촬영할 때 카메라가 거꾸로 있다고 가정\n",
    "img_color = cv2.rotate(r, cv2.ROTATE_180) \n",
    "img_depth = cv2.rotate(d, cv2.ROTATE_180) \n",
    "print('color shape: ', img_color.shape)\n",
    "print('depth shape: ', img_depth.shape)\n",
    "\n",
    "# cv2.imshow(f'color', img_color)\n",
    "# # # cv2.imwrite('../imgs/red_extract.png', each_color_filtered)\n",
    "# cv2.waitKey(0)\n",
    "# cv2.destroyAllWindows()"
   ]
  },
  {
   "attachments": {},
   "cell_type": "markdown",
   "metadata": {},
   "source": [
    "## Extract Blocks' Masks By Colors"
   ]
  },
  {
   "cell_type": "code",
   "execution_count": 6,
   "metadata": {},
   "outputs": [],
   "source": [
    "height, width = img_color.shape[:2] # 이미지의 높이와 너비 불러옴, 가로 [0], 세로[1]\n",
    "\n",
    "img_hsv = cv2.cvtColor(img_color, cv2.COLOR_BGR2HSV) # cvtColor 함수를 이용하여 hsv 색공간으로 변환"
   ]
  },
  {
   "cell_type": "code",
   "execution_count": 7,
   "metadata": {},
   "outputs": [],
   "source": [
    "colors = ['green', 'pink', 'yellow', 'blue', 'violet', 'red']"
   ]
  },
  {
   "cell_type": "code",
   "execution_count": 8,
   "metadata": {},
   "outputs": [],
   "source": [
    "# RED\n",
    "lower_red1 = np.array([0, 130, 50])\n",
    "upper_red1 = np.array([15, 255, 255])\n",
    "lower_red2 = np.array([160,130,50])\n",
    "upper_red2 = np.array([179,255,255])\n",
    "\n",
    "# PINK\n",
    "lower_pink1 = np.array([0, 55, 80])\n",
    "upper_pink1 = np.array([10, 130, 255])\n",
    "lower_pink2 = np.array([150,55,80])\n",
    "upper_pink2 = np.array([179,130,255])\n",
    "\n",
    "# GREEN\n",
    "lower_green = (70-20, 50, 50)\n",
    "upper_green = (70+15, 255, 255)\n",
    "\n",
    "# YELLOW\n",
    "lower_yellow = (30-10, 80, 80)\n",
    "upper_yellow = (30+10, 255, 255)\n",
    "\n",
    "# BLUE\n",
    "lower_blue = (100-10, 100, 100)\n",
    "upper_blue = (100+9, 255, 255)\n",
    "\n",
    "# VIOLET\n",
    "lower_violet = (130-20, 60, 60)\n",
    "upper_violet = (130+20, 255, 255)"
   ]
  },
  {
   "cell_type": "code",
   "execution_count": 9,
   "metadata": {},
   "outputs": [],
   "source": [
    "blocks_rgb_by_color = []\n",
    "blocks_mask_by_color = []\n",
    "for color in colors:\n",
    "    if color == 'pink' or color =='red':\n",
    "        for i in (1,2):\n",
    "            exec(f\"lower_color{i} = lower_{color}{i}\")\n",
    "            exec(f\"upper_color{i} = upper_{color}{i}\")\n",
    "\n",
    "        mask_color1 = cv2.inRange(img_hsv, lower_color1, upper_color1)\n",
    "        mask_color2 = cv2.inRange(img_hsv, lower_color2, upper_color2)\n",
    "        img_mask_color = mask_color1 + mask_color2\n",
    "    \n",
    "    else:\n",
    "        exec(f\"lower_color = lower_{color}\")\n",
    "        exec(f\"upper_color = upper_{color}\")\n",
    "\n",
    "        img_mask_color = cv2.inRange(img_hsv, lower_color, upper_color) # 범위내의 픽셀들은 흰색, 나머지 검은색\n",
    "\n",
    "    kernel = cv2.getStructuringElement(cv2.MORPH_RECT, (3,3))\n",
    "    erosion_image_color = cv2.erode(img_mask_color, kernel, iterations=1)  #// make erosion image\n",
    "    img_mask_color = cv2.dilate(erosion_image_color, kernel, iterations=1)  #// make dilation image\n",
    "\n",
    "    # 바이너리 이미지를 마스크로 사용하여 원본이미지에서 범위값에 해당하는 영상부분을 획득\n",
    "    img_result_color = cv2.bitwise_and(img_color, img_color, mask = img_mask_color) \n",
    "\n",
    "    exec(f\"img_result_{color} = img_result_color\")\n",
    "        \n",
    "    _, src_bin = cv2.threshold(img_mask_color, 0, 255, cv2.THRESH_OTSU)\n",
    "    each_color_filtered = cv2.bitwise_and(img_color, img_color, mask = src_bin)\n",
    "    \n",
    "    # if color == 'violet':\n",
    "    #     cv2.imshow('src_bin', src_bin)\n",
    "    #     # cv2.imwrite('../imgs/red_mask.png', src_bin)\n",
    "    #     cv2.imshow(f'{color}_filtered', each_color_filtered)\n",
    "    #     # cv2.imwrite('../imgs/red_extract.png', each_color_filtered)\n",
    "    #     cv2.waitKey(0)\n",
    "    #     cv2.destroyAllWindows()\n",
    "\n",
    "    cnt, labels, stats, centroids = cv2.connectedComponentsWithStats(src_bin)\n",
    "\n",
    "    blocks_color = []\n",
    "    blocks_mask = []\n",
    "\n",
    "    for i in range(1, cnt): # 각각의 객체 정보에 들어가기 위해 반복문. 범위를 1부터 시작한 이유는 배경을 제외\n",
    "        (x, y, w, h, area) = stats[i]\n",
    "        cen_x, cen_y = map(int, centroids[i])\n",
    "        block_mask = (labels==i)*img_mask_color\n",
    "        block_color = cv2.bitwise_and(img_color, img_color, mask = block_mask)\n",
    "        \n",
    "        # 노이즈 제거\n",
    "        if area < 300:\n",
    "            continue\n",
    "        \n",
    "        # if color == 'violet':\n",
    "        #     cv2.imshow('blk clr', block_color)\n",
    "        #     # cv2.imwrite('../imgs/red_block2_color.png', block_color)\n",
    "        #     cv2.imshow('blk msk', block_mask)\n",
    "        #     # cv2.imwrite('../imgs/red_block2_mask.png', block_mask)\n",
    "        #     cv2.waitKey(0)\n",
    "        #     cv2.destroyAllWindows()\n",
    "            \n",
    "        \n",
    "        blocks_color.append(block_color)\n",
    "        blocks_mask.append(block_mask)\n",
    "        \n",
    "        \n",
    "    exec(f\"blocks_rgb_{color} = blocks_color\")\n",
    "    exec(f\"blocks_mask_{color} = blocks_mask\")\n",
    "    exec(f\"blocks_rgb_by_color.append(blocks_rgb_{color})\")\n",
    "    exec(f\"blocks_mask_by_color.append(blocks_mask_{color})\")\n",
    "    "
   ]
  },
  {
   "cell_type": "code",
   "execution_count": 10,
   "metadata": {},
   "outputs": [],
   "source": [
    "tower_mask = 0\n",
    "tower_color = 0\n",
    "for mask, color in zip(blocks_mask_by_color, blocks_rgb_by_color):\n",
    "    for block_m in mask:\n",
    "        tower_mask += block_m\n",
    "    \n",
    "    for block_c in color:\n",
    "        tower_color += block_c"
   ]
  },
  {
   "cell_type": "code",
   "execution_count": 11,
   "metadata": {},
   "outputs": [],
   "source": [
    "# cv2.imshow('tower mask', tower_mask)\n",
    "# # cv2.imwrite('../imgs/tower_mask.png', tower_mask)\n",
    "# cv2.imshow('tower color', tower_color)\n",
    "# # cv2.imwrite('../imgs/tower_color.png', tower_color)\n",
    "# cv2.waitKey(0)\n",
    "# cv2.destroyAllWindows()"
   ]
  },
  {
   "cell_type": "code",
   "execution_count": 12,
   "metadata": {},
   "outputs": [
    {
     "name": "stdout",
     "output_type": "stream",
     "text": [
      "green\n",
      "6 Blocks\n",
      "pink\n",
      "6 Blocks\n",
      "yellow\n",
      "6 Blocks\n",
      "blue\n",
      "6 Blocks\n",
      "violet\n",
      "6 Blocks\n",
      "red\n",
      "6 Blocks\n"
     ]
    }
   ],
   "source": [
    "for c, b, rgb_m in zip(colors, blocks_mask_by_color, blocks_rgb_by_color):\n",
    "    print(c)\n",
    "    print(len(b), \"Blocks\")"
   ]
  },
  {
   "attachments": {},
   "cell_type": "markdown",
   "metadata": {},
   "source": [
    "## Get PointCloud from RGB Image + Depth Image"
   ]
  },
  {
   "cell_type": "code",
   "execution_count": 13,
   "metadata": {},
   "outputs": [],
   "source": [
    "# temp intrinsic matrix\n",
    "intrinsic = o3d.camera.PinholeCameraIntrinsic()\n",
    "intrinsic.intrinsic_matrix = [[968.813, 0, 1023.83],\n",
    "                              [0, 968.635, 775.975],\n",
    "                              [0, 0, 1]]\n",
    "\n",
    "\n",
    "# extrinsic = np.array([[0.999987, 0.00512943, 0.000573447, -32.0559],\n",
    "#                      [-0.00516119, 0.994725, 0.102443, -1.91788],\n",
    "#                      [-4.49478e-05, -0.102445, 0.994739, 3.99916],\n",
    "#                      [0, 0, 0, 1]])\n",
    "# extrinsic"
   ]
  },
  {
   "cell_type": "code",
   "execution_count": 14,
   "metadata": {},
   "outputs": [],
   "source": [
    "mesh_frame = o3d.geometry.TriangleMesh.create_coordinate_frame(\n",
    "    size=50, origin=[0, 0, 0])\n",
    "mesh_frame_small = o3d.geometry.TriangleMesh.create_coordinate_frame(\n",
    "    size=0.1, origin=[0, 0, 0])"
   ]
  },
  {
   "cell_type": "code",
   "execution_count": 15,
   "metadata": {},
   "outputs": [],
   "source": [
    "def get_pointcloud_from_color_depth(color_image, depth_image, intrinsic):\n",
    "    o3d_img = o3d.geometry.Image()\n",
    "    \n",
    "    if isinstance(color_image, type(o3d_img)):\n",
    "        pass\n",
    "    elif isinstance(color_image, np.ndarray):\n",
    "        color_image = cv2.cvtColor(color_image, cv2.COLOR_BGR2RGB)\n",
    "        color_image = o3d.geometry.Image(color_image)\n",
    "        \n",
    "    if isinstance(depth_image, type(o3d_img)):\n",
    "        pass\n",
    "    elif isinstance(depth_image, np.ndarray):\n",
    "        depth_image = o3d.geometry.Image(depth_image)\n",
    "        \n",
    "    # rgbd_image = o3d.geometry.RGBDImage.create_from_color_and_depth(color_image, depth_image, depth_scale=1, depth_trunc=3000.0, convert_rgb_to_intensity=False)\n",
    "    rgbd_image = o3d.geometry.RGBDImage.create_from_color_and_depth(color_image, depth_image, convert_rgb_to_intensity=False)\n",
    "    # print(np.asarray(rgbd_image.depth).max())\n",
    "    pcd = o3d.geometry.PointCloud.create_from_rgbd_image(rgbd_image, intrinsic)\n",
    "    \n",
    "    return pcd"
   ]
  },
  {
   "cell_type": "code",
   "execution_count": 16,
   "metadata": {},
   "outputs": [],
   "source": [
    "masked_depth = cv2.bitwise_and(img_depth, img_depth, mask = tower_mask)"
   ]
  },
  {
   "cell_type": "code",
   "execution_count": 17,
   "metadata": {},
   "outputs": [],
   "source": [
    "tower_pcd = get_pointcloud_from_color_depth(color_image=tower_color, depth_image=masked_depth, intrinsic=intrinsic)\n"
   ]
  },
  {
   "cell_type": "code",
   "execution_count": 18,
   "metadata": {},
   "outputs": [
    {
     "name": "stdout",
     "output_type": "stream",
     "text": [
      "<class 'open3d.cpu.pybind.geometry.PointCloud'>\n"
     ]
    }
   ],
   "source": [
    "print(type(tower_pcd))"
   ]
  },
  {
   "cell_type": "code",
   "execution_count": 19,
   "metadata": {},
   "outputs": [
    {
     "name": "stdout",
     "output_type": "stream",
     "text": [
      "PointCloud with 269786 points.\n",
      "[[ 0.01713344 -0.11159441  0.23      ]\n",
      " [ 0.01737084 -0.11159441  0.23      ]\n",
      " [ 0.01760825 -0.11159441  0.23      ]\n",
      " ...\n",
      " [ 0.06503258  0.30194741  0.87300003]\n",
      " [ 0.06593369  0.30194741  0.87300003]\n",
      " [ 0.06683479  0.30194741  0.87300003]]\n"
     ]
    }
   ],
   "source": [
    "print(tower_pcd)\n",
    "print(np.asarray(tower_pcd.points))\n",
    "# o3d.visualization.draw_geometries([tower_pcd])"
   ]
  },
  {
   "cell_type": "code",
   "execution_count": 20,
   "metadata": {},
   "outputs": [
    {
     "name": "stdout",
     "output_type": "stream",
     "text": [
      "X min/max: -0.05306539164999172 0.19042678626746515\n",
      "Y min/max: -0.11450141345070337 0.3019474142753751\n",
      "Z min/max: 0.2150000035762787 0.8889999985694885\n"
     ]
    }
   ],
   "source": [
    "points = np.asarray(tower_pcd.points)\n",
    "\n",
    "print(\"X min/max:\", np.min(points[:, 0]), np.max(points[:, 0]))\n",
    "print(\"Y min/max:\", np.min(points[:, 1]), np.max(points[:, 1]))\n",
    "print(\"Z min/max:\", np.min(points[:, 2]), np.max(points[:, 2]))"
   ]
  },
  {
   "cell_type": "code",
   "execution_count": 21,
   "metadata": {},
   "outputs": [],
   "source": [
    "blocks_pcd_by_color = []\n",
    "all_pcd = []\n",
    "for color, block_mask in zip(colors, blocks_mask_by_color):\n",
    "    # print(color)\n",
    "    # if color != 'blue':\n",
    "    #     continue\n",
    "    blocks_pcd = []\n",
    "    for msk in block_mask:\n",
    "        masked_block_rgb = cv2.bitwise_and(tower_color, tower_color, mask = msk)\n",
    "        masked_block_depth = cv2.bitwise_and(img_depth, img_depth, mask = msk)\n",
    "        \n",
    "        # Get Each Block's PointCloud\n",
    "        pcd = get_pointcloud_from_color_depth(color_image=masked_block_rgb, depth_image=masked_block_depth, intrinsic=intrinsic)\n",
    "        \n",
    "        # Remove Outlier Points\n",
    "        pcd, _ = pcd.remove_radius_outlier(1024, 0.025)\n",
    "        blocks_pcd.append(pcd)\n",
    "        all_pcd.append(pcd)\n",
    "        \n",
    "        # if color=='blue':\n",
    "        #     o3d.visualization.draw_geometries([pcd])\n",
    "    \n",
    "    exec(f\"blocks_pcd_{color} = blocks_pcd\")\n",
    "    exec(f\"blocks_pcd_by_color.append(blocks_pcd_{color})\")"
   ]
  },
  {
   "cell_type": "code",
   "execution_count": 22,
   "metadata": {},
   "outputs": [
    {
     "name": "stdout",
     "output_type": "stream",
     "text": [
      "PointCloud with 269007 points.\n"
     ]
    }
   ],
   "source": [
    "pcd_combined = o3d.geometry.PointCloud()\n",
    "for point_id in range(len(all_pcd)):\n",
    "    pcd_combined += all_pcd[point_id]\n",
    "\n",
    "print(pcd_combined)\n",
    "# print(len(pcd_combined.points))"
   ]
  },
  {
   "cell_type": "code",
   "execution_count": 23,
   "metadata": {},
   "outputs": [
    {
     "name": "stdout",
     "output_type": "stream",
     "text": [
      "X min/max: -0.05306539164999172 0.06121221759472663\n",
      "Y min/max: -0.11450141345070337 0.07756784144283184\n",
      "Z min/max: 0.2150000035762787 0.3070000112056732\n"
     ]
    }
   ],
   "source": [
    "points = np.asarray(pcd_combined.points)\n",
    "\n",
    "print(\"X min/max:\", np.min(points[:, 0]), np.max(points[:, 0]))\n",
    "print(\"Y min/max:\", np.min(points[:, 1]), np.max(points[:, 1]))\n",
    "print(\"Z min/max:\", np.min(points[:, 2]), np.max(points[:, 2]))"
   ]
  },
  {
   "cell_type": "code",
   "execution_count": 24,
   "metadata": {},
   "outputs": [
    {
     "data": {
      "text/plain": [
       "0.1920692548935352"
      ]
     },
     "execution_count": 24,
     "metadata": {},
     "output_type": "execute_result"
    }
   ],
   "source": [
    "np.max(points[:, 1]) - np.min(points[:, 1])"
   ]
  },
  {
   "cell_type": "code",
   "execution_count": 25,
   "metadata": {},
   "outputs": [
    {
     "data": {
      "text/plain": [
       "6"
      ]
     },
     "execution_count": 25,
     "metadata": {},
     "output_type": "execute_result"
    }
   ],
   "source": [
    "len(blocks_pcd_by_color)"
   ]
  },
  {
   "attachments": {},
   "cell_type": "markdown",
   "metadata": {},
   "source": [
    "## Tower ICP"
   ]
  },
  {
   "cell_type": "code",
   "execution_count": 26,
   "metadata": {},
   "outputs": [],
   "source": [
    "\n",
    "# o3d.visualization.draw_geometries([pcd_combined, mesh_frame_small])\n",
    "\n",
    "# o3d.visualization.draw_geometries([pcd_combined, mesh_frame])"
   ]
  },
  {
   "cell_type": "code",
   "execution_count": 27,
   "metadata": {},
   "outputs": [
    {
     "name": "stdout",
     "output_type": "stream",
     "text": [
      "TriangleMesh with 12 points and 4 triangles.\n",
      "PointCloud with 269007 points.\n"
     ]
    }
   ],
   "source": [
    "mesh_tower = o3d.io.read_triangle_mesh(\"mesh/jenga_tower_side_xy_m.stl\")\n",
    "print(mesh_tower)\n",
    "\n",
    "mesh_tower.compute_vertex_normals()\n",
    "\n",
    "pcd_mesh = mesh_tower.sample_points_uniformly(number_of_points=len(pcd_combined.points))\n",
    "print(pcd_mesh)\n",
    "# o3d.visualization.draw_geometries([pcd_mesh, mesh_frame_small])"
   ]
  },
  {
   "cell_type": "code",
   "execution_count": 28,
   "metadata": {},
   "outputs": [
    {
     "name": "stdout",
     "output_type": "stream",
     "text": [
      "X min/max: -0.037499876242413945 0.03750000149011613\n",
      "Y min/max: -0.037499503736340464 0.037500001490116126\n",
      "Z min/max: 1.1553584262005073e-06 0.1799998958588043\n"
     ]
    }
   ],
   "source": [
    "points = np.asarray(pcd_mesh.points)\n",
    "\n",
    "print(\"X min/max:\", np.min(points[:, 0]), np.max(points[:, 0]))\n",
    "print(\"Y min/max:\", np.min(points[:, 1]), np.max(points[:, 1]))\n",
    "print(\"Z min/max:\", np.min(points[:, 2]), np.max(points[:, 2]))"
   ]
  },
  {
   "cell_type": "code",
   "execution_count": 29,
   "metadata": {},
   "outputs": [],
   "source": [
    "initial_transform = np.asarray([[0, 0, -1, 0],\n",
    "                                [-1, 0, 0, 0],\n",
    "                                [0, 1, 0, 0],\n",
    "                                [0, 0, 0, 1]])"
   ]
  },
  {
   "cell_type": "code",
   "execution_count": 30,
   "metadata": {},
   "outputs": [],
   "source": [
    "def prepare_icp(source, target):\n",
    "    source_tmp = copy.deepcopy(source)\n",
    "    target_tmp = copy.deepcopy(target)\n",
    "    \n",
    "    # make the point cloud into right position\n",
    "    source_tmp.transform(initial_transform)\n",
    "    \n",
    "    # move the source pcd to do icp\n",
    "    move = np.array(target_tmp.get_oriented_bounding_box().get_center() - source_tmp.get_oriented_bounding_box().get_center())\n",
    "\n",
    "    source_tmp.transform(np.linalg.inv(initial_transform))\n",
    "    \n",
    "    # o3d.visualization.draw_geometries([source_tmp, target_tmp, mesh_frame_small])\n",
    "    \n",
    "    return source_tmp, target_tmp, move"
   ]
  },
  {
   "cell_type": "code",
   "execution_count": 31,
   "metadata": {},
   "outputs": [],
   "source": [
    "source, target,  move = prepare_icp(pcd_combined, pcd_mesh)"
   ]
  },
  {
   "cell_type": "code",
   "execution_count": 32,
   "metadata": {},
   "outputs": [
    {
     "data": {
      "text/plain": [
       "array([0.27381929, 0.03400835, 0.10948166])"
      ]
     },
     "execution_count": 32,
     "metadata": {},
     "output_type": "execute_result"
    }
   ],
   "source": [
    "move"
   ]
  },
  {
   "cell_type": "code",
   "execution_count": 33,
   "metadata": {},
   "outputs": [],
   "source": [
    "def draw_registration_result(source, target, transformation):\n",
    "    source_temp = copy.deepcopy(source)\n",
    "    target_temp = copy.deepcopy(target)\n",
    "    # source_temp.paint_uniform_color([1, 0.706, 0])\n",
    "    # target_temp.paint_uniform_color([0, 0.651, 0.929])\n",
    "    source_temp.transform(transformation)\n",
    "    # o3d.visualization.draw_geometries([source_temp, target_temp, mesh_frame_small])"
   ]
  },
  {
   "cell_type": "code",
   "execution_count": 34,
   "metadata": {},
   "outputs": [],
   "source": [
    "threshold = 10\n",
    "trans_init = np.asarray([[0, 0, -1, move[0]],\n",
    "                         [-1, 0, 0, move[1]],\n",
    "                         [0, 1, 0, move[2]],\n",
    "                         [0, 0, 0, 1]])\n",
    "draw_registration_result(source, target, trans_init)"
   ]
  },
  {
   "cell_type": "code",
   "execution_count": 35,
   "metadata": {},
   "outputs": [
    {
     "name": "stdout",
     "output_type": "stream",
     "text": [
      "Initial alignment\n",
      "RegistrationResult with fitness=1.000000e+00, inlier_rmse=2.534115e-02, and correspondence_set size of 269007\n",
      "Access transformation to get result.\n"
     ]
    }
   ],
   "source": [
    "print(\"Initial alignment\")\n",
    "evaluation = o3d.pipelines.registration.evaluate_registration(\n",
    "    source, target, threshold, trans_init)\n",
    "print(evaluation)"
   ]
  },
  {
   "cell_type": "code",
   "execution_count": 36,
   "metadata": {},
   "outputs": [
    {
     "name": "stdout",
     "output_type": "stream",
     "text": [
      "RegistrationResult with fitness=1.000000e+00, inlier_rmse=2.540786e-03, and correspondence_set size of 269007\n",
      "Access transformation to get result.\n",
      "Transformation is:\n",
      "[[ 0.85974942 -0.01957145 -0.51034096  0.14073482]\n",
      " [-0.51014589  0.01429628 -0.85996906  0.24448925]\n",
      " [ 0.02412682  0.99970624  0.00230693  0.10646298]\n",
      " [ 0.          0.          0.          1.        ]]\n"
     ]
    }
   ],
   "source": [
    "reg_p2p = o3d.pipelines.registration.registration_icp(\n",
    "    source, target, threshold, trans_init,\n",
    "    o3d.pipelines.registration.TransformationEstimationPointToPoint(),\n",
    "    o3d.pipelines.registration.ICPConvergenceCriteria(max_iteration=2000))\n",
    "print(reg_p2p)\n",
    "print(\"Transformation is:\")\n",
    "print(reg_p2p.transformation)\n",
    "draw_registration_result(source, target, reg_p2p.transformation)"
   ]
  },
  {
   "cell_type": "code",
   "execution_count": 37,
   "metadata": {},
   "outputs": [],
   "source": [
    "draw_registration_result(source, target, reg_p2p.transformation)"
   ]
  },
  {
   "cell_type": "code",
   "execution_count": 38,
   "metadata": {},
   "outputs": [
    {
     "data": {
      "text/plain": [
       "PointCloud with 269007 points."
      ]
     },
     "execution_count": 38,
     "metadata": {},
     "output_type": "execute_result"
    }
   ],
   "source": [
    "source_temp = copy.deepcopy(source)\n",
    "\n",
    "source_temp.transform(reg_p2p.transformation)\n"
   ]
  },
  {
   "cell_type": "code",
   "execution_count": 39,
   "metadata": {},
   "outputs": [
    {
     "data": {
      "text/plain": [
       "-0.006931761966182906"
      ]
     },
     "execution_count": 39,
     "metadata": {},
     "output_type": "execute_result"
    }
   ],
   "source": [
    "(np.array(source_temp.points))[:,2].min()"
   ]
  },
  {
   "attachments": {},
   "cell_type": "markdown",
   "metadata": {},
   "source": [
    "## Blocks Transformation"
   ]
  },
  {
   "cell_type": "code",
   "execution_count": 40,
   "metadata": {},
   "outputs": [],
   "source": [
    "trans1 = reg_p2p.transformation"
   ]
  },
  {
   "cell_type": "code",
   "execution_count": 41,
   "metadata": {},
   "outputs": [],
   "source": [
    "trans = copy.deepcopy(reg_p2p.transformation)"
   ]
  },
  {
   "cell_type": "code",
   "execution_count": 42,
   "metadata": {},
   "outputs": [
    {
     "name": "stdout",
     "output_type": "stream",
     "text": [
      "[[ 0.85974942 -0.01957145 -0.51034096  0.14073482]\n",
      " [-0.51014589  0.01429628 -0.85996906  0.24448925]\n",
      " [ 0.02412682  0.99970624  0.00230693  0.10646298]\n",
      " [ 0.          0.          0.          1.        ]]\n",
      "[[ 0.85974942 -0.51014589  0.02412682  0.0011599 ]\n",
      " [-0.01957145  0.01429628  0.99970624 -0.10717261]\n",
      " [-0.51034096 -0.85996906  0.00230693  0.28183033]\n",
      " [ 0.          0.          0.          1.        ]]\n"
     ]
    }
   ],
   "source": [
    "print(trans)\n",
    "# trans[0,3]/=1000\n",
    "# trans[1,3]/=1000\n",
    "# trans[2,3]/=1000\n",
    "\n",
    "print(np.linalg.inv(trans))"
   ]
  },
  {
   "cell_type": "code",
   "execution_count": 43,
   "metadata": {},
   "outputs": [],
   "source": [
    "def transform_blocks(pcd, icp_transform):\n",
    "    pcd_temp = copy.deepcopy(pcd)\n",
    "    aa = o3d.cpu.pybind.utility.Vector3dVector(np.array(pcd_temp.points))\n",
    "    pcd_temp.points = aa\n",
    "    pcd_temp.transform(icp_transform)\n",
    "    \n",
    "    return pcd_temp"
   ]
  },
  {
   "cell_type": "code",
   "execution_count": 44,
   "metadata": {},
   "outputs": [],
   "source": [
    "# WHAT IS THE TARGET BLOCK?\n",
    "target_block_color = 'init'\n",
    "target_block_label = 1"
   ]
  },
  {
   "cell_type": "markdown",
   "metadata": {},
   "source": [
    "**처음 카메라 돌릴때 알아내야하는 것**\n",
    "1. MESH <-> CAMERA 변환 관계\n",
    "2. 각 블럭(or 색)의 초기 상태를 알면 됨\n",
    "\t* 어떤 방향으로 놓여있는지 (x or y)\n",
    "\t* 몇층에 놓여있는지 or z축 좌표"
   ]
  },
  {
   "cell_type": "code",
   "execution_count": 45,
   "metadata": {},
   "outputs": [],
   "source": [
    "def get_true_box_center_coordinates_xy(cen_x, cen_y):\n",
    "    if abs(cen_x) < 0.0125:\n",
    "        true_x = 0.0\n",
    "    elif cen_x > 0:\n",
    "        true_x = 0.025\n",
    "    else:\n",
    "        true_x = -0.025\n",
    "            \n",
    "    if abs(cen_y) < 0.0125:\n",
    "        true_y = 0.0\n",
    "    elif cen_y > 0:\n",
    "        true_y = 0.025\n",
    "    else:\n",
    "        true_y = -0.025\n",
    "    \n",
    "    return true_x, true_y"
   ]
  },
  {
   "cell_type": "code",
   "execution_count": 46,
   "metadata": {},
   "outputs": [],
   "source": [
    "tower_map = [[255 for _ in range(3)] for _ in range(12)]"
   ]
  },
  {
   "cell_type": "code",
   "execution_count": 47,
   "metadata": {},
   "outputs": [
    {
     "name": "stdout",
     "output_type": "stream",
     "text": [
      "green\n",
      "0\n",
      "BOX EXTENT :  [0.02756708 0.09235893 0.02066161]\n",
      "BOX CENTER COORDINATE :  [ 0.03044299 -0.00608222  0.00339904]\n",
      "FLOORS : 0\n",
      "true_z : 0.0075\n",
      "---------------------------------------------------------------\n",
      "X MEAN :  0.03044298551454855\n",
      "Y MEAN :  -0.00608222193298108\n",
      "Z MEAN :  0.0033990410495728166\n",
      "################ CASE 1 ################\n",
      "BLOCK DIRECTION : Y\n",
      "PULL DIRECTION : X\n",
      "-----BLOCK CENTER COORDINATE-----\n",
      "X : 0.03044298551454855\n",
      "Y : -0.00608222193298108\n",
      "Z : 0.0033990410495728166\n",
      "----------------------------------\n",
      "TRUE COORDINATES\n",
      "true_x : 0.025\n",
      "true_y : 0.0\n",
      "true_z : 0.0075\n",
      "1\n",
      "BOX EXTENT :  [0.02941264 0.08276584 0.01731159]\n",
      "BOX CENTER COORDINATE :  [ 0.02683558 -0.00550638  0.03528263]\n",
      "FLOORS : 2\n",
      "true_z : 0.0375\n",
      "---------------------------------------------------------------\n",
      "X MEAN :  0.026835581894395923\n",
      "Y MEAN :  -0.0055063788441988\n",
      "Z MEAN :  0.035282626627104706\n",
      "################ CASE 1 ################\n",
      "BLOCK DIRECTION : Y\n",
      "PULL DIRECTION : X\n",
      "-----BLOCK CENTER COORDINATE-----\n",
      "X : 0.026835581894395923\n",
      "Y : -0.0055063788441988\n",
      "Z : 0.035282626627104706\n",
      "----------------------------------\n",
      "TRUE COORDINATES\n",
      "true_x : 0.025\n",
      "true_y : 0.0\n",
      "true_z : 0.0375\n",
      "2\n",
      "BOX EXTENT :  [0.0310566  0.07961698 0.01845013]\n",
      "BOX CENTER COORDINATE :  [ 0.02754742 -0.00253378  0.06788273]\n",
      "FLOORS : 4\n",
      "true_z : 0.0675\n",
      "---------------------------------------------------------------\n",
      "X MEAN :  0.027547421106007157\n",
      "Y MEAN :  -0.002533784414031237\n",
      "Z MEAN :  0.06788272966527684\n",
      "################ CASE 1 ################\n",
      "BLOCK DIRECTION : Y\n",
      "PULL DIRECTION : X\n",
      "-----BLOCK CENTER COORDINATE-----\n",
      "X : 0.027547421106007157\n",
      "Y : -0.002533784414031237\n",
      "Z : 0.06788272966527684\n",
      "----------------------------------\n",
      "TRUE COORDINATES\n",
      "true_x : 0.025\n",
      "true_y : 0.0\n",
      "true_z : 0.0675\n",
      "3\n",
      "BOX EXTENT :  [0.03825467 0.08423681 0.01619832]\n",
      "BOX CENTER COORDINATE :  [ 0.02856324 -0.00452811  0.10029682]\n",
      "FLOORS : 6\n",
      "true_z : 0.0975\n",
      "---------------------------------------------------------------\n",
      "X MEAN :  0.02856324061174953\n",
      "Y MEAN :  -0.0045281064834970935\n",
      "Z MEAN :  0.10029682306005262\n",
      "################ CASE 1 ################\n",
      "BLOCK DIRECTION : Y\n",
      "PULL DIRECTION : X\n",
      "-----BLOCK CENTER COORDINATE-----\n",
      "X : 0.02856324061174953\n",
      "Y : -0.0045281064834970935\n",
      "Z : 0.10029682306005262\n",
      "----------------------------------\n",
      "TRUE COORDINATES\n",
      "true_x : 0.025\n",
      "true_y : 0.0\n",
      "true_z : 0.0975\n",
      "4\n",
      "BOX EXTENT :  [0.03917954 0.07852602 0.01695611]\n",
      "BOX CENTER COORDINATE :  [ 0.02932474 -0.00080923  0.13240189]\n",
      "FLOORS : 8\n",
      "true_z : 0.1275\n",
      "---------------------------------------------------------------\n",
      "X MEAN :  0.02932473938041741\n",
      "Y MEAN :  -0.0008092279533080948\n",
      "Z MEAN :  0.1324018870793323\n",
      "################ CASE 1 ################\n",
      "BLOCK DIRECTION : Y\n",
      "PULL DIRECTION : X\n",
      "-----BLOCK CENTER COORDINATE-----\n",
      "X : 0.02932473938041741\n",
      "Y : -0.0008092279533080948\n",
      "Z : 0.1324018870793323\n",
      "----------------------------------\n",
      "TRUE COORDINATES\n",
      "true_x : 0.025\n",
      "true_y : 0.0\n",
      "true_z : 0.1275\n",
      "5\n",
      "BOX EXTENT :  [0.03612715 0.08145387 0.01721464]\n",
      "BOX CENTER COORDINATE :  [0.03100688 0.00079732 0.16398021]\n",
      "FLOORS : 10\n",
      "true_z : 0.1575\n",
      "---------------------------------------------------------------\n",
      "X MEAN :  0.031006875076766943\n",
      "Y MEAN :  0.0007973166331422393\n",
      "Z MEAN :  0.16398020655520248\n",
      "################ CASE 1 ################\n",
      "BLOCK DIRECTION : Y\n",
      "PULL DIRECTION : X\n",
      "-----BLOCK CENTER COORDINATE-----\n",
      "X : 0.031006875076766943\n",
      "Y : 0.0007973166331422393\n",
      "Z : 0.16398020655520248\n",
      "----------------------------------\n",
      "TRUE COORDINATES\n",
      "true_x : 0.025\n",
      "true_y : 0.0\n",
      "true_z : 0.1575\n",
      "pink\n",
      "0\n",
      "BOX EXTENT :  [0.00507499 0.03480321 0.01687503]\n",
      "BOX CENTER COORDINATE :  [ 0.03931351 -0.03290264  0.02037426]\n",
      "FLOORS : 1\n",
      "true_z : 0.0225\n",
      "---------------------------------------------------------------\n",
      "X MEAN :  0.03931350729891653\n",
      "Y MEAN :  -0.03290263515707481\n",
      "Z MEAN :  0.020374260899673993\n",
      "################ CASE 6 ################\n",
      "BLOCK DIRECTION : X\n",
      "PULL DIRECTION : -Y\n",
      "-----BLOCK CENTER COORDINATE-----\n",
      "X : 0.0018135072989165293\n",
      "Y : -0.03290263515707481\n",
      "Z : 0.020374260899673993\n",
      "----------------------------------\n",
      "TRUE COORDINATES\n",
      "true_x : 0.0\n",
      "true_y : -0.025\n",
      "true_z : 0.0225\n",
      "1\n",
      "BOX EXTENT :  [0.00681901 0.02977914 0.01935609]\n",
      "BOX CENTER COORDINATE :  [ 0.04107017 -0.02765644  0.05217977]\n",
      "FLOORS : 3\n",
      "true_z : 0.0525\n",
      "---------------------------------------------------------------\n",
      "X MEAN :  0.041070167208590275\n",
      "Y MEAN :  -0.027656444629664545\n",
      "Z MEAN :  0.052179770709261775\n",
      "################ CASE 6 ################\n",
      "BLOCK DIRECTION : X\n",
      "PULL DIRECTION : -Y\n",
      "-----BLOCK CENTER COORDINATE-----\n",
      "X : 0.003570167208590276\n",
      "Y : -0.027656444629664545\n",
      "Z : 0.052179770709261775\n",
      "----------------------------------\n",
      "TRUE COORDINATES\n",
      "true_x : 0.0\n",
      "true_y : -0.025\n",
      "true_z : 0.0525\n",
      "2\n",
      "BOX EXTENT :  [0.00709215 0.02488431 0.01597213]\n",
      "BOX CENTER COORDINATE :  [ 0.03818239 -0.0342133   0.08441142]\n",
      "FLOORS : 5\n",
      "true_z : 0.08249999999999999\n",
      "---------------------------------------------------------------\n",
      "X MEAN :  0.038182392780286394\n",
      "Y MEAN :  -0.03421329899889658\n",
      "Z MEAN :  0.0844114188084573\n",
      "################ CASE 6 ################\n",
      "BLOCK DIRECTION : X\n",
      "PULL DIRECTION : -Y\n",
      "-----BLOCK CENTER COORDINATE-----\n",
      "X : 0.0006823927802863949\n",
      "Y : -0.03421329899889658\n",
      "Z : 0.0844114188084573\n",
      "----------------------------------\n",
      "TRUE COORDINATES\n",
      "true_x : 0.0\n",
      "true_y : -0.025\n",
      "true_z : 0.08249999999999999\n",
      "3\n",
      "BOX EXTENT :  [0.00911385 0.01751252 0.01567478]\n",
      "BOX CENTER COORDINATE :  [ 0.03989911 -0.03112701  0.11727531]\n",
      "FLOORS : 7\n",
      "true_z : 0.11249999999999999\n",
      "---------------------------------------------------------------\n",
      "X MEAN :  0.03989910762392532\n",
      "Y MEAN :  -0.03112701258168371\n",
      "Z MEAN :  0.11727531350080031\n",
      "################ CASE 6 ################\n",
      "BLOCK DIRECTION : X\n",
      "PULL DIRECTION : -Y\n",
      "-----BLOCK CENTER COORDINATE-----\n",
      "X : 0.0023991076239253187\n",
      "Y : -0.03112701258168371\n",
      "Z : 0.11727531350080031\n",
      "----------------------------------\n",
      "TRUE COORDINATES\n",
      "true_x : 0.0\n",
      "true_y : -0.025\n",
      "true_z : 0.11249999999999999\n",
      "4\n",
      "BOX EXTENT :  [0.01025258 0.02359076 0.01774797]\n",
      "BOX CENTER COORDINATE :  [ 0.04074672 -0.02895624  0.14937124]\n",
      "FLOORS : 9\n",
      "true_z : 0.14250000000000002\n",
      "---------------------------------------------------------------\n",
      "X MEAN :  0.04074671903771219\n",
      "Y MEAN :  -0.028956242977402707\n",
      "Z MEAN :  0.14937124153320158\n",
      "################ CASE 6 ################\n",
      "BLOCK DIRECTION : X\n",
      "PULL DIRECTION : -Y\n",
      "-----BLOCK CENTER COORDINATE-----\n",
      "X : 0.0032467190377121896\n",
      "Y : -0.028956242977402707\n",
      "Z : 0.14937124153320158\n",
      "----------------------------------\n",
      "TRUE COORDINATES\n",
      "true_x : 0.0\n",
      "true_y : -0.025\n",
      "true_z : 0.14250000000000002\n",
      "5\n",
      "BOX EXTENT :  [0.01035835 0.03074983 0.01295544]\n",
      "BOX CENTER COORDINATE :  [ 0.04581656 -0.01821123  0.17770556]\n",
      "FLOORS : 11\n",
      "true_z : 0.1725\n",
      "---------------------------------------------------------------\n",
      "X MEAN :  0.04581656238686954\n",
      "Y MEAN :  -0.018211227301748817\n",
      "Z MEAN :  0.1777055626151322\n",
      "################ CASE 6 ################\n",
      "BLOCK DIRECTION : X\n",
      "PULL DIRECTION : -Y\n",
      "-----BLOCK CENTER COORDINATE-----\n",
      "X : 0.008316562386869543\n",
      "Y : -0.018211227301748817\n",
      "Z : 0.1777055626151322\n",
      "----------------------------------\n",
      "TRUE COORDINATES\n",
      "true_x : 0.0\n",
      "true_y : -0.025\n",
      "true_z : 0.1725\n",
      "yellow\n",
      "0\n",
      "BOX EXTENT :  [0.02680758 0.00460691 0.01650797]\n",
      "BOX CENTER COORDINATE :  [-0.02261542  0.03988788  0.00376525]\n",
      "FLOORS : 0\n",
      "true_z : 0.0075\n",
      "---------------------------------------------------------------\n",
      "X MEAN :  -0.022615415823833987\n",
      "Y MEAN :  0.03988787589067774\n",
      "Z MEAN :  0.0037652512937330143\n",
      "################ CASE 5 ################\n",
      "BLOCK DIRECTION : Y\n",
      "PULL DIRECTION : -X\n",
      "-----BLOCK CENTER COORDINATE-----\n",
      "X : -0.022615415823833987\n",
      "Y : 0.0023878758906777445\n",
      "Z : 0.0037652512937330143\n",
      "----------------------------------\n",
      "TRUE COORDINATES\n",
      "true_x : -0.025\n",
      "true_y : 0.0\n",
      "true_z : 0.0075\n",
      "1\n",
      "BOX EXTENT :  [0.0273004  0.00501453 0.01606377]\n",
      "BOX CENTER COORDINATE :  [-0.02661779  0.03995503  0.03559512]\n",
      "FLOORS : 2\n",
      "true_z : 0.0375\n",
      "---------------------------------------------------------------\n",
      "X MEAN :  -0.02661778506997936\n",
      "Y MEAN :  0.039955025150376855\n",
      "Z MEAN :  0.03559512287686023\n",
      "################ CASE 5 ################\n",
      "BLOCK DIRECTION : Y\n",
      "PULL DIRECTION : -X\n",
      "-----BLOCK CENTER COORDINATE-----\n",
      "X : -0.02661778506997936\n",
      "Y : 0.0024550251503768564\n",
      "Z : 0.03559512287686023\n",
      "----------------------------------\n",
      "TRUE COORDINATES\n",
      "true_x : -0.025\n",
      "true_y : 0.0\n",
      "true_z : 0.0375\n",
      "2\n",
      "BOX EXTENT :  [0.02702396 0.00601347 0.01546332]\n",
      "BOX CENTER COORDINATE :  [-0.0264978   0.03942432  0.06763837]\n",
      "FLOORS : 4\n",
      "true_z : 0.0675\n",
      "---------------------------------------------------------------\n",
      "X MEAN :  -0.026497803931882336\n",
      "Y MEAN :  0.03942431630131964\n",
      "Z MEAN :  0.06763836549679433\n",
      "################ CASE 5 ################\n",
      "BLOCK DIRECTION : Y\n",
      "PULL DIRECTION : -X\n",
      "-----BLOCK CENTER COORDINATE-----\n",
      "X : -0.026497803931882336\n",
      "Y : 0.0019243163013196382\n",
      "Z : 0.06763836549679433\n",
      "----------------------------------\n",
      "TRUE COORDINATES\n",
      "true_x : -0.025\n",
      "true_y : 0.0\n",
      "true_z : 0.0675\n",
      "3\n",
      "BOX EXTENT :  [0.02730262 0.0077198  0.01512623]\n",
      "BOX CENTER COORDINATE :  [-0.02870617  0.03914086  0.09905468]\n",
      "FLOORS : 6\n",
      "true_z : 0.0975\n",
      "---------------------------------------------------------------\n",
      "X MEAN :  -0.028706173080061834\n",
      "Y MEAN :  0.03914086107160336\n",
      "Z MEAN :  0.099054681917762\n",
      "################ CASE 5 ################\n",
      "BLOCK DIRECTION : Y\n",
      "PULL DIRECTION : -X\n",
      "-----BLOCK CENTER COORDINATE-----\n",
      "X : -0.028706173080061834\n",
      "Y : 0.0016408610716033625\n",
      "Z : 0.099054681917762\n",
      "----------------------------------\n",
      "TRUE COORDINATES\n",
      "true_x : -0.025\n",
      "true_y : 0.0\n",
      "true_z : 0.0975\n",
      "4\n",
      "BOX EXTENT :  [0.02617123 0.00797571 0.01526307]\n",
      "BOX CENTER COORDINATE :  [-0.02787392  0.03834889  0.13027546]\n",
      "FLOORS : 8\n",
      "true_z : 0.1275\n",
      "---------------------------------------------------------------\n",
      "X MEAN :  -0.027873923246847718\n",
      "Y MEAN :  0.03834888559130552\n",
      "Z MEAN :  0.1302754615971981\n",
      "################ CASE 5 ################\n",
      "BLOCK DIRECTION : Y\n",
      "PULL DIRECTION : -X\n",
      "-----BLOCK CENTER COORDINATE-----\n",
      "X : -0.027873923246847718\n",
      "Y : 0.000848885591305519\n",
      "Z : 0.1302754615971981\n",
      "----------------------------------\n",
      "TRUE COORDINATES\n",
      "true_x : -0.025\n",
      "true_y : 0.0\n",
      "true_z : 0.1275\n",
      "5\n",
      "BOX EXTENT :  [0.02662965 0.00666055 0.01647872]\n",
      "BOX CENTER COORDINATE :  [-0.0242245   0.03702326  0.16141236]\n",
      "FLOORS : 10\n",
      "true_z : 0.1575\n",
      "---------------------------------------------------------------\n",
      "X MEAN :  -0.024224498406315506\n",
      "Y MEAN :  0.037023263959025346\n",
      "Z MEAN :  0.16141235893837785\n",
      "################ CASE 5 ################\n",
      "BLOCK DIRECTION : Y\n",
      "PULL DIRECTION : -X\n",
      "-----BLOCK CENTER COORDINATE-----\n",
      "X : -0.024224498406315506\n",
      "Y : -0.00047673604097465266\n",
      "Z : 0.16141235893837785\n",
      "----------------------------------\n",
      "TRUE COORDINATES\n",
      "true_x : -0.025\n",
      "true_y : 0.0\n",
      "true_z : 0.1575\n",
      "blue\n",
      "0\n",
      "BOX EXTENT :  [0.00407763 0.02427725 0.01551494]\n",
      "BOX CENTER COORDINATE :  [ 0.03957394 -0.00376729  0.02066377]\n",
      "FLOORS : 1\n",
      "true_z : 0.0225\n",
      "---------------------------------------------------------------\n",
      "X MEAN :  0.039573937725265025\n",
      "Y MEAN :  -0.0037672874051252747\n",
      "Z MEAN :  0.020663765796891692\n",
      "################ CASE 4 ################\n",
      "BLOCK DIRECTION : X\n",
      "PUSH DIRECTION : X or -X\n",
      "-----BLOCK CENTER COORDINATE-----\n",
      "X : 0.0020739377252650265\n",
      "Y : -0.0037672874051252747\n",
      "Z : 0.020663765796891692\n",
      "----------------------------------\n",
      "TRUE COORDINATES\n",
      "true_x : 0.0\n",
      "true_y : 0.0\n",
      "true_z : 0.0225\n",
      "1\n",
      "BOX EXTENT :  [0.00517218 0.02377619 0.01680425]\n",
      "BOX CENTER COORDINATE :  [ 0.03837816 -0.00537868  0.05198111]\n",
      "FLOORS : 3\n",
      "true_z : 0.0525\n",
      "---------------------------------------------------------------\n",
      "X MEAN :  0.03837815630132571\n",
      "Y MEAN :  -0.005378677095102785\n",
      "Z MEAN :  0.05198111189446587\n",
      "################ CASE 4 ################\n",
      "BLOCK DIRECTION : X\n",
      "PUSH DIRECTION : X or -X\n",
      "-----BLOCK CENTER COORDINATE-----\n",
      "X : 0.0008781563013257124\n",
      "Y : -0.005378677095102785\n",
      "Z : 0.05198111189446587\n",
      "----------------------------------\n",
      "TRUE COORDINATES\n",
      "true_x : 0.0\n",
      "true_y : 0.0\n",
      "true_z : 0.0525\n",
      "2\n",
      "BOX EXTENT :  [0.00474163 0.02737732 0.01516985]\n",
      "BOX CENTER COORDINATE :  [ 0.03578601 -0.00994706  0.08448603]\n",
      "FLOORS : 5\n",
      "true_z : 0.08249999999999999\n",
      "---------------------------------------------------------------\n",
      "X MEAN :  0.03578600693261655\n",
      "Y MEAN :  -0.009947060911671232\n",
      "Z MEAN :  0.0844860289677616\n",
      "################ CASE 4 ################\n",
      "BLOCK DIRECTION : X\n",
      "PUSH DIRECTION : X or -X\n",
      "-----BLOCK CENTER COORDINATE-----\n",
      "X : -0.00171399306738345\n",
      "Y : -0.009947060911671232\n",
      "Z : 0.0844860289677616\n",
      "----------------------------------\n",
      "TRUE COORDINATES\n",
      "true_x : 0.0\n",
      "true_y : 0.0\n",
      "true_z : 0.08249999999999999\n",
      "3\n",
      "BOX EXTENT :  [0.00572357 0.03404982 0.01654467]\n",
      "BOX CENTER COORDINATE :  [ 0.03643831 -0.00753686  0.11668615]\n",
      "FLOORS : 7\n",
      "true_z : 0.11249999999999999\n",
      "---------------------------------------------------------------\n",
      "X MEAN :  0.03643830529208601\n",
      "Y MEAN :  -0.0075368553197742855\n",
      "Z MEAN :  0.11668615436097249\n",
      "################ CASE 4 ################\n",
      "BLOCK DIRECTION : X\n",
      "PUSH DIRECTION : X or -X\n",
      "-----BLOCK CENTER COORDINATE-----\n",
      "X : -0.0010616947079139863\n",
      "Y : -0.0075368553197742855\n",
      "Z : 0.11668615436097249\n",
      "----------------------------------\n",
      "TRUE COORDINATES\n",
      "true_x : 0.0\n",
      "true_y : 0.0\n",
      "true_z : 0.11249999999999999\n",
      "4\n",
      "BOX EXTENT :  [0.0062371  0.03366586 0.01725914]\n",
      "BOX CENTER COORDINATE :  [ 0.03644609 -0.00756207  0.14928269]\n",
      "FLOORS : 9\n",
      "true_z : 0.14250000000000002\n",
      "---------------------------------------------------------------\n",
      "X MEAN :  0.03644608736435388\n",
      "Y MEAN :  -0.007562070218587361\n",
      "Z MEAN :  0.14928269068008798\n",
      "################ CASE 4 ################\n",
      "BLOCK DIRECTION : X\n",
      "PUSH DIRECTION : X or -X\n",
      "-----BLOCK CENTER COORDINATE-----\n",
      "X : -0.0010539126356461162\n",
      "Y : -0.007562070218587361\n",
      "Z : 0.14928269068008798\n",
      "----------------------------------\n",
      "TRUE COORDINATES\n",
      "true_x : 0.0\n",
      "true_y : 0.0\n",
      "true_z : 0.14250000000000002\n",
      "5\n",
      "BOX EXTENT :  [0.01083136 0.0390764  0.01316447]\n",
      "BOX CENTER COORDINATE :  [0.04469434 0.00465004 0.17738272]\n",
      "FLOORS : 11\n",
      "true_z : 0.1725\n",
      "---------------------------------------------------------------\n",
      "X MEAN :  0.04469434370483225\n",
      "Y MEAN :  0.004650041357250487\n",
      "Z MEAN :  0.1773827228770304\n",
      "################ CASE 4 ################\n",
      "BLOCK DIRECTION : X\n",
      "PUSH DIRECTION : X or -X\n",
      "-----BLOCK CENTER COORDINATE-----\n",
      "X : 0.007194343704832254\n",
      "Y : 0.004650041357250487\n",
      "Z : 0.1773827228770304\n",
      "----------------------------------\n",
      "TRUE COORDINATES\n",
      "true_x : 0.0\n",
      "true_y : 0.0\n",
      "true_z : 0.1725\n",
      "violet\n",
      "0\n",
      "BOX EXTENT :  [0.02621292 0.00434996 0.01514234]\n",
      "BOX CENTER COORDINATE :  [0.00419749 0.03923918 0.00503606]\n",
      "FLOORS : 0\n",
      "true_z : 0.0075\n",
      "---------------------------------------------------------------\n",
      "X MEAN :  0.004197486496738623\n",
      "Y MEAN :  0.039239178341707245\n",
      "Z MEAN :  0.005036064395334876\n",
      "################ CASE 3 ################\n",
      "BLOCK DIRECTION : Y\n",
      "PUSH DIRECTION : Y or -Y\n",
      "-----BLOCK CENTER COORDINATE-----\n",
      "X : 0.004197486496738623\n",
      "Y : 0.0017391783417072468\n",
      "Z : 0.005036064395334876\n",
      "----------------------------------\n",
      "TRUE COORDINATES\n",
      "true_x : 0.0\n",
      "true_y : 0.0\n",
      "true_z : 0.0075\n",
      "1\n",
      "BOX EXTENT :  [0.02550158 0.00474837 0.01540341]\n",
      "BOX CENTER COORDINATE :  [-0.00051564  0.03642891  0.03617061]\n",
      "FLOORS : 2\n",
      "true_z : 0.0375\n",
      "---------------------------------------------------------------\n",
      "X MEAN :  -0.0005156376572985621\n",
      "Y MEAN :  0.03642891358848624\n",
      "Z MEAN :  0.03617061020647258\n",
      "################ CASE 3 ################\n",
      "BLOCK DIRECTION : Y\n",
      "PUSH DIRECTION : Y or -Y\n",
      "-----BLOCK CENTER COORDINATE-----\n",
      "X : -0.0005156376572985621\n",
      "Y : -0.0010710864115137594\n",
      "Z : 0.03617061020647258\n",
      "----------------------------------\n",
      "TRUE COORDINATES\n",
      "true_x : 0.0\n",
      "true_y : 0.0\n",
      "true_z : 0.0375\n",
      "2\n",
      "BOX EXTENT :  [0.02678928 0.00441943 0.01500706]\n",
      "BOX CENTER COORDINATE :  [-0.00114347  0.03722403  0.06810358]\n",
      "FLOORS : 4\n",
      "true_z : 0.0675\n",
      "---------------------------------------------------------------\n",
      "X MEAN :  -0.0011434747062819273\n",
      "Y MEAN :  0.037224031573206404\n",
      "Z MEAN :  0.06810358165456998\n",
      "################ CASE 3 ################\n",
      "BLOCK DIRECTION : Y\n",
      "PUSH DIRECTION : Y or -Y\n",
      "-----BLOCK CENTER COORDINATE-----\n",
      "X : -0.0011434747062819273\n",
      "Y : -0.00027596842679359496\n",
      "Z : 0.06810358165456998\n",
      "----------------------------------\n",
      "TRUE COORDINATES\n",
      "true_x : 0.0\n",
      "true_y : 0.0\n",
      "true_z : 0.0675\n",
      "3\n",
      "BOX EXTENT :  [0.0264064  0.0069509  0.01536943]\n",
      "BOX CENTER COORDINATE :  [-0.00242344  0.03778126  0.09939724]\n",
      "FLOORS : 6\n",
      "true_z : 0.0975\n",
      "---------------------------------------------------------------\n",
      "X MEAN :  -0.002423437570209727\n",
      "Y MEAN :  0.03778125974918366\n",
      "Z MEAN :  0.09939724448005019\n",
      "################ CASE 3 ################\n",
      "BLOCK DIRECTION : Y\n",
      "PUSH DIRECTION : Y or -Y\n",
      "-----BLOCK CENTER COORDINATE-----\n",
      "X : -0.002423437570209727\n",
      "Y : 0.00028125974918365854\n",
      "Z : 0.09939724448005019\n",
      "----------------------------------\n",
      "TRUE COORDINATES\n",
      "true_x : 0.0\n",
      "true_y : 0.0\n",
      "true_z : 0.0975\n",
      "4\n",
      "BOX EXTENT :  [0.02639047 0.00625779 0.01584161]\n",
      "BOX CENTER COORDINATE :  [-0.00240721  0.03650373  0.13109824]\n",
      "FLOORS : 8\n",
      "true_z : 0.1275\n",
      "---------------------------------------------------------------\n",
      "X MEAN :  -0.002407207806030695\n",
      "Y MEAN :  0.03650372823428839\n",
      "Z MEAN :  0.13109824233604417\n",
      "################ CASE 3 ################\n",
      "BLOCK DIRECTION : Y\n",
      "PUSH DIRECTION : Y or -Y\n",
      "-----BLOCK CENTER COORDINATE-----\n",
      "X : -0.002407207806030695\n",
      "Y : -0.0009962717657116052\n",
      "Z : 0.13109824233604417\n",
      "----------------------------------\n",
      "TRUE COORDINATES\n",
      "true_x : 0.0\n",
      "true_y : 0.0\n",
      "true_z : 0.1275\n",
      "5\n",
      "BOX EXTENT :  [0.02707664 0.00915668 0.01595686]\n",
      "BOX CENTER COORDINATE :  [-3.45093157e-05  3.64923928e-02  1.62239551e-01]\n",
      "FLOORS : 10\n",
      "true_z : 0.1575\n",
      "---------------------------------------------------------------\n",
      "X MEAN :  -3.4509315665495754e-05\n",
      "Y MEAN :  0.03649239276726768\n",
      "Z MEAN :  0.16223955065044493\n",
      "################ CASE 3 ################\n",
      "BLOCK DIRECTION : Y\n",
      "PUSH DIRECTION : Y or -Y\n",
      "-----BLOCK CENTER COORDINATE-----\n",
      "X : -3.4509315665495754e-05\n",
      "Y : -0.0010076072327323202\n",
      "Z : 0.16223955065044493\n",
      "----------------------------------\n",
      "TRUE COORDINATES\n",
      "true_x : 0.0\n",
      "true_y : 0.0\n",
      "true_z : 0.1575\n",
      "red\n",
      "0\n",
      "BOX EXTENT :  [0.07836319 0.03812839 0.01862791]\n",
      "BOX CENTER COORDINATE :  [0.00185807 0.02307683 0.02074334]\n",
      "FLOORS : 1\n",
      "true_z : 0.0225\n",
      "---------------------------------------------------------------\n",
      "X MEAN :  0.001858068998994683\n",
      "Y MEAN :  0.023076833967976357\n",
      "Z MEAN :  0.020743340131679992\n",
      "################ CASE 2 ################\n",
      "BLOCK DIRECTION : X\n",
      "PULL DIRECTION : Y\n",
      "-----BLOCK CENTER COORDINATE-----\n",
      "X : 0.001858068998994683\n",
      "Y : 0.023076833967976357\n",
      "Z : 0.020743340131679992\n",
      "----------------------------------\n",
      "TRUE COORDINATES\n",
      "true_x : 0.0\n",
      "true_y : 0.025\n",
      "true_z : 0.0225\n",
      "1\n",
      "BOX EXTENT :  [0.0791731  0.03851679 0.01921747]\n",
      "BOX CENTER COORDINATE :  [-0.00037364  0.02504377  0.05141947]\n",
      "FLOORS : 3\n",
      "true_z : 0.0525\n",
      "---------------------------------------------------------------\n",
      "X MEAN :  -0.0003736426383381883\n",
      "Y MEAN :  0.025043770638241813\n",
      "Z MEAN :  0.051419465172653195\n",
      "################ CASE 2 ################\n",
      "BLOCK DIRECTION : X\n",
      "PULL DIRECTION : Y\n",
      "-----BLOCK CENTER COORDINATE-----\n",
      "X : -0.0003736426383381883\n",
      "Y : 0.025043770638241813\n",
      "Z : 0.051419465172653195\n",
      "----------------------------------\n",
      "TRUE COORDINATES\n",
      "true_x : 0.0\n",
      "true_y : 0.025\n",
      "true_z : 0.0525\n",
      "2\n",
      "BOX EXTENT :  [0.07860634 0.0408076  0.01772016]\n",
      "BOX CENTER COORDINATE :  [-0.00198145  0.02133537  0.08340918]\n",
      "FLOORS : 5\n",
      "true_z : 0.08249999999999999\n",
      "---------------------------------------------------------------\n",
      "X MEAN :  -0.0019814508265237896\n",
      "Y MEAN :  0.02133537210231501\n",
      "Z MEAN :  0.08340917629925577\n",
      "################ CASE 2 ################\n",
      "BLOCK DIRECTION : X\n",
      "PULL DIRECTION : Y\n",
      "-----BLOCK CENTER COORDINATE-----\n",
      "X : -0.0019814508265237896\n",
      "Y : 0.02133537210231501\n",
      "Z : 0.08340917629925577\n",
      "----------------------------------\n",
      "TRUE COORDINATES\n",
      "true_x : 0.0\n",
      "true_y : 0.025\n",
      "true_z : 0.08249999999999999\n",
      "3\n",
      "BOX EXTENT :  [0.07907762 0.03719765 0.01782056]\n",
      "BOX CENTER COORDINATE :  [-0.00223126  0.0225371   0.1158586 ]\n",
      "FLOORS : 7\n",
      "true_z : 0.11249999999999999\n",
      "---------------------------------------------------------------\n",
      "X MEAN :  -0.0022312574581090164\n",
      "Y MEAN :  0.02253710239087113\n",
      "Z MEAN :  0.11585859650256936\n",
      "################ CASE 2 ################\n",
      "BLOCK DIRECTION : X\n",
      "PULL DIRECTION : Y\n",
      "-----BLOCK CENTER COORDINATE-----\n",
      "X : -0.0022312574581090164\n",
      "Y : 0.02253710239087113\n",
      "Z : 0.11585859650256936\n",
      "----------------------------------\n",
      "TRUE COORDINATES\n",
      "true_x : 0.0\n",
      "true_y : 0.025\n",
      "true_z : 0.11249999999999999\n",
      "4\n",
      "BOX EXTENT :  [0.0772352  0.04221835 0.02050961]\n",
      "BOX CENTER COORDINATE :  [-0.00066356  0.02242373  0.14765029]\n",
      "FLOORS : 9\n",
      "true_z : 0.14250000000000002\n",
      "---------------------------------------------------------------\n",
      "X MEAN :  -0.0006635561993295208\n",
      "Y MEAN :  0.02242372931231866\n",
      "Z MEAN :  0.1476502911065477\n",
      "################ CASE 2 ################\n",
      "BLOCK DIRECTION : X\n",
      "PULL DIRECTION : Y\n",
      "-----BLOCK CENTER COORDINATE-----\n",
      "X : -0.0006635561993295208\n",
      "Y : 0.02242372931231866\n",
      "Z : 0.1476502911065477\n",
      "----------------------------------\n",
      "TRUE COORDINATES\n",
      "true_x : 0.0\n",
      "true_y : 0.025\n",
      "true_z : 0.14250000000000002\n",
      "5\n",
      "BOX EXTENT :  [0.08520777 0.0430066  0.01544971]\n",
      "BOX CENTER COORDINATE :  [0.00445442 0.03339494 0.17683704]\n",
      "FLOORS : 11\n",
      "true_z : 0.1725\n",
      "---------------------------------------------------------------\n",
      "X MEAN :  0.004454421204821521\n",
      "Y MEAN :  0.03339493508455563\n",
      "Z MEAN :  0.17683703560183647\n",
      "################ CASE 2 ################\n",
      "BLOCK DIRECTION : X\n",
      "PULL DIRECTION : Y\n",
      "-----BLOCK CENTER COORDINATE-----\n",
      "X : 0.004454421204821521\n",
      "Y : 0.03339493508455563\n",
      "Z : 0.17683703560183647\n",
      "----------------------------------\n",
      "TRUE COORDINATES\n",
      "true_x : 0.0\n",
      "true_y : 0.025\n",
      "true_z : 0.1725\n"
     ]
    }
   ],
   "source": [
    "for i, (col, pcds) in enumerate(zip(colors, blocks_pcd_by_color)):\n",
    "    if target_block_color == 'init':\n",
    "        pass\n",
    "    elif col != target_block_color:\n",
    "        continue\n",
    "    print(col)\n",
    "    \n",
    "    for idx, pcd in enumerate(pcds):\n",
    "        if target_block_color == 'init':\n",
    "            pass\n",
    "        elif idx != target_block_label:\n",
    "            continue\n",
    "        \n",
    "        # print(\"--------------------------------\")\n",
    "        print(idx)\n",
    "\n",
    "        new_trans = copy.deepcopy(trans)\n",
    "\n",
    "        pcd_new = transform_blocks(pcd, new_trans)\n",
    "        \n",
    "        box_extent = pcd_new.get_axis_aligned_bounding_box().get_extent()\n",
    "        print(\"BOX EXTENT : \", box_extent)\n",
    "        \n",
    "        center_coordinate = np.array(pcd_new.get_axis_aligned_bounding_box().get_box_points()).mean(axis=0)\n",
    "        \n",
    "        # print(np.array(pcd_new.get_axis_aligned_bounding_box().get_box_points()))\n",
    "        print(\"BOX CENTER COORDINATE : \", center_coordinate)\n",
    "        \n",
    "        floors = int(center_coordinate[2] // 0.015)\n",
    "        print(\"FLOORS :\", floors)\n",
    "        \n",
    "        # print(mok, nameoji)\n",
    "        true_z = floors * 0.015 + 0.0075\n",
    "        print(\"true_z :\", true_z)\n",
    "        \n",
    "        # print(\"BOX MAX X,Y and MEAN Z Coordinate\")\n",
    "        print(\"---------------------------------------------------------------\")\n",
    "        \n",
    "        x_mean = np.array(pcd_new.get_axis_aligned_bounding_box().get_box_points())[:,0].mean()\n",
    "        y_mean = np.array(pcd_new.get_axis_aligned_bounding_box().get_box_points())[:,1].mean()\n",
    "        z_mean = np.array(pcd_new.get_axis_aligned_bounding_box().get_box_points())[:,2].mean()\n",
    "        print(\"X MEAN : \", x_mean)\n",
    "        print(\"Y MEAN : \", y_mean)\n",
    "        print(\"Z MEAN : \", z_mean)\n",
    "        \n",
    "        if box_extent[1] > 0.070:\n",
    "            print(\"################ CASE 1 ################\")\n",
    "            print(\"BLOCK DIRECTION : Y\")\n",
    "            print(\"PULL DIRECTION : X\")\n",
    "            vector = np.array([-1, 0, 0])\n",
    "            print(\"-----BLOCK CENTER COORDINATE-----\")\n",
    "            cen_x = x_mean #- 25/2\n",
    "            cen_y = y_mean #- 75/2\n",
    "            cen_z = z_mean\n",
    "            print(\"X :\", cen_x)\n",
    "            print(\"Y :\", cen_y)\n",
    "            print(\"Z :\", cen_z)\n",
    "            pt1 = o3d.cpu.pybind.utility.Vector3dVector(np.array([[cen_x, cen_y, z_mean], [cen_x - 0.00001, cen_y - 0.00001, cen_z - 0.00001], [cen_x + 0.00001, cen_y + 0.00001, cen_z + 0.00001]]))\n",
    "            tower_map[floors][0] = i\n",
    "            true_x, true_y = get_true_box_center_coordinates_xy(cen_x, cen_y)\n",
    "            floor_dir = (floors%2, 'X')\n",
    "            print(\"----------------------------------\")\n",
    "            \n",
    "        elif box_extent[0] > 0.070:\n",
    "            print(\"################ CASE 2 ################\")\n",
    "            print(\"BLOCK DIRECTION : X\")\n",
    "            print(\"PULL DIRECTION : Y\")\n",
    "            vector = np.array([0, -1, 0])\n",
    "            print(\"-----BLOCK CENTER COORDINATE-----\")\n",
    "            cen_x = x_mean# - 75/2\n",
    "            cen_y = y_mean# - 25/2\n",
    "            cen_z = z_mean\n",
    "            print(\"X :\", cen_x)\n",
    "            print(\"Y :\", cen_y)\n",
    "            print(\"Z :\", cen_z)\n",
    "            pt1 = o3d.cpu.pybind.utility.Vector3dVector(np.array([[cen_x, cen_y, z_mean], [cen_x - 0.00001, cen_y - 0.00001, cen_z - 0.00001], [cen_x + 0.00001, cen_y + 0.00001, cen_z + 0.00001]]))\n",
    "            tower_map[floors][0] = i\n",
    "            true_x, true_y = get_true_box_center_coordinates_xy(cen_x, cen_y)\n",
    "            print(\"----------------------------------\")\n",
    "            \n",
    "        elif abs(center_coordinate[0]) < 0.010 and box_extent [1] < 0.015:\n",
    "            print(\"################ CASE 3 ################\")\n",
    "            print(\"BLOCK DIRECTION : Y\")\n",
    "            print(\"PUSH DIRECTION : Y or -Y\")\n",
    "            vector = np.array([0, -1, 0])\n",
    "            print(\"-----BLOCK CENTER COORDINATE-----\")\n",
    "            cen_x = x_mean# - 25/2\n",
    "            cen_y = y_mean - 0.075/2\n",
    "            cen_z = z_mean\n",
    "            print(\"X :\", cen_x)\n",
    "            print(\"Y :\", cen_y)\n",
    "            print(\"Z :\", cen_z)\n",
    "            pt1 = o3d.cpu.pybind.utility.Vector3dVector(np.array([[cen_x, cen_y, z_mean], [cen_x - 0.00001, cen_y - 0.00001, cen_z - 0.00001], [cen_x + 0.00001, cen_y + 0.00001, cen_z + 0.00001]]))\n",
    "            tower_map[floors][1] = i\n",
    "            true_x, true_y = get_true_box_center_coordinates_xy(cen_x, cen_y)\n",
    "            print(\"----------------------------------\")\n",
    "            \n",
    "        elif abs(center_coordinate[1]) < 0.010 and box_extent [0] < 0.015:\n",
    "            print(\"################ CASE 4 ################\")\n",
    "            print(\"BLOCK DIRECTION : X\")\n",
    "            print(\"PUSH DIRECTION : X or -X\")\n",
    "            vector = np.array([-1, 0, 0])\n",
    "            print(\"-----BLOCK CENTER COORDINATE-----\")\n",
    "            cen_x = x_mean - 0.075/2\n",
    "            cen_y = y_mean# - 25/2\n",
    "            cen_z = z_mean\n",
    "            print(\"X :\", cen_x)\n",
    "            print(\"Y :\", cen_y)\n",
    "            print(\"Z :\", cen_z)\n",
    "            pt1 = o3d.cpu.pybind.utility.Vector3dVector(np.array([[cen_x, cen_y, z_mean], [cen_x - 0.00001, cen_y - 0.00001, cen_z - 0.00001], [cen_x + 0.00001, cen_y + 0.00001, cen_z + 0.00001]]))\n",
    "            tower_map[floors][1] = i\n",
    "            true_x, true_y = get_true_box_center_coordinates_xy(cen_x, cen_y)\n",
    "            print(\"----------------------------------\")\n",
    "            \n",
    "        elif box_extent[1] < 0.015:\n",
    "            print(\"################ CASE 5 ################\")\n",
    "            print(\"BLOCK DIRECTION : Y\")\n",
    "            print(\"PULL DIRECTION : -X\")\n",
    "            vector = np.array([1, 0, 0])\n",
    "            print(\"-----BLOCK CENTER COORDINATE-----\")\n",
    "            cen_x = x_mean# - 25/2\n",
    "            cen_y = y_mean - 0.075/2\n",
    "            cen_z = z_mean\n",
    "            print(\"X :\", cen_x)\n",
    "            print(\"Y :\", cen_y)\n",
    "            print(\"Z :\", cen_z)\n",
    "            pt1 = o3d.cpu.pybind.utility.Vector3dVector(np.array([[cen_x, cen_y, z_mean], [cen_x - 0.00001, cen_y - 0.00001, cen_z - 0.00001], [cen_x + 0.00001, cen_y + 0.00001, cen_z + 0.00001]]))\n",
    "            tower_map[floors][2] = i\n",
    "            true_x, true_y = get_true_box_center_coordinates_xy(cen_x, cen_y)\n",
    "            print(\"----------------------------------\")\n",
    "            \n",
    "        elif box_extent[0] < 0.015:\n",
    "            print(\"################ CASE 6 ################\")\n",
    "            print(\"BLOCK DIRECTION : X\")\n",
    "            print(\"PULL DIRECTION : -Y\")\n",
    "            vector = np.array([0, 1, 0])\n",
    "            print(\"-----BLOCK CENTER COORDINATE-----\")\n",
    "            cen_x = x_mean - 0.075/2\n",
    "            cen_y = y_mean# - 25/2\n",
    "            cen_z = z_mean\n",
    "            print(\"X :\", cen_x)\n",
    "            print(\"Y :\", cen_y)\n",
    "            print(\"Z :\", cen_z)\n",
    "            pt1 = o3d.cpu.pybind.utility.Vector3dVector(np.array([[cen_x, cen_y, z_mean], [cen_x - 0.00001, cen_y - 0.00001, cen_z - 0.00001], [cen_x + 0.00001, cen_y + 0.00001, cen_z + 0.00001]]))\n",
    "            tower_map[floors][2] = i\n",
    "            true_x, true_y = get_true_box_center_coordinates_xy(cen_x, cen_y)\n",
    "            print(\"----------------------------------\")\n",
    "            \n",
    "        else:\n",
    "            print(\"NOTHING\")\n",
    "            \n",
    "        if abs(cen_x) < 0.0125:\n",
    "            true_x = 0.0\n",
    "        elif cen_x > 0:\n",
    "            true_x = 0.025\n",
    "        else:\n",
    "            true_x = -0.025\n",
    "            \n",
    "        if abs(cen_y) < 0.0125:\n",
    "            true_y = 0.0\n",
    "        elif cen_y > 0:\n",
    "            true_y = 0.025\n",
    "        else:\n",
    "            true_y = -0.025\n",
    "        \n",
    "        print(\"TRUE COORDINATES\")\n",
    "        print(\"true_x :\", true_x)\n",
    "        print(\"true_y :\", true_y)\n",
    "        print(\"true_z :\", true_z)\n",
    "        \n",
    "        pt2 = o3d.cpu.pybind.utility.Vector3dVector(np.array([[true_x, true_y, true_z], [true_x - 0.00001, true_y - 0.00001, true_z - 0.00001], [true_x + 0.00001, true_y + 0.00001, true_z + 0.00001]]))\n",
    "            \n",
    "        mesh_COORD = o3d.geometry.TriangleMesh.create_coordinate_frame(size=10, origin=center_coordinate)\n",
    "        ptc1 = o3d.geometry.PointCloud()\n",
    "        ptc1.points = pt1\n",
    "        ptc1.paint_uniform_color([1, 0, 0])\n",
    "        ptc2 = o3d.geometry.PointCloud()\n",
    "        ptc2.points = pt2\n",
    "        ptc2.paint_uniform_color([0, 0, 1])\n",
    "        line = o3d.geometry.LineSet.create_from_point_cloud_correspondences(ptc1, ptc2, [(0,0)])\n",
    "        # o3d.visualization.draw_geometries([pcd_new, source_temp, mesh_frame_small, ptc1, ptc2, line])"
   ]
  },
  {
   "cell_type": "code",
   "execution_count": 48,
   "metadata": {},
   "outputs": [
    {
     "name": "stdout",
     "output_type": "stream",
     "text": [
      "TriangleMesh with 12 points and 4 triangles.\n",
      "PointCloud with 269007 points.\n"
     ]
    }
   ],
   "source": [
    "mesh_block_x = o3d.io.read_triangle_mesh(\"mesh/single_block_y_m.stl\")\n",
    "print(mesh_tower)\n",
    "\n",
    "mesh_tower.compute_vertex_normals()\n",
    "\n",
    "pcd_mesh = mesh_tower.sample_points_uniformly(number_of_points=len(pcd_combined.points))\n",
    "print(pcd_mesh)"
   ]
  },
  {
   "cell_type": "code",
   "execution_count": 49,
   "metadata": {},
   "outputs": [
    {
     "data": {
      "text/plain": [
       "[[0, 4, 2],\n",
       " [5, 3, 1],\n",
       " [0, 4, 2],\n",
       " [5, 3, 1],\n",
       " [0, 4, 2],\n",
       " [5, 3, 1],\n",
       " [0, 4, 2],\n",
       " [5, 3, 1],\n",
       " [0, 4, 2],\n",
       " [5, 3, 1],\n",
       " [0, 4, 2],\n",
       " [5, 3, 1]]"
      ]
     },
     "execution_count": 49,
     "metadata": {},
     "output_type": "execute_result"
    }
   ],
   "source": [
    "tower_map"
   ]
  },
  {
   "cell_type": "markdown",
   "metadata": {},
   "source": [
    "* 숫자(index) 형태로 색 전달\n",
    "    * 2d list 전달해야하는데 그 형태로 전달하는거보다 2d int array를 Image 형태로 바꾸고 msg로 전달하는게 편할듯 함\n",
    "    * msg 받는 쪽에서도 Image 형태로 받은 후 np.array 형태로 변환, list 처럼 사용"
   ]
  },
  {
   "cell_type": "markdown",
   "metadata": {},
   "source": [
    "cv2_to_imgmsg"
   ]
  },
  {
   "cell_type": "markdown",
   "metadata": {},
   "source": [
    "sensor_msgs/Image"
   ]
  },
  {
   "cell_type": "code",
   "execution_count": 50,
   "metadata": {},
   "outputs": [],
   "source": [
    "tower_map = np.array(tower_map).astype('uint8')"
   ]
  },
  {
   "cell_type": "code",
   "execution_count": 51,
   "metadata": {},
   "outputs": [
    {
     "data": {
      "text/plain": [
       "(12, 3)"
      ]
     },
     "execution_count": 51,
     "metadata": {},
     "output_type": "execute_result"
    }
   ],
   "source": [
    "tower_map.shape"
   ]
  },
  {
   "cell_type": "code",
   "execution_count": 52,
   "metadata": {},
   "outputs": [],
   "source": [
    "cv2.imshow('tower map', tower_map)\n",
    "\n",
    "cv2.waitKey(0)\n",
    "cv2.destroyAllWindows()"
   ]
  },
  {
   "cell_type": "code",
   "execution_count": null,
   "metadata": {},
   "outputs": [],
   "source": []
  }
 ],
 "metadata": {
  "kernelspec": {
   "display_name": "urp",
   "language": "python",
   "name": "python3"
  },
  "language_info": {
   "codemirror_mode": {
    "name": "ipython",
    "version": 3
   },
   "file_extension": ".py",
   "mimetype": "text/x-python",
   "name": "python",
   "nbconvert_exporter": "python",
   "pygments_lexer": "ipython3",
   "version": "3.8.10"
  },
  "orig_nbformat": 4
 },
 "nbformat": 4,
 "nbformat_minor": 2
}
