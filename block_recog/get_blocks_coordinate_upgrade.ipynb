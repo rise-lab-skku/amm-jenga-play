{
 "cells": [
  {
   "attachments": {},
   "cell_type": "markdown",
   "metadata": {},
   "source": [
    "# Blcok Recognition"
   ]
  },
  {
   "attachments": {},
   "cell_type": "markdown",
   "metadata": {},
   "source": [
    "## Import Libraries"
   ]
  },
  {
   "cell_type": "code",
   "execution_count": 1,
   "metadata": {},
   "outputs": [
    {
     "name": "stdout",
     "output_type": "stream",
     "text": [
      "Jupyter environment detected. Enabling Open3D WebVisualizer.\n",
      "[Open3D INFO] WebRTC GUI backend enabled.\n",
      "[Open3D INFO] WebRTCWindowSystem: HTTP handshake server disabled.\n"
     ]
    }
   ],
   "source": [
    "import numpy as np\n",
    "import cv2\n",
    "import glob\n",
    "from matplotlib import pyplot as plt\n",
    "import open3d as o3d\n",
    "import copy\n",
    "import pickle"
   ]
  },
  {
   "cell_type": "code",
   "execution_count": 2,
   "metadata": {},
   "outputs": [],
   "source": [
    "with open('./test_imgs/dep.p', 'rb') as dep:\n",
    "    d = pickle.load(dep, encoding=\"16UC1\")"
   ]
  },
  {
   "cell_type": "code",
   "execution_count": 3,
   "metadata": {},
   "outputs": [],
   "source": [
    "with open('./test_imgs/rgb.p', 'rb') as rgb:\n",
    "    r = pickle.load(rgb)\n"
   ]
  },
  {
   "cell_type": "code",
   "execution_count": 4,
   "metadata": {},
   "outputs": [
    {
     "data": {
      "text/plain": [
       "915"
      ]
     },
     "execution_count": 4,
     "metadata": {},
     "output_type": "execute_result"
    }
   ],
   "source": [
    "d.max()"
   ]
  },
  {
   "attachments": {},
   "cell_type": "markdown",
   "metadata": {},
   "source": [
    "## Read Test Images"
   ]
  },
  {
   "cell_type": "code",
   "execution_count": 5,
   "metadata": {},
   "outputs": [
    {
     "name": "stdout",
     "output_type": "stream",
     "text": [
      "color shape:  (1536, 2048, 3)\n",
      "depth shape:  (1536, 2048)\n"
     ]
    }
   ],
   "source": [
    "# 로봇이 촬영할 때 카메라가 거꾸로 있다고 가정\n",
    "img_color = cv2.rotate(r, cv2.ROTATE_180) \n",
    "img_depth = cv2.rotate(d, cv2.ROTATE_180) \n",
    "print('color shape: ', img_color.shape)\n",
    "print('depth shape: ', img_depth.shape)\n",
    "\n",
    "# cv2.imshow(f'color', img_color)\n",
    "# # # cv2.imwrite('../imgs/red_extract.png', each_color_filtered)\n",
    "# cv2.waitKey(0)\n",
    "# cv2.destroyAllWindows()"
   ]
  },
  {
   "attachments": {},
   "cell_type": "markdown",
   "metadata": {},
   "source": [
    "## Extract Blocks' Masks By Colors"
   ]
  },
  {
   "cell_type": "code",
   "execution_count": 6,
   "metadata": {},
   "outputs": [],
   "source": [
    "height, width = img_color.shape[:2] # 이미지의 높이와 너비 불러옴, 가로 [0], 세로[1]\n",
    "\n",
    "img_hsv = cv2.cvtColor(img_color, cv2.COLOR_BGR2HSV) # cvtColor 함수를 이용하여 hsv 색공간으로 변환"
   ]
  },
  {
   "cell_type": "code",
   "execution_count": 7,
   "metadata": {},
   "outputs": [],
   "source": [
    "colors = ['green', 'pink', 'yellow', 'blue', 'violet', 'red']"
   ]
  },
  {
   "cell_type": "code",
   "execution_count": 8,
   "metadata": {},
   "outputs": [],
   "source": [
    "# RED\n",
    "lower_red1 = np.array([0, 130, 50])\n",
    "upper_red1 = np.array([15, 255, 255])\n",
    "lower_red2 = np.array([160,130,50])\n",
    "upper_red2 = np.array([179,255,255])\n",
    "\n",
    "# PINK\n",
    "lower_pink1 = np.array([0, 55, 80])\n",
    "upper_pink1 = np.array([10, 130, 255])\n",
    "lower_pink2 = np.array([150,55,80])\n",
    "upper_pink2 = np.array([179,130,255])\n",
    "\n",
    "# GREEN\n",
    "lower_green = (70-20, 50, 50)\n",
    "upper_green = (70+15, 255, 255)\n",
    "\n",
    "# YELLOW\n",
    "lower_yellow = (30-10, 80, 80)\n",
    "upper_yellow = (30+10, 255, 255)\n",
    "\n",
    "# BLUE\n",
    "lower_blue = (100-10, 100, 100)\n",
    "upper_blue = (100+9, 255, 255)\n",
    "\n",
    "# VIOLET\n",
    "lower_violet = (130-20, 60, 60)\n",
    "upper_violet = (130+20, 255, 255)"
   ]
  },
  {
   "cell_type": "code",
   "execution_count": 9,
   "metadata": {},
   "outputs": [],
   "source": [
    "blocks_rgb_by_color = []\n",
    "blocks_mask_by_color = []\n",
    "for color in colors:\n",
    "    if color == 'pink' or color =='red':\n",
    "        for i in (1,2):\n",
    "            exec(f\"lower_color{i} = lower_{color}{i}\")\n",
    "            exec(f\"upper_color{i} = upper_{color}{i}\")\n",
    "\n",
    "        mask_color1 = cv2.inRange(img_hsv, lower_color1, upper_color1)\n",
    "        mask_color2 = cv2.inRange(img_hsv, lower_color2, upper_color2)\n",
    "        img_mask_color = mask_color1 + mask_color2\n",
    "        \n",
    "        # Denoise by Erosion and Dilation\n",
    "        kernel = cv2.getStructuringElement(cv2.MORPH_RECT, (3,3))\n",
    "        erosion_image_color = cv2.erode(img_mask_color, kernel, iterations=2)  #// make erosion image\n",
    "        img_mask_color = cv2.dilate(erosion_image_color, kernel, iterations=2)  #// make dilation image\n",
    "\n",
    "        # 바이너리 이미지를 마스크로 사용하여 원본이미지에서 범위값에 해당하는 영상부분을 획득\n",
    "        img_result_color = cv2.bitwise_and(img_color, img_color, mask = img_mask_color) \n",
    "        \n",
    "        exec(f\"img_result_{color} = img_result_color\")\n",
    "    \n",
    "    else:\n",
    "        exec(f\"lower_color = lower_{color}\")\n",
    "        exec(f\"upper_color = upper_{color}\")\n",
    "\n",
    "        img_mask_color = cv2.inRange(img_hsv, lower_color, upper_color) # 범위내의 픽셀들은 흰색, 나머지 검은색\n",
    "\n",
    "        kernel = cv2.getStructuringElement(cv2.MORPH_RECT, (3,3))\n",
    "        erosion_image_color = cv2.erode(img_mask_color, kernel, iterations=1)  #// make erosion image\n",
    "        img_mask_color = cv2.dilate(erosion_image_color, kernel, iterations=1)  #// make dilation image\n",
    "\n",
    "        # 바이너리 이미지를 마스크로 사용하여 원본이미지에서 범위값에 해당하는 영상부분을 획득\n",
    "        img_result_color = cv2.bitwise_and(img_color, img_color, mask = img_mask_color) \n",
    "\n",
    "        exec(f\"img_result_{color} = img_result_color\")\n",
    "        \n",
    "    _, src_bin = cv2.threshold(img_mask_color, 0, 255, cv2.THRESH_OTSU)\n",
    "    each_color_filtered = cv2.bitwise_and(img_color, img_color, mask = src_bin)\n",
    "    \n",
    "    # if color == 'violet':\n",
    "    #     cv2.imshow('src_bin', src_bin)\n",
    "    #     # cv2.imwrite('../imgs/red_mask.png', src_bin)\n",
    "    #     cv2.imshow(f'{color}_filtered', each_color_filtered)\n",
    "    #     # cv2.imwrite('../imgs/red_extract.png', each_color_filtered)\n",
    "    #     cv2.waitKey(0)\n",
    "    #     cv2.destroyAllWindows()\n",
    "\n",
    "    cnt, labels, stats, centroids = cv2.connectedComponentsWithStats(src_bin)\n",
    "\n",
    "    blocks_color = []\n",
    "    blocks_mask = []\n",
    "\n",
    "    for i in range(1, cnt): # 각각의 객체 정보에 들어가기 위해 반복문. 범위를 1부터 시작한 이유는 배경을 제외\n",
    "        (x, y, w, h, area) = stats[i]\n",
    "        cen_x, cen_y = map(int, centroids[i])\n",
    "        block_mask = (labels==i)*img_mask_color\n",
    "        block_color = cv2.bitwise_and(img_color, img_color, mask = block_mask)\n",
    "        \n",
    "        # 노이즈 제거\n",
    "        if area < 300:\n",
    "            continue\n",
    "        \n",
    "        # if color == 'violet':\n",
    "        #     cv2.imshow('blk clr', block_color)\n",
    "        #     # cv2.imwrite('../imgs/red_block2_color.png', block_color)\n",
    "        #     cv2.imshow('blk msk', block_mask)\n",
    "        #     # cv2.imwrite('../imgs/red_block2_mask.png', block_mask)\n",
    "        #     cv2.waitKey(0)\n",
    "        #     cv2.destroyAllWindows()\n",
    "            \n",
    "        \n",
    "        blocks_color.append(block_color)\n",
    "        blocks_mask.append(block_mask)\n",
    "        \n",
    "        \n",
    "    exec(f\"blocks_rgb_{color} = blocks_color\")\n",
    "    exec(f\"blocks_mask_{color} = blocks_mask\")\n",
    "    exec(f\"blocks_rgb_by_color.append(blocks_rgb_{color})\")\n",
    "    exec(f\"blocks_mask_by_color.append(blocks_mask_{color})\")\n",
    "    "
   ]
  },
  {
   "cell_type": "code",
   "execution_count": 10,
   "metadata": {},
   "outputs": [],
   "source": [
    "tower_mask = 0\n",
    "tower_color = 0\n",
    "for mask, color in zip(blocks_mask_by_color, blocks_rgb_by_color):\n",
    "    for block_m in mask:\n",
    "        tower_mask += block_m\n",
    "    \n",
    "    for block_c in color:\n",
    "        tower_color += block_c"
   ]
  },
  {
   "cell_type": "code",
   "execution_count": 11,
   "metadata": {},
   "outputs": [],
   "source": [
    "# cv2.imshow('tower mask', tower_mask)\n",
    "# # cv2.imwrite('../imgs/tower_mask.png', tower_mask)\n",
    "# cv2.imshow('tower color', tower_color)\n",
    "# # cv2.imwrite('../imgs/tower_color.png', tower_color)\n",
    "# cv2.waitKey(0)\n",
    "# cv2.destroyAllWindows()"
   ]
  },
  {
   "cell_type": "code",
   "execution_count": 12,
   "metadata": {},
   "outputs": [
    {
     "name": "stdout",
     "output_type": "stream",
     "text": [
      "green\n",
      "6 Blocks\n",
      "pink\n",
      "6 Blocks\n",
      "yellow\n",
      "6 Blocks\n",
      "blue\n",
      "6 Blocks\n",
      "violet\n",
      "6 Blocks\n",
      "red\n",
      "6 Blocks\n"
     ]
    }
   ],
   "source": [
    "for c, b, rgb_m in zip(colors, blocks_mask_by_color, blocks_rgb_by_color):\n",
    "    print(c)\n",
    "    print(len(b), \"Blocks\")"
   ]
  },
  {
   "attachments": {},
   "cell_type": "markdown",
   "metadata": {},
   "source": [
    "## Get PointCloud from RGB Image + Depth Image"
   ]
  },
  {
   "cell_type": "code",
   "execution_count": 13,
   "metadata": {},
   "outputs": [],
   "source": [
    "# temp intrinsic matrix\n",
    "intrinsic = o3d.camera.PinholeCameraIntrinsic()\n",
    "intrinsic.intrinsic_matrix = [[968.813, 0, 1023.83],\n",
    "                              [0, 968.635, 775.975],\n",
    "                              [0, 0, 1]]\n",
    "\n",
    "\n",
    "# extrinsic = np.array([[0.999987, 0.00512943, 0.000573447, -32.0559],\n",
    "#                      [-0.00516119, 0.994725, 0.102443, -1.91788],\n",
    "#                      [-4.49478e-05, -0.102445, 0.994739, 3.99916],\n",
    "#                      [0, 0, 0, 1]])\n",
    "# extrinsic"
   ]
  },
  {
   "cell_type": "code",
   "execution_count": 14,
   "metadata": {},
   "outputs": [],
   "source": [
    "mesh_frame = o3d.geometry.TriangleMesh.create_coordinate_frame(\n",
    "    size=50, origin=[0, 0, 0])\n",
    "mesh_frame_small = o3d.geometry.TriangleMesh.create_coordinate_frame(\n",
    "    size=0.1, origin=[0, 0, 0])"
   ]
  },
  {
   "cell_type": "code",
   "execution_count": 15,
   "metadata": {},
   "outputs": [],
   "source": [
    "def get_pointcloud_from_color_depth(color_image, depth_image, intrinsic):\n",
    "    o3d_img = o3d.geometry.Image()\n",
    "    \n",
    "    if isinstance(color_image, type(o3d_img)):\n",
    "        pass\n",
    "    elif isinstance(color_image, np.ndarray):\n",
    "        color_image = cv2.cvtColor(color_image, cv2.COLOR_BGR2RGB)\n",
    "        color_image = o3d.geometry.Image(color_image)\n",
    "        \n",
    "    if isinstance(depth_image, type(o3d_img)):\n",
    "        pass\n",
    "    elif isinstance(depth_image, np.ndarray):\n",
    "        depth_image = o3d.geometry.Image(depth_image)\n",
    "        \n",
    "    # rgbd_image = o3d.geometry.RGBDImage.create_from_color_and_depth(color_image, depth_image, depth_scale=1, depth_trunc=3000.0, convert_rgb_to_intensity=False)\n",
    "    rgbd_image = o3d.geometry.RGBDImage.create_from_color_and_depth(color_image, depth_image, convert_rgb_to_intensity=False)\n",
    "    # print(np.asarray(rgbd_image.depth).max())\n",
    "    pcd = o3d.geometry.PointCloud.create_from_rgbd_image(rgbd_image, intrinsic)\n",
    "    \n",
    "    return pcd"
   ]
  },
  {
   "cell_type": "code",
   "execution_count": 16,
   "metadata": {},
   "outputs": [],
   "source": [
    "masked_depth = cv2.bitwise_and(img_depth, img_depth, mask = tower_mask)"
   ]
  },
  {
   "cell_type": "code",
   "execution_count": 17,
   "metadata": {},
   "outputs": [],
   "source": [
    "tower_pcd = get_pointcloud_from_color_depth(color_image=tower_color, depth_image=masked_depth, intrinsic=intrinsic)\n"
   ]
  },
  {
   "cell_type": "code",
   "execution_count": 18,
   "metadata": {},
   "outputs": [
    {
     "name": "stdout",
     "output_type": "stream",
     "text": [
      "<class 'open3d.cpu.pybind.geometry.PointCloud'>\n"
     ]
    }
   ],
   "source": [
    "print(type(tower_pcd))"
   ]
  },
  {
   "cell_type": "code",
   "execution_count": 19,
   "metadata": {},
   "outputs": [
    {
     "name": "stdout",
     "output_type": "stream",
     "text": [
      "PointCloud with 269656 points.\n",
      "[[ 0.01713344 -0.11159441  0.23      ]\n",
      " [ 0.01737084 -0.11159441  0.23      ]\n",
      " [ 0.01760825 -0.11159441  0.23      ]\n",
      " ...\n",
      " [ 0.0172053   0.07448564  0.21600001]\n",
      " [ 0.01742826  0.07448564  0.21600001]\n",
      " [ 0.01756949  0.0741408   0.215     ]]\n"
     ]
    }
   ],
   "source": [
    "print(tower_pcd)\n",
    "print(np.asarray(tower_pcd.points))\n",
    "o3d.visualization.draw_geometries([tower_pcd])"
   ]
  },
  {
   "cell_type": "code",
   "execution_count": 20,
   "metadata": {},
   "outputs": [
    {
     "name": "stdout",
     "output_type": "stream",
     "text": [
      "X min/max: -0.05306539164999172 0.19042678626746515\n",
      "Y min/max: -0.11450141345070337 0.30104614596920276\n",
      "Z min/max: 0.2150000035762787 0.8889999985694885\n"
     ]
    }
   ],
   "source": [
    "points = np.asarray(tower_pcd.points)\n",
    "\n",
    "print(\"X min/max:\", np.min(points[:, 0]), np.max(points[:, 0]))\n",
    "print(\"Y min/max:\", np.min(points[:, 1]), np.max(points[:, 1]))\n",
    "print(\"Z min/max:\", np.min(points[:, 2]), np.max(points[:, 2]))"
   ]
  },
  {
   "cell_type": "code",
   "execution_count": 21,
   "metadata": {},
   "outputs": [],
   "source": [
    "blocks_pcd_by_color = []\n",
    "all_pcd = []\n",
    "for color, block_mask in zip(colors, blocks_mask_by_color):\n",
    "    # print(color)\n",
    "    # if color != 'blue':\n",
    "    #     continue\n",
    "    blocks_pcd = []\n",
    "    for msk in block_mask:\n",
    "        masked_block_rgb = cv2.bitwise_and(tower_color, tower_color, mask = msk)\n",
    "        masked_block_depth = cv2.bitwise_and(img_depth, img_depth, mask = msk)\n",
    "        \n",
    "        # Get Each Block's PointCloud\n",
    "        pcd = get_pointcloud_from_color_depth(color_image=masked_block_rgb, depth_image=masked_block_depth, intrinsic=intrinsic)\n",
    "        \n",
    "        # Remove Outlier Points\n",
    "        pcd, _ = pcd.remove_radius_outlier(1024, 0.025)\n",
    "        blocks_pcd.append(pcd)\n",
    "        all_pcd.append(pcd)\n",
    "        \n",
    "        # if color=='blue':\n",
    "        #     o3d.visualization.draw_geometries([pcd])\n",
    "    \n",
    "    exec(f\"blocks_pcd_{color} = blocks_pcd\")\n",
    "    exec(f\"blocks_pcd_by_color.append(blocks_pcd_{color})\")"
   ]
  },
  {
   "cell_type": "code",
   "execution_count": 22,
   "metadata": {},
   "outputs": [
    {
     "name": "stdout",
     "output_type": "stream",
     "text": [
      "PointCloud with 268886 points.\n"
     ]
    }
   ],
   "source": [
    "pcd_combined = o3d.geometry.PointCloud()\n",
    "for point_id in range(len(all_pcd)):\n",
    "    pcd_combined += all_pcd[point_id]\n",
    "\n",
    "print(pcd_combined)\n",
    "# print(len(pcd_combined.points))"
   ]
  },
  {
   "cell_type": "code",
   "execution_count": 23,
   "metadata": {},
   "outputs": [
    {
     "name": "stdout",
     "output_type": "stream",
     "text": [
      "X min/max: -0.05306539164999172 0.06121221759472663\n",
      "Y min/max: -0.11450141345070337 0.07756784144283184\n",
      "Z min/max: 0.2150000035762787 0.3070000112056732\n"
     ]
    }
   ],
   "source": [
    "points = np.asarray(pcd_combined.points)\n",
    "\n",
    "print(\"X min/max:\", np.min(points[:, 0]), np.max(points[:, 0]))\n",
    "print(\"Y min/max:\", np.min(points[:, 1]), np.max(points[:, 1]))\n",
    "print(\"Z min/max:\", np.min(points[:, 2]), np.max(points[:, 2]))"
   ]
  },
  {
   "cell_type": "code",
   "execution_count": 24,
   "metadata": {},
   "outputs": [
    {
     "data": {
      "text/plain": [
       "0.1920692548935352"
      ]
     },
     "execution_count": 24,
     "metadata": {},
     "output_type": "execute_result"
    }
   ],
   "source": [
    "np.max(points[:, 1]) - np.min(points[:, 1])"
   ]
  },
  {
   "cell_type": "code",
   "execution_count": 25,
   "metadata": {},
   "outputs": [
    {
     "data": {
      "text/plain": [
       "6"
      ]
     },
     "execution_count": 25,
     "metadata": {},
     "output_type": "execute_result"
    }
   ],
   "source": [
    "len(blocks_pcd_by_color)"
   ]
  },
  {
   "attachments": {},
   "cell_type": "markdown",
   "metadata": {},
   "source": [
    "## Tower ICP"
   ]
  },
  {
   "cell_type": "code",
   "execution_count": 26,
   "metadata": {},
   "outputs": [],
   "source": [
    "\n",
    "# o3d.visualization.draw_geometries([pcd_combined, mesh_frame_small])\n",
    "\n",
    "# o3d.visualization.draw_geometries([pcd_combined, mesh_frame])"
   ]
  },
  {
   "cell_type": "code",
   "execution_count": 27,
   "metadata": {},
   "outputs": [
    {
     "name": "stdout",
     "output_type": "stream",
     "text": [
      "TriangleMesh with 12 points and 4 triangles.\n",
      "PointCloud with 268886 points.\n"
     ]
    }
   ],
   "source": [
    "mesh_tower = o3d.io.read_triangle_mesh(\"mesh/jenga_tower_side_xy_m.stl\")\n",
    "print(mesh_tower)\n",
    "\n",
    "mesh_tower.compute_vertex_normals()\n",
    "\n",
    "pcd_mesh = mesh_tower.sample_points_uniformly(number_of_points=len(pcd_combined.points))\n",
    "print(pcd_mesh)\n",
    "# o3d.visualization.draw_geometries([pcd_mesh, mesh_frame_small])"
   ]
  },
  {
   "cell_type": "code",
   "execution_count": 28,
   "metadata": {},
   "outputs": [
    {
     "name": "stdout",
     "output_type": "stream",
     "text": [
      "X min/max: -0.037499590827371095 0.037500001490116126\n",
      "Y min/max: -0.03749913248134346 0.037500001490116126\n",
      "Z min/max: 9.916347771584163e-07 0.1799998821436255\n"
     ]
    }
   ],
   "source": [
    "points = np.asarray(pcd_mesh.points)\n",
    "\n",
    "print(\"X min/max:\", np.min(points[:, 0]), np.max(points[:, 0]))\n",
    "print(\"Y min/max:\", np.min(points[:, 1]), np.max(points[:, 1]))\n",
    "print(\"Z min/max:\", np.min(points[:, 2]), np.max(points[:, 2]))"
   ]
  },
  {
   "cell_type": "code",
   "execution_count": 29,
   "metadata": {},
   "outputs": [],
   "source": [
    "initial_transform = np.asarray([[0, 0, -1, 0],\n",
    "                                [-1, 0, 0, 0],\n",
    "                                [0, 1, 0, 0],\n",
    "                                [0, 0, 0, 1]])"
   ]
  },
  {
   "cell_type": "code",
   "execution_count": 30,
   "metadata": {},
   "outputs": [],
   "source": [
    "def prepare_icp(source, target):\n",
    "    source_tmp = copy.deepcopy(source)\n",
    "    target_tmp = copy.deepcopy(target)\n",
    "    \n",
    "    # make the point cloud into right position\n",
    "    source_tmp.transform(initial_transform)\n",
    "    \n",
    "    # move the source pcd to do icp\n",
    "    move = np.array(target_tmp.get_oriented_bounding_box().get_center() - source_tmp.get_oriented_bounding_box().get_center())\n",
    "\n",
    "    source_tmp.transform(np.linalg.inv(initial_transform))\n",
    "    \n",
    "    o3d.visualization.draw_geometries([source_tmp, target_tmp, mesh_frame_small])\n",
    "    \n",
    "    return source_tmp, target_tmp, move"
   ]
  },
  {
   "cell_type": "code",
   "execution_count": 31,
   "metadata": {},
   "outputs": [],
   "source": [
    "source, target,  move = prepare_icp(pcd_combined, pcd_mesh)"
   ]
  },
  {
   "cell_type": "code",
   "execution_count": 32,
   "metadata": {},
   "outputs": [
    {
     "data": {
      "text/plain": [
       "array([0.27318569, 0.02977719, 0.10854544])"
      ]
     },
     "execution_count": 32,
     "metadata": {},
     "output_type": "execute_result"
    }
   ],
   "source": [
    "move"
   ]
  },
  {
   "cell_type": "code",
   "execution_count": 33,
   "metadata": {},
   "outputs": [],
   "source": [
    "def draw_registration_result(source, target, transformation):\n",
    "    source_temp = copy.deepcopy(source)\n",
    "    target_temp = copy.deepcopy(target)\n",
    "    # source_temp.paint_uniform_color([1, 0.706, 0])\n",
    "    # target_temp.paint_uniform_color([0, 0.651, 0.929])\n",
    "    source_temp.transform(transformation)\n",
    "    o3d.visualization.draw_geometries([source_temp, target_temp, mesh_frame_small])"
   ]
  },
  {
   "cell_type": "code",
   "execution_count": 34,
   "metadata": {},
   "outputs": [],
   "source": [
    "threshold = 10\n",
    "trans_init = np.asarray([[0, 0, -1, move[0]],\n",
    "                         [-1, 0, 0, move[1]],\n",
    "                         [0, 1, 0, move[2]],\n",
    "                         [0, 0, 0, 1]])\n",
    "draw_registration_result(source, target, trans_init)"
   ]
  },
  {
   "cell_type": "code",
   "execution_count": 35,
   "metadata": {},
   "outputs": [
    {
     "name": "stdout",
     "output_type": "stream",
     "text": [
      "Initial alignment\n",
      "RegistrationResult with fitness=1.000000e+00, inlier_rmse=2.413806e-02, and correspondence_set size of 268886\n",
      "Access transformation to get result.\n"
     ]
    }
   ],
   "source": [
    "print(\"Initial alignment\")\n",
    "evaluation = o3d.pipelines.registration.evaluate_registration(\n",
    "    source, target, threshold, trans_init)\n",
    "print(evaluation)"
   ]
  },
  {
   "cell_type": "code",
   "execution_count": 36,
   "metadata": {},
   "outputs": [
    {
     "name": "stdout",
     "output_type": "stream",
     "text": [
      "RegistrationResult with fitness=1.000000e+00, inlier_rmse=2.538437e-03, and correspondence_set size of 268886\n",
      "Access transformation to get result.\n",
      "Transformation is:\n",
      "[[ 0.85957623 -0.01964844 -0.51062965  0.14082577]\n",
      " [-0.51043419  0.01430855 -0.85979777  0.24444011]\n",
      " [ 0.02420006  0.99970456  0.00227005  0.10626726]\n",
      " [ 0.          0.          0.          1.        ]]\n"
     ]
    }
   ],
   "source": [
    "reg_p2p = o3d.pipelines.registration.registration_icp(\n",
    "    source, target, threshold, trans_init,\n",
    "    o3d.pipelines.registration.TransformationEstimationPointToPoint(),\n",
    "    o3d.pipelines.registration.ICPConvergenceCriteria(max_iteration=2000))\n",
    "print(reg_p2p)\n",
    "print(\"Transformation is:\")\n",
    "print(reg_p2p.transformation)\n",
    "draw_registration_result(source, target, reg_p2p.transformation)"
   ]
  },
  {
   "cell_type": "code",
   "execution_count": 37,
   "metadata": {},
   "outputs": [],
   "source": [
    "draw_registration_result(source, target, reg_p2p.transformation)"
   ]
  },
  {
   "cell_type": "code",
   "execution_count": 38,
   "metadata": {},
   "outputs": [
    {
     "data": {
      "text/plain": [
       "PointCloud with 268886 points."
      ]
     },
     "execution_count": 38,
     "metadata": {},
     "output_type": "execute_result"
    }
   ],
   "source": [
    "source_temp = copy.deepcopy(source)\n",
    "\n",
    "source_temp.transform(reg_p2p.transformation)\n"
   ]
  },
  {
   "cell_type": "code",
   "execution_count": 39,
   "metadata": {},
   "outputs": [
    {
     "data": {
      "text/plain": [
       "-0.007134429671876191"
      ]
     },
     "execution_count": 39,
     "metadata": {},
     "output_type": "execute_result"
    }
   ],
   "source": [
    "(np.array(source_temp.points))[:,2].min()"
   ]
  },
  {
   "attachments": {},
   "cell_type": "markdown",
   "metadata": {},
   "source": [
    "## Blocks Transformation"
   ]
  },
  {
   "cell_type": "code",
   "execution_count": 40,
   "metadata": {},
   "outputs": [],
   "source": [
    "trans1 = reg_p2p.transformation"
   ]
  },
  {
   "cell_type": "code",
   "execution_count": 41,
   "metadata": {},
   "outputs": [],
   "source": [
    "trans = copy.deepcopy(reg_p2p.transformation)"
   ]
  },
  {
   "cell_type": "code",
   "execution_count": 42,
   "metadata": {},
   "outputs": [
    {
     "name": "stdout",
     "output_type": "stream",
     "text": [
      "[[ 0.85957623 -0.01964844 -0.51062965  0.14082577]\n",
      " [-0.51043419  0.01430855 -0.85979777  0.24444011]\n",
      " [ 0.02420006  0.99970456  0.00227005  0.10626726]\n",
      " [ 0.          0.          0.          1.        ]]\n",
      "[[ 0.85957623 -0.51043419  0.02420006  0.00114843]\n",
      " [-0.01964844  0.01430855  0.99970456 -0.10696644]\n",
      " [-0.51062965 -0.85979777  0.00227005  0.28183765]\n",
      " [ 0.          0.          0.          1.        ]]\n"
     ]
    }
   ],
   "source": [
    "print(trans)\n",
    "# trans[0,3]/=1000\n",
    "# trans[1,3]/=1000\n",
    "# trans[2,3]/=1000\n",
    "\n",
    "print(np.linalg.inv(trans))"
   ]
  },
  {
   "cell_type": "code",
   "execution_count": 43,
   "metadata": {},
   "outputs": [],
   "source": [
    "def transform_blocks(pcd, icp_transform):\n",
    "    pcd_temp = copy.deepcopy(pcd)\n",
    "    aa = o3d.cpu.pybind.utility.Vector3dVector(np.array(pcd_temp.points))\n",
    "    pcd_temp.points = aa\n",
    "    pcd_temp.transform(icp_transform)\n",
    "    \n",
    "    return pcd_temp"
   ]
  },
  {
   "cell_type": "code",
   "execution_count": 44,
   "metadata": {},
   "outputs": [],
   "source": [
    "# WHAT IS THE TARGET BLOCK?\n",
    "target_block_color = 'green'\n",
    "target_block_label = 3"
   ]
  },
  {
   "cell_type": "markdown",
   "metadata": {},
   "source": [
    "**처음 카메라 돌릴때 알아내야하는 것**\n",
    "1. MESH <-> CAMERA 변환 관계\n",
    "2. 각 블럭(or 색)의 초기 상태를 알면 됨\n",
    "\t* 어떤 방향으로 놓여있는지 (x or y)\n",
    "\t* 몇층에 놓여있는지 or z축 좌표"
   ]
  },
  {
   "cell_type": "code",
   "execution_count": 45,
   "metadata": {},
   "outputs": [],
   "source": [
    "def get_true_box_center_coordinates_xy(cen_x, cen_y):\n",
    "    if abs(cen_x) < 0.0125:\n",
    "        true_x = 0.0\n",
    "    elif cen_x > 0:\n",
    "        true_x = 0.025\n",
    "    else:\n",
    "        true_x = -0.025\n",
    "            \n",
    "    if abs(cen_y) < 0.0125:\n",
    "        true_y = 0.0\n",
    "    elif cen_y > 0:\n",
    "        true_y = 0.025\n",
    "    else:\n",
    "        true_y = -0.025\n",
    "    \n",
    "    return true_x, true_y"
   ]
  },
  {
   "cell_type": "code",
   "execution_count": 46,
   "metadata": {},
   "outputs": [],
   "source": [
    "tower_map = [[['' for _ in range(3)] for _ in range(12)] for _ in range(2)]"
   ]
  },
  {
   "cell_type": "code",
   "execution_count": 47,
   "metadata": {},
   "outputs": [
    {
     "name": "stdout",
     "output_type": "stream",
     "text": [
      "green\n",
      "0\n",
      "BOX EXTENT :  [0.02754295 0.09236511 0.02066189]\n",
      "BOX CENTER COORDINATE :  [ 0.03046027 -0.00609463  0.00319651]\n",
      "FLOORS : 0\n",
      "true_z : 0.0075\n",
      "################ CASE 1 ################\n",
      "BLOCK DIRECTION : Y\n",
      "PULL DIRECTION : X\n",
      "-----BLOCK CENTER COORDINATE-----\n",
      "X : 0.030460274698144982\n",
      "Y : -0.006094633961806248\n",
      "Z : 0.0031965135323921076\n",
      "----------------------------------\n",
      "TRUE COORDINATES\n",
      "true_x : 0.025\n",
      "true_y : 0.0\n",
      "true_z : 0.0075\n",
      "1\n",
      "BOX EXTENT :  [0.02938771 0.08277187 0.01731035]\n",
      "BOX CENTER COORDINATE :  [ 0.02684892 -0.00551834  0.03507902]\n",
      "FLOORS : 2\n",
      "true_z : 0.0375\n",
      "################ CASE 1 ################\n",
      "BLOCK DIRECTION : Y\n",
      "PULL DIRECTION : X\n",
      "-----BLOCK CENTER COORDINATE-----\n",
      "X : 0.02684891502497959\n",
      "Y : -0.005518336591008241\n",
      "Z : 0.035079023078021576\n",
      "----------------------------------\n",
      "TRUE COORDINATES\n",
      "true_x : 0.025\n",
      "true_y : 0.0\n",
      "true_z : 0.0375\n",
      "2\n",
      "BOX EXTENT :  [0.03103273 0.07962519 0.01845117]\n",
      "BOX CENTER COORDINATE :  [ 0.02755904 -0.00254521  0.06768009]\n",
      "FLOORS : 4\n",
      "true_z : 0.0675\n",
      "################ CASE 1 ################\n",
      "BLOCK DIRECTION : Y\n",
      "PULL DIRECTION : X\n",
      "-----BLOCK CENTER COORDINATE-----\n",
      "X : 0.02755904397904898\n",
      "Y : -0.0025452093574730578\n",
      "Z : 0.06768008607007335\n",
      "----------------------------------\n",
      "TRUE COORDINATES\n",
      "true_x : 0.025\n",
      "true_y : 0.0\n",
      "true_z : 0.0675\n",
      "3\n",
      "BOX EXTENT :  [0.03823465 0.08424498 0.01620033]\n",
      "BOX CENTER COORDINATE :  [ 0.02857384 -0.0045386   0.10009307]\n",
      "FLOORS : 6\n",
      "true_z : 0.0975\n",
      "################ CASE 1 ################\n",
      "BLOCK DIRECTION : Y\n",
      "PULL DIRECTION : X\n",
      "-----BLOCK CENTER COORDINATE-----\n",
      "X : 0.028573837259542288\n",
      "Y : -0.004538596838196393\n",
      "Z : 0.1000930650983976\n",
      "----------------------------------\n",
      "TRUE COORDINATES\n",
      "true_x : 0.025\n",
      "true_y : 0.0\n",
      "true_z : 0.0975\n",
      "4\n",
      "BOX EXTENT :  [0.03915969 0.07852772 0.01695825]\n",
      "BOX CENTER COORDINATE :  [ 0.02933296 -0.0008237   0.13219827]\n",
      "FLOORS : 8\n",
      "true_z : 0.1275\n",
      "################ CASE 1 ################\n",
      "BLOCK DIRECTION : Y\n",
      "PULL DIRECTION : X\n",
      "-----BLOCK CENTER COORDINATE-----\n",
      "X : 0.029332956736416324\n",
      "Y : -0.0008236986719987044\n",
      "Z : 0.13219827011092394\n",
      "----------------------------------\n",
      "TRUE COORDINATES\n",
      "true_x : 0.025\n",
      "true_y : 0.0\n",
      "true_z : 0.1275\n",
      "5\n",
      "BOX EXTENT :  [0.0361065  0.0814546  0.01721677]\n",
      "BOX CENTER COORDINATE :  [0.03101304 0.00078257 0.16377677]\n",
      "FLOORS : 10\n",
      "true_z : 0.1575\n",
      "################ CASE 1 ################\n",
      "BLOCK DIRECTION : Y\n",
      "PULL DIRECTION : X\n",
      "-----BLOCK CENTER COORDINATE-----\n",
      "X : 0.031013043165724515\n",
      "Y : 0.0007825718562933376\n",
      "Z : 0.1637767695899201\n",
      "----------------------------------\n",
      "TRUE COORDINATES\n",
      "true_x : 0.025\n",
      "true_y : 0.0\n",
      "true_z : 0.1575\n",
      "pink\n",
      "0\n",
      "BOX EXTENT :  [0.00508695 0.03480186 0.01687501]\n",
      "BOX CENTER COORDINATE :  [ 0.03931841 -0.0329183   0.0201719 ]\n",
      "FLOORS : 1\n",
      "true_z : 0.0225\n",
      "################ CASE 6 ################\n",
      "BLOCK DIRECTION : X\n",
      "PULL DIRECTION : -Y\n",
      "-----BLOCK CENTER COORDINATE-----\n",
      "X : 0.0018184141623740838\n",
      "Y : -0.032918300242816084\n",
      "Z : 0.020171898769207497\n",
      "----------------------------------\n",
      "TRUE COORDINATES\n",
      "true_x : 0.0\n",
      "true_y : -0.025\n",
      "true_z : 0.0225\n",
      "1\n",
      "BOX EXTENT :  [0.00681614 0.02977894 0.01935657]\n",
      "BOX CENTER COORDINATE :  [ 0.04107262 -0.02767229  0.05197748]\n",
      "FLOORS : 3\n",
      "true_z : 0.0525\n",
      "################ CASE 6 ################\n",
      "BLOCK DIRECTION : X\n",
      "PULL DIRECTION : -Y\n",
      "-----BLOCK CENTER COORDINATE-----\n",
      "X : 0.0035726219974905535\n",
      "Y : -0.027672291028418866\n",
      "Z : 0.05197747678292888\n",
      "----------------------------------\n",
      "TRUE COORDINATES\n",
      "true_x : 0.0\n",
      "true_y : -0.025\n",
      "true_z : 0.0525\n",
      "2\n",
      "BOX EXTENT :  [0.00709206 0.02488456 0.01597234]\n",
      "BOX CENTER COORDINATE :  [ 0.03818093 -0.03422776  0.08420885]\n",
      "FLOORS : 5\n",
      "true_z : 0.08249999999999999\n",
      "################ CASE 6 ################\n",
      "BLOCK DIRECTION : X\n",
      "PULL DIRECTION : -Y\n",
      "-----BLOCK CENTER COORDINATE-----\n",
      "X : 0.0006809297533412126\n",
      "Y : -0.034227757421601473\n",
      "Z : 0.0842088519895392\n",
      "----------------------------------\n",
      "TRUE COORDINATES\n",
      "true_x : 0.0\n",
      "true_y : -0.025\n",
      "true_z : 0.08249999999999999\n",
      "3\n",
      "BOX EXTENT :  [0.0091148  0.0174431  0.01565709]\n",
      "BOX CENTER COORDINATE :  [ 0.03989656 -0.03117631  0.11708144]\n",
      "FLOORS : 7\n",
      "true_z : 0.11249999999999999\n",
      "################ CASE 6 ################\n",
      "BLOCK DIRECTION : X\n",
      "PULL DIRECTION : -Y\n",
      "-----BLOCK CENTER COORDINATE-----\n",
      "X : 0.002396558624597013\n",
      "Y : -0.031176313791365484\n",
      "Z : 0.11708144166911202\n",
      "----------------------------------\n",
      "TRUE COORDINATES\n",
      "true_x : 0.0\n",
      "true_y : -0.025\n",
      "true_z : 0.11249999999999999\n",
      "4\n",
      "BOX EXTENT :  [0.01024153 0.02359089 0.01745419]\n",
      "BOX CENTER COORDINATE :  [ 0.04074278 -0.0289711   0.14931554]\n",
      "FLOORS : 9\n",
      "true_z : 0.14250000000000002\n",
      "################ CASE 6 ################\n",
      "BLOCK DIRECTION : X\n",
      "PULL DIRECTION : -Y\n",
      "-----BLOCK CENTER COORDINATE-----\n",
      "X : 0.0032427798528300994\n",
      "Y : -0.028971097573236515\n",
      "Z : 0.14931553525321525\n",
      "----------------------------------\n",
      "TRUE COORDINATES\n",
      "true_x : 0.0\n",
      "true_y : -0.025\n",
      "true_z : 0.14250000000000002\n",
      "5\n",
      "BOX EXTENT :  [0.01035975 0.03074885 0.01295565]\n",
      "BOX CENTER COORDINATE :  [ 0.04581365 -0.01822778  0.1775034 ]\n",
      "FLOORS : 11\n",
      "true_z : 0.1725\n",
      "################ CASE 6 ################\n",
      "BLOCK DIRECTION : X\n",
      "PULL DIRECTION : -Y\n",
      "-----BLOCK CENTER COORDINATE-----\n",
      "X : 0.008313651574583046\n",
      "Y : -0.01822778270551345\n",
      "Z : 0.17750339803350101\n",
      "----------------------------------\n",
      "TRUE COORDINATES\n",
      "true_x : 0.0\n",
      "true_y : -0.025\n",
      "true_z : 0.1725\n",
      "yellow\n",
      "0\n",
      "BOX EXTENT :  [0.02680843 0.00461216 0.01650846]\n",
      "BOX CENTER COORDINATE :  [-0.02258464  0.03989355  0.00355807]\n",
      "FLOORS : 0\n",
      "true_z : 0.0075\n",
      "################ CASE 5 ################\n",
      "BLOCK DIRECTION : Y\n",
      "PULL DIRECTION : -X\n",
      "-----BLOCK CENTER COORDINATE-----\n",
      "X : -0.02258463572346424\n",
      "Y : 0.002393550205801863\n",
      "Z : 0.003558070793378547\n",
      "----------------------------------\n",
      "TRUE COORDINATES\n",
      "true_x : -0.025\n",
      "true_y : 0.0\n",
      "true_z : 0.0075\n",
      "1\n",
      "BOX EXTENT :  [0.0273005  0.00501805 0.01606551]\n",
      "BOX CENTER COORDINATE :  [-0.02658948  0.03995926  0.03538673]\n",
      "FLOORS : 2\n",
      "true_z : 0.0375\n",
      "################ CASE 5 ################\n",
      "BLOCK DIRECTION : Y\n",
      "PULL DIRECTION : -X\n",
      "-----BLOCK CENTER COORDINATE-----\n",
      "X : -0.02658948335313406\n",
      "Y : 0.0024592637313810076\n",
      "Z : 0.03538672719481849\n",
      "----------------------------------\n",
      "TRUE COORDINATES\n",
      "true_x : -0.025\n",
      "true_y : 0.0\n",
      "true_z : 0.0375\n",
      "2\n",
      "BOX EXTENT :  [0.02702478 0.00601944 0.01546415]\n",
      "BOX CENTER COORDINATE :  [-0.02647206  0.03943068  0.06742964]\n",
      "FLOORS : 4\n",
      "true_z : 0.0675\n",
      "################ CASE 5 ################\n",
      "BLOCK DIRECTION : Y\n",
      "PULL DIRECTION : -X\n",
      "-----BLOCK CENTER COORDINATE-----\n",
      "X : -0.026472060156480598\n",
      "Y : 0.0019306781770151507\n",
      "Z : 0.06742964397971139\n",
      "----------------------------------\n",
      "TRUE COORDINATES\n",
      "true_x : -0.025\n",
      "true_y : 0.0\n",
      "true_z : 0.0675\n",
      "3\n",
      "BOX EXTENT :  [0.02730315 0.00772418 0.01512819]\n",
      "BOX CENTER COORDINATE :  [-0.02868417  0.03914918  0.0988464 ]\n",
      "FLOORS : 6\n",
      "true_z : 0.0975\n",
      "################ CASE 5 ################\n",
      "BLOCK DIRECTION : Y\n",
      "PULL DIRECTION : -X\n",
      "-----BLOCK CENTER COORDINATE-----\n",
      "X : -0.02868417114170567\n",
      "Y : 0.0016491823423439786\n",
      "Z : 0.09884639927859802\n",
      "----------------------------------\n",
      "TRUE COORDINATES\n",
      "true_x : -0.025\n",
      "true_y : 0.0\n",
      "true_z : 0.0975\n",
      "4\n",
      "BOX EXTENT :  [0.02617176 0.00798027 0.01526439]\n",
      "BOX CENTER COORDINATE :  [-0.02785441  0.03835687  0.13006734]\n",
      "FLOORS : 8\n",
      "true_z : 0.1275\n",
      "################ CASE 5 ################\n",
      "BLOCK DIRECTION : Y\n",
      "PULL DIRECTION : -X\n",
      "-----BLOCK CENTER COORDINATE-----\n",
      "X : -0.027854406751583502\n",
      "Y : 0.0008568733560454581\n",
      "Z : 0.1300673359134201\n",
      "----------------------------------\n",
      "TRUE COORDINATES\n",
      "true_x : -0.025\n",
      "true_y : 0.0\n",
      "true_z : 0.1275\n",
      "5\n",
      "BOX EXTENT :  [0.02663129 0.00666031 0.01647946]\n",
      "BOX CENTER COORDINATE :  [-0.02420759  0.03702669  0.16120438]\n",
      "FLOORS : 10\n",
      "true_z : 0.1575\n",
      "################ CASE 5 ################\n",
      "BLOCK DIRECTION : Y\n",
      "PULL DIRECTION : -X\n",
      "-----BLOCK CENTER COORDINATE-----\n",
      "X : -0.02420758908035142\n",
      "Y : -0.00047331033988381316\n",
      "Z : 0.16120438359662004\n",
      "----------------------------------\n",
      "TRUE COORDINATES\n",
      "true_x : -0.025\n",
      "true_y : 0.0\n",
      "true_z : 0.1575\n",
      "blue\n",
      "0\n",
      "BOX EXTENT :  [0.00407403 0.02427711 0.01551509]\n",
      "BOX CENTER COORDINATE :  [ 0.03958742 -0.00378324  0.02046124]\n",
      "FLOORS : 1\n",
      "true_z : 0.0225\n",
      "################ CASE 4 ################\n",
      "BLOCK DIRECTION : X\n",
      "PUSH DIRECTION : X or -X\n",
      "-----BLOCK CENTER COORDINATE-----\n",
      "X : 0.002087424577214343\n",
      "Y : -0.003783235956190581\n",
      "Z : 0.02046123704845476\n",
      "----------------------------------\n",
      "TRUE COORDINATES\n",
      "true_x : 0.0\n",
      "true_y : 0.0\n",
      "true_z : 0.0225\n",
      "1\n",
      "BOX EXTENT :  [0.00516982 0.02377654 0.01680454]\n",
      "BOX CENTER COORDINATE :  [ 0.03838847 -0.00539377  0.05177848]\n",
      "FLOORS : 3\n",
      "true_z : 0.0525\n",
      "################ CASE 4 ################\n",
      "BLOCK DIRECTION : X\n",
      "PUSH DIRECTION : X or -X\n",
      "-----BLOCK CENTER COORDINATE-----\n",
      "X : 0.0008884709569258395\n",
      "Y : -0.005393765289635866\n",
      "Z : 0.05177847837296781\n",
      "----------------------------------\n",
      "TRUE COORDINATES\n",
      "true_x : 0.0\n",
      "true_y : 0.0\n",
      "true_z : 0.0525\n",
      "2\n",
      "BOX EXTENT :  [0.00473786 0.02737701 0.01516966]\n",
      "BOX CENTER COORDINATE :  [ 0.03579271 -0.00996133  0.08428309]\n",
      "FLOORS : 5\n",
      "true_z : 0.08249999999999999\n",
      "################ CASE 4 ################\n",
      "BLOCK DIRECTION : X\n",
      "PUSH DIRECTION : X or -X\n",
      "-----BLOCK CENTER COORDINATE-----\n",
      "X : -0.0017072891808580168\n",
      "Y : -0.009961327684242946\n",
      "Z : 0.08428309212992069\n",
      "----------------------------------\n",
      "TRUE COORDINATES\n",
      "true_x : 0.0\n",
      "true_y : 0.0\n",
      "true_z : 0.08249999999999999\n",
      "3\n",
      "BOX EXTENT :  [0.00571997 0.03404932 0.01654492]\n",
      "BOX CENTER COORDINATE :  [ 0.03644321 -0.0075509   0.11648322]\n",
      "FLOORS : 7\n",
      "true_z : 0.11249999999999999\n",
      "################ CASE 4 ################\n",
      "BLOCK DIRECTION : X\n",
      "PUSH DIRECTION : X or -X\n",
      "-----BLOCK CENTER COORDINATE-----\n",
      "X : -0.0010567931779209214\n",
      "Y : -0.007550898254230623\n",
      "Z : 0.11648322476585014\n",
      "----------------------------------\n",
      "TRUE COORDINATES\n",
      "true_x : 0.0\n",
      "true_y : 0.0\n",
      "true_z : 0.11249999999999999\n",
      "4\n",
      "BOX EXTENT :  [0.00623442 0.0336651  0.0172591 ]\n",
      "BOX CENTER COORDINATE :  [ 0.0364492  -0.00757601  0.14907992]\n",
      "FLOORS : 9\n",
      "true_z : 0.14250000000000002\n",
      "################ CASE 4 ################\n",
      "BLOCK DIRECTION : X\n",
      "PUSH DIRECTION : X or -X\n",
      "-----BLOCK CENTER COORDINATE-----\n",
      "X : -0.0010508024883930725\n",
      "Y : -0.007576012246047925\n",
      "Z : 0.1490799208659756\n",
      "----------------------------------\n",
      "TRUE COORDINATES\n",
      "true_x : 0.0\n",
      "true_y : 0.0\n",
      "true_z : 0.14250000000000002\n",
      "5\n",
      "BOX EXTENT :  [0.01083177 0.03907485 0.01316454]\n",
      "BOX CENTER COORDINATE :  [0.04470073 0.00463392 0.17718016]\n",
      "FLOORS : 11\n",
      "true_z : 0.1725\n",
      "################ CASE 4 ################\n",
      "BLOCK DIRECTION : X\n",
      "PUSH DIRECTION : X or -X\n",
      "-----BLOCK CENTER COORDINATE-----\n",
      "X : 0.0072007289062080496\n",
      "Y : 0.00463392160669375\n",
      "Z : 0.17718016465291947\n",
      "----------------------------------\n",
      "TRUE COORDINATES\n",
      "true_x : 0.0\n",
      "true_y : 0.0\n",
      "true_z : 0.1725\n",
      "violet\n",
      "0\n",
      "BOX EXTENT :  [0.02621405 0.00435634 0.01514303]\n",
      "BOX CENTER COORDINATE :  [0.0042279  0.03923464 0.00483082]\n",
      "FLOORS : 0\n",
      "true_z : 0.0075\n",
      "################ CASE 3 ################\n",
      "BLOCK DIRECTION : Y\n",
      "PUSH DIRECTION : Y or -Y\n",
      "-----BLOCK CENTER COORDINATE-----\n",
      "X : 0.004227903159612446\n",
      "Y : 0.0017346434693204862\n",
      "Z : 0.004830822474079816\n",
      "----------------------------------\n",
      "TRUE COORDINATES\n",
      "true_x : 0.0\n",
      "true_y : 0.0\n",
      "true_z : 0.0075\n",
      "1\n",
      "BOX EXTENT :  [0.02550197 0.00474845 0.01540416]\n",
      "BOX CENTER COORDINATE :  [-0.00048873  0.03642295  0.03596498]\n",
      "FLOORS : 2\n",
      "true_z : 0.0375\n",
      "################ CASE 3 ################\n",
      "BLOCK DIRECTION : Y\n",
      "PUSH DIRECTION : Y or -Y\n",
      "-----BLOCK CENTER COORDINATE-----\n",
      "X : -0.0004887285421924931\n",
      "Y : -0.0010770506519721737\n",
      "Z : 0.03596497651308519\n",
      "----------------------------------\n",
      "TRUE COORDINATES\n",
      "true_x : 0.0\n",
      "true_y : 0.0\n",
      "true_z : 0.0375\n",
      "2\n",
      "BOX EXTENT :  [0.02679082 0.00442652 0.01500762]\n",
      "BOX CENTER COORDINATE :  [-0.00111889  0.03722157  0.06789795]\n",
      "FLOORS : 4\n",
      "true_z : 0.0675\n",
      "################ CASE 3 ################\n",
      "BLOCK DIRECTION : Y\n",
      "PUSH DIRECTION : Y or -Y\n",
      "-----BLOCK CENTER COORDINATE-----\n",
      "X : -0.0011188869185322775\n",
      "Y : -0.00027843257721072573\n",
      "Z : 0.06789795365282343\n",
      "----------------------------------\n",
      "TRUE COORDINATES\n",
      "true_x : 0.0\n",
      "true_y : 0.0\n",
      "true_z : 0.0675\n",
      "3\n",
      "BOX EXTENT :  [0.0264079  0.00695159 0.01537069]\n",
      "BOX CENTER COORDINATE :  [-0.00240105  0.03777665  0.09919133]\n",
      "FLOORS : 6\n",
      "true_z : 0.0975\n",
      "################ CASE 3 ################\n",
      "BLOCK DIRECTION : Y\n",
      "PUSH DIRECTION : Y or -Y\n",
      "-----BLOCK CENTER COORDINATE-----\n",
      "X : -0.0024010479118347777\n",
      "Y : 0.0002766453871540994\n",
      "Z : 0.09919133028046348\n",
      "----------------------------------\n",
      "TRUE COORDINATES\n",
      "true_x : 0.0\n",
      "true_y : 0.0\n",
      "true_z : 0.0975\n",
      "4\n",
      "BOX EXTENT :  [0.02639195 0.00625742 0.01584309]\n",
      "BOX CENTER COORDINATE :  [-0.00238835  0.03649885  0.13089219]\n",
      "FLOORS : 8\n",
      "true_z : 0.1275\n",
      "################ CASE 3 ################\n",
      "BLOCK DIRECTION : Y\n",
      "PUSH DIRECTION : Y or -Y\n",
      "-----BLOCK CENTER COORDINATE-----\n",
      "X : -0.0023883467560641136\n",
      "Y : -0.0010011530543680217\n",
      "Z : 0.13089219357081977\n",
      "----------------------------------\n",
      "TRUE COORDINATES\n",
      "true_x : 0.0\n",
      "true_y : 0.0\n",
      "true_z : 0.1275\n",
      "5\n",
      "BOX EXTENT :  [0.02707968 0.00914996 0.01595695]\n",
      "BOX CENTER COORDINATE :  [-1.82100451e-05  3.64902623e-02  1.62033473e-01]\n",
      "FLOORS : 10\n",
      "true_z : 0.1575\n",
      "################ CASE 3 ################\n",
      "BLOCK DIRECTION : Y\n",
      "PUSH DIRECTION : Y or -Y\n",
      "-----BLOCK CENTER COORDINATE-----\n",
      "X : -1.821004513993807e-05\n",
      "Y : -0.00100973769889897\n",
      "Z : 0.16203347268174018\n",
      "----------------------------------\n",
      "TRUE COORDINATES\n",
      "true_x : 0.0\n",
      "true_y : 0.0\n",
      "true_z : 0.1575\n",
      "red\n",
      "0\n",
      "BOX EXTENT :  [0.07835451 0.03815325 0.01752184]\n",
      "BOX CENTER COORDINATE :  [0.00188286 0.0230741  0.01998749]\n",
      "FLOORS : 1\n",
      "true_z : 0.0225\n",
      "################ CASE 2 ################\n",
      "BLOCK DIRECTION : X\n",
      "PULL DIRECTION : Y\n",
      "-----BLOCK CENTER COORDINATE-----\n",
      "X : 0.0018828602096371133\n",
      "Y : 0.023074101513832712\n",
      "Z : 0.019987485783666506\n",
      "----------------------------------\n",
      "TRUE COORDINATES\n",
      "true_x : 0.0\n",
      "true_y : 0.025\n",
      "true_z : 0.0225\n",
      "1\n",
      "BOX EXTENT :  [0.07916292 0.03853995 0.01912285]\n",
      "BOX CENTER COORDINATE :  [-0.00035123  0.02504062  0.05116908]\n",
      "FLOORS : 3\n",
      "true_z : 0.0525\n",
      "################ CASE 2 ################\n",
      "BLOCK DIRECTION : X\n",
      "PULL DIRECTION : Y\n",
      "-----BLOCK CENTER COORDINATE-----\n",
      "X : -0.0003512349209527574\n",
      "Y : 0.025040621767358717\n",
      "Z : 0.051169084668401685\n",
      "----------------------------------\n",
      "TRUE COORDINATES\n",
      "true_x : 0.0\n",
      "true_y : 0.025\n",
      "true_z : 0.0525\n",
      "2\n",
      "BOX EXTENT :  [0.07859688 0.04082804 0.01772235]\n",
      "BOX CENTER COORDINATE :  [-0.00196261  0.02133226  0.08320291]\n",
      "FLOORS : 5\n",
      "true_z : 0.08249999999999999\n",
      "################ CASE 2 ################\n",
      "BLOCK DIRECTION : X\n",
      "PULL DIRECTION : Y\n",
      "-----BLOCK CENTER COORDINATE-----\n",
      "X : -0.0019626128522511055\n",
      "Y : 0.021332264050079208\n",
      "Z : 0.0832029089954146\n",
      "----------------------------------\n",
      "TRUE COORDINATES\n",
      "true_x : 0.0\n",
      "true_y : 0.025\n",
      "true_z : 0.08249999999999999\n",
      "3\n",
      "BOX EXTENT :  [0.07906923 0.03720612 0.01782425]\n",
      "BOX CENTER COORDINATE :  [-0.00221502  0.02252853  0.11565344]\n",
      "FLOORS : 7\n",
      "true_z : 0.11249999999999999\n",
      "################ CASE 2 ################\n",
      "BLOCK DIRECTION : X\n",
      "PULL DIRECTION : Y\n",
      "-----BLOCK CENTER COORDINATE-----\n",
      "X : -0.002215019284743519\n",
      "Y : 0.022528532252291206\n",
      "Z : 0.11565343683022886\n",
      "----------------------------------\n",
      "TRUE COORDINATES\n",
      "true_x : 0.0\n",
      "true_y : 0.025\n",
      "true_z : 0.11249999999999999\n",
      "4\n",
      "BOX EXTENT :  [0.07722664 0.04224088 0.02051468]\n",
      "BOX CENTER COORDINATE :  [-0.00064968  0.02242216  0.14744464]\n",
      "FLOORS : 9\n",
      "true_z : 0.14250000000000002\n",
      "################ CASE 2 ################\n",
      "BLOCK DIRECTION : X\n",
      "PULL DIRECTION : Y\n",
      "-----BLOCK CENTER COORDINATE-----\n",
      "X : -0.0006496830870279455\n",
      "Y : 0.02242215811699165\n",
      "Z : 0.1474446357377116\n",
      "----------------------------------\n",
      "TRUE COORDINATES\n",
      "true_x : 0.0\n",
      "true_y : 0.025\n",
      "true_z : 0.14250000000000002\n",
      "5\n",
      "BOX EXTENT :  [0.0852055  0.04300791 0.01545556]\n",
      "BOX CENTER COORDINATE :  [0.00446896 0.03338093 0.1766311 ]\n",
      "FLOORS : 11\n",
      "true_z : 0.1725\n",
      "################ CASE 2 ################\n",
      "BLOCK DIRECTION : X\n",
      "PULL DIRECTION : Y\n",
      "-----BLOCK CENTER COORDINATE-----\n",
      "X : 0.004468959818956335\n",
      "Y : 0.033380931021885066\n",
      "Z : 0.17663109543598482\n",
      "----------------------------------\n",
      "TRUE COORDINATES\n",
      "true_x : 0.0\n",
      "true_y : 0.025\n",
      "true_z : 0.1725\n"
     ]
    }
   ],
   "source": [
    "for col, pcds in zip(colors, blocks_pcd_by_color):\n",
    "    # if col != target_block_color:\n",
    "    #     continue\n",
    "    print(col)\n",
    "    \n",
    "    for idx, pcd in enumerate(pcds):\n",
    "        # if idx != target_block_label:\n",
    "        #     continue\n",
    "        \n",
    "        # print(\"--------------------------------\")\n",
    "        print(idx)\n",
    "\n",
    "        new_trans = copy.deepcopy(trans)\n",
    "\n",
    "        pcd_new = transform_blocks(pcd, new_trans)\n",
    "        \n",
    "        box_extent = pcd_new.get_axis_aligned_bounding_box().get_extent()\n",
    "        print(\"BOX EXTENT : \", box_extent)\n",
    "        \n",
    "        center_coordinate = np.array(pcd_new.get_axis_aligned_bounding_box().get_box_points()).mean(axis=0)\n",
    "        \n",
    "        # print(np.array(pcd_new.get_axis_aligned_bounding_box().get_box_points()))\n",
    "        print(\"BOX CENTER COORDINATE : \", center_coordinate)\n",
    "        \n",
    "        floors = int(center_coordinate[2] // 0.015)\n",
    "        print(\"FLOORS :\", floors)\n",
    "        \n",
    "        # print(mok, nameoji)\n",
    "        true_z = floors * 0.015 + 0.0075\n",
    "        print(\"true_z :\", true_z)\n",
    "        \n",
    "        # print(\"BOX MAX X,Y and MEAN Z Coordinate\")\n",
    "        x_mean = np.array(pcd_new.get_axis_aligned_bounding_box().get_box_points())[:,0].mean()\n",
    "        y_mean = np.array(pcd_new.get_axis_aligned_bounding_box().get_box_points())[:,1].mean()\n",
    "        z_mean = np.array(pcd_new.get_axis_aligned_bounding_box().get_box_points())[:,2].mean()\n",
    "        \n",
    "        if box_extent[1] > 0.070:\n",
    "            print(\"################ CASE 1 ################\")\n",
    "            print(\"BLOCK DIRECTION : Y\")\n",
    "            print(\"PULL DIRECTION : X\")\n",
    "            vector = np.array([-1, 0, 0])\n",
    "            print(\"-----BLOCK CENTER COORDINATE-----\")\n",
    "            cen_x = x_mean #- 25/2\n",
    "            cen_y = y_mean #- 75/2\n",
    "            cen_z = z_mean\n",
    "            print(\"X :\", cen_x)\n",
    "            print(\"Y :\", cen_y)\n",
    "            print(\"Z :\", cen_z)\n",
    "            pt1 = o3d.cpu.pybind.utility.Vector3dVector(np.array([[cen_x, cen_y, z_mean], [cen_x - 0.00001, cen_y - 0.00001, cen_z - 0.00001], [cen_x + 0.00001, cen_y + 0.00001, cen_z + 0.00001]]))\n",
    "            tower_map[0][floors][0] = col\n",
    "            true_x, true_y = get_true_box_center_coordinates_xy(cen_x, cen_y)\n",
    "            tower_map[1][floors][0] = (true_x, true_y, true_z)\n",
    "            floor_dir = (floors%2, 'X')\n",
    "            print(\"----------------------------------\")\n",
    "            \n",
    "        elif box_extent[0] > 0.070:\n",
    "            print(\"################ CASE 2 ################\")\n",
    "            print(\"BLOCK DIRECTION : X\")\n",
    "            print(\"PULL DIRECTION : Y\")\n",
    "            vector = np.array([0, -1, 0])\n",
    "            print(\"-----BLOCK CENTER COORDINATE-----\")\n",
    "            cen_x = x_mean# - 75/2\n",
    "            cen_y = y_mean# - 25/2\n",
    "            cen_z = z_mean\n",
    "            print(\"X :\", cen_x)\n",
    "            print(\"Y :\", cen_y)\n",
    "            print(\"Z :\", cen_z)\n",
    "            pt1 = o3d.cpu.pybind.utility.Vector3dVector(np.array([[cen_x, cen_y, z_mean], [cen_x - 0.00001, cen_y - 0.00001, cen_z - 0.00001], [cen_x + 0.00001, cen_y + 0.00001, cen_z + 0.00001]]))\n",
    "            tower_map[0][floors][0] = col\n",
    "            true_x, true_y = get_true_box_center_coordinates_xy(cen_x, cen_y)\n",
    "            tower_map[1][floors][0] = (true_x, true_y, true_z)\n",
    "            print(\"----------------------------------\")\n",
    "            \n",
    "        elif abs(center_coordinate[0]) < 0.010 and box_extent [1] < 0.015:\n",
    "            print(\"################ CASE 3 ################\")\n",
    "            print(\"BLOCK DIRECTION : Y\")\n",
    "            print(\"PUSH DIRECTION : Y or -Y\")\n",
    "            vector = np.array([0, -1, 0])\n",
    "            print(\"-----BLOCK CENTER COORDINATE-----\")\n",
    "            cen_x = x_mean# - 25/2\n",
    "            cen_y = y_mean - 0.075/2\n",
    "            cen_z = z_mean\n",
    "            print(\"X :\", cen_x)\n",
    "            print(\"Y :\", cen_y)\n",
    "            print(\"Z :\", cen_z)\n",
    "            pt1 = o3d.cpu.pybind.utility.Vector3dVector(np.array([[cen_x, cen_y, z_mean], [cen_x - 0.00001, cen_y - 0.00001, cen_z - 0.00001], [cen_x + 0.00001, cen_y + 0.00001, cen_z + 0.00001]]))\n",
    "            tower_map[0][floors][1] = col\n",
    "            true_x, true_y = get_true_box_center_coordinates_xy(cen_x, cen_y)\n",
    "            tower_map[1][floors][1] = (true_x, true_y, true_z)\n",
    "            print(\"----------------------------------\")\n",
    "            \n",
    "        elif abs(center_coordinate[1]) < 0.010 and box_extent [0] < 0.015:\n",
    "            print(\"################ CASE 4 ################\")\n",
    "            print(\"BLOCK DIRECTION : X\")\n",
    "            print(\"PUSH DIRECTION : X or -X\")\n",
    "            vector = np.array([-1, 0, 0])\n",
    "            print(\"-----BLOCK CENTER COORDINATE-----\")\n",
    "            cen_x = x_mean - 0.075/2\n",
    "            cen_y = y_mean# - 25/2\n",
    "            cen_z = z_mean\n",
    "            print(\"X :\", cen_x)\n",
    "            print(\"Y :\", cen_y)\n",
    "            print(\"Z :\", cen_z)\n",
    "            pt1 = o3d.cpu.pybind.utility.Vector3dVector(np.array([[cen_x, cen_y, z_mean], [cen_x - 0.00001, cen_y - 0.00001, cen_z - 0.00001], [cen_x + 0.00001, cen_y + 0.00001, cen_z + 0.00001]]))\n",
    "            tower_map[0][floors][1] = col\n",
    "            true_x, true_y = get_true_box_center_coordinates_xy(cen_x, cen_y)\n",
    "            tower_map[1][floors][1] = (true_x, true_y, true_z)\n",
    "            print(\"----------------------------------\")\n",
    "            \n",
    "        elif box_extent[1] < 0.015:\n",
    "            print(\"################ CASE 5 ################\")\n",
    "            print(\"BLOCK DIRECTION : Y\")\n",
    "            print(\"PULL DIRECTION : -X\")\n",
    "            vector = np.array([1, 0, 0])\n",
    "            print(\"-----BLOCK CENTER COORDINATE-----\")\n",
    "            cen_x = x_mean# - 25/2\n",
    "            cen_y = y_mean - 0.075/2\n",
    "            cen_z = z_mean\n",
    "            print(\"X :\", cen_x)\n",
    "            print(\"Y :\", cen_y)\n",
    "            print(\"Z :\", cen_z)\n",
    "            pt1 = o3d.cpu.pybind.utility.Vector3dVector(np.array([[cen_x, cen_y, z_mean], [cen_x - 0.00001, cen_y - 0.00001, cen_z - 0.00001], [cen_x + 0.00001, cen_y + 0.00001, cen_z + 0.00001]]))\n",
    "            tower_map[0][floors][2] = col\n",
    "            true_x, true_y = get_true_box_center_coordinates_xy(cen_x, cen_y)\n",
    "            tower_map[1][floors][2] = (true_x, true_y, true_z)\n",
    "            print(\"----------------------------------\")\n",
    "            \n",
    "        elif box_extent[0] < 0.015:\n",
    "            print(\"################ CASE 6 ################\")\n",
    "            print(\"BLOCK DIRECTION : X\")\n",
    "            print(\"PULL DIRECTION : -Y\")\n",
    "            vector = np.array([0, 1, 0])\n",
    "            print(\"-----BLOCK CENTER COORDINATE-----\")\n",
    "            cen_x = x_mean - 0.075/2\n",
    "            cen_y = y_mean# - 25/2\n",
    "            cen_z = z_mean\n",
    "            print(\"X :\", cen_x)\n",
    "            print(\"Y :\", cen_y)\n",
    "            print(\"Z :\", cen_z)\n",
    "            pt1 = o3d.cpu.pybind.utility.Vector3dVector(np.array([[cen_x, cen_y, z_mean], [cen_x - 0.00001, cen_y - 0.00001, cen_z - 0.00001], [cen_x + 0.00001, cen_y + 0.00001, cen_z + 0.00001]]))\n",
    "            tower_map[0][floors][2] = col\n",
    "            true_x, true_y = get_true_box_center_coordinates_xy(cen_x, cen_y)\n",
    "            tower_map[1][floors][2] = (true_x, true_y, true_z)\n",
    "            print(\"----------------------------------\")\n",
    "            \n",
    "        else:\n",
    "            print(\"NOTHING\")\n",
    "            \n",
    "        if abs(cen_x) < 0.0125:\n",
    "            true_x = 0.0\n",
    "        elif cen_x > 0:\n",
    "            true_x = 0.025\n",
    "        else:\n",
    "            true_x = -0.025\n",
    "            \n",
    "        if abs(cen_y) < 0.0125:\n",
    "            true_y = 0.0\n",
    "        elif cen_y > 0:\n",
    "            true_y = 0.025\n",
    "        else:\n",
    "            true_y = -0.025\n",
    "        \n",
    "        print(\"TRUE COORDINATES\")\n",
    "        print(\"true_x :\", true_x)\n",
    "        print(\"true_y :\", true_y)\n",
    "        print(\"true_z :\", true_z)\n",
    "        \n",
    "        pt2 = o3d.cpu.pybind.utility.Vector3dVector(np.array([[true_x, true_y, true_z], [true_x - 0.00001, true_y - 0.00001, true_z - 0.00001], [true_x + 0.00001, true_y + 0.00001, true_z + 0.00001]]))\n",
    "            \n",
    "        mesh_COORD = o3d.geometry.TriangleMesh.create_coordinate_frame(size=10, origin=center_coordinate)\n",
    "        ptc1 = o3d.geometry.PointCloud()\n",
    "        ptc1.points = pt1\n",
    "        ptc1.paint_uniform_color([1, 0, 0])\n",
    "        ptc2 = o3d.geometry.PointCloud()\n",
    "        ptc2.points = pt2\n",
    "        ptc2.paint_uniform_color([0, 0, 1])\n",
    "        line = o3d.geometry.LineSet.create_from_point_cloud_correspondences(ptc1, ptc2, [(0,0)])\n",
    "        # o3d.visualization.draw_geometries([pcd_new, source_temp, mesh_frame_small, ptc1, ptc2, line])"
   ]
  },
  {
   "cell_type": "code",
   "execution_count": 48,
   "metadata": {},
   "outputs": [
    {
     "name": "stdout",
     "output_type": "stream",
     "text": [
      "TriangleMesh with 12 points and 4 triangles.\n",
      "PointCloud with 268886 points.\n"
     ]
    }
   ],
   "source": [
    "mesh_block_x = o3d.io.read_triangle_mesh(\"mesh/single_block_y_m.stl\")\n",
    "print(mesh_tower)\n",
    "\n",
    "mesh_tower.compute_vertex_normals()\n",
    "\n",
    "pcd_mesh = mesh_tower.sample_points_uniformly(number_of_points=len(pcd_combined.points))\n",
    "print(pcd_mesh)"
   ]
  },
  {
   "cell_type": "code",
   "execution_count": 49,
   "metadata": {},
   "outputs": [
    {
     "data": {
      "text/plain": [
       "[[['green', 'violet', 'yellow'],\n",
       "  ['red', 'blue', 'pink'],\n",
       "  ['green', 'violet', 'yellow'],\n",
       "  ['red', 'blue', 'pink'],\n",
       "  ['green', 'violet', 'yellow'],\n",
       "  ['red', 'blue', 'pink'],\n",
       "  ['green', 'violet', 'yellow'],\n",
       "  ['red', 'blue', 'pink'],\n",
       "  ['green', 'violet', 'yellow'],\n",
       "  ['red', 'blue', 'pink'],\n",
       "  ['green', 'violet', 'yellow'],\n",
       "  ['red', 'blue', 'pink']],\n",
       " [[(0.025, 0.0, 0.0075), (0.0, 0.0, 0.0075), (-0.025, 0.0, 0.0075)],\n",
       "  [(0.0, 0.025, 0.0225), (0.0, 0.0, 0.0225), (0.0, -0.025, 0.0225)],\n",
       "  [(0.025, 0.0, 0.0375), (0.0, 0.0, 0.0375), (-0.025, 0.0, 0.0375)],\n",
       "  [(0.0, 0.025, 0.0525), (0.0, 0.0, 0.0525), (0.0, -0.025, 0.0525)],\n",
       "  [(0.025, 0.0, 0.0675), (0.0, 0.0, 0.0675), (-0.025, 0.0, 0.0675)],\n",
       "  [(0.0, 0.025, 0.08249999999999999),\n",
       "   (0.0, 0.0, 0.08249999999999999),\n",
       "   (0.0, -0.025, 0.08249999999999999)],\n",
       "  [(0.025, 0.0, 0.0975), (0.0, 0.0, 0.0975), (-0.025, 0.0, 0.0975)],\n",
       "  [(0.0, 0.025, 0.11249999999999999),\n",
       "   (0.0, 0.0, 0.11249999999999999),\n",
       "   (0.0, -0.025, 0.11249999999999999)],\n",
       "  [(0.025, 0.0, 0.1275), (0.0, 0.0, 0.1275), (-0.025, 0.0, 0.1275)],\n",
       "  [(0.0, 0.025, 0.14250000000000002),\n",
       "   (0.0, 0.0, 0.14250000000000002),\n",
       "   (0.0, -0.025, 0.14250000000000002)],\n",
       "  [(0.025, 0.0, 0.1575), (0.0, 0.0, 0.1575), (-0.025, 0.0, 0.1575)],\n",
       "  [(0.0, 0.025, 0.1725), (0.0, 0.0, 0.1725), (0.0, -0.025, 0.1725)]]]"
      ]
     },
     "execution_count": 49,
     "metadata": {},
     "output_type": "execute_result"
    }
   ],
   "source": [
    "tower_map"
   ]
  },
  {
   "cell_type": "code",
   "execution_count": 50,
   "metadata": {},
   "outputs": [
    {
     "data": {
      "text/plain": [
       "(0, 'X')"
      ]
     },
     "execution_count": 50,
     "metadata": {},
     "output_type": "execute_result"
    }
   ],
   "source": [
    "floor_dir"
   ]
  },
  {
   "cell_type": "markdown",
   "metadata": {},
   "source": [
    "## 여기서부터는 매번 찍을때마다 돌아갈 것"
   ]
  },
  {
   "cell_type": "code",
   "execution_count": 123,
   "metadata": {},
   "outputs": [],
   "source": [
    "target_block = 'red 3'"
   ]
  },
  {
   "cell_type": "code",
   "execution_count": 124,
   "metadata": {},
   "outputs": [
    {
     "data": {
      "text/plain": [
       "'red'"
      ]
     },
     "execution_count": 124,
     "metadata": {},
     "output_type": "execute_result"
    }
   ],
   "source": [
    "traget_block_color, target_block_floor = target_block.split()\n",
    "target_block_color"
   ]
  },
  {
   "cell_type": "code",
   "execution_count": 125,
   "metadata": {},
   "outputs": [
    {
     "data": {
      "text/plain": [
       "'3'"
      ]
     },
     "execution_count": 125,
     "metadata": {},
     "output_type": "execute_result"
    }
   ],
   "source": [
    "target_block_floor"
   ]
  },
  {
   "cell_type": "code",
   "execution_count": 126,
   "metadata": {},
   "outputs": [
    {
     "name": "stdout",
     "output_type": "stream",
     "text": [
      "1\n"
     ]
    }
   ],
   "source": [
    "if target_block_color not in tower_map[0][int(target_block_floor)]:\n",
    "    print(f\"There is no {target_block_color} on floor {target_block_floor}\")\n",
    "else:\n",
    "    # floor to label\n",
    "    i = -1\n",
    "    for f, floor_info in enumerate(tower_map[0]):\n",
    "        for b in floor_info:\n",
    "            if b == target_block_color:\n",
    "                i += 1\n",
    "            else:\n",
    "                continue\n",
    "        if f == int(target_block_floor):\n",
    "            break\n",
    "    \n",
    "    print(i)\n",
    "    target_block_label = i"
   ]
  },
  {
   "cell_type": "code",
   "execution_count": null,
   "metadata": {},
   "outputs": [],
   "source": []
  },
  {
   "cell_type": "code",
   "execution_count": 131,
   "metadata": {},
   "outputs": [
    {
     "name": "stdout",
     "output_type": "stream",
     "text": [
      "red\n",
      "1\n"
     ]
    }
   ],
   "source": [
    "for col, pcds in zip(colors, blocks_pcd_by_color):\n",
    "    if col != target_block_color:\n",
    "        continue\n",
    "    print(col)\n",
    "    \n",
    "    for idx, pcd in enumerate(pcds):\n",
    "        if idx != target_block_label:\n",
    "            continue\n",
    "        print(idx)\n"
   ]
  },
  {
   "cell_type": "code",
   "execution_count": 132,
   "metadata": {},
   "outputs": [],
   "source": [
    "if int(target_block_floor) % 2 == floor_dir[0]:\n",
    "    block_direction = floor_dir[1]\n",
    "else:\n",
    "    block_direction = 'Y' if floor_dir[1] == 'X' else 'X'"
   ]
  },
  {
   "cell_type": "code",
   "execution_count": 133,
   "metadata": {},
   "outputs": [
    {
     "data": {
      "text/plain": [
       "'Y'"
      ]
     },
     "execution_count": 133,
     "metadata": {},
     "output_type": "execute_result"
    }
   ],
   "source": [
    "block_direction"
   ]
  },
  {
   "cell_type": "code",
   "execution_count": 134,
   "metadata": {},
   "outputs": [],
   "source": [
    "trans_init = np.asarray([[0, 0, -1, move[0]],\n",
    "                         [-1, 0, 0, move[1]],\n",
    "                         [0, 1, 0, move[2]],\n",
    "                         [0, 0, 0, 1]])"
   ]
  }
 ],
 "metadata": {
  "kernelspec": {
   "display_name": "urp",
   "language": "python",
   "name": "python3"
  },
  "language_info": {
   "codemirror_mode": {
    "name": "ipython",
    "version": 3
   },
   "file_extension": ".py",
   "mimetype": "text/x-python",
   "name": "python",
   "nbconvert_exporter": "python",
   "pygments_lexer": "ipython3",
   "version": "3.8.10"
  },
  "orig_nbformat": 4
 },
 "nbformat": 4,
 "nbformat_minor": 2
}
