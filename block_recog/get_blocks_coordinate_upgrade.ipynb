{
 "cells": [
  {
   "attachments": {},
   "cell_type": "markdown",
   "metadata": {},
   "source": [
    "# Blcok Recognition"
   ]
  },
  {
   "attachments": {},
   "cell_type": "markdown",
   "metadata": {},
   "source": [
    "## Import Libraries"
   ]
  },
  {
   "cell_type": "code",
   "execution_count": 1,
   "metadata": {},
   "outputs": [
    {
     "name": "stdout",
     "output_type": "stream",
     "text": [
      "Jupyter environment detected. Enabling Open3D WebVisualizer.\n",
      "[Open3D INFO] WebRTC GUI backend enabled.\n",
      "[Open3D INFO] WebRTCWindowSystem: HTTP handshake server disabled.\n"
     ]
    }
   ],
   "source": [
    "import numpy as np\n",
    "import cv2\n",
    "import glob\n",
    "from matplotlib import pyplot as plt\n",
    "import open3d as o3d\n",
    "import copy\n",
    "import pickle"
   ]
  },
  {
   "cell_type": "code",
   "execution_count": 2,
   "metadata": {},
   "outputs": [],
   "source": [
    "with open('./test_imgs/dep.p', 'rb') as dep:\n",
    "    d = pickle.load(dep, encoding=\"16UC1\")"
   ]
  },
  {
   "cell_type": "code",
   "execution_count": 3,
   "metadata": {},
   "outputs": [],
   "source": [
    "with open('./test_imgs/rgb.p', 'rb') as rgb:\n",
    "    r = pickle.load(rgb)\n"
   ]
  },
  {
   "cell_type": "code",
   "execution_count": 4,
   "metadata": {},
   "outputs": [
    {
     "data": {
      "text/plain": [
       "915"
      ]
     },
     "execution_count": 4,
     "metadata": {},
     "output_type": "execute_result"
    }
   ],
   "source": [
    "d.max()"
   ]
  },
  {
   "attachments": {},
   "cell_type": "markdown",
   "metadata": {},
   "source": [
    "## Read Test Images"
   ]
  },
  {
   "cell_type": "code",
   "execution_count": 5,
   "metadata": {},
   "outputs": [
    {
     "name": "stdout",
     "output_type": "stream",
     "text": [
      "color shape:  (1536, 2048, 3)\n",
      "depth shape:  (1536, 2048)\n"
     ]
    }
   ],
   "source": [
    "# 로봇이 촬영할 때 카메라가 거꾸로 있다고 가정\n",
    "img_color = cv2.rotate(r, cv2.ROTATE_180) \n",
    "img_depth = cv2.rotate(d, cv2.ROTATE_180) \n",
    "print('color shape: ', img_color.shape)\n",
    "print('depth shape: ', img_depth.shape)\n",
    "\n",
    "# cv2.imshow(f'color', img_color)\n",
    "# # # cv2.imwrite('../imgs/red_extract.png', each_color_filtered)\n",
    "# cv2.waitKey(0)\n",
    "# cv2.destroyAllWindows()"
   ]
  },
  {
   "attachments": {},
   "cell_type": "markdown",
   "metadata": {},
   "source": [
    "## Extract Blocks' Masks By Colors"
   ]
  },
  {
   "cell_type": "code",
   "execution_count": 6,
   "metadata": {},
   "outputs": [],
   "source": [
    "height, width = img_color.shape[:2] # 이미지의 높이와 너비 불러옴, 가로 [0], 세로[1]\n",
    "\n",
    "img_hsv = cv2.cvtColor(img_color, cv2.COLOR_BGR2HSV) # cvtColor 함수를 이용하여 hsv 색공간으로 변환"
   ]
  },
  {
   "cell_type": "code",
   "execution_count": 7,
   "metadata": {},
   "outputs": [],
   "source": [
    "colors = ['green', 'pink', 'yellow', 'blue', 'violet', 'red']"
   ]
  },
  {
   "cell_type": "code",
   "execution_count": 8,
   "metadata": {},
   "outputs": [],
   "source": [
    "# RED\n",
    "lower_red1 = np.array([0, 130, 50])\n",
    "upper_red1 = np.array([15, 255, 255])\n",
    "lower_red2 = np.array([160,130,50])\n",
    "upper_red2 = np.array([179,255,255])\n",
    "\n",
    "# PINK\n",
    "lower_pink1 = np.array([0, 55, 80])\n",
    "upper_pink1 = np.array([10, 130, 255])\n",
    "lower_pink2 = np.array([150,55,80])\n",
    "upper_pink2 = np.array([179,130,255])\n",
    "\n",
    "# GREEN\n",
    "lower_green = (70-20, 50, 50)\n",
    "upper_green = (70+15, 255, 255)\n",
    "\n",
    "# YELLOW\n",
    "lower_yellow = (30-10, 80, 80)\n",
    "upper_yellow = (30+10, 255, 255)\n",
    "\n",
    "# BLUE\n",
    "lower_blue = (100-10, 100, 100)\n",
    "upper_blue = (100+9, 255, 255)\n",
    "\n",
    "# VIOLET\n",
    "lower_violet = (130-20, 60, 60)\n",
    "upper_violet = (130+20, 255, 255)"
   ]
  },
  {
   "cell_type": "code",
   "execution_count": 9,
   "metadata": {},
   "outputs": [],
   "source": [
    "blocks_rgb_by_color = []\n",
    "blocks_mask_by_color = []\n",
    "for color in colors:\n",
    "    if color == 'pink' or color =='red':\n",
    "        for i in (1,2):\n",
    "            exec(f\"lower_color{i} = lower_{color}{i}\")\n",
    "            exec(f\"upper_color{i} = upper_{color}{i}\")\n",
    "\n",
    "        mask_color1 = cv2.inRange(img_hsv, lower_color1, upper_color1)\n",
    "        mask_color2 = cv2.inRange(img_hsv, lower_color2, upper_color2)\n",
    "        img_mask_color = mask_color1 + mask_color2\n",
    "    \n",
    "    else:\n",
    "        exec(f\"lower_color = lower_{color}\")\n",
    "        exec(f\"upper_color = upper_{color}\")\n",
    "\n",
    "        img_mask_color = cv2.inRange(img_hsv, lower_color, upper_color) # 범위내의 픽셀들은 흰색, 나머지 검은색\n",
    "\n",
    "    kernel = cv2.getStructuringElement(cv2.MORPH_RECT, (3,3))\n",
    "    erosion_image_color = cv2.erode(img_mask_color, kernel, iterations=1)  #// make erosion image\n",
    "    img_mask_color = cv2.dilate(erosion_image_color, kernel, iterations=1)  #// make dilation image\n",
    "\n",
    "    # 바이너리 이미지를 마스크로 사용하여 원본이미지에서 범위값에 해당하는 영상부분을 획득\n",
    "    img_result_color = cv2.bitwise_and(img_color, img_color, mask = img_mask_color) \n",
    "\n",
    "    exec(f\"img_result_{color} = img_result_color\")\n",
    "        \n",
    "    _, src_bin = cv2.threshold(img_mask_color, 0, 255, cv2.THRESH_OTSU)\n",
    "    each_color_filtered = cv2.bitwise_and(img_color, img_color, mask = src_bin)\n",
    "    \n",
    "    # if color == 'violet':\n",
    "    #     cv2.imshow('src_bin', src_bin)\n",
    "    #     # cv2.imwrite('../imgs/red_mask.png', src_bin)\n",
    "    #     cv2.imshow(f'{color}_filtered', each_color_filtered)\n",
    "    #     # cv2.imwrite('../imgs/red_extract.png', each_color_filtered)\n",
    "    #     cv2.waitKey(0)\n",
    "    #     cv2.destroyAllWindows()\n",
    "\n",
    "    cnt, labels, stats, centroids = cv2.connectedComponentsWithStats(src_bin)\n",
    "\n",
    "    blocks_color = []\n",
    "    blocks_mask = []\n",
    "\n",
    "    for i in range(1, cnt): # 각각의 객체 정보에 들어가기 위해 반복문. 범위를 1부터 시작한 이유는 배경을 제외\n",
    "        (x, y, w, h, area) = stats[i]\n",
    "        cen_x, cen_y = map(int, centroids[i])\n",
    "        block_mask = (labels==i)*img_mask_color\n",
    "        block_color = cv2.bitwise_and(img_color, img_color, mask = block_mask)\n",
    "        \n",
    "        # 노이즈 제거\n",
    "        if area < 300:\n",
    "            continue\n",
    "        \n",
    "        # if color == 'violet':\n",
    "        #     cv2.imshow('blk clr', block_color)\n",
    "        #     # cv2.imwrite('../imgs/red_block2_color.png', block_color)\n",
    "        #     cv2.imshow('blk msk', block_mask)\n",
    "        #     # cv2.imwrite('../imgs/red_block2_mask.png', block_mask)\n",
    "        #     cv2.waitKey(0)\n",
    "        #     cv2.destroyAllWindows()\n",
    "            \n",
    "        \n",
    "        blocks_color.append(block_color)\n",
    "        blocks_mask.append(block_mask)\n",
    "        \n",
    "        \n",
    "    exec(f\"blocks_rgb_{color} = blocks_color\")\n",
    "    exec(f\"blocks_mask_{color} = blocks_mask\")\n",
    "    exec(f\"blocks_rgb_by_color.append(blocks_rgb_{color})\")\n",
    "    exec(f\"blocks_mask_by_color.append(blocks_mask_{color})\")\n",
    "    "
   ]
  },
  {
   "cell_type": "code",
   "execution_count": 10,
   "metadata": {},
   "outputs": [],
   "source": [
    "tower_mask = 0\n",
    "tower_color = 0\n",
    "for mask, color in zip(blocks_mask_by_color, blocks_rgb_by_color):\n",
    "    for block_m in mask:\n",
    "        tower_mask += block_m\n",
    "    \n",
    "    for block_c in color:\n",
    "        tower_color += block_c"
   ]
  },
  {
   "cell_type": "code",
   "execution_count": 11,
   "metadata": {},
   "outputs": [],
   "source": [
    "# cv2.imshow('tower mask', tower_mask)\n",
    "# # cv2.imwrite('../imgs/tower_mask.png', tower_mask)\n",
    "# cv2.imshow('tower color', tower_color)\n",
    "# # cv2.imwrite('../imgs/tower_color.png', tower_color)\n",
    "# cv2.waitKey(0)\n",
    "# cv2.destroyAllWindows()"
   ]
  },
  {
   "cell_type": "code",
   "execution_count": 12,
   "metadata": {},
   "outputs": [
    {
     "name": "stdout",
     "output_type": "stream",
     "text": [
      "green\n",
      "6 Blocks\n",
      "pink\n",
      "6 Blocks\n",
      "yellow\n",
      "6 Blocks\n",
      "blue\n",
      "6 Blocks\n",
      "violet\n",
      "6 Blocks\n",
      "red\n",
      "6 Blocks\n"
     ]
    }
   ],
   "source": [
    "for c, b, rgb_m in zip(colors, blocks_mask_by_color, blocks_rgb_by_color):\n",
    "    print(c)\n",
    "    print(len(b), \"Blocks\")"
   ]
  },
  {
   "attachments": {},
   "cell_type": "markdown",
   "metadata": {},
   "source": [
    "## Get PointCloud from RGB Image + Depth Image"
   ]
  },
  {
   "cell_type": "code",
   "execution_count": 13,
   "metadata": {},
   "outputs": [],
   "source": [
    "# temp intrinsic matrix\n",
    "intrinsic = o3d.camera.PinholeCameraIntrinsic()\n",
    "intrinsic.intrinsic_matrix = [[968.813, 0, 1023.83],\n",
    "                              [0, 968.635, 775.975],\n",
    "                              [0, 0, 1]]\n",
    "\n",
    "\n",
    "# extrinsic = np.array([[0.999987, 0.00512943, 0.000573447, -32.0559],\n",
    "#                      [-0.00516119, 0.994725, 0.102443, -1.91788],\n",
    "#                      [-4.49478e-05, -0.102445, 0.994739, 3.99916],\n",
    "#                      [0, 0, 0, 1]])\n",
    "# extrinsic"
   ]
  },
  {
   "cell_type": "code",
   "execution_count": 14,
   "metadata": {},
   "outputs": [],
   "source": [
    "mesh_frame = o3d.geometry.TriangleMesh.create_coordinate_frame(\n",
    "    size=50, origin=[0, 0, 0])\n",
    "mesh_frame_small = o3d.geometry.TriangleMesh.create_coordinate_frame(\n",
    "    size=0.1, origin=[0, 0, 0])"
   ]
  },
  {
   "cell_type": "code",
   "execution_count": 15,
   "metadata": {},
   "outputs": [],
   "source": [
    "def get_pointcloud_from_color_depth(color_image, depth_image, intrinsic):\n",
    "    o3d_img = o3d.geometry.Image()\n",
    "    \n",
    "    if isinstance(color_image, type(o3d_img)):\n",
    "        pass\n",
    "    elif isinstance(color_image, np.ndarray):\n",
    "        color_image = cv2.cvtColor(color_image, cv2.COLOR_BGR2RGB)\n",
    "        color_image = o3d.geometry.Image(color_image)\n",
    "        \n",
    "    if isinstance(depth_image, type(o3d_img)):\n",
    "        pass\n",
    "    elif isinstance(depth_image, np.ndarray):\n",
    "        depth_image = o3d.geometry.Image(depth_image)\n",
    "        \n",
    "    # rgbd_image = o3d.geometry.RGBDImage.create_from_color_and_depth(color_image, depth_image, depth_scale=1, depth_trunc=3000.0, convert_rgb_to_intensity=False)\n",
    "    rgbd_image = o3d.geometry.RGBDImage.create_from_color_and_depth(color_image, depth_image, convert_rgb_to_intensity=False)\n",
    "    # print(np.asarray(rgbd_image.depth).max())\n",
    "    pcd = o3d.geometry.PointCloud.create_from_rgbd_image(rgbd_image, intrinsic)\n",
    "    \n",
    "    return pcd"
   ]
  },
  {
   "cell_type": "code",
   "execution_count": 16,
   "metadata": {},
   "outputs": [],
   "source": [
    "masked_depth = cv2.bitwise_and(img_depth, img_depth, mask = tower_mask)"
   ]
  },
  {
   "cell_type": "code",
   "execution_count": 17,
   "metadata": {},
   "outputs": [],
   "source": [
    "tower_pcd = get_pointcloud_from_color_depth(color_image=tower_color, depth_image=masked_depth, intrinsic=intrinsic)\n"
   ]
  },
  {
   "cell_type": "code",
   "execution_count": 18,
   "metadata": {},
   "outputs": [
    {
     "name": "stdout",
     "output_type": "stream",
     "text": [
      "<class 'open3d.cpu.pybind.geometry.PointCloud'>\n"
     ]
    }
   ],
   "source": [
    "print(type(tower_pcd))"
   ]
  },
  {
   "cell_type": "code",
   "execution_count": 19,
   "metadata": {},
   "outputs": [
    {
     "name": "stdout",
     "output_type": "stream",
     "text": [
      "PointCloud with 269786 points.\n",
      "[[ 0.01713344 -0.11159441  0.23      ]\n",
      " [ 0.01737084 -0.11159441  0.23      ]\n",
      " [ 0.01760825 -0.11159441  0.23      ]\n",
      " ...\n",
      " [ 0.06503258  0.30194741  0.87300003]\n",
      " [ 0.06593369  0.30194741  0.87300003]\n",
      " [ 0.06683479  0.30194741  0.87300003]]\n"
     ]
    }
   ],
   "source": [
    "print(tower_pcd)\n",
    "print(np.asarray(tower_pcd.points))\n",
    "o3d.visualization.draw_geometries([tower_pcd])"
   ]
  },
  {
   "cell_type": "code",
   "execution_count": 20,
   "metadata": {},
   "outputs": [
    {
     "name": "stdout",
     "output_type": "stream",
     "text": [
      "X min/max: -0.05306539164999172 0.19042678626746515\n",
      "Y min/max: -0.11450141345070337 0.3019474142753751\n",
      "Z min/max: 0.2150000035762787 0.8889999985694885\n"
     ]
    }
   ],
   "source": [
    "points = np.asarray(tower_pcd.points)\n",
    "\n",
    "print(\"X min/max:\", np.min(points[:, 0]), np.max(points[:, 0]))\n",
    "print(\"Y min/max:\", np.min(points[:, 1]), np.max(points[:, 1]))\n",
    "print(\"Z min/max:\", np.min(points[:, 2]), np.max(points[:, 2]))"
   ]
  },
  {
   "cell_type": "code",
   "execution_count": 21,
   "metadata": {},
   "outputs": [],
   "source": [
    "blocks_pcd_by_color = []\n",
    "all_pcd = []\n",
    "for color, block_mask in zip(colors, blocks_mask_by_color):\n",
    "    # print(color)\n",
    "    # if color != 'blue':\n",
    "    #     continue\n",
    "    blocks_pcd = []\n",
    "    for msk in block_mask:\n",
    "        masked_block_rgb = cv2.bitwise_and(tower_color, tower_color, mask = msk)\n",
    "        masked_block_depth = cv2.bitwise_and(img_depth, img_depth, mask = msk)\n",
    "        \n",
    "        # Get Each Block's PointCloud\n",
    "        pcd = get_pointcloud_from_color_depth(color_image=masked_block_rgb, depth_image=masked_block_depth, intrinsic=intrinsic)\n",
    "        \n",
    "        # Remove Outlier Points\n",
    "        pcd, _ = pcd.remove_radius_outlier(1024, 0.025)\n",
    "        blocks_pcd.append(pcd)\n",
    "        all_pcd.append(pcd)\n",
    "        \n",
    "        # if color=='blue':\n",
    "        #     o3d.visualization.draw_geometries([pcd])\n",
    "    \n",
    "    exec(f\"blocks_pcd_{color} = blocks_pcd\")\n",
    "    exec(f\"blocks_pcd_by_color.append(blocks_pcd_{color})\")"
   ]
  },
  {
   "cell_type": "code",
   "execution_count": 22,
   "metadata": {},
   "outputs": [
    {
     "name": "stdout",
     "output_type": "stream",
     "text": [
      "PointCloud with 269007 points.\n"
     ]
    }
   ],
   "source": [
    "pcd_combined = o3d.geometry.PointCloud()\n",
    "for point_id in range(len(all_pcd)):\n",
    "    pcd_combined += all_pcd[point_id]\n",
    "\n",
    "print(pcd_combined)\n",
    "# print(len(pcd_combined.points))"
   ]
  },
  {
   "cell_type": "code",
   "execution_count": 23,
   "metadata": {},
   "outputs": [
    {
     "name": "stdout",
     "output_type": "stream",
     "text": [
      "X min/max: -0.05306539164999172 0.06121221759472663\n",
      "Y min/max: -0.11450141345070337 0.07756784144283184\n",
      "Z min/max: 0.2150000035762787 0.3070000112056732\n"
     ]
    }
   ],
   "source": [
    "points = np.asarray(pcd_combined.points)\n",
    "\n",
    "print(\"X min/max:\", np.min(points[:, 0]), np.max(points[:, 0]))\n",
    "print(\"Y min/max:\", np.min(points[:, 1]), np.max(points[:, 1]))\n",
    "print(\"Z min/max:\", np.min(points[:, 2]), np.max(points[:, 2]))"
   ]
  },
  {
   "cell_type": "code",
   "execution_count": 24,
   "metadata": {},
   "outputs": [
    {
     "data": {
      "text/plain": [
       "0.1920692548935352"
      ]
     },
     "execution_count": 24,
     "metadata": {},
     "output_type": "execute_result"
    }
   ],
   "source": [
    "np.max(points[:, 1]) - np.min(points[:, 1])"
   ]
  },
  {
   "cell_type": "code",
   "execution_count": 25,
   "metadata": {},
   "outputs": [
    {
     "data": {
      "text/plain": [
       "6"
      ]
     },
     "execution_count": 25,
     "metadata": {},
     "output_type": "execute_result"
    }
   ],
   "source": [
    "len(blocks_pcd_by_color)"
   ]
  },
  {
   "attachments": {},
   "cell_type": "markdown",
   "metadata": {},
   "source": [
    "## Tower ICP"
   ]
  },
  {
   "cell_type": "code",
   "execution_count": 26,
   "metadata": {},
   "outputs": [],
   "source": [
    "\n",
    "# o3d.visualization.draw_geometries([pcd_combined, mesh_frame_small])\n",
    "\n",
    "# o3d.visualization.draw_geometries([pcd_combined, mesh_frame])"
   ]
  },
  {
   "cell_type": "code",
   "execution_count": 27,
   "metadata": {},
   "outputs": [
    {
     "name": "stdout",
     "output_type": "stream",
     "text": [
      "TriangleMesh with 12 points and 4 triangles.\n",
      "PointCloud with 269007 points.\n"
     ]
    }
   ],
   "source": [
    "mesh_tower = o3d.io.read_triangle_mesh(\"mesh/jenga_tower_side_xy_m.stl\")\n",
    "print(mesh_tower)\n",
    "\n",
    "mesh_tower.compute_vertex_normals()\n",
    "\n",
    "pcd_mesh = mesh_tower.sample_points_uniformly(number_of_points=len(pcd_combined.points))\n",
    "print(pcd_mesh)\n",
    "# o3d.visualization.draw_geometries([pcd_mesh, mesh_frame_small])"
   ]
  },
  {
   "cell_type": "code",
   "execution_count": 28,
   "metadata": {},
   "outputs": [
    {
     "name": "stdout",
     "output_type": "stream",
     "text": [
      "X min/max: -0.03749984648405871 0.037500001490116126\n",
      "Y min/max: -0.03749987825867059 0.037500001490116126\n",
      "Z min/max: 2.3660025761274767e-06 0.1799991585795496\n"
     ]
    }
   ],
   "source": [
    "points = np.asarray(pcd_mesh.points)\n",
    "\n",
    "print(\"X min/max:\", np.min(points[:, 0]), np.max(points[:, 0]))\n",
    "print(\"Y min/max:\", np.min(points[:, 1]), np.max(points[:, 1]))\n",
    "print(\"Z min/max:\", np.min(points[:, 2]), np.max(points[:, 2]))"
   ]
  },
  {
   "cell_type": "code",
   "execution_count": 29,
   "metadata": {},
   "outputs": [],
   "source": [
    "initial_transform = np.asarray([[0, 0, -1, 0],\n",
    "                                [-1, 0, 0, 0],\n",
    "                                [0, 1, 0, 0],\n",
    "                                [0, 0, 0, 1]])"
   ]
  },
  {
   "cell_type": "code",
   "execution_count": 30,
   "metadata": {},
   "outputs": [],
   "source": [
    "def prepare_icp(source, target):\n",
    "    source_tmp = copy.deepcopy(source)\n",
    "    target_tmp = copy.deepcopy(target)\n",
    "    \n",
    "    # make the point cloud into right position\n",
    "    source_tmp.transform(initial_transform)\n",
    "    \n",
    "    # move the source pcd to do icp\n",
    "    move = np.array(target_tmp.get_oriented_bounding_box().get_center() - source_tmp.get_oriented_bounding_box().get_center())\n",
    "\n",
    "    source_tmp.transform(np.linalg.inv(initial_transform))\n",
    "    \n",
    "    o3d.visualization.draw_geometries([source_tmp, target_tmp, mesh_frame_small])\n",
    "    \n",
    "    return source_tmp, target_tmp, move"
   ]
  },
  {
   "cell_type": "code",
   "execution_count": 31,
   "metadata": {},
   "outputs": [],
   "source": [
    "source, target,  move = prepare_icp(pcd_combined, pcd_mesh)"
   ]
  },
  {
   "cell_type": "code",
   "execution_count": 32,
   "metadata": {},
   "outputs": [
    {
     "data": {
      "text/plain": [
       "array([0.26926798, 0.02204066, 0.10843644])"
      ]
     },
     "execution_count": 32,
     "metadata": {},
     "output_type": "execute_result"
    }
   ],
   "source": [
    "move"
   ]
  },
  {
   "cell_type": "code",
   "execution_count": 33,
   "metadata": {},
   "outputs": [],
   "source": [
    "def draw_registration_result(source, target, transformation):\n",
    "    source_temp = copy.deepcopy(source)\n",
    "    target_temp = copy.deepcopy(target)\n",
    "    # source_temp.paint_uniform_color([1, 0.706, 0])\n",
    "    # target_temp.paint_uniform_color([0, 0.651, 0.929])\n",
    "    source_temp.transform(transformation)\n",
    "    o3d.visualization.draw_geometries([source_temp, target_temp, mesh_frame_small])"
   ]
  },
  {
   "cell_type": "code",
   "execution_count": 34,
   "metadata": {},
   "outputs": [],
   "source": [
    "threshold = 10\n",
    "trans_init = np.asarray([[0, 0, -1, move[0]],\n",
    "                         [-1, 0, 0, move[1]],\n",
    "                         [0, 1, 0, move[2]],\n",
    "                         [0, 0, 0, 1]])\n",
    "draw_registration_result(source, target, trans_init)"
   ]
  },
  {
   "cell_type": "code",
   "execution_count": 35,
   "metadata": {},
   "outputs": [
    {
     "name": "stdout",
     "output_type": "stream",
     "text": [
      "Initial alignment\n",
      "RegistrationResult with fitness=1.000000e+00, inlier_rmse=2.393241e-02, and correspondence_set size of 269007\n",
      "Access transformation to get result.\n"
     ]
    }
   ],
   "source": [
    "print(\"Initial alignment\")\n",
    "evaluation = o3d.pipelines.registration.evaluate_registration(\n",
    "    source, target, threshold, trans_init)\n",
    "print(evaluation)"
   ]
  },
  {
   "cell_type": "code",
   "execution_count": 36,
   "metadata": {},
   "outputs": [
    {
     "name": "stdout",
     "output_type": "stream",
     "text": [
      "RegistrationResult with fitness=1.000000e+00, inlier_rmse=2.538656e-03, and correspondence_set size of 269007\n",
      "Access transformation to get result.\n",
      "Transformation is:\n",
      "[[ 0.85954526 -0.01968781 -0.51068027  0.14083954]\n",
      " [-0.51048422  0.01432932 -0.85976772  0.24443215]\n",
      " [ 0.02424464  0.99970349  0.00226638  0.10622667]\n",
      " [ 0.          0.          0.          1.        ]]\n"
     ]
    }
   ],
   "source": [
    "reg_p2p = o3d.pipelines.registration.registration_icp(\n",
    "    source, target, threshold, trans_init,\n",
    "    o3d.pipelines.registration.TransformationEstimationPointToPoint(),\n",
    "    o3d.pipelines.registration.ICPConvergenceCriteria(max_iteration=2000))\n",
    "print(reg_p2p)\n",
    "print(\"Transformation is:\")\n",
    "print(reg_p2p.transformation)\n",
    "draw_registration_result(source, target, reg_p2p.transformation)"
   ]
  },
  {
   "cell_type": "code",
   "execution_count": 37,
   "metadata": {},
   "outputs": [],
   "source": [
    "draw_registration_result(source, target, reg_p2p.transformation)"
   ]
  },
  {
   "cell_type": "code",
   "execution_count": 38,
   "metadata": {},
   "outputs": [
    {
     "data": {
      "text/plain": [
       "PointCloud with 269007 points."
      ]
     },
     "execution_count": 38,
     "metadata": {},
     "output_type": "execute_result"
    }
   ],
   "source": [
    "source_temp = copy.deepcopy(source)\n",
    "\n",
    "source_temp.transform(reg_p2p.transformation)\n"
   ]
  },
  {
   "cell_type": "code",
   "execution_count": 39,
   "metadata": {},
   "outputs": [
    {
     "data": {
      "text/plain": [
       "-0.0071748010989071825"
      ]
     },
     "execution_count": 39,
     "metadata": {},
     "output_type": "execute_result"
    }
   ],
   "source": [
    "(np.array(source_temp.points))[:,2].min()"
   ]
  },
  {
   "attachments": {},
   "cell_type": "markdown",
   "metadata": {},
   "source": [
    "## Blocks Transformation"
   ]
  },
  {
   "cell_type": "code",
   "execution_count": 40,
   "metadata": {},
   "outputs": [],
   "source": [
    "trans1 = reg_p2p.transformation"
   ]
  },
  {
   "cell_type": "code",
   "execution_count": 41,
   "metadata": {},
   "outputs": [],
   "source": [
    "trans = copy.deepcopy(reg_p2p.transformation)"
   ]
  },
  {
   "cell_type": "code",
   "execution_count": 42,
   "metadata": {},
   "outputs": [
    {
     "name": "stdout",
     "output_type": "stream",
     "text": [
      "[[ 0.85954526 -0.01968781 -0.51068027  0.14083954]\n",
      " [-0.51048422  0.01432932 -0.85976772  0.24443215]\n",
      " [ 0.02424464  0.99970349  0.00226638  0.10622667]\n",
      " [ 0.          0.          0.          1.        ]]\n",
      "[[ 0.85954526 -0.51048422  0.02424464  0.00114536]\n",
      " [-0.01968781  0.01432932  0.99970349 -0.10692489]\n",
      " [-0.51068027 -0.85976772  0.00226638  0.28183809]\n",
      " [ 0.          0.          0.          1.        ]]\n"
     ]
    }
   ],
   "source": [
    "print(trans)\n",
    "# trans[0,3]/=1000\n",
    "# trans[1,3]/=1000\n",
    "# trans[2,3]/=1000\n",
    "\n",
    "print(np.linalg.inv(trans))"
   ]
  },
  {
   "cell_type": "code",
   "execution_count": 43,
   "metadata": {},
   "outputs": [],
   "source": [
    "def transform_blocks(pcd, icp_transform):\n",
    "    pcd_temp = copy.deepcopy(pcd)\n",
    "    aa = o3d.cpu.pybind.utility.Vector3dVector(np.array(pcd_temp.points))\n",
    "    pcd_temp.points = aa\n",
    "    pcd_temp.transform(icp_transform)\n",
    "    \n",
    "    return pcd_temp"
   ]
  },
  {
   "cell_type": "code",
   "execution_count": 44,
   "metadata": {},
   "outputs": [],
   "source": [
    "# WHAT IS THE TARGET BLOCK?\n",
    "target_block_color = 'green'\n",
    "target_block_label = 3"
   ]
  },
  {
   "cell_type": "markdown",
   "metadata": {},
   "source": [
    "**처음 카메라 돌릴때 알아내야하는 것**\n",
    "1. MESH <-> CAMERA 변환 관계\n",
    "2. 각 블럭(or 색)의 초기 상태를 알면 됨\n",
    "\t* 어떤 방향으로 놓여있는지 (x or y)\n",
    "\t* 몇층에 놓여있는지 or z축 좌표"
   ]
  },
  {
   "cell_type": "code",
   "execution_count": 45,
   "metadata": {},
   "outputs": [],
   "source": [
    "def get_true_box_center_coordinates_xy(cen_x, cen_y):\n",
    "    if abs(cen_x) < 0.0125:\n",
    "        true_x = 0.0\n",
    "    elif cen_x > 0:\n",
    "        true_x = 0.025\n",
    "    else:\n",
    "        true_x = -0.025\n",
    "            \n",
    "    if abs(cen_y) < 0.0125:\n",
    "        true_y = 0.0\n",
    "    elif cen_y > 0:\n",
    "        true_y = 0.025\n",
    "    else:\n",
    "        true_y = -0.025\n",
    "    \n",
    "    return true_x, true_y"
   ]
  },
  {
   "cell_type": "code",
   "execution_count": 46,
   "metadata": {},
   "outputs": [],
   "source": [
    "tower_map = [['' for _ in range(3)] for _ in range(12)]"
   ]
  },
  {
   "cell_type": "code",
   "execution_count": 58,
   "metadata": {},
   "outputs": [
    {
     "name": "stdout",
     "output_type": "stream",
     "text": [
      "green\n",
      "0\n",
      "BOX EXTENT :  [0.027539   0.0923661  0.02066275]\n",
      "BOX CENTER COORDINATE :  [ 0.03046375 -0.00609814  0.00315657]\n",
      "FLOORS : 0\n",
      "true_z : 0.0075\n",
      "################ CASE 1 ################\n",
      "BLOCK DIRECTION : Y\n",
      "PULL DIRECTION : X\n",
      "-----BLOCK CENTER COORDINATE-----\n",
      "X : 0.030463751330360556\n",
      "Y : -0.0060981385693140155\n",
      "Z : 0.0031565744424153774\n",
      "----------------------------------\n",
      "TRUE COORDINATES\n",
      "true_x : 0.025\n",
      "true_y : 0.0\n",
      "true_z : 0.0075\n",
      "1\n",
      "BOX EXTENT :  [0.02938336 0.08277292 0.0173094 ]\n",
      "BOX CENTER COORDINATE :  [ 0.02685076 -0.00552119  0.03503823]\n",
      "FLOORS : 2\n",
      "true_z : 0.0375\n",
      "################ CASE 1 ################\n",
      "BLOCK DIRECTION : Y\n",
      "PULL DIRECTION : X\n",
      "-----BLOCK CENTER COORDINATE-----\n",
      "X : 0.026850764822431816\n",
      "Y : -0.005521188311758282\n",
      "Z : 0.03503823018547616\n",
      "----------------------------------\n",
      "TRUE COORDINATES\n",
      "true_x : 0.025\n",
      "true_y : 0.0\n",
      "true_z : 0.0375\n",
      "2\n",
      "BOX EXTENT :  [0.03102838 0.0796267  0.01845253]\n",
      "BOX CENTER COORDINATE :  [ 0.02755978 -0.00254722  0.06764036]\n",
      "FLOORS : 4\n",
      "true_z : 0.0675\n",
      "################ CASE 1 ################\n",
      "BLOCK DIRECTION : Y\n",
      "PULL DIRECTION : X\n",
      "-----BLOCK CENTER COORDINATE-----\n",
      "X : 0.02755978021502173\n",
      "Y : -0.002547223211975272\n",
      "Z : 0.06764035508065963\n",
      "----------------------------------\n",
      "TRUE COORDINATES\n",
      "true_x : 0.025\n",
      "true_y : 0.0\n",
      "true_z : 0.0675\n",
      "3\n",
      "BOX EXTENT :  [0.03823105 0.0842464  0.01620213]\n",
      "BOX CENTER COORDINATE :  [ 0.02857357 -0.00454005  0.10005243]\n",
      "FLOORS : 6\n",
      "true_z : 0.0975\n",
      "################ CASE 1 ################\n",
      "BLOCK DIRECTION : Y\n",
      "PULL DIRECTION : X\n",
      "-----BLOCK CENTER COORDINATE-----\n",
      "X : 0.028573568303226327\n",
      "Y : -0.004540047512750112\n",
      "Z : 0.1000524287702263\n",
      "----------------------------------\n",
      "TRUE COORDINATES\n",
      "true_x : 0.025\n",
      "true_y : 0.0\n",
      "true_z : 0.0975\n",
      "4\n",
      "BOX EXTENT :  [0.03915611 0.07852822 0.01696006]\n",
      "BOX CENTER COORDINATE :  [ 0.0293315  -0.00082512  0.1321577 ]\n",
      "FLOORS : 8\n",
      "true_z : 0.1275\n",
      "################ CASE 1 ################\n",
      "BLOCK DIRECTION : Y\n",
      "PULL DIRECTION : X\n",
      "-----BLOCK CENTER COORDINATE-----\n",
      "X : 0.02933149580742716\n",
      "Y : -0.0008251210286165517\n",
      "Z : 0.13215769937848115\n",
      "----------------------------------\n",
      "TRUE COORDINATES\n",
      "true_x : 0.025\n",
      "true_y : 0.0\n",
      "true_z : 0.1275\n",
      "5\n",
      "BOX EXTENT :  [0.03610296 0.08145492 0.01721863]\n",
      "BOX CENTER COORDINATE :  [0.03101036 0.00078169 0.16373626]\n",
      "FLOORS : 10\n",
      "true_z : 0.1575\n",
      "################ CASE 1 ################\n",
      "BLOCK DIRECTION : Y\n",
      "PULL DIRECTION : X\n",
      "-----BLOCK CENTER COORDINATE-----\n",
      "X : 0.031010362644272774\n",
      "Y : 0.0007816919760929575\n",
      "Z : 0.16373626005630096\n",
      "----------------------------------\n",
      "TRUE COORDINATES\n",
      "true_x : 0.025\n",
      "true_y : 0.0\n",
      "true_z : 0.1575\n",
      "pink\n",
      "0\n",
      "BOX EXTENT :  [0.0050892  0.03480172 0.01687512]\n",
      "BOX CENTER COORDINATE :  [ 0.03931932 -0.03292204  0.02013264]\n",
      "FLOORS : 1\n",
      "true_z : 0.0225\n",
      "################ CASE 6 ################\n",
      "BLOCK DIRECTION : X\n",
      "PULL DIRECTION : -Y\n",
      "-----BLOCK CENTER COORDINATE-----\n",
      "X : 0.0018193213367690975\n",
      "Y : -0.03292203953060294\n",
      "Z : 0.02013264182188932\n",
      "----------------------------------\n",
      "TRUE COORDINATES\n",
      "true_x : 0.0\n",
      "true_y : -0.025\n",
      "true_z : 0.0225\n",
      "1\n",
      "BOX EXTENT :  [0.00681515 0.02977921 0.0193568 ]\n",
      "BOX CENTER COORDINATE :  [ 0.0410723  -0.02767544  0.05193835]\n",
      "FLOORS : 3\n",
      "true_z : 0.0525\n",
      "################ CASE 6 ################\n",
      "BLOCK DIRECTION : X\n",
      "PULL DIRECTION : -Y\n",
      "-----BLOCK CENTER COORDINATE-----\n",
      "X : 0.0035723021512749295\n",
      "Y : -0.027675438335405145\n",
      "Z : 0.05193835381573403\n",
      "----------------------------------\n",
      "TRUE COORDINATES\n",
      "true_x : 0.0\n",
      "true_y : -0.025\n",
      "true_z : 0.0525\n",
      "2\n",
      "BOX EXTENT :  [0.00709235 0.02488456 0.01597271]\n",
      "BOX CENTER COORDINATE :  [ 0.03817905 -0.03422993  0.08416964]\n",
      "FLOORS : 5\n",
      "true_z : 0.08249999999999999\n",
      "################ CASE 6 ################\n",
      "BLOCK DIRECTION : X\n",
      "PULL DIRECTION : -Y\n",
      "-----BLOCK CENTER COORDINATE-----\n",
      "X : 0.0006790478584670565\n",
      "Y : -0.03422993162222435\n",
      "Z : 0.08416963652470594\n",
      "----------------------------------\n",
      "TRUE COORDINATES\n",
      "true_x : 0.0\n",
      "true_y : -0.025\n",
      "true_z : 0.08249999999999999\n",
      "3\n",
      "BOX EXTENT :  [0.00911523 0.01751236 0.01567485]\n",
      "BOX CENTER COORDINATE :  [ 0.03989362 -0.03114336  0.11703322]\n",
      "FLOORS : 7\n",
      "true_z : 0.11249999999999999\n",
      "################ CASE 6 ################\n",
      "BLOCK DIRECTION : X\n",
      "PULL DIRECTION : -Y\n",
      "-----BLOCK CENTER COORDINATE-----\n",
      "X : 0.0023936241913602857\n",
      "Y : -0.031143355488453983\n",
      "Z : 0.11703322480193645\n",
      "----------------------------------\n",
      "TRUE COORDINATES\n",
      "true_x : 0.0\n",
      "true_y : -0.025\n",
      "true_z : 0.11249999999999999\n",
      "4\n",
      "BOX EXTENT :  [0.01025365 0.02359067 0.01774708]\n",
      "BOX CENTER COORDINATE :  [ 0.04073879 -0.02897224  0.14912983]\n",
      "FLOORS : 9\n",
      "true_z : 0.14250000000000002\n",
      "################ CASE 6 ################\n",
      "BLOCK DIRECTION : X\n",
      "PULL DIRECTION : -Y\n",
      "-----BLOCK CENTER COORDINATE-----\n",
      "X : 0.003238791072451383\n",
      "Y : -0.02897223770410673\n",
      "Z : 0.1491298261852966\n",
      "----------------------------------\n",
      "TRUE COORDINATES\n",
      "true_x : 0.0\n",
      "true_y : -0.025\n",
      "true_z : 0.14250000000000002\n",
      "5\n",
      "BOX EXTENT :  [0.01035985 0.03074886 0.01295596]\n",
      "BOX CENTER COORDINATE :  [ 0.0458091  -0.01822871  0.17746404]\n",
      "FLOORS : 11\n",
      "true_z : 0.1725\n",
      "################ CASE 6 ################\n",
      "BLOCK DIRECTION : X\n",
      "PULL DIRECTION : -Y\n",
      "-----BLOCK CENTER COORDINATE-----\n",
      "X : 0.008309104798130344\n",
      "Y : -0.018228712919194576\n",
      "Z : 0.17746403819067985\n",
      "----------------------------------\n",
      "TRUE COORDINATES\n",
      "true_x : 0.0\n",
      "true_y : -0.025\n",
      "true_z : 0.1725\n",
      "yellow\n",
      "0\n",
      "BOX EXTENT :  [0.0268088  0.00461316 0.01650868]\n",
      "BOX CENTER COORDINATE :  [-0.02257873  0.03989316  0.00351531]\n",
      "FLOORS : 0\n",
      "true_z : 0.0075\n",
      "################ CASE 5 ################\n",
      "BLOCK DIRECTION : Y\n",
      "PULL DIRECTION : -X\n",
      "-----BLOCK CENTER COORDINATE-----\n",
      "X : -0.022578733900977657\n",
      "Y : 0.0023931586705443555\n",
      "Z : 0.0035153081104154077\n",
      "----------------------------------\n",
      "TRUE COORDINATES\n",
      "true_x : -0.025\n",
      "true_y : 0.0\n",
      "true_z : 0.0075\n",
      "1\n",
      "BOX EXTENT :  [0.02730067 0.00501881 0.01606636]\n",
      "BOX CENTER COORDINATE :  [-0.02658475  0.03995938  0.03534333]\n",
      "FLOORS : 2\n",
      "true_z : 0.0375\n",
      "################ CASE 5 ################\n",
      "BLOCK DIRECTION : Y\n",
      "PULL DIRECTION : -X\n",
      "-----BLOCK CENTER COORDINATE-----\n",
      "X : -0.026584751573623208\n",
      "Y : 0.002459377263232483\n",
      "Z : 0.03534332649248309\n",
      "----------------------------------\n",
      "TRUE COORDINATES\n",
      "true_x : -0.025\n",
      "true_y : 0.0\n",
      "true_z : 0.0375\n",
      "2\n",
      "BOX EXTENT :  [0.02702516 0.00602022 0.01546458]\n",
      "BOX CENTER COORDINATE :  [-0.02646865  0.03943171  0.06738607]\n",
      "FLOORS : 4\n",
      "true_z : 0.0675\n",
      "################ CASE 5 ################\n",
      "BLOCK DIRECTION : Y\n",
      "PULL DIRECTION : -X\n",
      "-----BLOCK CENTER COORDINATE-----\n",
      "X : -0.026468649679019476\n",
      "Y : 0.001931708100408526\n",
      "Z : 0.06738607160096097\n",
      "----------------------------------\n",
      "TRUE COORDINATES\n",
      "true_x : -0.025\n",
      "true_y : 0.0\n",
      "true_z : 0.0675\n",
      "3\n",
      "BOX EXTENT :  [0.02730315 0.00772504 0.01512916]\n",
      "BOX CENTER COORDINATE :  [-0.02868238  0.03915121  0.09880307]\n",
      "FLOORS : 6\n",
      "true_z : 0.0975\n",
      "################ CASE 5 ################\n",
      "BLOCK DIRECTION : Y\n",
      "PULL DIRECTION : -X\n",
      "-----BLOCK CENTER COORDINATE-----\n",
      "X : -0.028682379555534113\n",
      "Y : 0.0016512115246915607\n",
      "Z : 0.09880307389414542\n",
      "----------------------------------\n",
      "TRUE COORDINATES\n",
      "true_x : -0.025\n",
      "true_y : 0.0\n",
      "true_z : 0.0975\n",
      "4\n",
      "BOX EXTENT :  [0.02617182 0.00798131 0.01526506]\n",
      "BOX CENTER COORDINATE :  [-0.02785373  0.03835935  0.13002415]\n",
      "FLOORS : 8\n",
      "true_z : 0.1275\n",
      "################ CASE 5 ################\n",
      "BLOCK DIRECTION : Y\n",
      "PULL DIRECTION : -X\n",
      "-----BLOCK CENTER COORDINATE-----\n",
      "X : -0.027853730344930064\n",
      "Y : 0.0008593527183693925\n",
      "Z : 0.13002415161829817\n",
      "----------------------------------\n",
      "TRUE COORDINATES\n",
      "true_x : -0.025\n",
      "true_y : 0.0\n",
      "true_z : 0.1275\n",
      "5\n",
      "BOX EXTENT :  [0.02663193 0.00665998 0.01647992]\n",
      "BOX CENTER COORDINATE :  [-0.02420822  0.03702896  0.16116124]\n",
      "FLOORS : 10\n",
      "true_z : 0.1575\n",
      "################ CASE 5 ################\n",
      "BLOCK DIRECTION : Y\n",
      "PULL DIRECTION : -X\n",
      "-----BLOCK CENTER COORDINATE-----\n",
      "X : -0.02420822073193385\n",
      "Y : -0.00047104242095426935\n",
      "Z : 0.16116124246105518\n",
      "----------------------------------\n",
      "TRUE COORDINATES\n",
      "true_x : -0.025\n",
      "true_y : 0.0\n",
      "true_z : 0.1575\n",
      "blue\n",
      "0\n",
      "BOX EXTENT :  [0.00407363 0.02427681 0.0155155 ]\n",
      "BOX CENTER COORDINATE :  [ 0.03958979 -0.00378698  0.02042148]\n",
      "FLOORS : 1\n",
      "true_z : 0.0225\n",
      "################ CASE 4 ################\n",
      "BLOCK DIRECTION : X\n",
      "PUSH DIRECTION : X or -X\n",
      "-----BLOCK CENTER COORDINATE-----\n",
      "X : 0.002089787607358548\n",
      "Y : -0.003786978941137095\n",
      "Z : 0.02042148423381098\n",
      "----------------------------------\n",
      "TRUE COORDINATES\n",
      "true_x : 0.0\n",
      "true_y : 0.0\n",
      "true_z : 0.0225\n",
      "1\n",
      "BOX EXTENT :  [0.00516961 0.02377686 0.01680493]\n",
      "BOX CENTER COORDINATE :  [ 0.03838944 -0.00539679  0.05173872]\n",
      "FLOORS : 3\n",
      "true_z : 0.0525\n",
      "################ CASE 4 ################\n",
      "BLOCK DIRECTION : X\n",
      "PUSH DIRECTION : X or -X\n",
      "-----BLOCK CENTER COORDINATE-----\n",
      "X : 0.0008894368175822662\n",
      "Y : -0.005396788853555476\n",
      "Z : 0.051738716680827815\n",
      "----------------------------------\n",
      "TRUE COORDINATES\n",
      "true_x : 0.0\n",
      "true_y : 0.0\n",
      "true_z : 0.0525\n",
      "2\n",
      "BOX EXTENT :  [0.0047373  0.02737689 0.01516971]\n",
      "BOX CENTER COORDINATE :  [ 0.03579216 -0.00996369  0.08424309]\n",
      "FLOORS : 5\n",
      "true_z : 0.08249999999999999\n",
      "################ CASE 4 ################\n",
      "BLOCK DIRECTION : X\n",
      "PUSH DIRECTION : X or -X\n",
      "-----BLOCK CENTER COORDINATE-----\n",
      "X : -0.0017078393472944667\n",
      "Y : -0.009963687059634324\n",
      "Z : 0.0842430879348405\n",
      "----------------------------------\n",
      "TRUE COORDINATES\n",
      "true_x : 0.0\n",
      "true_y : 0.0\n",
      "true_z : 0.08249999999999999\n",
      "3\n",
      "BOX EXTENT :  [0.00571969 0.03404913 0.01654545]\n",
      "BOX CENTER COORDINATE :  [ 0.03644162 -0.00755243  0.11644338]\n",
      "FLOORS : 7\n",
      "true_z : 0.11249999999999999\n",
      "################ CASE 4 ################\n",
      "BLOCK DIRECTION : X\n",
      "PUSH DIRECTION : X or -X\n",
      "-----BLOCK CENTER COORDINATE-----\n",
      "X : -0.0010583814585685275\n",
      "Y : -0.007552433934601865\n",
      "Z : 0.11644338315105493\n",
      "----------------------------------\n",
      "TRUE COORDINATES\n",
      "true_x : 0.0\n",
      "true_y : 0.0\n",
      "true_z : 0.11249999999999999\n",
      "4\n",
      "BOX EXTENT :  [0.00623436 0.03366468 0.01725954]\n",
      "BOX CENTER COORDINATE :  [ 0.03644647 -0.00757702  0.14904011]\n",
      "FLOORS : 9\n",
      "true_z : 0.14250000000000002\n",
      "################ CASE 4 ################\n",
      "BLOCK DIRECTION : X\n",
      "PUSH DIRECTION : X or -X\n",
      "-----BLOCK CENTER COORDINATE-----\n",
      "X : -0.0010535269357620641\n",
      "Y : -0.0075770174436835674\n",
      "Z : 0.1490401093095687\n",
      "----------------------------------\n",
      "TRUE COORDINATES\n",
      "true_x : 0.0\n",
      "true_y : 0.0\n",
      "true_z : 0.14250000000000002\n",
      "5\n",
      "BOX EXTENT :  [0.01083179 0.03907472 0.01316468]\n",
      "BOX CENTER COORDINATE :  [0.04469778 0.00463308 0.17714012]\n",
      "FLOORS : 11\n",
      "true_z : 0.1725\n",
      "################ CASE 4 ################\n",
      "BLOCK DIRECTION : X\n",
      "PUSH DIRECTION : X or -X\n",
      "-----BLOCK CENTER COORDINATE-----\n",
      "X : 0.007197779569070556\n",
      "Y : 0.0046330810007755435\n",
      "Z : 0.17714012379343405\n",
      "----------------------------------\n",
      "TRUE COORDINATES\n",
      "true_x : 0.0\n",
      "true_y : 0.0\n",
      "true_z : 0.1725\n",
      "violet\n",
      "0\n",
      "BOX EXTENT :  [0.02621453 0.00435734 0.01514337]\n",
      "BOX CENTER COORDINATE :  [0.00423371 0.03923255 0.004789  ]\n",
      "FLOORS : 0\n",
      "true_z : 0.0075\n",
      "################ CASE 3 ################\n",
      "BLOCK DIRECTION : Y\n",
      "PUSH DIRECTION : Y or -Y\n",
      "-----BLOCK CENTER COORDINATE-----\n",
      "X : 0.0042337104956127955\n",
      "Y : 0.0017325487680334775\n",
      "Z : 0.004788995878380373\n",
      "----------------------------------\n",
      "TRUE COORDINATES\n",
      "true_x : 0.0\n",
      "true_y : 0.0\n",
      "true_z : 0.0075\n",
      "1\n",
      "BOX EXTENT :  [0.02550217 0.00474856 0.01540453]\n",
      "BOX CENTER COORDINATE :  [-0.0004844   0.03642131  0.03592299]\n",
      "FLOORS : 2\n",
      "true_z : 0.0375\n",
      "################ CASE 3 ################\n",
      "BLOCK DIRECTION : Y\n",
      "PUSH DIRECTION : Y or -Y\n",
      "-----BLOCK CENTER COORDINATE-----\n",
      "X : -0.00048439642178106646\n",
      "Y : -0.0010786861937771772\n",
      "Z : 0.035922994480947955\n",
      "----------------------------------\n",
      "TRUE COORDINATES\n",
      "true_x : 0.0\n",
      "true_y : 0.0\n",
      "true_z : 0.0375\n",
      "2\n",
      "BOX EXTENT :  [0.02679142 0.00442772 0.01500792]\n",
      "BOX CENTER COORDINATE :  [-0.00111574  0.03722096  0.06785596]\n",
      "FLOORS : 4\n",
      "true_z : 0.0675\n",
      "################ CASE 3 ################\n",
      "BLOCK DIRECTION : Y\n",
      "PUSH DIRECTION : Y or -Y\n",
      "-----BLOCK CENTER COORDINATE-----\n",
      "X : -0.0011157441727683987\n",
      "Y : -0.000279044845361405\n",
      "Z : 0.06785596423651355\n",
      "----------------------------------\n",
      "TRUE COORDINATES\n",
      "true_x : 0.0\n",
      "true_y : 0.0\n",
      "true_z : 0.0675\n",
      "3\n",
      "BOX EXTENT :  [0.02640833 0.00695192 0.01537129]\n",
      "BOX CENTER COORDINATE :  [-0.00239901  0.03777639  0.09914917]\n",
      "FLOORS : 6\n",
      "true_z : 0.0975\n",
      "################ CASE 3 ################\n",
      "BLOCK DIRECTION : Y\n",
      "PUSH DIRECTION : Y or -Y\n",
      "-----BLOCK CENTER COORDINATE-----\n",
      "X : -0.0023990126686169455\n",
      "Y : 0.0002763891216630496\n",
      "Z : 0.0991491745738042\n",
      "----------------------------------\n",
      "TRUE COORDINATES\n",
      "true_x : 0.0\n",
      "true_y : 0.0\n",
      "true_z : 0.0975\n",
      "4\n",
      "BOX EXTENT :  [0.02639225 0.00625754 0.01584382]\n",
      "BOX CENTER COORDINATE :  [-0.002388    0.03649911  0.13085003]\n",
      "FLOORS : 8\n",
      "true_z : 0.1275\n",
      "################ CASE 3 ################\n",
      "BLOCK DIRECTION : Y\n",
      "PUSH DIRECTION : Y or -Y\n",
      "-----BLOCK CENTER COORDINATE-----\n",
      "X : -0.0023879951941146726\n",
      "Y : -0.001000892459331361\n",
      "Z : 0.1308500296112113\n",
      "----------------------------------\n",
      "TRUE COORDINATES\n",
      "true_x : 0.0\n",
      "true_y : 0.0\n",
      "true_z : 0.1275\n",
      "5\n",
      "BOX EXTENT :  [0.02708054 0.0091485  0.01595712]\n",
      "BOX CENTER COORDINATE :  [-1.89757270e-05  3.64915724e-02  1.61991280e-01]\n",
      "FLOORS : 10\n",
      "true_z : 0.1575\n",
      "################ CASE 3 ################\n",
      "BLOCK DIRECTION : Y\n",
      "PUSH DIRECTION : Y or -Y\n",
      "-----BLOCK CENTER COORDINATE-----\n",
      "X : -1.897572698639216e-05\n",
      "Y : -0.001008427620891171\n",
      "Z : 0.1619912801282446\n",
      "----------------------------------\n",
      "TRUE COORDINATES\n",
      "true_x : 0.0\n",
      "true_y : 0.0\n",
      "true_z : 0.1575\n",
      "red\n",
      "0\n",
      "BOX EXTENT :  [0.07835333 0.03815765 0.01862147]\n",
      "BOX CENTER COORDINATE :  [0.00188729 0.02307273 0.0204968 ]\n",
      "FLOORS : 1\n",
      "true_z : 0.0225\n",
      "################ CASE 2 ################\n",
      "BLOCK DIRECTION : X\n",
      "PULL DIRECTION : Y\n",
      "-----BLOCK CENTER COORDINATE-----\n",
      "X : 0.0018872936791193146\n",
      "Y : 0.02307273054037126\n",
      "Z : 0.020496803141201544\n",
      "----------------------------------\n",
      "TRUE COORDINATES\n",
      "true_x : 0.0\n",
      "true_y : 0.025\n",
      "true_z : 0.0225\n",
      "1\n",
      "BOX EXTENT :  [0.07916093 0.03854429 0.01921124]\n",
      "BOX CENTER COORDINATE :  [-0.00034794  0.02503969  0.05117279]\n",
      "FLOORS : 3\n",
      "true_z : 0.0525\n",
      "################ CASE 2 ################\n",
      "BLOCK DIRECTION : X\n",
      "PULL DIRECTION : Y\n",
      "-----BLOCK CENTER COORDINATE-----\n",
      "X : -0.00034793653240233063\n",
      "Y : 0.025039690979164086\n",
      "Z : 0.05117279062426476\n",
      "----------------------------------\n",
      "TRUE COORDINATES\n",
      "true_x : 0.0\n",
      "true_y : 0.025\n",
      "true_z : 0.0525\n",
      "2\n",
      "BOX EXTENT :  [0.07859534 0.04083161 0.01772341]\n",
      "BOX CENTER COORDINATE :  [-0.00196075  0.02133207  0.08316061]\n",
      "FLOORS : 5\n",
      "true_z : 0.08249999999999999\n",
      "################ CASE 2 ################\n",
      "BLOCK DIRECTION : X\n",
      "PULL DIRECTION : Y\n",
      "-----BLOCK CENTER COORDINATE-----\n",
      "X : -0.001960747458131712\n",
      "Y : 0.021332074891672118\n",
      "Z : 0.08316061415727424\n",
      "----------------------------------\n",
      "TRUE COORDINATES\n",
      "true_x : 0.0\n",
      "true_y : 0.025\n",
      "true_z : 0.08249999999999999\n",
      "3\n",
      "BOX EXTENT :  [0.07906762 0.03720729 0.01782651]\n",
      "BOX CENTER COORDINATE :  [-0.00221452  0.02252785  0.11561187]\n",
      "FLOORS : 7\n",
      "true_z : 0.11249999999999999\n",
      "################ CASE 2 ################\n",
      "BLOCK DIRECTION : X\n",
      "PULL DIRECTION : Y\n",
      "-----BLOCK CENTER COORDINATE-----\n",
      "X : -0.0022145194823821046\n",
      "Y : 0.022527850393182947\n",
      "Z : 0.11561187123477216\n",
      "----------------------------------\n",
      "TRUE COORDINATES\n",
      "true_x : 0.0\n",
      "true_y : 0.025\n",
      "true_z : 0.11249999999999999\n",
      "4\n",
      "BOX EXTENT :  [0.07722507 0.04224472 0.02051765]\n",
      "BOX CENTER COORDINATE :  [-0.0006505   0.02242341  0.14740287]\n",
      "FLOORS : 9\n",
      "true_z : 0.14250000000000002\n",
      "################ CASE 2 ################\n",
      "BLOCK DIRECTION : X\n",
      "PULL DIRECTION : Y\n",
      "-----BLOCK CENTER COORDINATE-----\n",
      "X : -0.000650504106058894\n",
      "Y : 0.022423414372846145\n",
      "Z : 0.14740287018290074\n",
      "----------------------------------\n",
      "TRUE COORDINATES\n",
      "true_x : 0.0\n",
      "true_y : 0.025\n",
      "true_z : 0.14250000000000002\n",
      "5\n",
      "BOX EXTENT :  [0.08520494 0.0430082  0.01545845]\n",
      "BOX CENTER COORDINATE :  [0.00446748 0.03338046 0.17658897]\n",
      "FLOORS : 11\n",
      "true_z : 0.1725\n",
      "################ CASE 2 ################\n",
      "BLOCK DIRECTION : X\n",
      "PULL DIRECTION : Y\n",
      "-----BLOCK CENTER COORDINATE-----\n",
      "X : 0.004467483552852966\n",
      "Y : 0.03338046305811827\n",
      "Z : 0.17658896733542084\n",
      "----------------------------------\n",
      "TRUE COORDINATES\n",
      "true_x : 0.0\n",
      "true_y : 0.025\n",
      "true_z : 0.1725\n"
     ]
    }
   ],
   "source": [
    "for i, (col, pcds) in enumerate(zip(colors, blocks_pcd_by_color)):\n",
    "    # if col != target_block_color:\n",
    "    #     continue\n",
    "    print(col)\n",
    "    \n",
    "    for idx, pcd in enumerate(pcds):\n",
    "        # if idx != target_block_label:\n",
    "        #     continue\n",
    "        \n",
    "        # print(\"--------------------------------\")\n",
    "        print(idx)\n",
    "\n",
    "        new_trans = copy.deepcopy(trans)\n",
    "\n",
    "        pcd_new = transform_blocks(pcd, new_trans)\n",
    "        \n",
    "        box_extent = pcd_new.get_axis_aligned_bounding_box().get_extent()\n",
    "        print(\"BOX EXTENT : \", box_extent)\n",
    "        \n",
    "        center_coordinate = np.array(pcd_new.get_axis_aligned_bounding_box().get_box_points()).mean(axis=0)\n",
    "        \n",
    "        # print(np.array(pcd_new.get_axis_aligned_bounding_box().get_box_points()))\n",
    "        print(\"BOX CENTER COORDINATE : \", center_coordinate)\n",
    "        \n",
    "        floors = int(center_coordinate[2] // 0.015)\n",
    "        print(\"FLOORS :\", floors)\n",
    "        \n",
    "        # print(mok, nameoji)\n",
    "        true_z = floors * 0.015 + 0.0075\n",
    "        print(\"true_z :\", true_z)\n",
    "        \n",
    "        # print(\"BOX MAX X,Y and MEAN Z Coordinate\")\n",
    "        x_mean = np.array(pcd_new.get_axis_aligned_bounding_box().get_box_points())[:,0].mean()\n",
    "        y_mean = np.array(pcd_new.get_axis_aligned_bounding_box().get_box_points())[:,1].mean()\n",
    "        z_mean = np.array(pcd_new.get_axis_aligned_bounding_box().get_box_points())[:,2].mean()\n",
    "        \n",
    "        if box_extent[1] > 0.070:\n",
    "            print(\"################ CASE 1 ################\")\n",
    "            print(\"BLOCK DIRECTION : Y\")\n",
    "            print(\"PULL DIRECTION : X\")\n",
    "            vector = np.array([-1, 0, 0])\n",
    "            print(\"-----BLOCK CENTER COORDINATE-----\")\n",
    "            cen_x = x_mean #- 25/2\n",
    "            cen_y = y_mean #- 75/2\n",
    "            cen_z = z_mean\n",
    "            print(\"X :\", cen_x)\n",
    "            print(\"Y :\", cen_y)\n",
    "            print(\"Z :\", cen_z)\n",
    "            pt1 = o3d.cpu.pybind.utility.Vector3dVector(np.array([[cen_x, cen_y, z_mean], [cen_x - 0.00001, cen_y - 0.00001, cen_z - 0.00001], [cen_x + 0.00001, cen_y + 0.00001, cen_z + 0.00001]]))\n",
    "            tower_map[floors][0] = i\n",
    "            true_x, true_y = get_true_box_center_coordinates_xy(cen_x, cen_y)\n",
    "            floor_dir = (floors%2, 'X')\n",
    "            print(\"----------------------------------\")\n",
    "            \n",
    "        elif box_extent[0] > 0.070:\n",
    "            print(\"################ CASE 2 ################\")\n",
    "            print(\"BLOCK DIRECTION : X\")\n",
    "            print(\"PULL DIRECTION : Y\")\n",
    "            vector = np.array([0, -1, 0])\n",
    "            print(\"-----BLOCK CENTER COORDINATE-----\")\n",
    "            cen_x = x_mean# - 75/2\n",
    "            cen_y = y_mean# - 25/2\n",
    "            cen_z = z_mean\n",
    "            print(\"X :\", cen_x)\n",
    "            print(\"Y :\", cen_y)\n",
    "            print(\"Z :\", cen_z)\n",
    "            pt1 = o3d.cpu.pybind.utility.Vector3dVector(np.array([[cen_x, cen_y, z_mean], [cen_x - 0.00001, cen_y - 0.00001, cen_z - 0.00001], [cen_x + 0.00001, cen_y + 0.00001, cen_z + 0.00001]]))\n",
    "            tower_map[floors][0] = i\n",
    "            true_x, true_y = get_true_box_center_coordinates_xy(cen_x, cen_y)\n",
    "            print(\"----------------------------------\")\n",
    "            \n",
    "        elif abs(center_coordinate[0]) < 0.010 and box_extent [1] < 0.015:\n",
    "            print(\"################ CASE 3 ################\")\n",
    "            print(\"BLOCK DIRECTION : Y\")\n",
    "            print(\"PUSH DIRECTION : Y or -Y\")\n",
    "            vector = np.array([0, -1, 0])\n",
    "            print(\"-----BLOCK CENTER COORDINATE-----\")\n",
    "            cen_x = x_mean# - 25/2\n",
    "            cen_y = y_mean - 0.075/2\n",
    "            cen_z = z_mean\n",
    "            print(\"X :\", cen_x)\n",
    "            print(\"Y :\", cen_y)\n",
    "            print(\"Z :\", cen_z)\n",
    "            pt1 = o3d.cpu.pybind.utility.Vector3dVector(np.array([[cen_x, cen_y, z_mean], [cen_x - 0.00001, cen_y - 0.00001, cen_z - 0.00001], [cen_x + 0.00001, cen_y + 0.00001, cen_z + 0.00001]]))\n",
    "            tower_map[floors][1] = i\n",
    "            true_x, true_y = get_true_box_center_coordinates_xy(cen_x, cen_y)\n",
    "            print(\"----------------------------------\")\n",
    "            \n",
    "        elif abs(center_coordinate[1]) < 0.010 and box_extent [0] < 0.015:\n",
    "            print(\"################ CASE 4 ################\")\n",
    "            print(\"BLOCK DIRECTION : X\")\n",
    "            print(\"PUSH DIRECTION : X or -X\")\n",
    "            vector = np.array([-1, 0, 0])\n",
    "            print(\"-----BLOCK CENTER COORDINATE-----\")\n",
    "            cen_x = x_mean - 0.075/2\n",
    "            cen_y = y_mean# - 25/2\n",
    "            cen_z = z_mean\n",
    "            print(\"X :\", cen_x)\n",
    "            print(\"Y :\", cen_y)\n",
    "            print(\"Z :\", cen_z)\n",
    "            pt1 = o3d.cpu.pybind.utility.Vector3dVector(np.array([[cen_x, cen_y, z_mean], [cen_x - 0.00001, cen_y - 0.00001, cen_z - 0.00001], [cen_x + 0.00001, cen_y + 0.00001, cen_z + 0.00001]]))\n",
    "            tower_map[floors][1] = i\n",
    "            true_x, true_y = get_true_box_center_coordinates_xy(cen_x, cen_y)\n",
    "            print(\"----------------------------------\")\n",
    "            \n",
    "        elif box_extent[1] < 0.015:\n",
    "            print(\"################ CASE 5 ################\")\n",
    "            print(\"BLOCK DIRECTION : Y\")\n",
    "            print(\"PULL DIRECTION : -X\")\n",
    "            vector = np.array([1, 0, 0])\n",
    "            print(\"-----BLOCK CENTER COORDINATE-----\")\n",
    "            cen_x = x_mean# - 25/2\n",
    "            cen_y = y_mean - 0.075/2\n",
    "            cen_z = z_mean\n",
    "            print(\"X :\", cen_x)\n",
    "            print(\"Y :\", cen_y)\n",
    "            print(\"Z :\", cen_z)\n",
    "            pt1 = o3d.cpu.pybind.utility.Vector3dVector(np.array([[cen_x, cen_y, z_mean], [cen_x - 0.00001, cen_y - 0.00001, cen_z - 0.00001], [cen_x + 0.00001, cen_y + 0.00001, cen_z + 0.00001]]))\n",
    "            tower_map[floors][2] = i\n",
    "            true_x, true_y = get_true_box_center_coordinates_xy(cen_x, cen_y)\n",
    "            print(\"----------------------------------\")\n",
    "            \n",
    "        elif box_extent[0] < 0.015:\n",
    "            print(\"################ CASE 6 ################\")\n",
    "            print(\"BLOCK DIRECTION : X\")\n",
    "            print(\"PULL DIRECTION : -Y\")\n",
    "            vector = np.array([0, 1, 0])\n",
    "            print(\"-----BLOCK CENTER COORDINATE-----\")\n",
    "            cen_x = x_mean - 0.075/2\n",
    "            cen_y = y_mean# - 25/2\n",
    "            cen_z = z_mean\n",
    "            print(\"X :\", cen_x)\n",
    "            print(\"Y :\", cen_y)\n",
    "            print(\"Z :\", cen_z)\n",
    "            pt1 = o3d.cpu.pybind.utility.Vector3dVector(np.array([[cen_x, cen_y, z_mean], [cen_x - 0.00001, cen_y - 0.00001, cen_z - 0.00001], [cen_x + 0.00001, cen_y + 0.00001, cen_z + 0.00001]]))\n",
    "            tower_map[floors][2] = i\n",
    "            true_x, true_y = get_true_box_center_coordinates_xy(cen_x, cen_y)\n",
    "            print(\"----------------------------------\")\n",
    "            \n",
    "        else:\n",
    "            print(\"NOTHING\")\n",
    "            \n",
    "        if abs(cen_x) < 0.0125:\n",
    "            true_x = 0.0\n",
    "        elif cen_x > 0:\n",
    "            true_x = 0.025\n",
    "        else:\n",
    "            true_x = -0.025\n",
    "            \n",
    "        if abs(cen_y) < 0.0125:\n",
    "            true_y = 0.0\n",
    "        elif cen_y > 0:\n",
    "            true_y = 0.025\n",
    "        else:\n",
    "            true_y = -0.025\n",
    "        \n",
    "        print(\"TRUE COORDINATES\")\n",
    "        print(\"true_x :\", true_x)\n",
    "        print(\"true_y :\", true_y)\n",
    "        print(\"true_z :\", true_z)\n",
    "        \n",
    "        pt2 = o3d.cpu.pybind.utility.Vector3dVector(np.array([[true_x, true_y, true_z], [true_x - 0.00001, true_y - 0.00001, true_z - 0.00001], [true_x + 0.00001, true_y + 0.00001, true_z + 0.00001]]))\n",
    "            \n",
    "        mesh_COORD = o3d.geometry.TriangleMesh.create_coordinate_frame(size=10, origin=center_coordinate)\n",
    "        ptc1 = o3d.geometry.PointCloud()\n",
    "        ptc1.points = pt1\n",
    "        ptc1.paint_uniform_color([1, 0, 0])\n",
    "        ptc2 = o3d.geometry.PointCloud()\n",
    "        ptc2.points = pt2\n",
    "        ptc2.paint_uniform_color([0, 0, 1])\n",
    "        line = o3d.geometry.LineSet.create_from_point_cloud_correspondences(ptc1, ptc2, [(0,0)])\n",
    "        # o3d.visualization.draw_geometries([pcd_new, source_temp, mesh_frame_small, ptc1, ptc2, line])"
   ]
  },
  {
   "cell_type": "code",
   "execution_count": 59,
   "metadata": {},
   "outputs": [
    {
     "name": "stdout",
     "output_type": "stream",
     "text": [
      "TriangleMesh with 12 points and 4 triangles.\n",
      "PointCloud with 269007 points.\n"
     ]
    }
   ],
   "source": [
    "mesh_block_x = o3d.io.read_triangle_mesh(\"mesh/single_block_y_m.stl\")\n",
    "print(mesh_tower)\n",
    "\n",
    "mesh_tower.compute_vertex_normals()\n",
    "\n",
    "pcd_mesh = mesh_tower.sample_points_uniformly(number_of_points=len(pcd_combined.points))\n",
    "print(pcd_mesh)"
   ]
  },
  {
   "cell_type": "code",
   "execution_count": 60,
   "metadata": {},
   "outputs": [
    {
     "data": {
      "text/plain": [
       "[[0, 4, 2],\n",
       " [5, 3, 1],\n",
       " [0, 4, 2],\n",
       " [5, 3, 1],\n",
       " [0, 4, 2],\n",
       " [5, 3, 1],\n",
       " [0, 4, 2],\n",
       " [5, 3, 1],\n",
       " [0, 4, 2],\n",
       " [5, 3, 1],\n",
       " [0, 4, 2],\n",
       " [5, 3, 1]]"
      ]
     },
     "execution_count": 60,
     "metadata": {},
     "output_type": "execute_result"
    }
   ],
   "source": [
    "tower_map"
   ]
  },
  {
   "cell_type": "markdown",
   "metadata": {},
   "source": [
    "* 숫자(index) 형태로 색 전달\n",
    "    * 2d list 전달해야하는데 그 형태로 전달하는거보다 2d int array를 Image 형태로 바꾸고 msg로 전달하는게 편할듯 함\n",
    "    * msg 받는 쪽에서도 Image 형태로 받은 후 np.array 형태로 변환, list 처럼 사용"
   ]
  },
  {
   "cell_type": "code",
   "execution_count": 62,
   "metadata": {},
   "outputs": [],
   "source": [
    "_, _ = (1234,532)"
   ]
  },
  {
   "cell_type": "code",
   "execution_count": 63,
   "metadata": {},
   "outputs": [
    {
     "data": {
      "text/plain": [
       "532"
      ]
     },
     "execution_count": 63,
     "metadata": {},
     "output_type": "execute_result"
    }
   ],
   "source": [
    "_"
   ]
  },
  {
   "cell_type": "code",
   "execution_count": 50,
   "metadata": {},
   "outputs": [
    {
     "data": {
      "text/plain": [
       "(0, 'X')"
      ]
     },
     "execution_count": 50,
     "metadata": {},
     "output_type": "execute_result"
    }
   ],
   "source": [
    "floor_dir"
   ]
  },
  {
   "cell_type": "markdown",
   "metadata": {},
   "source": [
    "## 여기서부터는 매번 찍을때마다 돌아갈 것"
   ]
  },
  {
   "cell_type": "code",
   "execution_count": 51,
   "metadata": {},
   "outputs": [],
   "source": [
    "target_block = 'red 3'"
   ]
  },
  {
   "cell_type": "code",
   "execution_count": 52,
   "metadata": {},
   "outputs": [
    {
     "data": {
      "text/plain": [
       "'green'"
      ]
     },
     "execution_count": 52,
     "metadata": {},
     "output_type": "execute_result"
    }
   ],
   "source": [
    "traget_block_color, target_block_floor = target_block.split()\n",
    "target_block_color"
   ]
  },
  {
   "cell_type": "code",
   "execution_count": 53,
   "metadata": {},
   "outputs": [
    {
     "data": {
      "text/plain": [
       "'3'"
      ]
     },
     "execution_count": 53,
     "metadata": {},
     "output_type": "execute_result"
    }
   ],
   "source": [
    "target_block_floor"
   ]
  },
  {
   "cell_type": "code",
   "execution_count": 54,
   "metadata": {},
   "outputs": [
    {
     "ename": "IndexError",
     "evalue": "list index out of range",
     "output_type": "error",
     "traceback": [
      "\u001b[0;31m---------------------------------------------------------------------------\u001b[0m",
      "\u001b[0;31mIndexError\u001b[0m                                Traceback (most recent call last)",
      "Cell \u001b[0;32mIn[54], line 1\u001b[0m\n\u001b[0;32m----> 1\u001b[0m \u001b[39mif\u001b[39;00m target_block_color \u001b[39mnot\u001b[39;00m \u001b[39min\u001b[39;00m tower_map[\u001b[39m0\u001b[39;49m][\u001b[39mint\u001b[39;49m(target_block_floor)]:\n\u001b[1;32m      2\u001b[0m     \u001b[39mprint\u001b[39m(\u001b[39mf\u001b[39m\u001b[39m\"\u001b[39m\u001b[39mThere is no \u001b[39m\u001b[39m{\u001b[39;00mtarget_block_color\u001b[39m}\u001b[39;00m\u001b[39m on floor \u001b[39m\u001b[39m{\u001b[39;00mtarget_block_floor\u001b[39m}\u001b[39;00m\u001b[39m\"\u001b[39m)\n\u001b[1;32m      3\u001b[0m \u001b[39melse\u001b[39;00m:\n\u001b[1;32m      4\u001b[0m     \u001b[39m# floor to label\u001b[39;00m\n",
      "\u001b[0;31mIndexError\u001b[0m: list index out of range"
     ]
    }
   ],
   "source": [
    "if target_block_color not in tower_map[0][int(target_block_floor)]:\n",
    "    print(f\"There is no {target_block_color} on floor {target_block_floor}\")\n",
    "else:\n",
    "    # floor to label\n",
    "    i = -1\n",
    "    for f, floor_info in enumerate(tower_map[0]):\n",
    "        for b in floor_info:\n",
    "            if b == target_block_color:\n",
    "                i += 1\n",
    "            else:\n",
    "                continue\n",
    "        if f == int(target_block_floor):\n",
    "            break\n",
    "    \n",
    "    print(i)\n",
    "    target_block_label = i"
   ]
  },
  {
   "cell_type": "code",
   "execution_count": null,
   "metadata": {},
   "outputs": [],
   "source": []
  },
  {
   "cell_type": "code",
   "execution_count": null,
   "metadata": {},
   "outputs": [
    {
     "name": "stdout",
     "output_type": "stream",
     "text": [
      "red\n",
      "1\n"
     ]
    }
   ],
   "source": [
    "for col, pcds in zip(colors, blocks_pcd_by_color):\n",
    "    if col != target_block_color:\n",
    "        continue\n",
    "    print(col)\n",
    "    \n",
    "    for idx, pcd in enumerate(pcds):\n",
    "        if idx != target_block_label:\n",
    "            continue\n",
    "        print(idx)\n"
   ]
  },
  {
   "cell_type": "code",
   "execution_count": null,
   "metadata": {},
   "outputs": [],
   "source": [
    "if int(target_block_floor) % 2 == floor_dir[0]:\n",
    "    block_direction = floor_dir[1]\n",
    "else:\n",
    "    block_direction = 'Y' if floor_dir[1] == 'X' else 'X'"
   ]
  },
  {
   "cell_type": "code",
   "execution_count": null,
   "metadata": {},
   "outputs": [
    {
     "data": {
      "text/plain": [
       "'Y'"
      ]
     },
     "execution_count": 133,
     "metadata": {},
     "output_type": "execute_result"
    }
   ],
   "source": [
    "block_direction"
   ]
  },
  {
   "cell_type": "code",
   "execution_count": null,
   "metadata": {},
   "outputs": [],
   "source": [
    "trans_init = np.asarray([[0, 0, -1, move[0]],\n",
    "                         [-1, 0, 0, move[1]],\n",
    "                         [0, 1, 0, move[2]],\n",
    "                         [0, 0, 0, 1]])"
   ]
  }
 ],
 "metadata": {
  "kernelspec": {
   "display_name": "urp",
   "language": "python",
   "name": "python3"
  },
  "language_info": {
   "codemirror_mode": {
    "name": "ipython",
    "version": 3
   },
   "file_extension": ".py",
   "mimetype": "text/x-python",
   "name": "python",
   "nbconvert_exporter": "python",
   "pygments_lexer": "ipython3",
   "version": "3.8.10"
  },
  "orig_nbformat": 4
 },
 "nbformat": 4,
 "nbformat_minor": 2
}
