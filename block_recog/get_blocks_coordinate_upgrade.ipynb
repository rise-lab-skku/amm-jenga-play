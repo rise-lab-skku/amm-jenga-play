{
 "cells": [
  {
   "attachments": {},
   "cell_type": "markdown",
   "metadata": {},
   "source": [
    "# Blcok Recognition"
   ]
  },
  {
   "attachments": {},
   "cell_type": "markdown",
   "metadata": {},
   "source": [
    "## Import Libraries"
   ]
  },
  {
   "cell_type": "code",
   "execution_count": 1,
   "metadata": {},
   "outputs": [
    {
     "name": "stdout",
     "output_type": "stream",
     "text": [
      "Jupyter environment detected. Enabling Open3D WebVisualizer.\n",
      "[Open3D INFO] WebRTC GUI backend enabled.\n",
      "[Open3D INFO] WebRTCWindowSystem: HTTP handshake server disabled.\n"
     ]
    }
   ],
   "source": [
    "import numpy as np\n",
    "import cv2\n",
    "import glob\n",
    "from matplotlib import pyplot as plt\n",
    "import open3d as o3d\n",
    "import copy\n",
    "import pickle"
   ]
  },
  {
   "cell_type": "code",
   "execution_count": 2,
   "metadata": {},
   "outputs": [],
   "source": [
    "with open('./test_imgs/dep.p', 'rb') as dep:\n",
    "    d = pickle.load(dep, encoding=\"16UC1\")"
   ]
  },
  {
   "cell_type": "code",
   "execution_count": 3,
   "metadata": {},
   "outputs": [],
   "source": [
    "with open('./test_imgs/rgb.p', 'rb') as rgb:\n",
    "    r = pickle.load(rgb)\n"
   ]
  },
  {
   "cell_type": "code",
   "execution_count": 4,
   "metadata": {},
   "outputs": [
    {
     "data": {
      "text/plain": [
       "915"
      ]
     },
     "execution_count": 4,
     "metadata": {},
     "output_type": "execute_result"
    }
   ],
   "source": [
    "d.max()"
   ]
  },
  {
   "attachments": {},
   "cell_type": "markdown",
   "metadata": {},
   "source": [
    "## Read Test Images"
   ]
  },
  {
   "cell_type": "code",
   "execution_count": 5,
   "metadata": {},
   "outputs": [
    {
     "name": "stdout",
     "output_type": "stream",
     "text": [
      "color shape:  (1536, 2048, 3)\n",
      "depth shape:  (1536, 2048)\n"
     ]
    }
   ],
   "source": [
    "# img_color = cv2.imread('test_imgs/jenga_tower_color.png')\n",
    "# img_depth = cv2.imread('test_imgs/jenga_tower_depth.png', 0)\n",
    "# img_color = cv2.imread('/home/shs/Desktop/rgb1.png')\n",
    "# img_depth = cv2.imread('/home/shs/Desktop/dep.png', 0)\n",
    "img_color = r\n",
    "img_depth = d\n",
    "print('color shape: ', img_color.shape)\n",
    "print('depth shape: ', img_depth.shape)\n",
    "\n",
    "cv2.imshow(f'color', img_color)\n",
    "# # cv2.imwrite('../imgs/red_extract.png', each_color_filtered)\n",
    "cv2.waitKey(0)\n",
    "cv2.destroyAllWindows()\n",
    "# "
   ]
  },
  {
   "cell_type": "code",
   "execution_count": 75,
   "metadata": {},
   "outputs": [
    {
     "data": {
      "text/plain": [
       "numpy.ndarray"
      ]
     },
     "execution_count": 75,
     "metadata": {},
     "output_type": "execute_result"
    }
   ],
   "source": [
    "type(img_hsv)"
   ]
  },
  {
   "attachments": {},
   "cell_type": "markdown",
   "metadata": {},
   "source": [
    "## Extract Blocks' Masks By Colors"
   ]
  },
  {
   "cell_type": "code",
   "execution_count": 6,
   "metadata": {},
   "outputs": [],
   "source": [
    "height, width = img_color.shape[:2] # 이미지의 높이와 너비 불러옴, 가로 [0], 세로[1]\n",
    "\n",
    "img_hsv = cv2.cvtColor(img_color, cv2.COLOR_BGR2HSV) # cvtColor 함수를 이용하여 hsv 색공간으로 변환"
   ]
  },
  {
   "cell_type": "code",
   "execution_count": 7,
   "metadata": {},
   "outputs": [],
   "source": [
    "colors = ['green', 'pink', 'yellow', 'blue', 'violet', 'red']"
   ]
  },
  {
   "cell_type": "code",
   "execution_count": 8,
   "metadata": {},
   "outputs": [],
   "source": [
    "# RED\n",
    "lower_red1 = np.array([0, 130, 50])\n",
    "upper_red1 = np.array([15, 255, 255])\n",
    "lower_red2 = np.array([160,130,50])\n",
    "upper_red2 = np.array([179,255,255])\n",
    "\n",
    "# PINK\n",
    "lower_pink1 = np.array([0, 55, 80])\n",
    "upper_pink1 = np.array([10, 130, 255])\n",
    "lower_pink2 = np.array([150,55,80])\n",
    "upper_pink2 = np.array([179,130,255])\n",
    "\n",
    "# GREEN\n",
    "lower_green = (70-20, 50, 50)\n",
    "upper_green = (70+15, 255, 255)\n",
    "\n",
    "# YELLOW\n",
    "lower_yellow = (30-10, 80, 80)\n",
    "upper_yellow = (30+10, 255, 255)\n",
    "\n",
    "# BLUE\n",
    "lower_blue = (100-10, 100, 100)\n",
    "upper_blue = (100+9, 255, 255)\n",
    "\n",
    "# VIOLET\n",
    "lower_violet = (130-20, 60, 60)\n",
    "upper_violet = (130+20, 255, 255)"
   ]
  },
  {
   "cell_type": "code",
   "execution_count": 9,
   "metadata": {},
   "outputs": [],
   "source": [
    "blocks_rgb_by_color = []\n",
    "blocks_mask_by_color = []\n",
    "for color in colors:\n",
    "    if color == 'pink' or color =='red':\n",
    "        for i in (1,2):\n",
    "            exec(f\"lower_color{i} = lower_{color}{i}\")\n",
    "            exec(f\"upper_color{i} = upper_{color}{i}\")\n",
    "\n",
    "        mask_color1 = cv2.inRange(img_hsv, lower_color1, upper_color1)\n",
    "        mask_color2 = cv2.inRange(img_hsv, lower_color2, upper_color2)\n",
    "        img_mask_color = mask_color1 + mask_color2\n",
    "        \n",
    "        # Denoise by Erosion and Dilation\n",
    "        kernel = cv2.getStructuringElement(cv2.MORPH_RECT, (3,3))\n",
    "        erosion_image_color = cv2.erode(img_mask_color, kernel, iterations=2)  #// make erosion image\n",
    "        img_mask_color = cv2.dilate(erosion_image_color, kernel, iterations=2)  #// make dilation image\n",
    "\n",
    "        # 바이너리 이미지를 마스크로 사용하여 원본이미지에서 범위값에 해당하는 영상부분을 획득\n",
    "        img_result_color = cv2.bitwise_and(img_color, img_color, mask = img_mask_color) \n",
    "        \n",
    "        exec(f\"img_result_{color} = img_result_color\")\n",
    "    \n",
    "    else:\n",
    "        exec(f\"lower_color = lower_{color}\")\n",
    "        exec(f\"upper_color = upper_{color}\")\n",
    "\n",
    "        img_mask_color = cv2.inRange(img_hsv, lower_color, upper_color) # 범위내의 픽셀들은 흰색, 나머지 검은색\n",
    "\n",
    "        kernel = cv2.getStructuringElement(cv2.MORPH_RECT, (3,3))\n",
    "        erosion_image_color = cv2.erode(img_mask_color, kernel, iterations=1)  #// make erosion image\n",
    "        img_mask_color = cv2.dilate(erosion_image_color, kernel, iterations=1)  #// make dilation image\n",
    "\n",
    "        # 바이너리 이미지를 마스크로 사용하여 원본이미지에서 범위값에 해당하는 영상부분을 획득\n",
    "        img_result_color = cv2.bitwise_and(img_color, img_color, mask = img_mask_color) \n",
    "\n",
    "        exec(f\"img_result_{color} = img_result_color\")\n",
    "        \n",
    "    _, src_bin = cv2.threshold(img_mask_color, 0, 255, cv2.THRESH_OTSU)\n",
    "    each_color_filtered = cv2.bitwise_and(img_color, img_color, mask = src_bin)\n",
    "    \n",
    "    # if color == 'violet':\n",
    "    #     cv2.imshow('src_bin', src_bin)\n",
    "    #     # cv2.imwrite('../imgs/red_mask.png', src_bin)\n",
    "    #     cv2.imshow(f'{color}_filtered', each_color_filtered)\n",
    "    #     # cv2.imwrite('../imgs/red_extract.png', each_color_filtered)\n",
    "    #     cv2.waitKey(0)\n",
    "    #     cv2.destroyAllWindows()\n",
    "\n",
    "    cnt, labels, stats, centroids = cv2.connectedComponentsWithStats(src_bin)\n",
    "\n",
    "    blocks_color = []\n",
    "    blocks_mask = []\n",
    "\n",
    "    for i in range(1, cnt): # 각각의 객체 정보에 들어가기 위해 반복문. 범위를 1부터 시작한 이유는 배경을 제외\n",
    "        (x, y, w, h, area) = stats[i]\n",
    "        cen_x, cen_y = map(int, centroids[i])\n",
    "        block_mask = (labels==i)*img_mask_color\n",
    "        block_color = cv2.bitwise_and(img_color, img_color, mask = block_mask)\n",
    "        \n",
    "        # 노이즈 제거\n",
    "        if area < 300:\n",
    "            continue\n",
    "        \n",
    "        # if color == 'violet':\n",
    "        #     cv2.imshow('blk clr', block_color)\n",
    "        #     # cv2.imwrite('../imgs/red_block2_color.png', block_color)\n",
    "        #     cv2.imshow('blk msk', block_mask)\n",
    "        #     # cv2.imwrite('../imgs/red_block2_mask.png', block_mask)\n",
    "        #     cv2.waitKey(0)\n",
    "        #     cv2.destroyAllWindows()\n",
    "            \n",
    "        \n",
    "        blocks_color.append(block_color)\n",
    "        blocks_mask.append(block_mask)\n",
    "        \n",
    "        \n",
    "    exec(f\"blocks_rgb_{color} = blocks_color\")\n",
    "    exec(f\"blocks_mask_{color} = blocks_mask\")\n",
    "    exec(f\"blocks_rgb_by_color.append(blocks_rgb_{color})\")\n",
    "    exec(f\"blocks_mask_by_color.append(blocks_mask_{color})\")\n",
    "    "
   ]
  },
  {
   "cell_type": "code",
   "execution_count": 10,
   "metadata": {},
   "outputs": [],
   "source": [
    "tower_mask = 0\n",
    "tower_color = 0\n",
    "for mask, color in zip(blocks_mask_by_color, blocks_rgb_by_color):\n",
    "    for block_m in mask:\n",
    "        tower_mask += block_m\n",
    "    \n",
    "    for block_c in color:\n",
    "        tower_color += block_c"
   ]
  },
  {
   "cell_type": "code",
   "execution_count": 11,
   "metadata": {},
   "outputs": [],
   "source": [
    "# cv2.imshow('tower mask', tower_mask)\n",
    "# # cv2.imwrite('../imgs/tower_mask.png', tower_mask)\n",
    "# cv2.imshow('tower color', tower_color)\n",
    "# # cv2.imwrite('../imgs/tower_color.png', tower_color)\n",
    "# cv2.waitKey(0)\n",
    "# cv2.destroyAllWindows()"
   ]
  },
  {
   "cell_type": "code",
   "execution_count": 12,
   "metadata": {},
   "outputs": [
    {
     "name": "stdout",
     "output_type": "stream",
     "text": [
      "green\n",
      "6 Blocks\n",
      "pink\n",
      "6 Blocks\n",
      "yellow\n",
      "6 Blocks\n",
      "blue\n",
      "6 Blocks\n",
      "violet\n",
      "6 Blocks\n",
      "red\n",
      "6 Blocks\n"
     ]
    }
   ],
   "source": [
    "for c, b, rgb_m in zip(colors, blocks_mask_by_color, blocks_rgb_by_color):\n",
    "    print(c)\n",
    "    print(len(b), \"Blocks\")"
   ]
  },
  {
   "attachments": {},
   "cell_type": "markdown",
   "metadata": {},
   "source": [
    "## Get PointCloud from RGB Image + Depth Image"
   ]
  },
  {
   "cell_type": "code",
   "execution_count": 13,
   "metadata": {},
   "outputs": [],
   "source": [
    "# temp intrinsic matrix\n",
    "intrinsic = o3d.camera.PinholeCameraIntrinsic()\n",
    "intrinsic.intrinsic_matrix = [[968.813, 0, 1023.83],\n",
    "                              [0, 968.635, 775.975],\n",
    "                              [0, 0, 1]]\n",
    "\n",
    "\n",
    "# extrinsic = np.array([[0.999987, 0.00512943, 0.000573447, -32.0559],\n",
    "#                      [-0.00516119, 0.994725, 0.102443, -1.91788],\n",
    "#                      [-4.49478e-05, -0.102445, 0.994739, 3.99916],\n",
    "#                      [0, 0, 0, 1]])\n",
    "# extrinsic"
   ]
  },
  {
   "cell_type": "code",
   "execution_count": 14,
   "metadata": {},
   "outputs": [],
   "source": [
    "mesh_frame = o3d.geometry.TriangleMesh.create_coordinate_frame(\n",
    "    size=50, origin=[0, 0, 0])\n",
    "mesh_frame_small = o3d.geometry.TriangleMesh.create_coordinate_frame(\n",
    "    size=0.1, origin=[0, 0, 0])"
   ]
  },
  {
   "cell_type": "code",
   "execution_count": 15,
   "metadata": {},
   "outputs": [],
   "source": [
    "def get_pointcloud_from_color_depth(color_image, depth_image, intrinsic):\n",
    "    o3d_img = o3d.geometry.Image()\n",
    "    \n",
    "    if isinstance(color_image, type(o3d_img)):\n",
    "        pass\n",
    "    elif isinstance(color_image, np.ndarray):\n",
    "        color_image = cv2.cvtColor(color_image, cv2.COLOR_BGR2RGB)\n",
    "        color_image = o3d.geometry.Image(color_image)\n",
    "        \n",
    "    if isinstance(depth_image, type(o3d_img)):\n",
    "        pass\n",
    "    elif isinstance(depth_image, np.ndarray):\n",
    "        depth_image = o3d.geometry.Image(depth_image)\n",
    "        \n",
    "    # rgbd_image = o3d.geometry.RGBDImage.create_from_color_and_depth(color_image, depth_image, depth_scale=1, depth_trunc=3000.0, convert_rgb_to_intensity=False)\n",
    "    rgbd_image = o3d.geometry.RGBDImage.create_from_color_and_depth(color_image, depth_image, convert_rgb_to_intensity=False)\n",
    "    # print(np.asarray(rgbd_image.depth).max())\n",
    "    pcd = o3d.geometry.PointCloud.create_from_rgbd_image(rgbd_image, intrinsic)\n",
    "    \n",
    "    return pcd"
   ]
  },
  {
   "cell_type": "code",
   "execution_count": 16,
   "metadata": {},
   "outputs": [],
   "source": [
    "masked_depth = cv2.bitwise_and(img_depth, img_depth, mask = tower_mask)"
   ]
  },
  {
   "cell_type": "code",
   "execution_count": 17,
   "metadata": {},
   "outputs": [],
   "source": [
    "tower_pcd = get_pointcloud_from_color_depth(color_image=tower_color, depth_image=masked_depth, intrinsic=intrinsic)\n"
   ]
  },
  {
   "cell_type": "code",
   "execution_count": 72,
   "metadata": {},
   "outputs": [
    {
     "name": "stdout",
     "output_type": "stream",
     "text": [
      "<class 'open3d.cpu.pybind.geometry.PointCloud'>\n"
     ]
    }
   ],
   "source": [
    "print(type(tower_pcd))"
   ]
  },
  {
   "cell_type": "code",
   "execution_count": 18,
   "metadata": {},
   "outputs": [
    {
     "name": "stdout",
     "output_type": "stream",
     "text": [
      "PointCloud with 269656 points.\n",
      "[[-0.01771596 -0.07790306  0.215     ]\n",
      " [-0.0175754  -0.0782654   0.21600001]\n",
      " [-0.01735245 -0.0782654   0.21600001]\n",
      " ...\n",
      " [-0.01776494  0.10756967  0.23      ]\n",
      " [-0.01752753  0.10756967  0.23      ]\n",
      " [-0.01729013  0.10756967  0.23      ]]\n"
     ]
    }
   ],
   "source": [
    "print(tower_pcd)\n",
    "print(np.asarray(tower_pcd.points))\n",
    "o3d.visualization.draw_geometries([tower_pcd])"
   ]
  },
  {
   "cell_type": "code",
   "execution_count": null,
   "metadata": {},
   "outputs": [],
   "source": []
  },
  {
   "cell_type": "code",
   "execution_count": 19,
   "metadata": {},
   "outputs": [
    {
     "name": "stdout",
     "output_type": "stream",
     "text": [
      "X min/max: -0.19102764527657992 0.05288281771218741\n",
      "Y min/max: -0.31632264375882324 0.11035418559026333\n",
      "Z min/max: 0.2150000035762787 0.8889999985694885\n"
     ]
    }
   ],
   "source": [
    "points = np.asarray(tower_pcd.points)\n",
    "\n",
    "print(\"X min/max:\", np.min(points[:, 0]), np.max(points[:, 0]))\n",
    "print(\"Y min/max:\", np.min(points[:, 1]), np.max(points[:, 1]))\n",
    "print(\"Z min/max:\", np.min(points[:, 2]), np.max(points[:, 2]))"
   ]
  },
  {
   "cell_type": "code",
   "execution_count": 20,
   "metadata": {},
   "outputs": [],
   "source": [
    "blocks_pcd_by_color = []\n",
    "all_pcd = []\n",
    "for color, block_mask in zip(colors, blocks_mask_by_color):\n",
    "    # print(color)\n",
    "    # if color != 'blue':\n",
    "    #     continue\n",
    "    blocks_pcd = []\n",
    "    for msk in block_mask:\n",
    "        masked_block_rgb = cv2.bitwise_and(tower_color, tower_color, mask = msk)\n",
    "        masked_block_depth = cv2.bitwise_and(img_depth, img_depth, mask = msk)\n",
    "        \n",
    "        # Get Each Block's PointCloud\n",
    "        pcd = get_pointcloud_from_color_depth(color_image=masked_block_rgb, depth_image=masked_block_depth, intrinsic=intrinsic)\n",
    "        \n",
    "        # Remove Outlier Points\n",
    "        pcd, _ = pcd.remove_radius_outlier(1024, 0.025)\n",
    "        blocks_pcd.append(pcd)\n",
    "        all_pcd.append(pcd)\n",
    "        \n",
    "        # if color=='blue':\n",
    "        #     o3d.visualization.draw_geometries([pcd])\n",
    "    \n",
    "    exec(f\"blocks_pcd_{color} = blocks_pcd\")\n",
    "    exec(f\"blocks_pcd_by_color.append(blocks_pcd_{color})\")"
   ]
  },
  {
   "cell_type": "code",
   "execution_count": 21,
   "metadata": {},
   "outputs": [
    {
     "name": "stdout",
     "output_type": "stream",
     "text": [
      "PointCloud with 268886 points.\n"
     ]
    }
   ],
   "source": [
    "pcd_combined = o3d.geometry.PointCloud()\n",
    "for point_id in range(len(all_pcd)):\n",
    "    pcd_combined += all_pcd[point_id]\n",
    "\n",
    "print(pcd_combined)\n",
    "# print(len(pcd_combined.points))"
   ]
  },
  {
   "cell_type": "code",
   "execution_count": 22,
   "metadata": {},
   "outputs": [
    {
     "name": "stdout",
     "output_type": "stream",
     "text": [
      "X min/max: -0.06142136013038187 0.05288281771218741\n",
      "Y min/max: -0.08187781871597376 0.11035418559026333\n",
      "Z min/max: 0.2150000035762787 0.3070000112056732\n"
     ]
    }
   ],
   "source": [
    "points = np.asarray(pcd_combined.points)\n",
    "\n",
    "print(\"X min/max:\", np.min(points[:, 0]), np.max(points[:, 0]))\n",
    "print(\"Y min/max:\", np.min(points[:, 1]), np.max(points[:, 1]))\n",
    "print(\"Z min/max:\", np.min(points[:, 2]), np.max(points[:, 2]))"
   ]
  },
  {
   "cell_type": "code",
   "execution_count": 23,
   "metadata": {},
   "outputs": [
    {
     "data": {
      "text/plain": [
       "0.1922320043062371"
      ]
     },
     "execution_count": 23,
     "metadata": {},
     "output_type": "execute_result"
    }
   ],
   "source": [
    "np.max(points[:, 1]) - np.min(points[:, 1])"
   ]
  },
  {
   "cell_type": "code",
   "execution_count": 24,
   "metadata": {},
   "outputs": [
    {
     "data": {
      "text/plain": [
       "6"
      ]
     },
     "execution_count": 24,
     "metadata": {},
     "output_type": "execute_result"
    }
   ],
   "source": [
    "len(blocks_pcd_by_color)"
   ]
  },
  {
   "attachments": {},
   "cell_type": "markdown",
   "metadata": {},
   "source": [
    "## Tower ICP"
   ]
  },
  {
   "cell_type": "code",
   "execution_count": 25,
   "metadata": {},
   "outputs": [],
   "source": [
    "\n",
    "# o3d.visualization.draw_geometries([pcd_combined, mesh_frame_small])\n",
    "\n",
    "# o3d.visualization.draw_geometries([pcd_combined, mesh_frame])"
   ]
  },
  {
   "cell_type": "code",
   "execution_count": 26,
   "metadata": {},
   "outputs": [
    {
     "name": "stdout",
     "output_type": "stream",
     "text": [
      "TriangleMesh with 12 points and 4 triangles.\n",
      "PointCloud with 268886 points.\n"
     ]
    }
   ],
   "source": [
    "mesh_tower = o3d.io.read_triangle_mesh(\"mesh/jenga_tower_side_xy_m.stl\")\n",
    "print(mesh_tower)\n",
    "\n",
    "mesh_tower.compute_vertex_normals()\n",
    "\n",
    "pcd_mesh = mesh_tower.sample_points_uniformly(number_of_points=len(pcd_combined.points))\n",
    "print(pcd_mesh)\n",
    "# o3d.visualization.draw_geometries([pcd_mesh, mesh_frame_small])"
   ]
  },
  {
   "cell_type": "code",
   "execution_count": 27,
   "metadata": {},
   "outputs": [
    {
     "name": "stdout",
     "output_type": "stream",
     "text": [
      "X min/max: -0.037499760832788435 0.037500001490116126\n",
      "Y min/max: -0.03749975206107941 0.037500001490116126\n",
      "Z min/max: 5.928331776496703e-07 0.17999949160840048\n"
     ]
    }
   ],
   "source": [
    "points = np.asarray(pcd_mesh.points)\n",
    "\n",
    "print(\"X min/max:\", np.min(points[:, 0]), np.max(points[:, 0]))\n",
    "print(\"Y min/max:\", np.min(points[:, 1]), np.max(points[:, 1]))\n",
    "print(\"Z min/max:\", np.min(points[:, 2]), np.max(points[:, 2]))"
   ]
  },
  {
   "cell_type": "code",
   "execution_count": 28,
   "metadata": {},
   "outputs": [],
   "source": [
    "initial_transform = np.asarray([[0, 0, -1, 0],\n",
    "                                [1, 0, 0, 0],\n",
    "                                [0, -1, 0, 0],\n",
    "                                [0, 0, 0, 1]])"
   ]
  },
  {
   "cell_type": "code",
   "execution_count": 29,
   "metadata": {},
   "outputs": [],
   "source": [
    "def prepare_icp(source, target):\n",
    "    source_tmp = copy.deepcopy(source)\n",
    "    target_tmp = copy.deepcopy(target)\n",
    "    \n",
    "    # make the point cloud into right position\n",
    "    source_tmp.transform(initial_transform)\n",
    "    \n",
    "    # move the source pcd to do icp\n",
    "    move = np.array(target_tmp.get_oriented_bounding_box().get_center() - source_tmp.get_oriented_bounding_box().get_center())\n",
    "\n",
    "    source_tmp.transform(np.linalg.inv(initial_transform))\n",
    "    \n",
    "    o3d.visualization.draw_geometries([source_tmp, target_tmp, mesh_frame_small])\n",
    "    \n",
    "    return source_tmp, target_tmp, move"
   ]
  },
  {
   "cell_type": "code",
   "execution_count": 30,
   "metadata": {},
   "outputs": [],
   "source": [
    "source, target,  move = prepare_icp(pcd_combined, pcd_mesh)"
   ]
  },
  {
   "cell_type": "code",
   "execution_count": 31,
   "metadata": {},
   "outputs": [
    {
     "data": {
      "text/plain": [
       "array([0.27372625, 0.03336021, 0.103793  ])"
      ]
     },
     "execution_count": 31,
     "metadata": {},
     "output_type": "execute_result"
    }
   ],
   "source": [
    "move"
   ]
  },
  {
   "cell_type": "code",
   "execution_count": 32,
   "metadata": {},
   "outputs": [],
   "source": [
    "def draw_registration_result(source, target, transformation):\n",
    "    source_temp = copy.deepcopy(source)\n",
    "    target_temp = copy.deepcopy(target)\n",
    "    # source_temp.paint_uniform_color([1, 0.706, 0])\n",
    "    # target_temp.paint_uniform_color([0, 0.651, 0.929])\n",
    "    source_temp.transform(transformation)\n",
    "    o3d.visualization.draw_geometries([source_temp, target_temp, mesh_frame_small])"
   ]
  },
  {
   "cell_type": "code",
   "execution_count": 33,
   "metadata": {},
   "outputs": [],
   "source": [
    "threshold = 10\n",
    "trans_init = np.asarray([[0, 0, -1, move[0]],\n",
    "                         [1, 0, 0, move[1]],\n",
    "                         [0, -1, 0, move[2]],\n",
    "                         [0, 0, 0, 1]])\n",
    "draw_registration_result(source, target, trans_init)"
   ]
  },
  {
   "cell_type": "code",
   "execution_count": 34,
   "metadata": {},
   "outputs": [
    {
     "name": "stdout",
     "output_type": "stream",
     "text": [
      "Initial alignment\n",
      "RegistrationResult with fitness=1.000000e+00, inlier_rmse=2.507357e-02, and correspondence_set size of 268886\n",
      "Access transformation to get result.\n"
     ]
    }
   ],
   "source": [
    "print(\"Initial alignment\")\n",
    "evaluation = o3d.pipelines.registration.evaluate_registration(\n",
    "    source, target, threshold, trans_init)\n",
    "print(evaluation)"
   ]
  },
  {
   "cell_type": "code",
   "execution_count": 35,
   "metadata": {},
   "outputs": [
    {
     "name": "stdout",
     "output_type": "stream",
     "text": [
      "RegistrationResult with fitness=1.000000e+00, inlier_rmse=2.539244e-03, and correspondence_set size of 268886\n",
      "Access transformation to get result.\n",
      "Transformation is:\n",
      "[[-0.85940747  0.01988883 -0.51090433  0.14084215]\n",
      " [ 0.51071093 -0.01420518 -0.85963513  0.24441646]\n",
      " [-0.02435463 -0.99970128  0.00205059  0.10190226]\n",
      " [ 0.          0.          0.          1.        ]]\n"
     ]
    }
   ],
   "source": [
    "reg_p2p = o3d.pipelines.registration.registration_icp(\n",
    "    source, target, threshold, trans_init,\n",
    "    o3d.pipelines.registration.TransformationEstimationPointToPoint(),\n",
    "    o3d.pipelines.registration.ICPConvergenceCriteria(max_iteration=2000))\n",
    "print(reg_p2p)\n",
    "print(\"Transformation is:\")\n",
    "print(reg_p2p.transformation)\n",
    "draw_registration_result(source, target, reg_p2p.transformation)"
   ]
  },
  {
   "cell_type": "code",
   "execution_count": 36,
   "metadata": {},
   "outputs": [],
   "source": [
    "draw_registration_result(source, target, reg_p2p.transformation)"
   ]
  },
  {
   "cell_type": "code",
   "execution_count": 37,
   "metadata": {},
   "outputs": [
    {
     "data": {
      "text/plain": [
       "PointCloud with 268886 points."
      ]
     },
     "execution_count": 37,
     "metadata": {},
     "output_type": "execute_result"
    }
   ],
   "source": [
    "source_temp = copy.deepcopy(source)\n",
    "\n",
    "source_temp.transform(reg_p2p.transformation)\n"
   ]
  },
  {
   "cell_type": "code",
   "execution_count": 38,
   "metadata": {},
   "outputs": [
    {
     "data": {
      "text/plain": [
       "-0.007397777558511842"
      ]
     },
     "execution_count": 38,
     "metadata": {},
     "output_type": "execute_result"
    }
   ],
   "source": [
    "(np.array(source_temp.points))[:,2].min()"
   ]
  },
  {
   "attachments": {},
   "cell_type": "markdown",
   "metadata": {},
   "source": [
    "## Blocks Transformation"
   ]
  },
  {
   "cell_type": "code",
   "execution_count": 39,
   "metadata": {},
   "outputs": [],
   "source": [
    "trans1 = reg_p2p.transformation"
   ]
  },
  {
   "cell_type": "code",
   "execution_count": 40,
   "metadata": {},
   "outputs": [],
   "source": [
    "trans = copy.deepcopy(reg_p2p.transformation)"
   ]
  },
  {
   "cell_type": "code",
   "execution_count": 41,
   "metadata": {},
   "outputs": [
    {
     "name": "stdout",
     "output_type": "stream",
     "text": [
      "[[-0.85940747  0.01988883 -0.51090433  0.14084215]\n",
      " [ 0.51071093 -0.01420518 -0.85963513  0.24441646]\n",
      " [-0.02435463 -0.99970128  0.00205059  0.10190226]\n",
      " [ 0.          0.          0.          1.        ]]\n",
      "[[-0.85940747  0.51071093 -0.02435463 -0.00130357]\n",
      " [ 0.01988883 -0.01420518 -0.99970128  0.10254261]\n",
      " [-0.51090433 -0.85963513  0.00205059  0.28185688]\n",
      " [ 0.          0.          0.          1.        ]]\n"
     ]
    }
   ],
   "source": [
    "print(trans)\n",
    "# trans[0,3]/=1000\n",
    "# trans[1,3]/=1000\n",
    "# trans[2,3]/=1000\n",
    "\n",
    "print(np.linalg.inv(trans))"
   ]
  },
  {
   "cell_type": "code",
   "execution_count": 42,
   "metadata": {},
   "outputs": [],
   "source": [
    "def transform_blocks(pcd, icp_transform):\n",
    "    pcd_temp = copy.deepcopy(pcd)\n",
    "    aa = o3d.cpu.pybind.utility.Vector3dVector(np.array(pcd_temp.points))\n",
    "    pcd_temp.points = aa\n",
    "    pcd_temp.transform(icp_transform)\n",
    "    \n",
    "    return pcd_temp"
   ]
  },
  {
   "cell_type": "code",
   "execution_count": 66,
   "metadata": {},
   "outputs": [],
   "source": [
    "# WHAT IS THE TARGET BLOCK?\n",
    "target_block_color = 'green'\n",
    "target_block_label = 3"
   ]
  },
  {
   "cell_type": "markdown",
   "metadata": {},
   "source": [
    "**처음 카메라 돌릴때 알아내야하는 것**\n",
    "1. MESH <-> CAMERA 변환 관계\n",
    "2. 각 블럭(or 색)의 초기 상태를 알면 됨\n",
    "\t* 어떤 방향으로 놓여있는지 (x or y)\n",
    "\t* 몇층에 놓여있는지 or z축 좌표"
   ]
  },
  {
   "cell_type": "markdown",
   "metadata": {},
   "source": [
    "* case 1\n",
    "    22.5\n",
    "    52.5\n",
    "    82.5\n",
    "    112.5\n",
    "    142.5\n",
    "    172.5\n",
    "\n",
    "* case 2\n",
    "    7.5\n",
    "    37.5\n",
    "    67.5\n",
    "    97.5\n",
    "    127.5\n",
    "    157.5"
   ]
  },
  {
   "cell_type": "code",
   "execution_count": 71,
   "metadata": {},
   "outputs": [
    {
     "name": "stdout",
     "output_type": "stream",
     "text": [
      "green\n",
      "3\n",
      "BOX EXTENT :  [0.03101941 0.07963808 0.01917698]\n",
      "BOX CENTER COORDINATE :  [ 0.02756922 -0.00255576  0.06797554]\n",
      "true_z : 0.0675\n",
      "################ CASE 1 ################\n",
      "BLOCK DIRECTION : Y\n",
      "PULL DIRECTION : X\n",
      "-----BLOCK CENTER COORDINATE-----\n",
      "X : 0.027569219643012746\n",
      "Y : -0.002555758829556734\n",
      "Z : 0.06797553595676581\n",
      "----------------------------------\n",
      "TRUE COORDINATES\n",
      "true_x : 0.025\n",
      "true_y : 0.0\n",
      "true_z : 0.0675\n",
      "pink\n",
      "3\n",
      "BOX EXTENT :  [0.00709368 0.02488716 0.01619857]\n",
      "BOX CENTER COORDINATE :  [ 0.03818262 -0.03424571  0.0849618 ]\n",
      "true_z : 0.08249999999999999\n",
      "################ CASE 6 ################\n",
      "BLOCK DIRECTION : X\n",
      "PULL DIRECTION : -Y\n",
      "-----BLOCK CENTER COORDINATE-----\n",
      "X : 0.0006826153278555944\n",
      "Y : -0.03424571087042688\n",
      "Z : 0.08496180444983108\n",
      "----------------------------------\n",
      "TRUE COORDINATES\n",
      "true_x : 0.0\n",
      "true_y : -0.025\n",
      "true_z : 0.08249999999999999\n",
      "yellow\n",
      "3\n",
      "BOX EXTENT :  [0.02702377 0.00602636 0.01539643]\n",
      "BOX CENTER COORDINATE :  [-0.02644882  0.03943836  0.06760512]\n",
      "true_z : 0.0675\n",
      "################ CASE 5 ################\n",
      "BLOCK DIRECTION : Y\n",
      "PULL DIRECTION : -X\n",
      "-----BLOCK CENTER COORDINATE-----\n",
      "X : -0.02644882439335136\n",
      "Y : 0.0019383622720335406\n",
      "Z : 0.06760512365830718\n",
      "----------------------------------\n",
      "TRUE COORDINATES\n",
      "true_x : -0.025\n",
      "true_y : 0.0\n",
      "true_z : 0.0675\n",
      "blue\n",
      "3\n",
      "BOX EXTENT :  [0.00473679 0.02737946 0.01538891]\n",
      "BOX CENTER COORDINATE :  [ 0.03579665 -0.00997572  0.08454587]\n",
      "true_z : 0.08249999999999999\n",
      "################ CASE 4 ################\n",
      "BLOCK DIRECTION : X\n",
      "PUSH DIRECTION : X or -X\n",
      "-----BLOCK CENTER COORDINATE-----\n",
      "X : -0.0017033464350389924\n",
      "Y : -0.009975715702690291\n",
      "Z : 0.08454587321726417\n",
      "----------------------------------\n",
      "TRUE COORDINATES\n",
      "true_x : 0.0\n",
      "true_y : 0.0\n",
      "true_z : 0.08249999999999999\n",
      "violet\n",
      "3\n",
      "BOX EXTENT :  [0.02679085 0.00443285 0.01497407]\n",
      "BOX CENTER COORDINATE :  [-0.00109967  0.0372226   0.06780206]\n",
      "true_z : 0.0675\n",
      "################ CASE 3 ################\n",
      "BLOCK DIRECTION : Y\n",
      "PUSH DIRECTION : Y or -Y\n",
      "-----BLOCK CENTER COORDINATE-----\n",
      "X : -0.0010996658741956045\n",
      "Y : -0.00027739913919511833\n",
      "Z : 0.06780206490677346\n",
      "----------------------------------\n",
      "TRUE COORDINATES\n",
      "true_x : 0.0\n",
      "true_y : 0.0\n",
      "true_z : 0.0675\n",
      "red\n",
      "3\n",
      "BOX EXTENT :  [0.07858505 0.04084791 0.01746647]\n",
      "BOX CENTER COORDINATE :  [-0.00194752  0.02132814  0.08318383]\n",
      "true_z : 0.08249999999999999\n",
      "################ CASE 2 ################\n",
      "BLOCK DIRECTION : X\n",
      "PULL DIRECTION : Y\n",
      "-----BLOCK CENTER COORDINATE-----\n",
      "X : -0.001947515873306313\n",
      "Y : 0.02132813648352723\n",
      "Z : 0.0831838339523289\n",
      "----------------------------------\n",
      "TRUE COORDINATES\n",
      "true_x : 0.0\n",
      "true_y : 0.025\n",
      "true_z : 0.08249999999999999\n"
     ]
    }
   ],
   "source": [
    "for col, pcds in zip(colors, blocks_pcd_by_color):\n",
    "    # if col != target_block_color:\n",
    "    #     continue\n",
    "    print(col)\n",
    "    \n",
    "    for idx, pcd in enumerate(pcds):\n",
    "        if idx != target_block_label:\n",
    "            continue\n",
    "        \n",
    "        # print(\"--------------------------------\")\n",
    "        print(idx)\n",
    "\n",
    "        new_trans = copy.deepcopy(trans)\n",
    "        # new_trans[0,3]*=1000\n",
    "        # new_trans[1,3]*=1000\n",
    "        # new_trans[2,3]*=1000\n",
    "\n",
    "        pcd_new = transform_blocks(pcd, new_trans)\n",
    "        \n",
    "        # o3d.visualization.draw_geometries([pcd_new, mesh_frame, pcd_new.get_axis_aligned_bounding_box()])\n",
    "        \n",
    "        box_extent = pcd_new.get_axis_aligned_bounding_box().get_extent()\n",
    "        print(\"BOX EXTENT : \", box_extent)\n",
    "        \n",
    "        center_coordinate = np.array(pcd_new.get_axis_aligned_bounding_box().get_box_points()).mean(axis=0)\n",
    "        \n",
    "        # print(np.array(pcd_new.get_axis_aligned_bounding_box().get_box_points()))\n",
    "        print(\"BOX CENTER COORDINATE : \", center_coordinate)\n",
    "        \n",
    "        # print(\"BOX CENTER Z COORDINATE : \", center_coordinate[2] * 1000)\n",
    "        # print(\"BOX CENTER Z COORDINATE : \", center_coordinate[2] * 1000)\n",
    "        # print(\"BOX CENTER Z COORDINATE : \", center_coordinate[2] * 1000)\n",
    "        \n",
    "        mok, nameoji = divmod(center_coordinate[2], 0.015)\n",
    "        \n",
    "        # print(mok, nameoji)\n",
    "        true_z = mok * 0.015 + 0.0075\n",
    "        print(\"true_z :\", true_z)\n",
    "        \n",
    "        # print(\"BOX MAX X,Y and MEAN Z Coordinate\")\n",
    "        x_mean = np.array(pcd_new.get_axis_aligned_bounding_box().get_box_points())[:,0].mean()\n",
    "        y_mean = np.array(pcd_new.get_axis_aligned_bounding_box().get_box_points())[:,1].mean()\n",
    "        z_mean = np.array(pcd_new.get_axis_aligned_bounding_box().get_box_points())[:,2].mean()\n",
    "        \n",
    "        if box_extent[1] > 0.070:\n",
    "            print(\"################ CASE 1 ################\")\n",
    "            print(\"BLOCK DIRECTION : Y\")\n",
    "            print(\"PULL DIRECTION : X\")\n",
    "            vector = np.array([-1, 0, 0])\n",
    "            print(\"-----BLOCK CENTER COORDINATE-----\")\n",
    "            cen_x = x_mean #- 25/2\n",
    "            cen_y = y_mean #- 75/2\n",
    "            cen_z = z_mean\n",
    "            print(\"X :\", cen_x)\n",
    "            print(\"Y :\", cen_y)\n",
    "            print(\"Z :\", cen_z)\n",
    "            pt1 = o3d.cpu.pybind.utility.Vector3dVector(np.array([[cen_x, cen_y, z_mean], [cen_x - 0.00001, cen_y - 0.00001, cen_z - 0.00001], [cen_x + 0.00001, cen_y + 0.00001, cen_z + 0.00001]]))\n",
    "            print(\"----------------------------------\")\n",
    "            \n",
    "        elif box_extent[0] > 0.070:\n",
    "            print(\"################ CASE 2 ################\")\n",
    "            print(\"BLOCK DIRECTION : X\")\n",
    "            print(\"PULL DIRECTION : Y\")\n",
    "            vector = np.array([0, -1, 0])\n",
    "            print(\"-----BLOCK CENTER COORDINATE-----\")\n",
    "            cen_x = x_mean# - 75/2\n",
    "            cen_y = y_mean# - 25/2\n",
    "            cen_z = z_mean\n",
    "            print(\"X :\", cen_x)\n",
    "            print(\"Y :\", cen_y)\n",
    "            print(\"Z :\", cen_z)\n",
    "            pt1 = o3d.cpu.pybind.utility.Vector3dVector(np.array([[cen_x, cen_y, z_mean], [cen_x - 0.00001, cen_y - 0.00001, cen_z - 0.00001], [cen_x + 0.00001, cen_y + 0.00001, cen_z + 0.00001]]))\n",
    "            print(\"----------------------------------\")\n",
    "            \n",
    "        elif abs(center_coordinate[0]) < 0.010 and box_extent [1] < 0.015:\n",
    "            print(\"################ CASE 3 ################\")\n",
    "            print(\"BLOCK DIRECTION : Y\")\n",
    "            print(\"PUSH DIRECTION : Y or -Y\")\n",
    "            vector = np.array([0, -1, 0])\n",
    "            print(\"-----BLOCK CENTER COORDINATE-----\")\n",
    "            cen_x = x_mean# - 25/2\n",
    "            cen_y = y_mean - 0.075/2\n",
    "            cen_z = z_mean\n",
    "            print(\"X :\", cen_x)\n",
    "            print(\"Y :\", cen_y)\n",
    "            print(\"Z :\", cen_z)\n",
    "            pt1 = o3d.cpu.pybind.utility.Vector3dVector(np.array([[cen_x, cen_y, z_mean], [cen_x - 0.00001, cen_y - 0.00001, cen_z - 0.00001], [cen_x + 0.00001, cen_y + 0.00001, cen_z + 0.00001]]))\n",
    "            print(\"----------------------------------\")\n",
    "            \n",
    "        elif abs(center_coordinate[1]) < 0.010 and box_extent [0] < 0.015:\n",
    "            print(\"################ CASE 4 ################\")\n",
    "            print(\"BLOCK DIRECTION : X\")\n",
    "            print(\"PUSH DIRECTION : X or -X\")\n",
    "            vector = np.array([-1, 0, 0])\n",
    "            print(\"-----BLOCK CENTER COORDINATE-----\")\n",
    "            cen_x = x_mean - 0.075/2\n",
    "            cen_y = y_mean# - 25/2\n",
    "            cen_z = z_mean\n",
    "            print(\"X :\", cen_x)\n",
    "            print(\"Y :\", cen_y)\n",
    "            print(\"Z :\", cen_z)\n",
    "            pt1 = o3d.cpu.pybind.utility.Vector3dVector(np.array([[cen_x, cen_y, z_mean], [cen_x - 0.00001, cen_y - 0.00001, cen_z - 0.00001], [cen_x + 0.00001, cen_y + 0.00001, cen_z + 0.00001]]))\n",
    "            print(\"----------------------------------\")\n",
    "            \n",
    "        elif box_extent[1] < 0.015:\n",
    "            print(\"################ CASE 5 ################\")\n",
    "            print(\"BLOCK DIRECTION : Y\")\n",
    "            print(\"PULL DIRECTION : -X\")\n",
    "            vector = np.array([1, 0, 0])\n",
    "            print(\"-----BLOCK CENTER COORDINATE-----\")\n",
    "            cen_x = x_mean# - 25/2\n",
    "            cen_y = y_mean - 0.075/2\n",
    "            cen_z = z_mean\n",
    "            print(\"X :\", cen_x)\n",
    "            print(\"Y :\", cen_y)\n",
    "            print(\"Z :\", cen_z)\n",
    "            pt1 = o3d.cpu.pybind.utility.Vector3dVector(np.array([[cen_x, cen_y, z_mean], [cen_x - 0.00001, cen_y - 0.00001, cen_z - 0.00001], [cen_x + 0.00001, cen_y + 0.00001, cen_z + 0.00001]]))\n",
    "            print(\"----------------------------------\")\n",
    "            \n",
    "        elif box_extent[0] < 0.015:\n",
    "            print(\"################ CASE 6 ################\")\n",
    "            print(\"BLOCK DIRECTION : X\")\n",
    "            print(\"PULL DIRECTION : -Y\")\n",
    "            vector = np.array([0, 1, 0])\n",
    "            print(\"-----BLOCK CENTER COORDINATE-----\")\n",
    "            cen_x = x_mean - 0.075/2\n",
    "            cen_y = y_mean# - 25/2\n",
    "            cen_z = z_mean\n",
    "            print(\"X :\", cen_x)\n",
    "            print(\"Y :\", cen_y)\n",
    "            print(\"Z :\", cen_z)\n",
    "            pt1 = o3d.cpu.pybind.utility.Vector3dVector(np.array([[cen_x, cen_y, z_mean], [cen_x - 0.00001, cen_y - 0.00001, cen_z - 0.00001], [cen_x + 0.00001, cen_y + 0.00001, cen_z + 0.00001]]))\n",
    "            print(\"----------------------------------\")\n",
    "            \n",
    "        else:\n",
    "            print(\"NOTHING\")\n",
    "            \n",
    "        if abs(cen_x) < 0.0125:\n",
    "            true_x = 0.0\n",
    "        elif cen_x > 0:\n",
    "            true_x = 0.025\n",
    "        else:\n",
    "            true_x = -0.025\n",
    "            \n",
    "        if abs(cen_y) < 0.0125:\n",
    "            true_y = 0.0\n",
    "        elif cen_y > 0:\n",
    "            true_y = 0.025\n",
    "        else:\n",
    "            true_y = -0.025\n",
    "        \n",
    "        print(\"TRUE COORDINATES\")\n",
    "        print(\"true_x :\", true_x)\n",
    "        print(\"true_y :\", true_y)\n",
    "        print(\"true_z :\", true_z)\n",
    "        \n",
    "        pt2 = o3d.cpu.pybind.utility.Vector3dVector(np.array([[true_x, true_y, true_z], [true_x - 0.00001, true_y - 0.00001, true_z - 0.00001], [true_x + 0.00001, true_y + 0.00001, true_z + 0.00001]]))\n",
    "            \n",
    "        mesh_COORD = o3d.geometry.TriangleMesh.create_coordinate_frame(size=10, origin=center_coordinate)\n",
    "        ptc1 = o3d.geometry.PointCloud()\n",
    "        ptc1.points = pt1\n",
    "        ptc1.paint_uniform_color([1, 0, 0])\n",
    "        ptc2 = o3d.geometry.PointCloud()\n",
    "        ptc2.points = pt2\n",
    "        ptc2.paint_uniform_color([0, 0, 1])\n",
    "        line = o3d.geometry.LineSet.create_from_point_cloud_correspondences(ptc1, ptc2, [(0,0)])\n",
    "        o3d.visualization.draw_geometries([pcd_new, source_temp, mesh_frame_small, ptc1, ptc2, line])"
   ]
  },
  {
   "cell_type": "code",
   "execution_count": 45,
   "metadata": {},
   "outputs": [
    {
     "name": "stdout",
     "output_type": "stream",
     "text": [
      "TriangleMesh with 12 points and 4 triangles.\n",
      "PointCloud with 268886 points.\n"
     ]
    }
   ],
   "source": [
    "mesh_block_x = o3d.io.read_triangle_mesh(\"mesh/single_block_y_m.stl\")\n",
    "print(mesh_tower)\n",
    "\n",
    "mesh_tower.compute_vertex_normals()\n",
    "\n",
    "pcd_mesh = mesh_tower.sample_points_uniformly(number_of_points=len(pcd_combined.points))\n",
    "print(pcd_mesh)"
   ]
  },
  {
   "cell_type": "code",
   "execution_count": 46,
   "metadata": {},
   "outputs": [
    {
     "ename": "NameError",
     "evalue": "name 'target_tmp' is not defined",
     "output_type": "error",
     "traceback": [
      "\u001b[0;31m---------------------------------------------------------------------------\u001b[0m",
      "\u001b[0;31mNameError\u001b[0m                                 Traceback (most recent call last)",
      "Cell \u001b[0;32mIn[46], line 1\u001b[0m\n\u001b[0;32m----> 1\u001b[0m move \u001b[39m=\u001b[39m np\u001b[39m.\u001b[39marray(target_tmp\u001b[39m.\u001b[39mget_oriented_bounding_box()\u001b[39m.\u001b[39mget_center() \u001b[39m-\u001b[39m source_tmp\u001b[39m.\u001b[39mget_oriented_bounding_box()\u001b[39m.\u001b[39mget_center())\n",
      "\u001b[0;31mNameError\u001b[0m: name 'target_tmp' is not defined"
     ]
    }
   ],
   "source": [
    "move = np.array(target_tmp.get_oriented_bounding_box().get_center() - source_tmp.get_oriented_bounding_box().get_center())"
   ]
  }
 ],
 "metadata": {
  "kernelspec": {
   "display_name": "urp",
   "language": "python",
   "name": "python3"
  },
  "language_info": {
   "codemirror_mode": {
    "name": "ipython",
    "version": 3
   },
   "file_extension": ".py",
   "mimetype": "text/x-python",
   "name": "python",
   "nbconvert_exporter": "python",
   "pygments_lexer": "ipython3",
   "version": "3.8.10"
  },
  "orig_nbformat": 4
 },
 "nbformat": 4,
 "nbformat_minor": 2
}
