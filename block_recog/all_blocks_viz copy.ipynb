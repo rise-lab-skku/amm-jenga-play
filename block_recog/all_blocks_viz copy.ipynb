{
 "cells": [
  {
   "attachments": {},
   "cell_type": "markdown",
   "metadata": {},
   "source": [
    "# Blcok Recognition"
   ]
  },
  {
   "attachments": {},
   "cell_type": "markdown",
   "metadata": {},
   "source": [
    "## Import Libraries"
   ]
  },
  {
   "cell_type": "code",
   "execution_count": 2,
   "metadata": {},
   "outputs": [
    {
     "name": "stdout",
     "output_type": "stream",
     "text": [
      "Jupyter environment detected. Enabling Open3D WebVisualizer.\n",
      "[Open3D INFO] WebRTC GUI backend enabled.\n",
      "[Open3D INFO] WebRTCWindowSystem: HTTP handshake server disabled.\n"
     ]
    }
   ],
   "source": [
    "import numpy as np\n",
    "import cv2\n",
    "import glob\n",
    "from matplotlib import pyplot as plt\n",
    "import open3d as o3d\n",
    "import copy\n",
    "import pickle"
   ]
  },
  {
   "cell_type": "code",
   "execution_count": 3,
   "metadata": {},
   "outputs": [
    {
     "data": {
      "text/plain": [
       "array([[0, 0, 0, ..., 0, 0, 0],\n",
       "       [0, 0, 0, ..., 0, 0, 0],\n",
       "       [0, 0, 0, ..., 0, 0, 0],\n",
       "       ...,\n",
       "       [0, 0, 0, ..., 0, 0, 0],\n",
       "       [0, 0, 0, ..., 0, 0, 0],\n",
       "       [0, 0, 0, ..., 0, 0, 0]], dtype=uint16)"
      ]
     },
     "execution_count": 3,
     "metadata": {},
     "output_type": "execute_result"
    }
   ],
   "source": [
    "with open('/home/hr/Desktop/dep.p', 'rb') as dep:\n",
    "    d = pickle.load(dep, encoding=\"16UC1\")\n",
    "    \n",
    "d"
   ]
  },
  {
   "cell_type": "code",
   "execution_count": 4,
   "metadata": {},
   "outputs": [
    {
     "data": {
      "text/plain": [
       "array([[[ 20,  40,  21],\n",
       "        [ 38,  58,  39],\n",
       "        [ 50,  68,  51],\n",
       "        ...,\n",
       "        [109, 111,  81],\n",
       "        [113, 115,  85],\n",
       "        [108, 110,  80]],\n",
       "\n",
       "       [[ 53,  67,  49],\n",
       "        [ 56,  70,  52],\n",
       "        [ 58,  72,  54],\n",
       "        ...,\n",
       "        [ 85,  92,  65],\n",
       "        [ 85,  93,  63],\n",
       "        [ 81,  89,  59]],\n",
       "\n",
       "       [[ 62,  72,  55],\n",
       "        [ 58,  68,  51],\n",
       "        [ 56,  66,  49],\n",
       "        ...,\n",
       "        [ 78,  88,  65],\n",
       "        [ 76,  86,  63],\n",
       "        [ 75,  85,  62]],\n",
       "\n",
       "       ...,\n",
       "\n",
       "       [[ 42,  49,  28],\n",
       "        [ 42,  49,  28],\n",
       "        [ 43,  50,  29],\n",
       "        ...,\n",
       "        [156,  76,  47],\n",
       "        [159,  76,  44],\n",
       "        [158,  75,  43]],\n",
       "\n",
       "       [[ 43,  50,  29],\n",
       "        [ 42,  49,  28],\n",
       "        [ 42,  49,  28],\n",
       "        ...,\n",
       "        [154,  73,  46],\n",
       "        [156,  71,  45],\n",
       "        [156,  71,  45]],\n",
       "\n",
       "       [[ 42,  49,  28],\n",
       "        [ 42,  49,  28],\n",
       "        [ 42,  49,  28],\n",
       "        ...,\n",
       "        [149,  69,  46],\n",
       "        [152,  66,  46],\n",
       "        [152,  66,  46]]], dtype=uint8)"
      ]
     },
     "execution_count": 4,
     "metadata": {},
     "output_type": "execute_result"
    }
   ],
   "source": [
    "with open('/home/hr/Desktop/rgb.p', 'rb') as rgb:\n",
    "    r = pickle.load(rgb)\n",
    "    \n",
    "r"
   ]
  },
  {
   "cell_type": "code",
   "execution_count": 5,
   "metadata": {},
   "outputs": [
    {
     "data": {
      "text/plain": [
       "0"
      ]
     },
     "execution_count": 5,
     "metadata": {},
     "output_type": "execute_result"
    }
   ],
   "source": [
    "d.min()"
   ]
  },
  {
   "cell_type": "code",
   "execution_count": 6,
   "metadata": {},
   "outputs": [],
   "source": [
    "d1 = np.asarray(d, dtype = np.float32)"
   ]
  },
  {
   "cell_type": "code",
   "execution_count": 7,
   "metadata": {},
   "outputs": [
    {
     "data": {
      "text/plain": [
       "(1536, 2048)"
      ]
     },
     "execution_count": 7,
     "metadata": {},
     "output_type": "execute_result"
    }
   ],
   "source": [
    "d2 = d1/915\n",
    "d2 = np.array(d2, dtype=np.float32)\n",
    "d2.shape"
   ]
  },
  {
   "cell_type": "code",
   "execution_count": 8,
   "metadata": {},
   "outputs": [],
   "source": [
    "d3 = np.array(d2 * 255, dtype='uint8')"
   ]
  },
  {
   "cell_type": "code",
   "execution_count": 9,
   "metadata": {},
   "outputs": [],
   "source": [
    "# cv2.imshow('d2', d3)\n",
    "# cv2.imwrite('../imgs/depth.png', d3)\n",
    "# # cv2.imshow('r', r)\n",
    "# # cv2.imwrite('../imgs/color.png', r)\n",
    "# cv2.waitKey(0)\n",
    "# cv2.destroyAllWindows()"
   ]
  },
  {
   "attachments": {},
   "cell_type": "markdown",
   "metadata": {},
   "source": [
    "## Read Test Images"
   ]
  },
  {
   "cell_type": "code",
   "execution_count": 10,
   "metadata": {},
   "outputs": [
    {
     "name": "stdout",
     "output_type": "stream",
     "text": [
      "color shape:  (1536, 2048, 3)\n",
      "depth shape:  (1536, 2048)\n"
     ]
    }
   ],
   "source": [
    "# img_color = cv2.imread('test_imgs/jenga_tower_color.png')\n",
    "# img_depth = cv2.imread('test_imgs/jenga_tower_depth.png', 0)\n",
    "# img_color = cv2.imread('/home/shs/Desktop/rgb1.png')\n",
    "# img_depth = cv2.imread('/home/shs/Desktop/dep.png', 0)\n",
    "img_color = r\n",
    "img_depth = d\n",
    "print('color shape: ', img_color.shape)\n",
    "print('depth shape: ', img_depth.shape)\n",
    "\n",
    "cv2.imshow(f'color', img_color)\n",
    "# cv2.imwrite('../imgs/red_extract.png', each_color_filtered)\n",
    "cv2.waitKey(0)\n",
    "cv2.destroyAllWindows()\n"
   ]
  },
  {
   "attachments": {},
   "cell_type": "markdown",
   "metadata": {},
   "source": [
    "## Extract Blocks' Masks By Colors"
   ]
  },
  {
   "cell_type": "code",
   "execution_count": 11,
   "metadata": {},
   "outputs": [],
   "source": [
    "height, width = img_color.shape[:2] # 이미지의 높이와 너비 불러옴, 가로 [0], 세로[1]\n",
    "\n",
    "img_hsv = cv2.cvtColor(img_color, cv2.COLOR_BGR2HSV) # cvtColor 함수를 이용하여 hsv 색공간으로 변환"
   ]
  },
  {
   "cell_type": "code",
   "execution_count": 12,
   "metadata": {},
   "outputs": [],
   "source": [
    "colors = ['green', 'pink', 'yellow', 'blue', 'violet', 'red']"
   ]
  },
  {
   "cell_type": "code",
   "execution_count": 13,
   "metadata": {},
   "outputs": [],
   "source": [
    "# RED\n",
    "lower_red1 = np.array([0, 100, 50])\n",
    "upper_red1 = np.array([15, 255, 255])\n",
    "lower_red2 = np.array([160,100,50])\n",
    "upper_red2 = np.array([179,255,255])\n",
    "\n",
    "# PINK\n",
    "lower_pink1 = np.array([0, 15, 200])\n",
    "upper_pink1 = np.array([5, 90, 255])\n",
    "lower_pink2 = np.array([150,15,200])\n",
    "upper_pink2 = np.array([179,80,255])\n",
    "\n",
    "# GREEN\n",
    "lower_green = (70-20, 100, 100)\n",
    "upper_green = (70+15, 255, 255)\n",
    "\n",
    "# YELLOW\n",
    "lower_yellow = (30-10, 60, 120)\n",
    "upper_yellow = (30+10, 255, 255)\n",
    "\n",
    "# BLUE\n",
    "lower_blue = (100-10, 100, 100)\n",
    "upper_blue = (100+9, 255, 255)\n",
    "\n",
    "# VIOLET\n",
    "lower_violet = (130-20, 60, 60)\n",
    "upper_violet = (130+30, 120, 130)"
   ]
  },
  {
   "cell_type": "code",
   "execution_count": 14,
   "metadata": {},
   "outputs": [],
   "source": [
    "blocks_rgb_by_color = []\n",
    "blocks_mask_by_color = []\n",
    "for color in colors:\n",
    "    if color == 'pink' or color =='red':\n",
    "        for i in (1,2):\n",
    "            exec(f\"lower_color{i} = lower_{color}{i}\")\n",
    "            exec(f\"upper_color{i} = upper_{color}{i}\")\n",
    "\n",
    "        mask_color1 = cv2.inRange(img_hsv, lower_color1, upper_color1)\n",
    "        mask_color2 = cv2.inRange(img_hsv, lower_color2, upper_color2)\n",
    "        img_mask_color = mask_color1 + mask_color2\n",
    "        \n",
    "        # Denoise by Erosion and Dilation\n",
    "        kernel = cv2.getStructuringElement(cv2.MORPH_RECT, (3,3))\n",
    "        erosion_image_color = cv2.erode(img_mask_color, kernel, iterations=2)  #// make erosion image\n",
    "        img_mask_color = cv2.dilate(erosion_image_color, kernel, iterations=2)  #// make dilation image\n",
    "\n",
    "        # 바이너리 이미지를 마스크로 사용하여 원본이미지에서 범위값에 해당하는 영상부분을 획득\n",
    "        img_result_color = cv2.bitwise_and(img_color, img_color, mask = img_mask_color) \n",
    "        \n",
    "        exec(f\"img_result_{color} = img_result_color\")\n",
    "    \n",
    "    else:\n",
    "        exec(f\"lower_color = lower_{color}\")\n",
    "        exec(f\"upper_color = upper_{color}\")\n",
    "\n",
    "        img_mask_color = cv2.inRange(img_hsv, lower_color, upper_color) # 범위내의 픽셀들은 흰색, 나머지 검은색\n",
    "\n",
    "        kernel = cv2.getStructuringElement(cv2.MORPH_RECT, (3,3))\n",
    "        erosion_image_color = cv2.erode(img_mask_color, kernel, iterations=1)  #// make erosion image\n",
    "        img_mask_color = cv2.dilate(erosion_image_color, kernel, iterations=1)  #// make dilation image\n",
    "\n",
    "        # 바이너리 이미지를 마스크로 사용하여 원본이미지에서 범위값에 해당하는 영상부분을 획득\n",
    "        img_result_color = cv2.bitwise_and(img_color, img_color, mask = img_mask_color) \n",
    "\n",
    "        exec(f\"img_result_{color} = img_result_color\")\n",
    "        \n",
    "    _, src_bin = cv2.threshold(img_mask_color, 0, 255, cv2.THRESH_OTSU)\n",
    "    each_color_filtered = cv2.bitwise_and(img_color, img_color, mask = src_bin)\n",
    "    \n",
    "    if color == 'violet':\n",
    "        cv2.imshow('src_bin', src_bin)\n",
    "        # cv2.imwrite('../imgs/red_mask.png', src_bin)\n",
    "        cv2.imshow(f'{color}_filtered', each_color_filtered)\n",
    "        # cv2.imwrite('../imgs/red_extract.png', each_color_filtered)\n",
    "        cv2.waitKey(0)\n",
    "        cv2.destroyAllWindows()\n",
    "\n",
    "    cnt, labels, stats, centroids = cv2.connectedComponentsWithStats(src_bin)\n",
    "\n",
    "    blocks_color = []\n",
    "    blocks_mask = []\n",
    "\n",
    "    for i in range(1, cnt): # 각각의 객체 정보에 들어가기 위해 반복문. 범위를 1부터 시작한 이유는 배경을 제외\n",
    "        (x, y, w, h, area) = stats[i]\n",
    "        cen_x, cen_y = map(int, centroids[i])\n",
    "        block_mask = (labels==i)*img_mask_color\n",
    "        block_color = cv2.bitwise_and(img_color, img_color, mask = block_mask)\n",
    "        \n",
    "        # 노이즈 제거\n",
    "        if area < 300:\n",
    "            continue\n",
    "        \n",
    "        if color == 'violet':\n",
    "            cv2.imshow('blk clr', block_color)\n",
    "            # cv2.imwrite('../imgs/red_block2_color.png', block_color)\n",
    "            cv2.imshow('blk msk', block_mask)\n",
    "            # cv2.imwrite('../imgs/red_block2_mask.png', block_mask)\n",
    "            cv2.waitKey(0)\n",
    "            cv2.destroyAllWindows()\n",
    "            \n",
    "        \n",
    "        blocks_color.append(block_color)\n",
    "        blocks_mask.append(block_mask)\n",
    "        \n",
    "        \n",
    "    exec(f\"blocks_rgb_{color} = blocks_color\")\n",
    "    exec(f\"blocks_mask_{color} = blocks_mask\")\n",
    "    exec(f\"blocks_rgb_by_color.append(blocks_rgb_{color})\")\n",
    "    exec(f\"blocks_mask_by_color.append(blocks_mask_{color})\")\n",
    "    "
   ]
  },
  {
   "cell_type": "code",
   "execution_count": 15,
   "metadata": {},
   "outputs": [],
   "source": [
    "tower_mask = 0\n",
    "tower_color = 0\n",
    "for mask, color in zip(blocks_mask_by_color, blocks_rgb_by_color):\n",
    "    for block_m in mask:\n",
    "        tower_mask += block_m\n",
    "    \n",
    "    for block_c in color:\n",
    "        tower_color += block_c"
   ]
  },
  {
   "cell_type": "code",
   "execution_count": 16,
   "metadata": {},
   "outputs": [],
   "source": [
    "cv2.imshow('tower mask', tower_mask)\n",
    "# cv2.imwrite('../imgs/tower_mask.png', tower_mask)\n",
    "cv2.imshow('tower color', tower_color)\n",
    "# cv2.imwrite('../imgs/tower_color.png', tower_color)\n",
    "cv2.waitKey(0)\n",
    "cv2.destroyAllWindows()"
   ]
  },
  {
   "cell_type": "code",
   "execution_count": 17,
   "metadata": {},
   "outputs": [
    {
     "name": "stdout",
     "output_type": "stream",
     "text": [
      "green\n",
      "6 Blocks\n",
      "pink\n",
      "6 Blocks\n",
      "yellow\n",
      "6 Blocks\n",
      "blue\n",
      "6 Blocks\n",
      "violet\n",
      "6 Blocks\n",
      "red\n",
      "6 Blocks\n"
     ]
    }
   ],
   "source": [
    "for c, b, rgb_m in zip(colors, blocks_mask_by_color, blocks_rgb_by_color):\n",
    "    print(c)\n",
    "    print(len(b), \"Blocks\")"
   ]
  },
  {
   "attachments": {},
   "cell_type": "markdown",
   "metadata": {},
   "source": [
    "## Get PointCloud from RGB Image + Depth Image"
   ]
  },
  {
   "cell_type": "code",
   "execution_count": 18,
   "metadata": {},
   "outputs": [],
   "source": [
    "# temp intrinsic matrix\n",
    "intrinsic = o3d.camera.PinholeCameraIntrinsic()\n",
    "intrinsic.intrinsic_matrix = [[968.813, 0, 1023.83],\n",
    "                              [0, 968.635, 775.975],\n",
    "                              [0, 0, 1]]\n",
    "\n",
    "\n",
    "# extrinsic = np.array([[0.999987, 0.00512943, 0.000573447, -32.0559],\n",
    "#                      [-0.00516119, 0.994725, 0.102443, -1.91788],\n",
    "#                      [-4.49478e-05, -0.102445, 0.994739, 3.99916],\n",
    "#                      [0, 0, 0, 1]])\n",
    "# extrinsic"
   ]
  },
  {
   "cell_type": "code",
   "execution_count": 19,
   "metadata": {},
   "outputs": [],
   "source": [
    "mesh_frame = o3d.geometry.TriangleMesh.create_coordinate_frame(\n",
    "    size=50, origin=[0, 0, 0])\n",
    "mesh_frame_small = o3d.geometry.TriangleMesh.create_coordinate_frame(\n",
    "    size=0.1, origin=[0, 0, 0])"
   ]
  },
  {
   "cell_type": "code",
   "execution_count": 20,
   "metadata": {},
   "outputs": [],
   "source": [
    "def get_pointcloud_from_color_depth(color_image, depth_image, intrinsic):\n",
    "    o3d_img = o3d.geometry.Image()\n",
    "    \n",
    "    if isinstance(color_image, type(o3d_img)):\n",
    "        pass\n",
    "    elif isinstance(color_image, np.ndarray):\n",
    "        color_image = cv2.cvtColor(color_image, cv2.COLOR_BGR2RGB)\n",
    "        color_image = o3d.geometry.Image(color_image)\n",
    "        \n",
    "    if isinstance(depth_image, type(o3d_img)):\n",
    "        pass\n",
    "    elif isinstance(depth_image, np.ndarray):\n",
    "        depth_image = o3d.geometry.Image(depth_image)\n",
    "        \n",
    "    rgbd_image = o3d.geometry.RGBDImage.create_from_color_and_depth(color_image, depth_image, depth_scale=1, depth_trunc=3000.0, convert_rgb_to_intensity=False)\n",
    "    # print(np.asarray(rgbd_image.depth).max())\n",
    "    pcd = o3d.geometry.PointCloud.create_from_rgbd_image(rgbd_image, intrinsic)\n",
    "    \n",
    "    return pcd"
   ]
  },
  {
   "cell_type": "code",
   "execution_count": 21,
   "metadata": {},
   "outputs": [],
   "source": [
    "masked_depth = cv2.bitwise_and(img_depth, img_depth, mask = tower_mask)"
   ]
  },
  {
   "cell_type": "code",
   "execution_count": 22,
   "metadata": {},
   "outputs": [],
   "source": [
    "tower_pcd = get_pointcloud_from_color_depth(color_image=tower_color, depth_image=masked_depth, intrinsic=intrinsic)"
   ]
  },
  {
   "cell_type": "code",
   "execution_count": 23,
   "metadata": {},
   "outputs": [
    {
     "name": "stdout",
     "output_type": "stream",
     "text": [
      "PointCloud with 67399 points.\n",
      "[[-56.16928138  11.67134679 491.        ]\n",
      " [-55.5491101   11.64757623 490.        ]\n",
      " [-55.04333654  11.64757623 490.        ]\n",
      " ...\n",
      " [ -8.35539986 190.77294337 454.        ]\n",
      " [ -7.90415694 191.19314809 455.        ]\n",
      " [ -7.43451007 191.19314809 455.        ]]\n"
     ]
    }
   ],
   "source": [
    "print(tower_pcd)\n",
    "print(np.asarray(tower_pcd.points))\n",
    "o3d.visualization.draw_geometries([tower_pcd])"
   ]
  },
  {
   "cell_type": "code",
   "execution_count": null,
   "metadata": {},
   "outputs": [],
   "source": []
  },
  {
   "cell_type": "code",
   "execution_count": 24,
   "metadata": {},
   "outputs": [
    {
     "name": "stdout",
     "output_type": "stream",
     "text": [
      "X min/max: -134.2438633668211 26.797493427524177\n",
      "Y min/max: 11.14839439004371 334.89281308232717\n",
      "Z min/max: 453.0 842.0\n"
     ]
    }
   ],
   "source": [
    "points = np.asarray(tower_pcd.points)\n",
    "\n",
    "print(\"X min/max:\", np.min(points[:, 0]), np.max(points[:, 0]))\n",
    "print(\"Y min/max:\", np.min(points[:, 1]), np.max(points[:, 1]))\n",
    "print(\"Z min/max:\", np.min(points[:, 2]), np.max(points[:, 2]))"
   ]
  },
  {
   "cell_type": "code",
   "execution_count": 30,
   "metadata": {},
   "outputs": [],
   "source": [
    "blocks_pcd_by_color = []\n",
    "all_pcd = []\n",
    "for color, block_mask in zip(colors, blocks_mask_by_color):\n",
    "    # print(color)\n",
    "    # if color != 'blue':\n",
    "    #     continue\n",
    "    blocks_pcd = []\n",
    "    for msk in block_mask:\n",
    "        masked_block_rgb = cv2.bitwise_and(tower_color, tower_color, mask = msk)\n",
    "        masked_block_depth = cv2.bitwise_and(img_depth, img_depth, mask = msk)\n",
    "        \n",
    "        # Get Each Block's PointCloud\n",
    "        pcd = get_pointcloud_from_color_depth(color_image=masked_block_rgb, depth_image=masked_block_depth, intrinsic=intrinsic)\n",
    "        \n",
    "        # Remove Outlier Points\n",
    "        pcd, _ = pcd.remove_radius_outlier(256, 25)\n",
    "        blocks_pcd.append(pcd)\n",
    "        all_pcd.append(pcd)\n",
    "        \n",
    "        # if color=='blue':\n",
    "        #     o3d.visualization.draw_geometries([pcd])\n",
    "    \n",
    "    exec(f\"blocks_pcd_{color} = blocks_pcd\")\n",
    "    exec(f\"blocks_pcd_by_color.append(blocks_pcd_{color})\")"
   ]
  },
  {
   "cell_type": "code",
   "execution_count": 31,
   "metadata": {},
   "outputs": [
    {
     "data": {
      "text/plain": [
       "6"
      ]
     },
     "execution_count": 31,
     "metadata": {},
     "output_type": "execute_result"
    }
   ],
   "source": [
    "len(blocks_pcd_by_color)"
   ]
  },
  {
   "attachments": {},
   "cell_type": "markdown",
   "metadata": {},
   "source": [
    "## Tower ICP"
   ]
  },
  {
   "cell_type": "code",
   "execution_count": 32,
   "metadata": {},
   "outputs": [
    {
     "name": "stdout",
     "output_type": "stream",
     "text": [
      "PointCloud with 66900 points.\n"
     ]
    }
   ],
   "source": [
    "pcd_combined = o3d.geometry.PointCloud()\n",
    "for point_id in range(len(all_pcd)):\n",
    "    pcd_combined += all_pcd[point_id]\n",
    "\n",
    "print(pcd_combined)\n",
    "# print(len(pcd_combined.points))"
   ]
  },
  {
   "cell_type": "code",
   "execution_count": 33,
   "metadata": {},
   "outputs": [
    {
     "name": "stdout",
     "output_type": "stream",
     "text": [
      "X min/max: -77.80314673729607 26.797493427524177\n",
      "Y min/max: 11.14839439004371 194.67784562812616\n",
      "Z min/max: 453.0 533.0\n"
     ]
    }
   ],
   "source": [
    "points = np.asarray(pcd_combined.points)\n",
    "\n",
    "print(\"X min/max:\", np.min(points[:, 0]), np.max(points[:, 0]))\n",
    "print(\"Y min/max:\", np.min(points[:, 1]), np.max(points[:, 1]))\n",
    "print(\"Z min/max:\", np.min(points[:, 2]), np.max(points[:, 2]))"
   ]
  },
  {
   "cell_type": "code",
   "execution_count": null,
   "metadata": {},
   "outputs": [],
   "source": [
    "\n",
    "# o3d.visualization.draw_geometries([pcd_combined, mesh_frame_small])\n",
    "\n",
    "o3d.visualization.draw_geometries([pcd_combined, mesh_frame])"
   ]
  },
  {
   "cell_type": "code",
   "execution_count": 122,
   "metadata": {},
   "outputs": [
    {
     "name": "stdout",
     "output_type": "stream",
     "text": [
      "TriangleMesh with 12 points and 4 triangles.\n",
      "PointCloud with 62835 points.\n"
     ]
    }
   ],
   "source": [
    "mesh_tower = o3d.io.read_triangle_mesh(\"mesh/jenga_tower_side_xy.stl\")\n",
    "print(mesh_tower)\n",
    "\n",
    "mesh_tower.compute_vertex_normals()\n",
    "# o3d.visualization.draw_geometries([mesh])\n",
    "\n",
    "pcd_target = mesh_tower.sample_points_uniformly(number_of_points=len(pcd_combined.points))\n",
    "print(pcd_target)\n",
    "o3d.visualization.draw_geometries([pcd_target])"
   ]
  },
  {
   "cell_type": "code",
   "execution_count": 123,
   "metadata": {},
   "outputs": [
    {
     "data": {
      "text/plain": [
       "array([[ 0.,  1.,  0.,  0.],\n",
       "       [-0., -0., -1., -0.],\n",
       "       [-1., -0., -0., -0.],\n",
       "       [ 0.,  0.,  0.,  1.]])"
      ]
     },
     "execution_count": 123,
     "metadata": {},
     "output_type": "execute_result"
    }
   ],
   "source": [
    "np.linalg.inv(np.asarray([[0, 0, -1, 0],\n",
    "            [1, 0, 0, 0],\n",
    "            [0, -1, 0, 0],\n",
    "            [0, 0, 0, 1]]))"
   ]
  },
  {
   "cell_type": "code",
   "execution_count": 124,
   "metadata": {},
   "outputs": [],
   "source": [
    "initial_transform = np.asarray([[0, 0, -1, 0],\n",
    "                                [-1, 0, 0, 0],\n",
    "                                [0, 1, 0, 0],\n",
    "                                [0, 0, 0, 1]])"
   ]
  },
  {
   "cell_type": "code",
   "execution_count": 125,
   "metadata": {},
   "outputs": [],
   "source": [
    "def prepare_icp(source, target):\n",
    "    source_tmp = copy.deepcopy(source)\n",
    "    target_tmp = copy.deepcopy(target)\n",
    "    \n",
    "    # make the point cloud into right position\n",
    "    source_tmp.transform(initial_transform)\n",
    "    \n",
    "    # resize the target pointcloud to make two pointclouds into same scale\n",
    "    # resize =(np.array(target_tmp.points)[:,2].max() - np.array(target_tmp.points)[:,2].min()) / (np.array(source_tmp.points)[:,2].max() - np.array(source_tmp.points)[:,2].min())\n",
    "    \n",
    "    # move the source pcd to do icp\n",
    "    move = np.array(target_tmp.get_oriented_bounding_box().get_center() - source_tmp.get_oriented_bounding_box().get_center())\n",
    "    \n",
    "    # a = o3d.cpu.pybind.utility.Vector3dVector(np.array(target_tmp.points))\n",
    "    # b = o3d.cpu.pybind.utility.Vector3dVector(np.array(source_tmp.points))\n",
    "\n",
    "    source_tmp.transform(np.linalg.inv(initial_transform))\n",
    "    \n",
    "    # target_tmp.points = a\n",
    "    # source_tmp.points = b\n",
    "    \n",
    "    o3d.visualization.draw_geometries([source_tmp, target_tmp])\n",
    "    \n",
    "    return source_tmp, target_tmp, move"
   ]
  },
  {
   "cell_type": "code",
   "execution_count": 126,
   "metadata": {},
   "outputs": [],
   "source": [
    "source, target,  move = prepare_icp(pcd_combined, pcd_target)"
   ]
  },
  {
   "cell_type": "code",
   "execution_count": null,
   "metadata": {},
   "outputs": [
    {
     "data": {
      "text/plain": [
       "array([445.99156197, -56.46618907,  11.93535865])"
      ]
     },
     "execution_count": 115,
     "metadata": {},
     "output_type": "execute_result"
    }
   ],
   "source": [
    "move"
   ]
  },
  {
   "cell_type": "code",
   "execution_count": null,
   "metadata": {},
   "outputs": [],
   "source": [
    "def draw_registration_result(source, target, transformation):\n",
    "    source_temp = copy.deepcopy(source)\n",
    "    target_temp = copy.deepcopy(target)\n",
    "    # source_temp.paint_uniform_color([1, 0.706, 0])\n",
    "    # target_temp.paint_uniform_color([0, 0.651, 0.929])\n",
    "    source_temp.transform(transformation)\n",
    "    o3d.visualization.draw_geometries([source_temp, target_temp, mesh_frame])"
   ]
  },
  {
   "cell_type": "code",
   "execution_count": null,
   "metadata": {},
   "outputs": [
    {
     "ename": "KeyboardInterrupt",
     "evalue": "",
     "output_type": "error",
     "traceback": [
      "\u001b[0;31m---------------------------------------------------------------------------\u001b[0m",
      "\u001b[0;31mKeyboardInterrupt\u001b[0m                         Traceback (most recent call last)",
      "Cell \u001b[0;32mIn[117], line 6\u001b[0m\n\u001b[1;32m      1\u001b[0m threshold \u001b[39m=\u001b[39m \u001b[39m10\u001b[39m\n\u001b[1;32m      2\u001b[0m trans_init \u001b[39m=\u001b[39m np\u001b[39m.\u001b[39masarray([[\u001b[39m0\u001b[39m, \u001b[39m0\u001b[39m, \u001b[39m-\u001b[39m\u001b[39m1\u001b[39m, move[\u001b[39m0\u001b[39m]],\n\u001b[1;32m      3\u001b[0m                          [\u001b[39m-\u001b[39m\u001b[39m1\u001b[39m, \u001b[39m0\u001b[39m, \u001b[39m0\u001b[39m, move[\u001b[39m1\u001b[39m]],\n\u001b[1;32m      4\u001b[0m                          [\u001b[39m0\u001b[39m, \u001b[39m1\u001b[39m, \u001b[39m0\u001b[39m, move[\u001b[39m2\u001b[39m]],\n\u001b[1;32m      5\u001b[0m                          [\u001b[39m0\u001b[39m, \u001b[39m0\u001b[39m, \u001b[39m0\u001b[39m, \u001b[39m1\u001b[39m]])\n\u001b[0;32m----> 6\u001b[0m draw_registration_result(source, target, trans_init)\n",
      "Cell \u001b[0;32mIn[116], line 7\u001b[0m, in \u001b[0;36mdraw_registration_result\u001b[0;34m(source, target, transformation)\u001b[0m\n\u001b[1;32m      4\u001b[0m \u001b[39m# source_temp.paint_uniform_color([1, 0.706, 0])\u001b[39;00m\n\u001b[1;32m      5\u001b[0m \u001b[39m# target_temp.paint_uniform_color([0, 0.651, 0.929])\u001b[39;00m\n\u001b[1;32m      6\u001b[0m source_temp\u001b[39m.\u001b[39mtransform(transformation)\n\u001b[0;32m----> 7\u001b[0m o3d\u001b[39m.\u001b[39;49mvisualization\u001b[39m.\u001b[39;49mdraw_geometries([source_temp, target_temp, mesh_frame])\n",
      "\u001b[0;31mKeyboardInterrupt\u001b[0m: "
     ]
    }
   ],
   "source": [
    "threshold = 10\n",
    "trans_init = np.asarray([[0, 0, -1, move[0]],\n",
    "                         [-1, 0, 0, move[1]],\n",
    "                         [0, 1, 0, move[2]],\n",
    "                         [0, 0, 0, 1]])\n",
    "draw_registration_result(source, target, trans_init)"
   ]
  },
  {
   "cell_type": "code",
   "execution_count": null,
   "metadata": {},
   "outputs": [
    {
     "name": "stdout",
     "output_type": "stream",
     "text": [
      "Initial alignment\n",
      "RegistrationResult with fitness=4.634700e-01, inlier_rmse=5.178779e+00, and correspondence_set size of 71709\n",
      "Access transformation to get result.\n"
     ]
    }
   ],
   "source": [
    "print(\"Initial alignment\")\n",
    "evaluation = o3d.pipelines.registration.evaluate_registration(\n",
    "    source, target, threshold, trans_init)\n",
    "print(evaluation)"
   ]
  },
  {
   "cell_type": "code",
   "execution_count": null,
   "metadata": {},
   "outputs": [
    {
     "name": "stdout",
     "output_type": "stream",
     "text": [
      "RegistrationResult with fitness=1.000000e+00, inlier_rmse=1.036098e+00, and correspondence_set size of 154722\n",
      "Access transformation to get result.\n",
      "Transformation is:\n",
      "[[ 6.90824136e-01 -6.77474195e-02 -7.19841858e-01  2.69430804e+02]\n",
      " [-7.22900480e-01 -4.64043844e-02 -6.89392144e-01  2.26432627e+02]\n",
      " [ 1.33007205e-02  9.96622757e-01 -8.10319108e-02  5.15018238e+01]\n",
      " [ 0.00000000e+00  0.00000000e+00  0.00000000e+00  1.00000000e+00]]\n"
     ]
    }
   ],
   "source": [
    "reg_p2p = o3d.pipelines.registration.registration_icp(\n",
    "    source, target, threshold, trans_init,\n",
    "    o3d.pipelines.registration.TransformationEstimationPointToPoint(),\n",
    "    o3d.pipelines.registration.ICPConvergenceCriteria(max_iteration=2000))\n",
    "print(reg_p2p)\n",
    "print(\"Transformation is:\")\n",
    "print(reg_p2p.transformation)\n",
    "draw_registration_result(source, target, reg_p2p.transformation)"
   ]
  },
  {
   "cell_type": "code",
   "execution_count": null,
   "metadata": {},
   "outputs": [],
   "source": [
    "draw_registration_result(source, target, reg_p2p.transformation)"
   ]
  },
  {
   "cell_type": "code",
   "execution_count": null,
   "metadata": {},
   "outputs": [
    {
     "data": {
      "text/plain": [
       "PointCloud with 154722 points."
      ]
     },
     "execution_count": 82,
     "metadata": {},
     "output_type": "execute_result"
    }
   ],
   "source": [
    "source_temp = copy.deepcopy(source)\n",
    "\n",
    "source_temp.transform(reg_p2p.transformation)\n"
   ]
  },
  {
   "cell_type": "code",
   "execution_count": null,
   "metadata": {},
   "outputs": [
    {
     "data": {
      "text/plain": [
       "-2.446097732659119"
      ]
     },
     "execution_count": 83,
     "metadata": {},
     "output_type": "execute_result"
    }
   ],
   "source": [
    "(np.array(source_temp.points))[:,2].min()"
   ]
  },
  {
   "attachments": {},
   "cell_type": "markdown",
   "metadata": {},
   "source": [
    "## Blocks Transformation"
   ]
  },
  {
   "cell_type": "code",
   "execution_count": null,
   "metadata": {},
   "outputs": [],
   "source": [
    "trans1 = reg_p2p.transformation"
   ]
  },
  {
   "cell_type": "code",
   "execution_count": null,
   "metadata": {},
   "outputs": [],
   "source": [
    "trans = copy.deepcopy(reg_p2p.transformation)"
   ]
  },
  {
   "cell_type": "code",
   "execution_count": null,
   "metadata": {},
   "outputs": [
    {
     "name": "stdout",
     "output_type": "stream",
     "text": [
      "[[ 6.90824136e-01 -6.77474195e-02 -7.19841858e-01  2.69430804e+02]\n",
      " [-7.22900480e-01 -4.64043844e-02 -6.89392144e-01  2.26432627e+02]\n",
      " [ 1.33007205e-02  9.96622757e-01 -8.10319108e-02  5.15018238e+01]\n",
      " [ 0.00000000e+00  0.00000000e+00  0.00000000e+00  1.00000000e+00]]\n",
      "[[ 0.69082414 -0.72290048  0.01330072 -0.02312606]\n",
      " [-0.06774742 -0.04640438  0.99662276 -0.02256718]\n",
      " [-0.71984186 -0.68939214 -0.08103191  0.35422174]\n",
      " [ 0.          0.          0.          1.        ]]\n"
     ]
    }
   ],
   "source": [
    "print(trans)\n",
    "trans[0,3]/=1000\n",
    "trans[1,3]/=1000\n",
    "trans[2,3]/=1000\n",
    "\n",
    "print(np.linalg.inv(trans))"
   ]
  },
  {
   "cell_type": "code",
   "execution_count": null,
   "metadata": {},
   "outputs": [],
   "source": [
    "def transform_blocks(pcd, icp_transform):\n",
    "    pcd_temp = copy.deepcopy(pcd)\n",
    "    aa = o3d.cpu.pybind.utility.Vector3dVector(np.array(pcd_temp.points))\n",
    "    pcd_temp.points = aa\n",
    "    pcd_temp.transform(icp_transform)\n",
    "    \n",
    "    return pcd_temp"
   ]
  },
  {
   "cell_type": "code",
   "execution_count": null,
   "metadata": {},
   "outputs": [],
   "source": [
    "# WHAT IS THE TARGET BLOCK?\n",
    "target_block_color = 'red'\n",
    "target_block_label = 3"
   ]
  },
  {
   "cell_type": "code",
   "execution_count": null,
   "metadata": {},
   "outputs": [
    {
     "name": "stdout",
     "output_type": "stream",
     "text": [
      "red\n",
      "3\n",
      "BOX EXTENT :  [ 5.39557331 24.56136968 15.3656097 ]\n",
      "BOX CENTER COORDINATE :  [ 38.87938771 -25.81394808  97.95376067]\n",
      "PULL DIRECTION : -Y\n",
      "-----BLOCK CENTER COORDINATE-----\n",
      "X : 1.3793877101446412\n",
      "Y : -25.813948083892853\n",
      "Z : 97.95376066579404\n",
      "-----TARGET COORDINATE-----\n",
      "X : 1.3793877101446412\n",
      "Y : -175.81394808389285\n",
      "Z : 97.95376066579404\n",
      "----------------------------------\n"
     ]
    }
   ],
   "source": [
    "for col, pcds in zip(colors, blocks_pcd_by_color):\n",
    "    if col != target_block_color:\n",
    "        continue\n",
    "    print(col)\n",
    "    \n",
    "    for idx, pcd in enumerate(pcds):\n",
    "        if idx != target_block_label:\n",
    "            continue\n",
    "        \n",
    "        # print(\"--------------------------------\")\n",
    "        print(idx)\n",
    "\n",
    "        new_trans = copy.deepcopy(trans)\n",
    "        new_trans[0,3]*=1000\n",
    "        new_trans[1,3]*=1000\n",
    "        new_trans[2,3]*=1000\n",
    "\n",
    "        pcd_new = transform_blocks(pcd, new_trans)\n",
    "        \n",
    "        # o3d.visualization.draw_geometries([pcd_new, mesh_frame, pcd_new.get_axis_aligned_bounding_box()])\n",
    "        \n",
    "        box_extent = pcd_new.get_axis_aligned_bounding_box().get_extent()\n",
    "        print(\"BOX EXTENT : \", box_extent)\n",
    "        \n",
    "        center_coordinate = np.array(pcd_new.get_axis_aligned_bounding_box().get_box_points()).mean(axis=0)\n",
    "        \n",
    "        # print(np.array(pcd_new.get_axis_aligned_bounding_box().get_box_points()))\n",
    "        print(\"BOX CENTER COORDINATE : \", center_coordinate)\n",
    "        \n",
    "        # print(\"BOX MAX X,Y and MEAN Z Coordinate\")\n",
    "        x_mean = np.array(pcd_new.get_axis_aligned_bounding_box().get_box_points())[:,0].mean()\n",
    "        y_mean = np.array(pcd_new.get_axis_aligned_bounding_box().get_box_points())[:,1].mean()\n",
    "        z_mean = np.array(pcd_new.get_axis_aligned_bounding_box().get_box_points())[:,2].mean()\n",
    "        \n",
    "        if box_extent[1] > 70:\n",
    "            print(\"PULL DIRECTION : X\")\n",
    "            vector = np.array([-1, 0, 0])\n",
    "            print(\"-----BLOCK CENTER COORDINATE-----\")\n",
    "            cen_x = x_mean #- 25/2\n",
    "            cen_y = y_mean #- 75/2\n",
    "            cen_z = z_mean\n",
    "            print(\"X :\", cen_x)\n",
    "            print(\"Y :\", cen_y)\n",
    "            print(\"Z :\", cen_z)\n",
    "            pt1 = o3d.cpu.pybind.utility.Vector3dVector(np.array([[cen_x, cen_y, z_mean], [cen_x - 0.00001, cen_y - 0.00001, cen_z - 0.00001], [cen_x + 0.00001, cen_y + 0.00001, cen_z + 0.00001]]))\n",
    "            print(\"-----TARGET COORDINATE-----\")\n",
    "            target_x = cen_x + 150\n",
    "            target_y = cen_y\n",
    "            target_z = cen_z\n",
    "            print(\"X :\", target_x)\n",
    "            print(\"Y :\", target_y)\n",
    "            print(\"Z :\", target_z)\n",
    "            pt2 = o3d.cpu.pybind.utility.Vector3dVector(np.array([[target_x, target_y, target_z], [target_x - 0.00001, target_y - 0.00001, target_z - 0.00001], [target_x + 0.00001, target_y + 0.00001, target_z + 0.00001]]))\n",
    "            print(\"----------------------------------\")\n",
    "            \n",
    "        elif box_extent[0] > 70:\n",
    "            print(\"PULL DIRECTION : Y\")\n",
    "            vector = np.array([0, -1, 0])\n",
    "            print(\"-----BLOCK CENTER COORDINATE-----\")\n",
    "            cen_x = x_mean# - 75/2\n",
    "            cen_y = y_mean# - 25/2\n",
    "            cen_z = z_mean\n",
    "            print(\"X :\", cen_x)\n",
    "            print(\"Y :\", cen_y)\n",
    "            print(\"Z :\", cen_z)\n",
    "            pt1 = o3d.cpu.pybind.utility.Vector3dVector(np.array([[cen_x, cen_y, z_mean], [cen_x - 0.00001, cen_y - 0.00001, cen_z - 0.00001], [cen_x + 0.00001, cen_y + 0.00001, cen_z + 0.00001]]))\n",
    "            print(\"-----TARGET COORDINATE-----\")\n",
    "            target_x = cen_x\n",
    "            target_y = cen_y + 150\n",
    "            target_z = cen_z\n",
    "            print(\"X :\", target_x)\n",
    "            print(\"Y :\", target_y)\n",
    "            print(\"Z :\", target_z)\n",
    "            pt2 = o3d.cpu.pybind.utility.Vector3dVector(np.array([[target_x, target_y, target_z], [target_x - 0.00001, target_y - 0.00001, target_z - 0.00001], [target_x + 0.00001, target_y + 0.00001, target_z + 0.00001]]))\n",
    "            print(\"----------------------------------\")\n",
    "            \n",
    "        elif abs(center_coordinate[0]) < 10 and box_extent [1] < 15:\n",
    "            print(\"PUSH DIRECTION : Y or -Y\")\n",
    "            vector = np.array([0, -1, 0])\n",
    "            print(\"-----BLOCK CENTER COORDINATE-----\")\n",
    "            cen_x = x_mean# - 25/2\n",
    "            cen_y = y_mean - 75/2\n",
    "            cen_z = z_mean\n",
    "            print(\"X :\", cen_x)\n",
    "            print(\"Y :\", cen_y)\n",
    "            print(\"Z :\", cen_z)\n",
    "            pt1 = o3d.cpu.pybind.utility.Vector3dVector(np.array([[cen_x, cen_y, z_mean], [cen_x - 0.00001, cen_y - 0.00001, cen_z - 0.00001], [cen_x + 0.00001, cen_y + 0.00001, cen_z + 0.00001]]))\n",
    "            print(\"-----TARGET COORDINATE-----\")\n",
    "            target_x = cen_x\n",
    "            target_y = cen_y + 150\n",
    "            target_z = cen_z\n",
    "            print(\"X :\", target_x)\n",
    "            print(\"Y :\", target_y)\n",
    "            print(\"Z :\", target_z)\n",
    "            pt2 = o3d.cpu.pybind.utility.Vector3dVector(np.array([[target_x, target_y, target_z], [target_x - 0.00001, target_y - 0.00001, target_z - 0.00001], [target_x + 0.00001, target_y + 0.00001, target_z + 0.00001]]))\n",
    "            print(\"----------------------------------\")\n",
    "            \n",
    "        elif abs(center_coordinate[1]) < 10 and box_extent [0] < 15:\n",
    "            print(\"PUSH DIRECTION : X or -X\")\n",
    "            vector = np.array([-1, 0, 0])\n",
    "            print(\"-----BLOCK CENTER COORDINATE-----\")\n",
    "            cen_x = x_mean - 75/2\n",
    "            cen_y = y_mean# - 25/2\n",
    "            cen_z = z_mean\n",
    "            print(\"X :\", cen_x)\n",
    "            print(\"Y :\", cen_y)\n",
    "            print(\"Z :\", cen_z)\n",
    "            pt1 = o3d.cpu.pybind.utility.Vector3dVector(np.array([[cen_x, cen_y, z_mean], [cen_x - 0.00001, cen_y - 0.00001, cen_z - 0.00001], [cen_x + 0.00001, cen_y + 0.00001, cen_z + 0.00001]]))\n",
    "            print(\"-----TARGET COORDINATE-----\")\n",
    "            target_x = cen_x + 150\n",
    "            target_y = cen_y\n",
    "            target_z = cen_z\n",
    "            print(\"X :\", target_x)\n",
    "            print(\"Y :\", target_y)\n",
    "            print(\"Z :\", target_z)\n",
    "            pt2 = o3d.cpu.pybind.utility.Vector3dVector(np.array([[target_x, target_y, target_z], [target_x - 0.00001, target_y - 0.00001, target_z - 0.00001], [target_x + 0.00001, target_y + 0.00001, target_z + 0.00001]]))\n",
    "            print(\"----------------------------------\")\n",
    "            \n",
    "        elif box_extent[1] < 15:\n",
    "            print(\"PULL DIRECTION : -X\")\n",
    "            vector = np.array([1, 0, 0])\n",
    "            print(\"-----BLOCK CENTER COORDINATE-----\")\n",
    "            cen_x = x_mean# - 25/2\n",
    "            cen_y = y_mean - 75/2\n",
    "            cen_z = z_mean\n",
    "            print(\"X :\", cen_x)\n",
    "            print(\"Y :\", cen_y)\n",
    "            print(\"Z :\", cen_z)\n",
    "            pt1 = o3d.cpu.pybind.utility.Vector3dVector(np.array([[cen_x, cen_y, z_mean], [cen_x - 0.00001, cen_y - 0.00001, cen_z - 0.00001], [cen_x + 0.00001, cen_y + 0.00001, cen_z + 0.00001]]))\n",
    "            print(\"-----TARGET COORDINATE-----\")\n",
    "            target_x = cen_x - 150\n",
    "            target_y = cen_y\n",
    "            target_z = cen_z\n",
    "            print(\"X :\", target_x)\n",
    "            print(\"Y :\", target_y)\n",
    "            print(\"Z :\", target_z)\n",
    "            pt2 = o3d.cpu.pybind.utility.Vector3dVector(np.array([[target_x, target_y, target_z], [target_x - 0.00001, target_y - 0.00001, target_z - 0.00001], [target_x + 0.00001, target_y + 0.00001, target_z + 0.00001]]))\n",
    "            print(\"----------------------------------\")\n",
    "            \n",
    "        elif box_extent[0] < 15:\n",
    "            print(\"PULL DIRECTION : -Y\")\n",
    "            vector = np.array([0, 1, 0])\n",
    "            print(\"-----BLOCK CENTER COORDINATE-----\")\n",
    "            cen_x = x_mean - 75/2\n",
    "            cen_y = y_mean# - 25/2\n",
    "            cen_z = z_mean\n",
    "            print(\"X :\", cen_x)\n",
    "            print(\"Y :\", cen_y)\n",
    "            print(\"Z :\", cen_z)\n",
    "            pt1 = o3d.cpu.pybind.utility.Vector3dVector(np.array([[cen_x, cen_y, z_mean], [cen_x - 0.00001, cen_y - 0.00001, cen_z - 0.00001], [cen_x + 0.00001, cen_y + 0.00001, cen_z + 0.00001]]))\n",
    "            print(\"-----TARGET COORDINATE-----\")\n",
    "            target_x = cen_x\n",
    "            target_y = cen_y - 150\n",
    "            target_z = cen_z\n",
    "            print(\"X :\", target_x)\n",
    "            print(\"Y :\", target_y)\n",
    "            print(\"Z :\", target_z)\n",
    "            pt2 = o3d.cpu.pybind.utility.Vector3dVector(np.array([[target_x, target_y, target_z], [target_x - 0.00001, target_y - 0.00001, target_z - 0.00001], [target_x + 0.00001, target_y + 0.00001, target_z + 0.00001]]))\n",
    "            print(\"----------------------------------\")\n",
    "            \n",
    "        else:\n",
    "            print(\"NOTHING\")\n",
    "            \n",
    "        mesh_COORD = o3d.geometry.TriangleMesh.create_coordinate_frame(size=10, origin=center_coordinate)\n",
    "        ptc1 = o3d.geometry.PointCloud()\n",
    "        ptc1.points = pt1\n",
    "        ptc1.paint_uniform_color([1, 0, 0])\n",
    "        ptc2 = o3d.geometry.PointCloud()\n",
    "        ptc2.points = pt2\n",
    "        ptc2.paint_uniform_color([0, 0, 1])\n",
    "        line = o3d.geometry.LineSet.create_from_point_cloud_correspondences(ptc1, ptc2, [(0,0)])\n",
    "        o3d.visualization.draw_geometries([pcd_new, source_temp, mesh_frame, ptc1, ptc2, line])"
   ]
  },
  {
   "cell_type": "code",
   "execution_count": null,
   "metadata": {},
   "outputs": [],
   "source": [
    "# mesh_block = o3d.io.read_triangle_mesh(\"mesh/single_block_x.stl\")\n",
    "# print(mesh_block)\n",
    "\n",
    "# mesh_block.compute_vertex_normals()"
   ]
  },
  {
   "cell_type": "code",
   "execution_count": null,
   "metadata": {},
   "outputs": [],
   "source": [
    "# # WHAT IS THE TARGET BLOCK?\n",
    "# target_block_color = 'green'\n",
    "# target_block_label = 2"
   ]
  },
  {
   "cell_type": "code",
   "execution_count": null,
   "metadata": {},
   "outputs": [],
   "source": [
    "# for col, pcds in zip(colors, blocks_pcd_by_color):\n",
    "#     if col != target_block_color:\n",
    "#         continue\n",
    "#     print(col)\n",
    "    \n",
    "#     for idx, pcd in enumerate(pcds):\n",
    "#         if idx != target_block_label:\n",
    "#             continue\n",
    "        \n",
    "#         # print(\"--------------------------------\")\n",
    "#         print(idx)\n",
    "#         pcd_new = transform_blocks(pcd, trans)\n",
    "\n",
    "#         z_mean = np.array(pcd_new.get_axis_aligned_bounding_box().get_box_points())[:,2].mean()\n",
    "\n",
    "#         print(z_mean)\n",
    "        \n",
    "#         # o3d.visualization.draw_geometries([pcd_new, mesh_frame, pcd_new.get_axis_aligned_bounding_box()])\n",
    "        \n",
    "#         box_extent = pcd_new.get_axis_aligned_bounding_box().get_extent()\n",
    "#         print(\"BOX EXTENT : \", box_extent)\n",
    "        \n",
    "#         center_coordinate = np.array(pcd_new.get_axis_aligned_bounding_box().get_box_points()).mean(axis=0)\n",
    "        \n",
    "#         # print(np.array(pcd_new.get_axis_aligned_bounding_box().get_box_points()))\n",
    "#         print(\"BOX CENTER COORDINATE : \", center_coordinate)\n",
    "        \n",
    "        \n",
    "#         block_source = mesh_block.sample_points_uniformly(number_of_points=len(pcd_new.points))\n",
    "#         print(block_source)\n",
    "#         o3d.visualization.draw_geometries([block_source])\n",
    "#         block_source, target_pcd, move = prepare_icp(source=block_source, target=pcd_new)\n",
    "        \n",
    "#         threshold = 10\n",
    "#         trans_init = np.asarray([[1, 0, 0, move[0]],\n",
    "#                                 [0, 1, 0, move[1]],\n",
    "#                                 [0, 0, 1, move[2]],\n",
    "#                                 [0, 0, 0, 1]])\n",
    "        \n",
    "\n",
    "#         draw_registration_result(block_source, target_pcd, trans_init)\n",
    "    \n",
    "#         print(\"Initial alignment\")\n",
    "#         evaluation = o3d.pipelines.registration.evaluate_registration(\n",
    "#             block_source, target_pcd, threshold, trans_init)\n",
    "#         print(evaluation)\n",
    "        \n",
    "#         reg_p2p = o3d.pipelines.registration.registration_icp(\n",
    "#             block_source, target_pcd, threshold, trans_init,\n",
    "#             o3d.pipelines.registration.TransformationEstimationPointToPoint(),\n",
    "#             o3d.pipelines.registration.ICPConvergenceCriteria(max_iteration=2000))\n",
    "#         print(reg_p2p)\n",
    "#         print(\"Transformation is:\")\n",
    "#         print(reg_p2p.transformation)\n",
    "    \n",
    "#         draw_registration_result(block_source, target_pcd, reg_p2p.transformation)\n",
    "        \n",
    "#         print(\"NEW Transformation is:\")\n",
    "#         r11 = reg_p2p.transformation[0,0]\n",
    "#         r21 = reg_p2p.transformation[1,0]\n",
    "\n",
    "#         theta_z = np.arctan2(r21, r11)\n",
    "#         trans_z = copy.deepcopy(reg_p2p.transformation)\n",
    "#         trans_z[0,0] = np.cos(theta_z)\n",
    "#         trans_z[0,1] = -np.sin(theta_z)\n",
    "#         trans_z[0,2] = 0\n",
    "#         trans_z[1,0] = np.sin(theta_z)\n",
    "#         trans_z[1,1] = np.cos(theta_z)\n",
    "#         trans_z[1,2] = 0\n",
    "#         trans_z[2,0] = 0\n",
    "#         trans_z[2,1] = 0\n",
    "#         trans_z[2,2] = 1\n",
    "        \n",
    "        \n",
    "#         print(trans_z)\n",
    "    \n",
    "#         draw_registration_result(block_source, target_pcd, trans_z)\n",
    "\n",
    "#         pcd_new1 = transform_blocks(block_source, trans_z)\n",
    "#         # pcd_new1 = \n",
    "\n",
    "        \n",
    "        \n",
    "#         # print(\"BOX MAX X,Y and MEAN Z Coordinate\")\n",
    "#         x_mean = np.array(pcd_new1.get_axis_aligned_bounding_box().get_box_points())[:,0].mean()\n",
    "#         y_mean = np.array(pcd_new1.get_axis_aligned_bounding_box().get_box_points())[:,1].mean()\n",
    "#         z_mean = np.array(pcd_new1.get_axis_aligned_bounding_box().get_box_points())[:,2].mean()\n",
    "#         print(x_mean, y_mean, z_mean)\n",
    "        \n",
    "#         # if box_extent[1] > 70:\n",
    "#         #     print(\"PULL DIRECTION : X\")\n",
    "#         #     vector = np.array([-1, 0, 0])\n",
    "#         #     print(\"-----BLOCK CENTER COORDINATE-----\")\n",
    "#         #     cen_x = x_mean #- 25/2\n",
    "#         #     cen_y = y_mean #- 75/2\n",
    "#         #     cen_z = z_mean\n",
    "#         #     print(\"X :\", cen_x)\n",
    "#         #     print(\"Y :\", cen_y)\n",
    "#         #     print(\"Z :\", cen_z)\n",
    "#         #     pt1 = o3d.cpu.pybind.utility.Vector3dVector(np.array([[cen_x, cen_y, z_mean], [cen_x - 0.01, cen_y - 0.01, cen_z - 0.01], [cen_x + 0.01, cen_y + 0.01, cen_z + 0.01]]))\n",
    "#         #     print(\"-----TARGET COORDINATE-----\")\n",
    "#         #     target_x = cen_x + 100\n",
    "#         #     target_y = cen_y\n",
    "#         #     target_z = cen_z\n",
    "#         #     print(\"X :\", target_x)\n",
    "#         #     print(\"Y :\", target_y)\n",
    "#         #     print(\"Z :\", target_z)\n",
    "#         #     pt2 = o3d.cpu.pybind.utility.Vector3dVector(np.array([[target_x, target_y, target_z], [target_x - 0.01, target_y - 0.01, target_z - 0.01], [target_x + 0.01, target_y + 0.01, target_z + 0.01]]))\n",
    "#         #     print(\"----------------------------------\")\n",
    "            \n",
    "#         # elif box_extent[0] > 70:\n",
    "#         #     print(\"PULL DIRECTION : Y\")\n",
    "#         #     vector = np.array([0, -1, 0])\n",
    "#         #     print(\"-----BLOCK CENTER COORDINATE-----\")\n",
    "#         #     cen_x = x_mean# - 75/2\n",
    "#         #     cen_y = y_mean# - 25/2\n",
    "#         #     cen_z = z_mean\n",
    "#         #     print(\"X :\", cen_x)\n",
    "#         #     print(\"Y :\", cen_y)\n",
    "#         #     print(\"Z :\", cen_z)\n",
    "#         #     pt1 = o3d.cpu.pybind.utility.Vector3dVector(np.array([[cen_x, cen_y, z_mean], [cen_x - 0.01, cen_y - 0.01, cen_z - 0.01], [cen_x + 0.01, cen_y + 0.01, cen_z + 0.01]]))\n",
    "#         #     print(\"-----TARGET COORDINATE-----\")\n",
    "#         #     target_x = cen_x\n",
    "#         #     target_y = cen_y + 100\n",
    "#         #     target_z = cen_z\n",
    "#         #     print(\"X :\", target_x)\n",
    "#         #     print(\"Y :\", target_y)\n",
    "#         #     print(\"Z :\", target_z)\n",
    "#         #     pt2 = o3d.cpu.pybind.utility.Vector3dVector(np.array([[target_x, target_y, target_z], [target_x - 0.01, target_y - 0.01, target_z - 0.01], [target_x + 0.01, target_y + 0.01, target_z + 0.01]]))\n",
    "#         #     print(\"----------------------------------\")\n",
    "            \n",
    "#         # elif abs(center_coordinate[0]) < 10 and box_extent [1] < 20:\n",
    "#         #     print(\"PUSH DIRECTION : Y or -Y\")\n",
    "#         #     vector = np.array([0, -1, 0])\n",
    "#         #     print(\"-----BLOCK CENTER COORDINATE-----\")\n",
    "#         #     cen_x = x_mean# - 25/2\n",
    "#         #     cen_y = y_mean - 75/2\n",
    "#         #     cen_z = z_mean\n",
    "#         #     print(\"X :\", cen_x)\n",
    "#         #     print(\"Y :\", cen_y)\n",
    "#         #     print(\"Z :\", cen_z)\n",
    "#         #     pt1 = o3d.cpu.pybind.utility.Vector3dVector(np.array([[cen_x, cen_y, z_mean], [cen_x - 0.01, cen_y - 0.01, cen_z - 0.01], [cen_x + 0.01, cen_y + 0.01, cen_z + 0.01]]))\n",
    "#         #     print(\"-----TARGET COORDINATE-----\")\n",
    "#         #     target_x = cen_x\n",
    "#         #     target_y = cen_y + 150\n",
    "#         #     target_z = cen_z\n",
    "#         #     print(\"X :\", target_x)\n",
    "#         #     print(\"Y :\", target_y)\n",
    "#         #     print(\"Z :\", target_z)\n",
    "#         #     pt2 = o3d.cpu.pybind.utility.Vector3dVector(np.array([[target_x, target_y, target_z], [target_x - 0.01, target_y - 0.01, target_z - 0.01], [target_x + 0.01, target_y + 0.01, target_z + 0.01]]))\n",
    "#         #     print(\"----------------------------------\")\n",
    "            \n",
    "#         # elif abs(center_coordinate[1]) < 10 and box_extent [0] < 20:\n",
    "#         #     print(\"PUSH DIRECTION : X or -X\")\n",
    "#         #     vector = np.array([-1, 0, 0])\n",
    "#         #     print(\"-----BLOCK CENTER COORDINATE-----\")\n",
    "#         #     cen_x = x_mean - 75/2\n",
    "#         #     cen_y = y_mean# - 25/2\n",
    "#         #     cen_z = z_mean\n",
    "#         #     print(\"X :\", cen_x)\n",
    "#         #     print(\"Y :\", cen_y)\n",
    "#         #     print(\"Z :\", cen_z)\n",
    "#         #     pt1 = o3d.cpu.pybind.utility.Vector3dVector(np.array([[cen_x, cen_y, z_mean], [cen_x - 0.01, cen_y - 0.01, cen_z - 0.01], [cen_x + 0.01, cen_y + 0.01, cen_z + 0.01]]))\n",
    "#         #     print(\"-----TARGET COORDINATE-----\")\n",
    "#         #     target_x = cen_x + 150\n",
    "#         #     target_y = cen_y\n",
    "#         #     target_z = cen_z\n",
    "#         #     print(\"X :\", target_x)\n",
    "#         #     print(\"Y :\", target_y)\n",
    "#         #     print(\"Z :\", target_z)\n",
    "#         #     pt2 = o3d.cpu.pybind.utility.Vector3dVector(np.array([[target_x, target_y, target_z], [target_x - 0.01, target_y - 0.01, target_z - 0.01], [target_x + 0.01, target_y + 0.01, target_z + 0.01]]))\n",
    "#         #     print(\"----------------------------------\")\n",
    "            \n",
    "#         # elif box_extent[1] < 20:\n",
    "#         #     print(\"PULL DIRECTION : -X\")\n",
    "#         #     vector = np.array([1, 0, 0])\n",
    "#         #     print(\"-----BLOCK CENTER COORDINATE-----\")\n",
    "#         #     cen_x = x_mean# - 25/2\n",
    "#         #     cen_y = y_mean - 75/2\n",
    "#         #     cen_z = z_mean\n",
    "#         #     print(\"X :\", cen_x)\n",
    "#         #     print(\"Y :\", cen_y)\n",
    "#         #     print(\"Z :\", cen_z)\n",
    "#         #     pt1 = o3d.cpu.pybind.utility.Vector3dVector(np.array([[cen_x, cen_y, z_mean], [cen_x - 0.01, cen_y - 0.01, cen_z - 0.01], [cen_x + 0.01, cen_y + 0.01, cen_z + 0.01]]))\n",
    "#         #     print(\"-----TARGET COORDINATE-----\")\n",
    "#         #     target_x = cen_x - 100\n",
    "#         #     target_y = cen_y\n",
    "#         #     target_z = cen_z\n",
    "#         #     print(\"X :\", target_x)\n",
    "#         #     print(\"Y :\", target_y)\n",
    "#         #     print(\"Z :\", target_z)\n",
    "#         #     pt2 = o3d.cpu.pybind.utility.Vector3dVector(np.array([[target_x, target_y, target_z], [target_x - 0.01, target_y - 0.01, target_z - 0.01], [target_x + 0.01, target_y + 0.01, target_z + 0.01]]))\n",
    "#         #     print(\"----------------------------------\")\n",
    "            \n",
    "#         # elif box_extent[0] < 20:\n",
    "#         #     print(\"PULL DIRECTION : -Y\")\n",
    "#         #     vector = np.array([0, 1, 0])\n",
    "#         #     print(\"-----BLOCK CENTER COORDINATE-----\")\n",
    "#         #     cen_x = x_mean - 75/2\n",
    "#         #     cen_y = y_mean# - 25/2\n",
    "#         #     cen_z = z_mean\n",
    "#         #     print(\"X :\", cen_x)\n",
    "#         #     print(\"Y :\", cen_y)\n",
    "#         #     print(\"Z :\", cen_z)\n",
    "#         #     pt1 = o3d.cpu.pybind.utility.Vector3dVector(np.array([[cen_x, cen_y, z_mean], [cen_x - 0.01, cen_y - 0.01, cen_z - 0.01], [cen_x + 0.01, cen_y + 0.01, cen_z + 0.01]]))\n",
    "#         #     print(\"-----TARGET COORDINATE-----\")\n",
    "#         #     target_x = cen_x\n",
    "#         #     target_y = cen_y - 100\n",
    "#         #     target_z = cen_z\n",
    "#         #     print(\"X :\", target_x)\n",
    "#         #     print(\"Y :\", target_y)\n",
    "#         #     print(\"Z :\", target_z)\n",
    "#         #     pt2 = o3d.cpu.pybind.utility.Vector3dVector(np.array([[target_x, target_y, target_z], [target_x - 0.01, target_y - 0.01, target_z - 0.01], [target_x + 0.01, target_y + 0.01, target_z + 0.01]]))\n",
    "#         #     print(\"----------------------------------\")\n",
    "            \n",
    "#         # else:\n",
    "#         #     print(\"NOTHING\")\n",
    "            \n",
    "#         # mesh_COORD = o3d.geometry.TriangleMesh.create_coordinate_frame(size=10, origin=center_coordinate)\n",
    "#         # ptc1 = o3d.geometry.PointCloud()\n",
    "#         # ptc1.points = pt1\n",
    "#         # ptc1.paint_uniform_color([1, 0, 0])\n",
    "#         # ptc2 = o3d.geometry.PointCloud()\n",
    "#         # ptc2.points = pt2a\n",
    "#         # ptc2.paint_uniform_color([0, 0, 1])\n",
    "#         # line = o3d.geometry.LineSet.create_from_point_cloud_correspondences(ptc1, ptc2, [(0,0)])\n",
    "#         # o3d.visualization.draw_geometries([pcd_new, source_temp, mesh_frame, ptc1, ptc2, line])"
   ]
  },
  {
   "cell_type": "code",
   "execution_count": null,
   "metadata": {},
   "outputs": [],
   "source": [
    "o3d.visualization.draw_geometries([source_temp, mesh_frame, source_temp.get_axis_aligned_bounding_box()])"
   ]
  },
  {
   "cell_type": "code",
   "execution_count": null,
   "metadata": {},
   "outputs": [
    {
     "data": {
      "text/plain": [
       "array([[-38.936143  , -40.32110286,  -2.44609773],\n",
       "       [ 42.05933228, -40.32110286,  -2.44609773],\n",
       "       [-38.936143  ,  41.71935903,  -2.44609773],\n",
       "       [-38.936143  , -40.32110286, 181.9211539 ],\n",
       "       [ 42.05933228,  41.71935903, 181.9211539 ],\n",
       "       [-38.936143  ,  41.71935903, 181.9211539 ],\n",
       "       [ 42.05933228, -40.32110286, 181.9211539 ],\n",
       "       [ 42.05933228,  41.71935903,  -2.44609773]])"
      ]
     },
     "execution_count": 94,
     "metadata": {},
     "output_type": "execute_result"
    }
   ],
   "source": [
    "np.array(source_temp.get_axis_aligned_bounding_box().get_box_points())"
   ]
  },
  {
   "cell_type": "code",
   "execution_count": null,
   "metadata": {},
   "outputs": [
    {
     "data": {
      "text/plain": [
       "181.92115390385513"
      ]
     },
     "execution_count": 95,
     "metadata": {},
     "output_type": "execute_result"
    }
   ],
   "source": [
    "np.array(source_temp.points)[:,2].max()"
   ]
  },
  {
   "cell_type": "code",
   "execution_count": null,
   "metadata": {},
   "outputs": [
    {
     "data": {
      "text/plain": [
       "array([[  0., 150.,   0.],\n",
       "       [  0., 150.,   0.],\n",
       "       [  0., 150.,   0.]])"
      ]
     },
     "execution_count": 96,
     "metadata": {},
     "output_type": "execute_result"
    }
   ],
   "source": [
    "np.array(pt1)-np.array(pt2)"
   ]
  },
  {
   "cell_type": "code",
   "execution_count": null,
   "metadata": {},
   "outputs": [],
   "source": [
    "o3d.visualization.draw_geometries([pcd_new, mesh_frame])"
   ]
  },
  {
   "cell_type": "code",
   "execution_count": null,
   "metadata": {},
   "outputs": [],
   "source": [
    "c = np.array([target_x, target_y, target_z, 1])"
   ]
  },
  {
   "cell_type": "code",
   "execution_count": null,
   "metadata": {},
   "outputs": [
    {
     "data": {
      "text/plain": [
       "array([ 0.00137939, -0.17581395,  0.09795376,  0.001     ])"
      ]
     },
     "execution_count": 99,
     "metadata": {},
     "output_type": "execute_result"
    }
   ],
   "source": [
    "c/1000"
   ]
  },
  {
   "cell_type": "code",
   "execution_count": null,
   "metadata": {},
   "outputs": [
    {
     "data": {
      "text/plain": [
       "array([0, 1, 0])"
      ]
     },
     "execution_count": 100,
     "metadata": {},
     "output_type": "execute_result"
    }
   ],
   "source": [
    "vector"
   ]
  },
  {
   "cell_type": "code",
   "execution_count": null,
   "metadata": {},
   "outputs": [],
   "source": [
    "v = np.array([cen_x, cen_y, cen_z, 1])"
   ]
  },
  {
   "cell_type": "code",
   "execution_count": null,
   "metadata": {},
   "outputs": [
    {
     "data": {
      "text/plain": [
       "array([[ 0.69082414, -0.72290048,  0.01330072, -0.02312606],\n",
       "       [-0.06774742, -0.04640438,  0.99662276, -0.02256718],\n",
       "       [-0.71984186, -0.68939214, -0.08103191,  0.35422174],\n",
       "       [ 0.        ,  0.        ,  0.        ,  1.        ]])"
      ]
     },
     "execution_count": 102,
     "metadata": {},
     "output_type": "execute_result"
    }
   ],
   "source": [
    "np.linalg.inv(trans)"
   ]
  },
  {
   "cell_type": "code",
   "execution_count": null,
   "metadata": {},
   "outputs": [
    {
     "data": {
      "text/plain": [
       "array([129.32863137, 105.66546793, 112.628655  ,   1.        ])"
      ]
     },
     "execution_count": 103,
     "metadata": {},
     "output_type": "execute_result"
    }
   ],
   "source": [
    "np.inner(np.linalg.inv(trans), c)"
   ]
  },
  {
   "cell_type": "code",
   "execution_count": null,
   "metadata": {},
   "outputs": [],
   "source": [
    "c2 = np.inner(np.linalg.inv(trans), c)[:3]\n",
    "v2 = np.inner(np.linalg.inv(trans), v)[:3]"
   ]
  },
  {
   "cell_type": "code",
   "execution_count": null,
   "metadata": {},
   "outputs": [
    {
     "data": {
      "text/plain": [
       "array([129.32863137, 105.66546793, 112.628655  ])"
      ]
     },
     "execution_count": 105,
     "metadata": {},
     "output_type": "execute_result"
    }
   ],
   "source": [
    "c2"
   ]
  },
  {
   "cell_type": "code",
   "execution_count": null,
   "metadata": {},
   "outputs": [
    {
     "data": {
      "text/plain": [
       "array([20.89355932, 98.70481027,  9.21983335])"
      ]
     },
     "execution_count": 106,
     "metadata": {},
     "output_type": "execute_result"
    }
   ],
   "source": [
    "v2"
   ]
  },
  {
   "cell_type": "code",
   "execution_count": null,
   "metadata": {},
   "outputs": [],
   "source": [
    "tar_x, tar_y, tar_z = c2"
   ]
  },
  {
   "cell_type": "code",
   "execution_count": null,
   "metadata": {},
   "outputs": [
    {
     "data": {
      "text/plain": [
       "array([108.43507204,   6.96065766, 103.40882165])"
      ]
     },
     "execution_count": 108,
     "metadata": {},
     "output_type": "execute_result"
    }
   ],
   "source": [
    "c2-v2"
   ]
  },
  {
   "cell_type": "code",
   "execution_count": null,
   "metadata": {},
   "outputs": [],
   "source": [
    "ptpt = o3d.cpu.pybind.utility.Vector3dVector(np.array([[tar_x, tar_y, tar_z], [tar_x - 0.00001, tar_y - 0.00001, tar_z - 0.00001], [tar_x + 0.00001, tar_y + 0.00001, tar_z + 0.00001]]))\n"
   ]
  },
  {
   "cell_type": "code",
   "execution_count": null,
   "metadata": {},
   "outputs": [],
   "source": [
    "ptpt2 = o3d.cpu.pybind.utility.Vector3dVector(np.array([[v2[0], v2[1], v2[2]], [v2[0] - 0.00001, v2[1] - 0.00001, v2[2] - 0.00001], [v2[0] + 0.00001, v2[1] + 0.00001, v2[2] + 0.00001]]))\n"
   ]
  },
  {
   "cell_type": "code",
   "execution_count": null,
   "metadata": {},
   "outputs": [],
   "source": [
    "ptpcd = o3d.geometry.PointCloud()\n",
    "ptpcd.points = ptpt\n",
    "\n",
    "ptpcd2 = o3d.geometry.PointCloud()\n",
    "ptpcd2.points = ptpt2"
   ]
  },
  {
   "cell_type": "code",
   "execution_count": null,
   "metadata": {},
   "outputs": [],
   "source": [
    "o3d.visualization.draw_geometries([pcd_combined, ptpcd, ptpcd2, mesh_frame, pcd_target])"
   ]
  },
  {
   "cell_type": "code",
   "execution_count": null,
   "metadata": {},
   "outputs": [
    {
     "name": "stdout",
     "output_type": "stream",
     "text": [
      "TriangleMesh with 12 points and 4 triangles.\n"
     ]
    }
   ],
   "source": [
    "mesh_tower = o3d.io.read_triangle_mesh(\"mesh/jenga_tower_side_xy.stl\")\n",
    "print(mesh_tower)"
   ]
  }
 ],
 "metadata": {
  "kernelspec": {
   "display_name": "urp",
   "language": "python",
   "name": "python3"
  },
  "language_info": {
   "codemirror_mode": {
    "name": "ipython",
    "version": 3
   },
   "file_extension": ".py",
   "mimetype": "text/x-python",
   "name": "python",
   "nbconvert_exporter": "python",
   "pygments_lexer": "ipython3",
   "version": "3.8.10"
  },
  "orig_nbformat": 4
 },
 "nbformat": 4,
 "nbformat_minor": 2
}
