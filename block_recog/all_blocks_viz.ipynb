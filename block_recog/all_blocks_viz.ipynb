{
 "cells": [
  {
   "attachments": {},
   "cell_type": "markdown",
   "metadata": {},
   "source": [
    "# Blcok Recognition"
   ]
  },
  {
   "attachments": {},
   "cell_type": "markdown",
   "metadata": {},
   "source": [
    "## Import Libraries"
   ]
  },
  {
   "cell_type": "code",
   "execution_count": 1,
   "metadata": {},
   "outputs": [
    {
     "name": "stdout",
     "output_type": "stream",
     "text": [
      "Jupyter environment detected. Enabling Open3D WebVisualizer.\n",
      "[Open3D INFO] WebRTC GUI backend enabled.\n",
      "[Open3D INFO] WebRTCWindowSystem: HTTP handshake server disabled.\n"
     ]
    }
   ],
   "source": [
    "import numpy as np\n",
    "import cv2\n",
    "import glob\n",
    "from matplotlib import pyplot as plt\n",
    "import open3d as o3d\n",
    "import copy"
   ]
  },
  {
   "attachments": {},
   "cell_type": "markdown",
   "metadata": {},
   "source": [
    "## Read Test Images"
   ]
  },
  {
   "cell_type": "code",
   "execution_count": 2,
   "metadata": {},
   "outputs": [
    {
     "name": "stdout",
     "output_type": "stream",
     "text": [
      "color shape:  (1536, 2048, 3)\n",
      "depth shape:  (1536, 2048)\n"
     ]
    }
   ],
   "source": [
    "img_color = cv2.imread('test_imgs/jenga_tower_color.png')\n",
    "img_depth = cv2.imread('test_imgs/jenga_tower_depth.png', 0)\n",
    "print('color shape: ', img_color.shape)\n",
    "print('depth shape: ', img_depth.shape)"
   ]
  },
  {
   "attachments": {},
   "cell_type": "markdown",
   "metadata": {},
   "source": [
    "## Extract Blocks' Masks By Colors"
   ]
  },
  {
   "cell_type": "code",
   "execution_count": 3,
   "metadata": {},
   "outputs": [],
   "source": [
    "height, width = img_color.shape[:2] # 이미지의 높이와 너비 불러옴, 가로 [0], 세로[1]\n",
    "\n",
    "img_hsv = cv2.cvtColor(img_color, cv2.COLOR_BGR2HSV) # cvtColor 함수를 이용하여 hsv 색공간으로 변환"
   ]
  },
  {
   "cell_type": "code",
   "execution_count": 4,
   "metadata": {},
   "outputs": [],
   "source": [
    "colors = ['green', 'pink', 'yellow', 'blue', 'violet', 'red']"
   ]
  },
  {
   "cell_type": "code",
   "execution_count": 5,
   "metadata": {},
   "outputs": [],
   "source": [
    "# RED\n",
    "lower_red1 = np.array([0, 130, 50])\n",
    "upper_red1 = np.array([15, 255, 255])\n",
    "lower_red2 = np.array([160,130,50])\n",
    "upper_red2 = np.array([179,255,255])\n",
    "\n",
    "# PINK\n",
    "lower_pink1 = np.array([0, 70, 80])\n",
    "upper_pink1 = np.array([10, 130, 255])\n",
    "lower_pink2 = np.array([150,70,80])\n",
    "upper_pink2 = np.array([179,130,255])\n",
    "\n",
    "# GREEN\n",
    "lower_green = (70-20, 50, 50)\n",
    "upper_green = (70+15, 255, 255)\n",
    "\n",
    "# YELLOW\n",
    "lower_yellow = (30-10, 80, 80)\n",
    "upper_yellow = (30+10, 255, 255)\n",
    "\n",
    "# BLUE\n",
    "lower_blue = (100-10, 100, 100)\n",
    "upper_blue = (100+9, 255, 255)\n",
    "\n",
    "# VIOLET\n",
    "lower_violet = (130-20, 50, 30)\n",
    "upper_violet = (130+20, 255, 255)"
   ]
  },
  {
   "cell_type": "code",
   "execution_count": 6,
   "metadata": {},
   "outputs": [],
   "source": [
    "blocks_rgb_by_color = []\n",
    "blocks_mask_by_color = []\n",
    "for color in colors:\n",
    "    if color == 'pink' or color =='red':\n",
    "        for i in (1,2):\n",
    "            exec(f\"lower_color{i} = lower_{color}{i}\")\n",
    "            exec(f\"upper_color{i} = upper_{color}{i}\")\n",
    "\n",
    "        mask_color1 = cv2.inRange(img_hsv, lower_color1, upper_color1)\n",
    "        mask_color2 = cv2.inRange(img_hsv, lower_color2, upper_color2)\n",
    "        img_mask_color = mask_color1 + mask_color2\n",
    "        \n",
    "        # Denoise by Erosion and Dilation\n",
    "        kernel = cv2.getStructuringElement(cv2.MORPH_RECT, (3,3))\n",
    "        erosion_image_color = cv2.erode(img_mask_color, kernel, iterations=2)  #// make erosion image\n",
    "        img_mask_color = cv2.dilate(erosion_image_color, kernel, iterations=2)  #// make dilation image\n",
    "\n",
    "        # 바이너리 이미지를 마스크로 사용하여 원본이미지에서 범위값에 해당하는 영상부분을 획득\n",
    "        img_result_color = cv2.bitwise_and(img_color, img_color, mask = img_mask_color) \n",
    "        \n",
    "        exec(f\"img_result_{color} = img_result_color\")\n",
    "    \n",
    "    else:\n",
    "        exec(f\"lower_color = lower_{color}\")\n",
    "        exec(f\"upper_color = upper_{color}\")\n",
    "\n",
    "        img_mask_color = cv2.inRange(img_hsv, lower_color, upper_color) # 범위내의 픽셀들은 흰색, 나머지 검은색\n",
    "\n",
    "        kernel = cv2.getStructuringElement(cv2.MORPH_RECT, (3,3))\n",
    "        erosion_image_color = cv2.erode(img_mask_color, kernel, iterations=2)  #// make erosion image\n",
    "        img_mask_color = cv2.dilate(erosion_image_color, kernel, iterations=2)  #// make dilation image\n",
    "\n",
    "        # 바이너리 이미지를 마스크로 사용하여 원본이미지에서 범위값에 해당하는 영상부분을 획득\n",
    "        img_result_color = cv2.bitwise_and(img_color, img_color, mask = img_mask_color) \n",
    "\n",
    "        exec(f\"img_result_{color} = img_result_color\")\n",
    "        \n",
    "    _, src_bin = cv2.threshold(img_mask_color, 0, 255, cv2.THRESH_OTSU)\n",
    "    each_color_filtered = cv2.bitwise_and(img_color, img_color, mask = src_bin)\n",
    "    \n",
    "    if color == 'blue':\n",
    "        cv2.imshow('src_bin', src_bin)\n",
    "        cv2.imshow(f'{color}_filtered', each_color_filtered)\n",
    "        cv2.waitKey(0)\n",
    "        cv2.destroyAllWindows()\n",
    "\n",
    "    cnt, labels, stats, centroids = cv2.connectedComponentsWithStats(src_bin)\n",
    "\n",
    "    blocks_color = []\n",
    "    blocks_mask = []\n",
    "\n",
    "    for i in range(1, cnt): # 각각의 객체 정보에 들어가기 위해 반복문. 범위를 1부터 시작한 이유는 배경을 제외\n",
    "        (x, y, w, h, area) = stats[i]\n",
    "        cen_x, cen_y = map(int, centroids[i])\n",
    "        block_mask = (labels==i)*img_mask_color\n",
    "        block_color = cv2.bitwise_and(img_color, img_color, mask = block_mask)\n",
    "        \n",
    "        # 노이즈 제거\n",
    "        if area < 600:\n",
    "            continue\n",
    "        \n",
    "        # if color == 'violet':\n",
    "        #     cv2.imshow('blk clr', block_color)\n",
    "        #     # cv2.imwrite('./test_imgs/red_block1_rgb.png', block_color)\n",
    "        #     cv2.imshow('blk msk', block_mask)\n",
    "        #     # cv2.imwrite('./test_imgs/red_block1_mask.png', block_mask)\n",
    "        #     cv2.waitKey(0)\n",
    "        #     cv2.destroyAllWindows()\n",
    "        \n",
    "        blocks_color.append(block_color)\n",
    "        blocks_mask.append(block_mask)\n",
    "        \n",
    "        \n",
    "    exec(f\"blocks_rgb_{color} = blocks_color\")\n",
    "    exec(f\"blocks_mask_{color} = blocks_mask\")\n",
    "    exec(f\"blocks_rgb_by_color.append(blocks_rgb_{color})\")\n",
    "    exec(f\"blocks_mask_by_color.append(blocks_mask_{color})\")\n",
    "    "
   ]
  },
  {
   "cell_type": "code",
   "execution_count": 7,
   "metadata": {},
   "outputs": [],
   "source": [
    "tower_mask = 0\n",
    "tower_color = 0\n",
    "for mask, color in zip(blocks_mask_by_color, blocks_rgb_by_color):\n",
    "    for block_m in mask:\n",
    "        tower_mask += block_m\n",
    "    \n",
    "    for block_c in color:\n",
    "        tower_color += block_c"
   ]
  },
  {
   "cell_type": "code",
   "execution_count": 8,
   "metadata": {},
   "outputs": [],
   "source": [
    "cv2.imshow('tower mask', tower_mask)\n",
    "# cv2.imwrite('./test_imgs/tower_mask.png', tower_mask)\n",
    "cv2.imshow('tower color', tower_color)\n",
    "# cv2.imwrite('./test_imgs/tower_color.png', tower_color)\n",
    "cv2.waitKey(0)\n",
    "cv2.destroyAllWindows()"
   ]
  },
  {
   "cell_type": "code",
   "execution_count": 9,
   "metadata": {},
   "outputs": [
    {
     "name": "stdout",
     "output_type": "stream",
     "text": [
      "green\n",
      "6 Blocks\n",
      "pink\n",
      "6 Blocks\n",
      "yellow\n",
      "6 Blocks\n",
      "blue\n",
      "6 Blocks\n",
      "violet\n",
      "6 Blocks\n",
      "red\n",
      "6 Blocks\n"
     ]
    }
   ],
   "source": [
    "for c, b, rgb_m in zip(colors, blocks_mask_by_color, blocks_rgb_by_color):\n",
    "    print(c)\n",
    "    print(len(b), \"Blocks\")"
   ]
  },
  {
   "attachments": {},
   "cell_type": "markdown",
   "metadata": {},
   "source": [
    "## Get PointCloud from RGB Image + Depth Image"
   ]
  },
  {
   "cell_type": "code",
   "execution_count": 10,
   "metadata": {},
   "outputs": [],
   "source": [
    "# temp intrinsic matrix\n",
    "intrinsic = o3d.camera.PinholeCameraIntrinsic()\n",
    "intrinsic.intrinsic_matrix = [[971.179, 0, 1025.07],[0, 970.984, 778.291],[0, 0, 1]]\n",
    "intrinsic.intrinsic_matrix = [[971.179, 0, 1025.07],[0, 970.984, 778.291],[0, 0, 1]]"
   ]
  },
  {
   "cell_type": "code",
   "execution_count": 11,
   "metadata": {},
   "outputs": [],
   "source": [
    "mesh_frame = o3d.geometry.TriangleMesh.create_coordinate_frame(\n",
    "    size=50, origin=[0, 0, 0])"
   ]
  },
  {
   "cell_type": "code",
   "execution_count": 12,
   "metadata": {},
   "outputs": [],
   "source": [
    "def get_pointcloud_from_color_depth(color_image, depth_image, intrinsic):\n",
    "    o3d_img = o3d.geometry.Image()\n",
    "    \n",
    "    if isinstance(color_image, type(o3d_img)):\n",
    "        pass\n",
    "    elif isinstance(color_image, np.ndarray):\n",
    "        color_image = cv2.cvtColor(color_image, cv2.COLOR_BGR2RGB)\n",
    "        color_image = o3d.geometry.Image(color_image)\n",
    "        \n",
    "    if isinstance(depth_image, type(o3d_img)):\n",
    "        pass\n",
    "    elif isinstance(depth_image, np.ndarray):\n",
    "        depth_image = o3d.geometry.Image(depth_image)\n",
    "        \n",
    "    rgbd_image = o3d.geometry.RGBDImage.create_from_color_and_depth(color_image, depth_image)\n",
    "    pcd = o3d.geometry.PointCloud.create_from_rgbd_image(rgbd_image, intrinsic)\n",
    "    \n",
    "    return pcd"
   ]
  },
  {
   "cell_type": "code",
   "execution_count": 13,
   "metadata": {},
   "outputs": [],
   "source": [
    "masked_depth = cv2.bitwise_and(img_depth, img_depth, mask = tower_mask)"
   ]
  },
  {
   "cell_type": "code",
   "execution_count": 14,
   "metadata": {},
   "outputs": [],
   "source": [
    "tower_pcd = get_pointcloud_from_color_depth(color_image=tower_color, depth_image=masked_depth, intrinsic=intrinsic)"
   ]
  },
  {
   "cell_type": "code",
   "execution_count": 15,
   "metadata": {},
   "outputs": [
    {
     "name": "stdout",
     "output_type": "stream",
     "text": [
      "PointCloud with 105303 points.\n",
      "[[ 3.60051560e-05 -1.69810720e-04  7.45098048e-04]\n",
      " [ 3.67723658e-05 -1.69810720e-04  7.45098048e-04]\n",
      " [ 3.75395756e-05 -1.69810720e-04  7.45098048e-04]\n",
      " ...\n",
      " [ 3.50973437e-05  1.22609574e-04  4.54901950e-04]\n",
      " [ 3.55657454e-05  1.22609574e-04  4.54901950e-04]\n",
      " [ 3.60341472e-05  1.22609574e-04  4.54901950e-04]]\n"
     ]
    }
   ],
   "source": [
    "print(tower_pcd)\n",
    "print(np.asarray(tower_pcd.points))\n",
    "o3d.visualization.draw_geometries([tower_pcd, mesh_frame])"
   ]
  },
  {
   "cell_type": "code",
   "execution_count": 16,
   "metadata": {},
   "outputs": [],
   "source": [
    "blocks_pcd_by_color = []\n",
    "all_pcd = []\n",
    "for color, block_mask in zip(colors, blocks_mask_by_color):\n",
    "    # print(color)\n",
    "    blocks_pcd = []\n",
    "    for msk in block_mask:\n",
    "        masked_block_rgb = cv2.bitwise_and(tower_color, tower_color, mask = msk)\n",
    "        masked_block_depth = cv2.bitwise_and(img_depth, img_depth, mask = msk)\n",
    "        \n",
    "        # Get Each Block's PointCloud\n",
    "        pcd = get_pointcloud_from_color_depth(color_image=masked_block_rgb, depth_image=masked_block_depth, intrinsic=intrinsic)\n",
    "        \n",
    "        # Remove Outlier Points\n",
    "        pcd, _ = pcd.remove_radius_outlier(512, 0.0001)\n",
    "        blocks_pcd.append(pcd)\n",
    "        all_pcd.append(pcd)\n",
    "        \n",
    "        # if color=='green':\n",
    "        #     o3d.visualization.draw_geometries([pcd])\n",
    "    \n",
    "    exec(f\"blocks_pcd_{color} = blocks_pcd\")\n",
    "    exec(f\"blocks_pcd_by_color.append(blocks_pcd_{color})\")"
   ]
  },
  {
   "cell_type": "code",
   "execution_count": 17,
   "metadata": {},
   "outputs": [
    {
     "data": {
      "text/plain": [
       "6"
      ]
     },
     "execution_count": 17,
     "metadata": {},
     "output_type": "execute_result"
    }
   ],
   "source": [
    "len(blocks_pcd_by_color)"
   ]
  },
  {
   "attachments": {},
   "cell_type": "markdown",
   "metadata": {},
   "source": [
    "## Tower ICP"
   ]
  },
  {
   "cell_type": "code",
   "execution_count": 18,
   "metadata": {},
   "outputs": [
    {
     "name": "stdout",
     "output_type": "stream",
     "text": [
      "PointCloud with 103361 points.\n"
     ]
    }
   ],
   "source": [
    "pcd_combined = o3d.geometry.PointCloud()\n",
    "for point_id in range(len(all_pcd)):\n",
    "    pcd_combined += all_pcd[point_id]\n",
    "\n",
    "print(pcd_combined)\n",
    "# print(len(pcd_combined.points))\n",
    "\n",
    "o3d.visualization.draw_geometries([pcd_combined])"
   ]
  },
  {
   "cell_type": "code",
   "execution_count": 19,
   "metadata": {},
   "outputs": [
    {
     "name": "stdout",
     "output_type": "stream",
     "text": [
      "TriangleMesh with 12 points and 4 triangles.\n",
      "PointCloud with 103361 points.\n"
     ]
    }
   ],
   "source": [
    "mesh_tower = o3d.io.read_triangle_mesh(\"mesh/jenga_tower_side_xy.stl\")\n",
    "print(mesh_tower)\n",
    "\n",
    "mesh_tower.compute_vertex_normals()\n",
    "# o3d.visualization.draw_geometries([mesh])\n",
    "\n",
    "pcd_target = mesh_tower.sample_points_uniformly(number_of_points=len(pcd_combined.points))\n",
    "print(pcd_target)\n",
    "o3d.visualization.draw_geometries([pcd_target])"
   ]
  },
  {
   "cell_type": "code",
   "execution_count": 20,
   "metadata": {},
   "outputs": [],
   "source": [
    "initial_transform = np.asarray([[0, 0, -1, 0],\n",
    "                        [1, 0, 0, 0],\n",
    "                        [0, -1, 0, 0],\n",
    "                        [0, 0, 0, 1]])"
   ]
  },
  {
   "cell_type": "code",
   "execution_count": 21,
   "metadata": {},
   "outputs": [],
   "source": [
    "def prepare_icp(source, target):\n",
    "    source_tmp = copy.deepcopy(source)\n",
    "    target_tmp = copy.deepcopy(target)\n",
    "    \n",
    "    # make the point cloud into right position\n",
    "    source_tmp.transform(initial_transform)\n",
    "    \n",
    "    # resize the target pointcloud to make two pointclouds into same scale\n",
    "    resize = (np.array(target_tmp.points)[:,2].max() - np.array(target_tmp.points)[:,2].min()) / (np.array(source_tmp.points)[:,2].max() - np.array(source_tmp.points)[:,2].min())\n",
    "    \n",
    "    # move the source pcd to do icp\n",
    "    move = np.array(target_tmp.get_center() - source_tmp.get_center()*resize)\n",
    "    \n",
    "    # a = o3d.cpu.pybind.utility.Vector3dVector(np.array(target_tmp.points))\n",
    "    b = o3d.cpu.pybind.utility.Vector3dVector(np.array(source_tmp.points)*resize + move)\n",
    "    \n",
    "    # target_tmp.points = a\n",
    "    source_tmp.points = b\n",
    "    \n",
    "    o3d.visualization.draw_geometries([source_tmp, target_tmp, mesh_frame])\n",
    "    \n",
    "    return source_tmp, target_tmp, resize, move"
   ]
  },
  {
   "cell_type": "code",
   "execution_count": 22,
   "metadata": {},
   "outputs": [],
   "source": [
    "source, target, resize, move = prepare_icp(pcd_combined, pcd_target)"
   ]
  },
  {
   "cell_type": "code",
   "execution_count": 23,
   "metadata": {},
   "outputs": [],
   "source": [
    "def draw_registration_result(source, target, transformation):\n",
    "    source_temp = copy.deepcopy(source)\n",
    "    target_temp = copy.deepcopy(target)\n",
    "    source_temp.paint_uniform_color([1, 0.706, 0])\n",
    "    target_temp.paint_uniform_color([0, 0.651, 0.929])\n",
    "    source_temp.transform(transformation)\n",
    "    o3d.visualization.draw_geometries([source_temp, target_temp])"
   ]
  },
  {
   "cell_type": "code",
   "execution_count": 24,
   "metadata": {},
   "outputs": [],
   "source": [
    "threshold = 10\n",
    "trans_init = np.asarray([[1, 0, 0, 0],\n",
    "                         [0, 1, 0, 0],\n",
    "                         [0, 0, 1, 0],\n",
    "                         [0, 0, 0, 1]])\n",
    "draw_registration_result(source, target, trans_init)"
   ]
  },
  {
   "cell_type": "code",
   "execution_count": 25,
   "metadata": {},
   "outputs": [
    {
     "name": "stdout",
     "output_type": "stream",
     "text": [
      "Initial alignment\n"
     ]
    },
    {
     "name": "stdout",
     "output_type": "stream",
     "text": [
      "RegistrationResult with fitness=5.186095e-01, inlier_rmse=5.215491e+00, and correspondence_set size of 53604\n",
      "Access transformation to get result.\n"
     ]
    }
   ],
   "source": [
    "print(\"Initial alignment\")\n",
    "evaluation = o3d.pipelines.registration.evaluate_registration(\n",
    "    source, target, threshold, trans_init)\n",
    "print(evaluation)"
   ]
  },
  {
   "cell_type": "code",
   "execution_count": 26,
   "metadata": {},
   "outputs": [
    {
     "name": "stdout",
     "output_type": "stream",
     "text": [
      "RegistrationResult with fitness=9.988487e-01, inlier_rmse=1.293660e+00, and correspondence_set size of 103242\n",
      "Access transformation to get result.\n",
      "Transformation is:\n",
      "[[ 5.14599677e-01 -8.57126529e-01 -2.28316793e-02  2.44132118e+01]\n",
      " [ 8.57422366e-01  5.14295846e-01  1.80739723e-02 -2.05017580e+00]\n",
      " [-3.74944333e-03 -2.88772528e-02  9.99575933e-01  7.53390875e-01]\n",
      " [ 0.00000000e+00  0.00000000e+00  0.00000000e+00  1.00000000e+00]]\n"
     ]
    }
   ],
   "source": [
    "reg_p2p = o3d.pipelines.registration.registration_icp(\n",
    "    source, target, threshold, trans_init,\n",
    "    o3d.pipelines.registration.TransformationEstimationPointToPoint(),\n",
    "    o3d.pipelines.registration.ICPConvergenceCriteria(max_iteration=20000))\n",
    "print(reg_p2p)\n",
    "print(\"Transformation is:\")\n",
    "print(reg_p2p.transformation)\n",
    "draw_registration_result(source, target, reg_p2p.transformation)"
   ]
  },
  {
   "cell_type": "code",
   "execution_count": 27,
   "metadata": {},
   "outputs": [],
   "source": [
    "draw_registration_result(source, target, reg_p2p.transformation)"
   ]
  },
  {
   "cell_type": "code",
   "execution_count": 28,
   "metadata": {},
   "outputs": [
    {
     "data": {
      "text/plain": [
       "PointCloud with 103361 points."
      ]
     },
     "execution_count": 28,
     "metadata": {},
     "output_type": "execute_result"
    }
   ],
   "source": [
    "source_temp = copy.deepcopy(source)\n",
    "\n",
    "source_temp.transform(reg_p2p.transformation)\n"
   ]
  },
  {
   "cell_type": "code",
   "execution_count": 29,
   "metadata": {},
   "outputs": [
    {
     "data": {
      "text/plain": [
       "2.6084064314583952"
      ]
     },
     "execution_count": 29,
     "metadata": {},
     "output_type": "execute_result"
    }
   ],
   "source": [
    "(np.array(source_temp.points))[:,2].min()"
   ]
  },
  {
   "attachments": {},
   "cell_type": "markdown",
   "metadata": {},
   "source": [
    "## Blocks Transformation"
   ]
  },
  {
   "cell_type": "code",
   "execution_count": 30,
   "metadata": {},
   "outputs": [],
   "source": [
    "trans = reg_p2p.transformation"
   ]
  },
  {
   "cell_type": "code",
   "execution_count": 31,
   "metadata": {},
   "outputs": [
    {
     "data": {
      "text/plain": [
       "array([[ 5.14599677e-01, -8.57126529e-01, -2.28316793e-02,\n",
       "         2.44132118e+01],\n",
       "       [ 8.57422366e-01,  5.14295846e-01,  1.80739723e-02,\n",
       "        -2.05017580e+00],\n",
       "       [-3.74944333e-03, -2.88772528e-02,  9.99575933e-01,\n",
       "         7.53390875e-01],\n",
       "       [ 0.00000000e+00,  0.00000000e+00,  0.00000000e+00,\n",
       "         1.00000000e+00]])"
      ]
     },
     "execution_count": 31,
     "metadata": {},
     "output_type": "execute_result"
    }
   ],
   "source": [
    "trans"
   ]
  },
  {
   "cell_type": "code",
   "execution_count": 32,
   "metadata": {},
   "outputs": [],
   "source": [
    "trans_1 = np.asarray([[0, 0, -1, 0],\n",
    "                         [1, 0, 0, 0],\n",
    "                         [0, -1, 0, 0],\n",
    "                         [0, 0, 0, 1]])"
   ]
  },
  {
   "cell_type": "code",
   "execution_count": 33,
   "metadata": {},
   "outputs": [],
   "source": [
    "def transform_blocks(pcd, icp_transform):\n",
    "    pcd_temp = copy.deepcopy(pcd)\n",
    "    pcd_temp.transform(initial_transform)\n",
    "    aa = o3d.cpu.pybind.utility.Vector3dVector(np.array(pcd_temp.points)*resize + move)\n",
    "    pcd_temp.points = aa\n",
    "    pcd_temp.transform(icp_transform)\n",
    "    \n",
    "    return pcd_temp"
   ]
  },
  {
   "cell_type": "code",
   "execution_count": 34,
   "metadata": {},
   "outputs": [],
   "source": [
    "# WHAT IS THE TARGET BLOCK?\n",
    "target_block_color = 'pink'\n",
    "target_block_label = 2"
   ]
  },
  {
   "cell_type": "code",
   "execution_count": 36,
   "metadata": {},
   "outputs": [
    {
     "name": "stdout",
     "output_type": "stream",
     "text": [
      "green\n",
      "2\n",
      "BOX EXTENT :  [25.71412329 88.13070978 14.85554158]\n",
      "CENTER COORDINATE :  [25.87202735 -5.75834294 98.07745214]\n",
      "PULL DIRECTION : X\n",
      "pink\n",
      "2\n",
      "BOX EXTENT :  [25.31985066  4.93170959 13.26101217]\n",
      "CENTER COORDINATE :  [ 1.64897462 36.64357858 97.54330443]\n",
      "PUSH DIRECTION : Y or -Y\n",
      "yellow\n",
      "2\n",
      "BOX EXTENT :  [27.70837354  7.08245194 14.00552154]\n",
      "CENTER COORDINATE :  [-25.65377721  35.9515512   98.0708645 ]\n",
      "PULL DIRECTION : -X\n",
      "blue\n",
      "2\n",
      "BOX EXTENT :  [83.49992707 26.77117393 14.91361311]\n",
      "CENTER COORDINATE :  [ -1.60414086  27.31596676 112.44893136]\n",
      "PULL DIRECTION : Y\n",
      "violet\n",
      "2\n",
      "BOX EXTENT :  [ 3.67253198 27.2791077  14.77310889]\n",
      "CENTER COORDINATE :  [ 38.28255226   2.92005099 112.88914871]\n",
      "PUSH DIRECTION : X or -X\n",
      "red\n",
      "2\n",
      "BOX EXTENT :  [ 9.91124081 36.65339815 14.71306576]\n",
      "CENTER COORDINATE :  [ 34.01654886 -29.01322649 113.02379023]\n",
      "PULL DIRECTION : -Y\n"
     ]
    }
   ],
   "source": [
    "for col, pcds in zip(colors, blocks_pcd_by_color):\n",
    "    # if col != target_block_color:\n",
    "    #     continue\n",
    "    print(col)\n",
    "    \n",
    "    for idx, pcd in enumerate(pcds):\n",
    "        if idx != target_block_label:\n",
    "            continue\n",
    "        \n",
    "        print(idx)\n",
    "        pcd_new = transform_blocks(pcd, trans)\n",
    "        \n",
    "        # o3d.visualization.draw_geometries([pcd_new, mesh_frame, pcd_new.get_axis_aligned_bounding_box()])\n",
    "        \n",
    "        box_extent = pcd_new.get_axis_aligned_bounding_box().get_extent()\n",
    "        print(\"BOX EXTENT : \", box_extent)\n",
    "        \n",
    "        center_coordinate = np.array(pcd_new.get_axis_aligned_bounding_box().get_box_points()).mean(axis=0)\n",
    "        print(\"CENTER COORDINATE : \", center_coordinate)\n",
    "        \n",
    "        if box_extent[1] > 70:\n",
    "            print(\"PULL DIRECTION : X\")\n",
    "        elif box_extent[0] > 70:\n",
    "            print(\"PULL DIRECTION : Y\")\n",
    "        elif abs(center_coordinate[0]) < 5 and box_extent [1] < 20:\n",
    "            print(\"PUSH DIRECTION : Y or -Y\")\n",
    "        elif abs(center_coordinate[1]) < 5 and box_extent [0] < 20:\n",
    "            print(\"PUSH DIRECTION : X or -X\")\n",
    "        elif box_extent[1] < 20:\n",
    "            print(\"PULL DIRECTION : -X\")\n",
    "        elif box_extent[0] < 20:\n",
    "            print(\"PULL DIRECTION : -Y\")\n",
    "            \n",
    "        mesh_COORD = o3d.geometry.TriangleMesh.create_coordinate_frame(size=10, origin=center_coordinate)\n",
    "        o3d.visualization.draw_geometries([pcd_new, mesh_frame, pcd_new.get_axis_aligned_bounding_box(), mesh_COORD])"
   ]
  },
  {
   "cell_type": "code",
   "execution_count": null,
   "metadata": {},
   "outputs": [],
   "source": []
  }
 ],
 "metadata": {
  "kernelspec": {
   "display_name": "urp",
   "language": "python",
   "name": "python3"
  },
  "language_info": {
   "codemirror_mode": {
    "name": "ipython",
    "version": 3
   },
   "file_extension": ".py",
   "mimetype": "text/x-python",
   "name": "python",
   "nbconvert_exporter": "python",
   "pygments_lexer": "ipython3",
   "version": "3.8.10"
  },
  "orig_nbformat": 4
 },
 "nbformat": 4,
 "nbformat_minor": 2
}
