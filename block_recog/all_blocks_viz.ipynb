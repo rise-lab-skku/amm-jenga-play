{
 "cells": [
  {
   "cell_type": "code",
   "execution_count": 1,
   "metadata": {},
   "outputs": [
    {
     "name": "stdout",
     "output_type": "stream",
     "text": [
      "Jupyter environment detected. Enabling Open3D WebVisualizer.\n",
      "[Open3D INFO] WebRTC GUI backend enabled.\n",
      "[Open3D INFO] WebRTCWindowSystem: HTTP handshake server disabled.\n"
     ]
    }
   ],
   "source": [
    "import numpy as np\n",
    "import cv2\n",
    "import glob\n",
    "from matplotlib import pyplot as plt\n",
    "import open3d as o3d"
   ]
  },
  {
   "cell_type": "code",
   "execution_count": 2,
   "metadata": {},
   "outputs": [
    {
     "name": "stdout",
     "output_type": "stream",
     "text": [
      "color shape:  (480, 640, 3)\n",
      "depth shape:  (480, 640)\n"
     ]
    }
   ],
   "source": [
    "img_color = cv2.imread('test_imgs/color_new.png')\n",
    "img_depth = cv2.imread('test_imgs/depth_new.png', 0)\n",
    "print('color shape: ', img_color.shape)\n",
    "print('depth shape: ', img_depth.shape)"
   ]
  },
  {
   "cell_type": "code",
   "execution_count": 3,
   "metadata": {},
   "outputs": [],
   "source": [
    "height, width = img_color.shape[:2] # 이미지의 높이와 너비 불러옴, 가로 [0], 세로[1]\n",
    "\n",
    "img_hsv = cv2.cvtColor(img_color, cv2.COLOR_BGR2HSV) # cvtColor 함수를 이용하여 hsv 색공간으로 변환"
   ]
  },
  {
   "cell_type": "code",
   "execution_count": 4,
   "metadata": {},
   "outputs": [],
   "source": [
    "colors = ['green', 'pink', 'yellow', 'blue', 'violet', 'red']"
   ]
  },
  {
   "cell_type": "code",
   "execution_count": 5,
   "metadata": {},
   "outputs": [],
   "source": [
    "# RED\n",
    "lower_red1 = np.array([0, 120, 50])\n",
    "upper_red1 = np.array([20, 255, 255])\n",
    "lower_red2 = np.array([160,120,50])\n",
    "upper_red2 = np.array([179,255,255])\n",
    "\n",
    "# PINK\n",
    "lower_pink1 = np.array([0, 75, 100])\n",
    "upper_pink1 = np.array([10, 120, 255])\n",
    "lower_pink2 = np.array([150,75,100])\n",
    "upper_pink2 = np.array([179,120,255])\n",
    "\n",
    "# GREEN\n",
    "lower_green = (70-20, 60, 60)\n",
    "upper_green = (70+20, 255, 255)\n",
    "\n",
    "# YELLOW\n",
    "lower_yellow = (30-10, 80, 80)\n",
    "upper_yellow = (30+10, 255, 255)\n",
    "\n",
    "# BLUE\n",
    "lower_blue = (100-10, 100, 100)\n",
    "upper_blue = (100+10, 255, 150)\n",
    "\n",
    "# VIOLET\n",
    "lower_violet = (130-20, 30, 30)\n",
    "upper_violet = (130+20, 255, 255)"
   ]
  },
  {
   "cell_type": "code",
   "execution_count": 6,
   "metadata": {},
   "outputs": [],
   "source": [
    "blocks_rgb_by_color = []\n",
    "blocks_mask_by_color = []\n",
    "for color in colors:\n",
    "    if color == 'pink' or color =='red':\n",
    "        for i in (1,2):\n",
    "            exec(f\"lower_color{i} = lower_{color}{i}\")\n",
    "            exec(f\"upper_color{i} = upper_{color}{i}\")\n",
    "\n",
    "        mask_color1 = cv2.inRange(img_hsv, lower_color1, upper_color1)\n",
    "        mask_color2 = cv2.inRange(img_hsv, lower_color2, upper_color2)\n",
    "        img_mask_color = mask_color1 + mask_color2\n",
    "\n",
    "        kernel = cv2.getStructuringElement(cv2.MORPH_RECT, (3,3))\n",
    "        erosion_image_color = cv2.erode(img_mask_color, kernel, iterations=2)  #// make erosion image\n",
    "        img_mask_color = cv2.dilate(erosion_image_color, kernel, iterations=2)  #// make dilation image\n",
    "\n",
    "        # 바이너리 이미지를 마스크로 사용하여 원본이미지에서 범위값에 해당하는 영상부분을 획득\n",
    "        img_result_color = cv2.bitwise_and(img_color, img_color, mask = img_mask_color) \n",
    "        \n",
    "        exec(f\"img_result_{color} = img_result_color\")\n",
    "    \n",
    "    else:\n",
    "        exec(f\"lower_color = lower_{color}\")\n",
    "        exec(f\"upper_color = upper_{color}\")\n",
    "\n",
    "        img_mask_color = cv2.inRange(img_hsv, lower_color, upper_color) # 범위내의 픽셀들은 흰색, 나머지 검은색\n",
    "\n",
    "        kernel = cv2.getStructuringElement(cv2.MORPH_RECT, (3,3))\n",
    "        erosion_image_color = cv2.erode(img_mask_color, kernel, iterations=2)  #// make erosion image\n",
    "        img_mask_color = cv2.dilate(erosion_image_color, kernel, iterations=2)  #// make dilation image\n",
    "\n",
    "        # 바이너리 이미지를 마스크로 사용하여 원본이미지에서 범위값에 해당하는 영상부분을 획득\n",
    "        img_result_color = cv2.bitwise_and(img_color, img_color, mask = img_mask_color) \n",
    "\n",
    "        exec(f\"img_result_{color} = img_result_color\")\n",
    "        \n",
    "    _, src_bin = cv2.threshold(img_mask_color, 0, 255, cv2.THRESH_OTSU)\n",
    "    each_color_filtered = cv2.bitwise_and(img_color, img_color, mask = src_bin)\n",
    "    \n",
    "    if color == 'red':\n",
    "        cv2.imshow('src_bin', src_bin)\n",
    "        cv2.imshow(f'{color}_filtered', each_color_filtered)\n",
    "        cv2.waitKey(0)\n",
    "        cv2.destroyAllWindows()\n",
    "\n",
    "    cnt, labels, stats, centroids = cv2.connectedComponentsWithStats(src_bin)\n",
    "\n",
    "    blocks_color = []\n",
    "    blocks_mask = []\n",
    "\n",
    "    for i in range(1, cnt): # 각각의 객체 정보에 들어가기 위해 반복문. 범위를 1부터 시작한 이유는 배경을 제외\n",
    "        (x, y, w, h, area) = stats[i]\n",
    "        cen_x, cen_y = map(int, centroids[i])\n",
    "        block_mask = (labels==i)*img_mask_color\n",
    "        block_color = cv2.bitwise_and(img_color, img_color, mask = block_mask)\n",
    "        \n",
    "        # 노이즈 제거\n",
    "        if area < 250:\n",
    "            continue\n",
    "        \n",
    "        if color == 'red' and i==1:\n",
    "            cv2.imshow('blk clr', block_color)\n",
    "            # cv2.imwrite('./test_imgs/red_block1_rgb.png', block_color)\n",
    "            cv2.imshow('blk msk', block_mask)\n",
    "            # cv2.imwrite('./test_imgs/red_block1_mask.png', block_mask)\n",
    "            cv2.waitKey(0)\n",
    "            cv2.destroyAllWindows()\n",
    "        \n",
    "        blocks_color.append(block_color)\n",
    "        blocks_mask.append(block_mask)\n",
    "        \n",
    "        \n",
    "    exec(f\"blocks_rgb_{color} = blocks_color\")\n",
    "    exec(f\"blocks_mask_{color} = blocks_mask\")\n",
    "    exec(f\"blocks_rgb_by_color.append(blocks_rgb_{color})\")\n",
    "    exec(f\"blocks_mask_by_color.append(blocks_mask_{color})\")\n",
    "    "
   ]
  },
  {
   "cell_type": "code",
   "execution_count": 7,
   "metadata": {},
   "outputs": [],
   "source": [
    "tower_mask = 0\n",
    "tower_color = 0\n",
    "for mask, color in zip(blocks_mask_by_color, blocks_rgb_by_color):\n",
    "    for block_m in mask:\n",
    "        tower_mask += block_m\n",
    "    \n",
    "    for block_c in color:\n",
    "        tower_color += block_c"
   ]
  },
  {
   "cell_type": "code",
   "execution_count": 8,
   "metadata": {},
   "outputs": [],
   "source": [
    "cv2.imshow('tower mask', tower_mask)\n",
    "# cv2.imwrite('./test_imgs/tower_mask.png', tower_mask)\n",
    "cv2.imshow('tower color', tower_color)\n",
    "# cv2.imwrite('./test_imgs/tower_color.png', tower_color)\n",
    "cv2.waitKey(0)\n",
    "cv2.destroyAllWindows()"
   ]
  },
  {
   "cell_type": "code",
   "execution_count": 9,
   "metadata": {},
   "outputs": [
    {
     "data": {
      "text/plain": [
       "6"
      ]
     },
     "execution_count": 9,
     "metadata": {},
     "output_type": "execute_result"
    }
   ],
   "source": [
    "len(blocks_rgb_blue)"
   ]
  },
  {
   "cell_type": "code",
   "execution_count": 10,
   "metadata": {},
   "outputs": [
    {
     "name": "stdout",
     "output_type": "stream",
     "text": [
      "green\n",
      "6\n",
      "pink\n",
      "6\n",
      "yellow\n",
      "6\n",
      "blue\n",
      "6\n",
      "violet\n",
      "6\n",
      "red\n",
      "6\n"
     ]
    }
   ],
   "source": [
    "for c, b, rgb_m in zip(colors, blocks_mask_by_color, blocks_rgb_by_color):\n",
    "    print(c)\n",
    "    print(len(b))"
   ]
  },
  {
   "cell_type": "code",
   "execution_count": 11,
   "metadata": {},
   "outputs": [],
   "source": [
    "# temp intrinsic matrix\n",
    "intrinsic = o3d.camera.PinholeCameraIntrinsic()\n",
    "intrinsic.intrinsic_matrix = [[322.282420, 0, 320.818268],[0, 322.282420, 178.779297],[0, 0, 1]]"
   ]
  },
  {
   "cell_type": "code",
   "execution_count": 12,
   "metadata": {},
   "outputs": [],
   "source": [
    "def get_pointcloud_from_color_depth(color_image, depth_image, intrinsic):\n",
    "    o3d_img = o3d.geometry.Image()\n",
    "    \n",
    "    if isinstance(color_image, type(o3d_img)):\n",
    "        pass\n",
    "    elif isinstance(color_image, np.ndarray):\n",
    "        color_image = cv2.cvtColor(color_image, cv2.COLOR_BGR2RGB)\n",
    "        color_image = o3d.geometry.Image(color_image)\n",
    "        \n",
    "    if isinstance(depth_image, type(o3d_img)):\n",
    "        pass\n",
    "    elif isinstance(depth_image, np.ndarray):\n",
    "        depth_image = o3d.geometry.Image(depth_image)\n",
    "        \n",
    "    rgbd_image = o3d.geometry.RGBDImage.create_from_color_and_depth(color_image, depth_image)\n",
    "    pcd = o3d.geometry.PointCloud.create_from_rgbd_image(rgbd_image, intrinsic)\n",
    "    \n",
    "    return pcd"
   ]
  },
  {
   "cell_type": "code",
   "execution_count": 13,
   "metadata": {},
   "outputs": [],
   "source": [
    "masked_depth = cv2.bitwise_and(img_depth, img_depth, mask = tower_mask)"
   ]
  },
  {
   "cell_type": "code",
   "execution_count": 14,
   "metadata": {},
   "outputs": [],
   "source": [
    "tower_pcd = get_pointcloud_from_color_depth(color_image=tower_color, depth_image=masked_depth, intrinsic=intrinsic)"
   ]
  },
  {
   "cell_type": "code",
   "execution_count": 15,
   "metadata": {},
   "outputs": [
    {
     "name": "stdout",
     "output_type": "stream",
     "text": [
      "PointCloud with 34089 points.\n",
      "[[-2.34823723e-05 -1.22886669e-04  4.78431379e-04]\n",
      " [-2.19978626e-05 -1.22886669e-04  4.78431379e-04]\n",
      " [-2.05133529e-05 -1.22886669e-04  4.78431379e-04]\n",
      " ...\n",
      " [ 7.59722067e-06  2.33777307e-04  3.96078423e-04]\n",
      " [ 8.82619998e-06  2.33777307e-04  3.96078423e-04]\n",
      " [ 1.00551793e-05  2.33777307e-04  3.96078423e-04]]\n"
     ]
    }
   ],
   "source": [
    "print(tower_pcd)\n",
    "print(np.asarray(tower_pcd.points))\n",
    "o3d.visualization.draw_geometries([tower_pcd])"
   ]
  },
  {
   "cell_type": "code",
   "execution_count": 16,
   "metadata": {},
   "outputs": [
    {
     "name": "stdout",
     "output_type": "stream",
     "text": [
      "green\n",
      "pink\n",
      "yellow\n",
      "blue\n",
      "violet\n",
      "red\n"
     ]
    }
   ],
   "source": [
    "blocks_pcd_by_color = []\n",
    "all_pcd = []\n",
    "for color, block_mask in zip(colors, blocks_mask_by_color):\n",
    "    print(color)\n",
    "    blocks_pcd = []\n",
    "    for msk in block_mask:\n",
    "        masked_block_rgb = cv2.bitwise_and(tower_color, tower_color, mask = msk)\n",
    "        masked_block_depth = cv2.bitwise_and(img_depth, img_depth, mask = msk)\n",
    "        \n",
    "        # Get Each Block's PointCloud\n",
    "        pcd = get_pointcloud_from_color_depth(color_image=masked_block_rgb, depth_image=masked_block_depth, intrinsic=intrinsic)\n",
    "        \n",
    "        # Remove Outlier Points\n",
    "        pcd, _ = pcd.remove_radius_outlier(64, 0.00001)\n",
    "        blocks_pcd.append(pcd)\n",
    "        all_pcd.append(pcd)\n",
    "        \n",
    "        # o3d.visualization.draw_geometries([pcd])\n",
    "    \n",
    "    exec(f\"blocks_pcd_{color} = blocks_pcd\")\n",
    "    exec(f\"blocks_pcd_by_color.append(blocks_pcd_{color})\")"
   ]
  },
  {
   "cell_type": "code",
   "execution_count": 17,
   "metadata": {},
   "outputs": [],
   "source": [
    "o3d.visualization.draw_geometries(all_pcd)"
   ]
  },
  {
   "cell_type": "code",
   "execution_count": 18,
   "metadata": {},
   "outputs": [
    {
     "name": "stdout",
     "output_type": "stream",
     "text": [
      "TriangleMesh with 36 points and 12 triangles.\n"
     ]
    }
   ],
   "source": [
    "mesh = o3d.io.read_triangle_mesh(\"mesh/jenga_tower.stl\")\n",
    "print(mesh)"
   ]
  },
  {
   "cell_type": "code",
   "execution_count": 19,
   "metadata": {},
   "outputs": [],
   "source": [
    "mesh.compute_vertex_normals()\n",
    "o3d.visualization.draw_geometries([mesh])"
   ]
  },
  {
   "cell_type": "code",
   "execution_count": 20,
   "metadata": {},
   "outputs": [],
   "source": [
    "pcd_target = mesh.sample_points_uniformly(number_of_points=10000)\n",
    "o3d.visualization.draw_geometries([pcd_target])"
   ]
  },
  {
   "cell_type": "code",
   "execution_count": 21,
   "metadata": {},
   "outputs": [],
   "source": [
    "import copy\n",
    "\n",
    "def draw_registration_result(source, target, transformation):\n",
    "    source_temp = copy.deepcopy(source)\n",
    "    target_temp = copy.deepcopy(target)\n",
    "    source_temp.paint_uniform_color([1, 0.706, 0])\n",
    "    target_temp.paint_uniform_color([0, 0.651, 0.929])\n",
    "    source_temp.transform(transformation)\n",
    "    o3d.visualization.draw_geometries([source_temp, target_temp])"
   ]
  },
  {
   "cell_type": "code",
   "execution_count": 22,
   "metadata": {},
   "outputs": [],
   "source": [
    "pcd_combined = o3d.geometry.PointCloud()\n",
    "for point_id in range(len(all_pcd)):\n",
    "    pcd_combined += all_pcd[point_id]\n",
    "o3d.visualization.draw_geometries([pcd_combined])"
   ]
  },
  {
   "cell_type": "code",
   "execution_count": 23,
   "metadata": {},
   "outputs": [],
   "source": [
    "# source = pcd_combined\n",
    "# target = pcd_target\n",
    "# threshold = 0.02\n",
    "# trans_init = np.asarray([[0.862, 0.011, -0.507, 0.5],\n",
    "#                          [-0.139, 0.967, -0.215, 0.7],\n",
    "#                          [0.487, 0.255, 0.835, -1.4], [0.0, 0.0, 0.0, 1.0]])\n",
    "# draw_registration_result(source, target, trans_init)"
   ]
  },
  {
   "cell_type": "code",
   "execution_count": 24,
   "metadata": {},
   "outputs": [],
   "source": [
    "# print(\"Initial alignment\")\n",
    "# evaluation = o3d.pipelines.registration.evaluate_registration(\n",
    "#     source, target, threshold, trans_init)\n",
    "# print(evaluation)"
   ]
  },
  {
   "cell_type": "code",
   "execution_count": 25,
   "metadata": {},
   "outputs": [],
   "source": [
    "# print(\"Apply point-to-point ICP\")\n",
    "# reg_p2p = o3d.pipelines.registration.registration_icp(\n",
    "#     source, target, threshold, trans_init,\n",
    "#     o3d.pipelines.registration.TransformationEstimationPointToPoint())\n",
    "# print(reg_p2p)\n",
    "# print(\"Transformation is:\")\n",
    "# print(reg_p2p.transformation)\n",
    "# draw_registration_result(source, target, reg_p2p.transformation)"
   ]
  },
  {
   "cell_type": "code",
   "execution_count": 26,
   "metadata": {},
   "outputs": [],
   "source": [
    "# reg_p2p = o3d.pipelines.registration.registration_icp(\n",
    "#     source, target, threshold, trans_init,\n",
    "#     o3d.pipelines.registration.TransformationEstimationPointToPoint(),\n",
    "#     o3d.pipelines.registration.ICPConvergenceCriteria(max_iteration=2000000))\n",
    "# print(reg_p2p)\n",
    "# print(\"Transformation is:\")\n",
    "# print(reg_p2p.transformation)\n",
    "# draw_registration_result(source, target, reg_p2p.transformation)"
   ]
  },
  {
   "cell_type": "code",
   "execution_count": null,
   "metadata": {},
   "outputs": [],
   "source": []
  }
 ],
 "metadata": {
  "kernelspec": {
   "display_name": "urp",
   "language": "python",
   "name": "python3"
  },
  "language_info": {
   "codemirror_mode": {
    "name": "ipython",
    "version": 3
   },
   "file_extension": ".py",
   "mimetype": "text/x-python",
   "name": "python",
   "nbconvert_exporter": "python",
   "pygments_lexer": "ipython3",
   "version": "3.8.10"
  },
  "orig_nbformat": 4
 },
 "nbformat": 4,
 "nbformat_minor": 2
}
