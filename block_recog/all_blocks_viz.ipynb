{
 "cells": [
  {
   "attachments": {},
   "cell_type": "markdown",
   "metadata": {},
   "source": [
    "# Blcok Recognition"
   ]
  },
  {
   "attachments": {},
   "cell_type": "markdown",
   "metadata": {},
   "source": [
    "## Import Libraries"
   ]
  },
  {
   "cell_type": "code",
   "execution_count": 51,
   "metadata": {},
   "outputs": [],
   "source": [
    "import numpy as np\n",
    "import cv2\n",
    "import glob\n",
    "from matplotlib import pyplot as plt\n",
    "import open3d as o3d\n",
    "import copy"
   ]
  },
  {
   "attachments": {},
   "cell_type": "markdown",
   "metadata": {},
   "source": [
    "## Read Test Images"
   ]
  },
  {
   "cell_type": "code",
   "execution_count": 52,
   "metadata": {},
   "outputs": [
    {
     "name": "stdout",
     "output_type": "stream",
     "text": [
      "color shape:  (1536, 2048, 3)\n",
      "depth shape:  (1536, 2048)\n"
     ]
    }
   ],
   "source": [
    "img_color = cv2.imread('test_imgs/jenga_tower_color.png')\n",
    "img_depth = cv2.imread('test_imgs/jenga_tower_depth.png', 0)\n",
    "print('color shape: ', img_color.shape)\n",
    "print('depth shape: ', img_depth.shape)"
   ]
  },
  {
   "attachments": {},
   "cell_type": "markdown",
   "metadata": {},
   "source": [
    "## Extract Blocks' Masks By Colors"
   ]
  },
  {
   "cell_type": "code",
   "execution_count": 53,
   "metadata": {},
   "outputs": [],
   "source": [
    "height, width = img_color.shape[:2] # 이미지의 높이와 너비 불러옴, 가로 [0], 세로[1]\n",
    "\n",
    "img_hsv = cv2.cvtColor(img_color, cv2.COLOR_BGR2HSV) # cvtColor 함수를 이용하여 hsv 색공간으로 변환"
   ]
  },
  {
   "cell_type": "code",
   "execution_count": 54,
   "metadata": {},
   "outputs": [],
   "source": [
    "colors = ['green', 'pink', 'yellow', 'blue', 'violet', 'red']"
   ]
  },
  {
   "cell_type": "code",
   "execution_count": 55,
   "metadata": {},
   "outputs": [],
   "source": [
    "# RED\n",
    "lower_red1 = np.array([0, 130, 50])\n",
    "upper_red1 = np.array([15, 255, 255])\n",
    "lower_red2 = np.array([160,130,50])\n",
    "upper_red2 = np.array([179,255,255])\n",
    "\n",
    "# PINK\n",
    "lower_pink1 = np.array([0, 70, 80])\n",
    "upper_pink1 = np.array([10, 130, 255])\n",
    "lower_pink2 = np.array([150,70,80])\n",
    "upper_pink2 = np.array([179,130,255])\n",
    "\n",
    "# GREEN\n",
    "lower_green = (70-20, 50, 50)\n",
    "upper_green = (70+15, 255, 255)\n",
    "\n",
    "# YELLOW\n",
    "lower_yellow = (30-10, 80, 80)\n",
    "upper_yellow = (30+10, 255, 255)\n",
    "\n",
    "# BLUE\n",
    "lower_blue = (100-10, 100, 100)\n",
    "upper_blue = (100+9, 255, 255)\n",
    "\n",
    "# VIOLET\n",
    "lower_violet = (130-20, 50, 30)\n",
    "upper_violet = (130+20, 255, 255)"
   ]
  },
  {
   "cell_type": "code",
   "execution_count": 56,
   "metadata": {},
   "outputs": [],
   "source": [
    "blocks_rgb_by_color = []\n",
    "blocks_mask_by_color = []\n",
    "for color in colors:\n",
    "    if color == 'pink' or color =='red':\n",
    "        for i in (1,2):\n",
    "            exec(f\"lower_color{i} = lower_{color}{i}\")\n",
    "            exec(f\"upper_color{i} = upper_{color}{i}\")\n",
    "\n",
    "        mask_color1 = cv2.inRange(img_hsv, lower_color1, upper_color1)\n",
    "        mask_color2 = cv2.inRange(img_hsv, lower_color2, upper_color2)\n",
    "        img_mask_color = mask_color1 + mask_color2\n",
    "        \n",
    "        # Denoise by Erosion and Dilation\n",
    "        kernel = cv2.getStructuringElement(cv2.MORPH_RECT, (3,3))\n",
    "        erosion_image_color = cv2.erode(img_mask_color, kernel, iterations=2)  #// make erosion image\n",
    "        img_mask_color = cv2.dilate(erosion_image_color, kernel, iterations=2)  #// make dilation image\n",
    "\n",
    "        # 바이너리 이미지를 마스크로 사용하여 원본이미지에서 범위값에 해당하는 영상부분을 획득\n",
    "        img_result_color = cv2.bitwise_and(img_color, img_color, mask = img_mask_color) \n",
    "        \n",
    "        exec(f\"img_result_{color} = img_result_color\")\n",
    "    \n",
    "    else:\n",
    "        exec(f\"lower_color = lower_{color}\")\n",
    "        exec(f\"upper_color = upper_{color}\")\n",
    "\n",
    "        img_mask_color = cv2.inRange(img_hsv, lower_color, upper_color) # 범위내의 픽셀들은 흰색, 나머지 검은색\n",
    "\n",
    "        kernel = cv2.getStructuringElement(cv2.MORPH_RECT, (3,3))\n",
    "        erosion_image_color = cv2.erode(img_mask_color, kernel, iterations=2)  #// make erosion image\n",
    "        img_mask_color = cv2.dilate(erosion_image_color, kernel, iterations=2)  #// make dilation image\n",
    "\n",
    "        # 바이너리 이미지를 마스크로 사용하여 원본이미지에서 범위값에 해당하는 영상부분을 획득\n",
    "        img_result_color = cv2.bitwise_and(img_color, img_color, mask = img_mask_color) \n",
    "\n",
    "        exec(f\"img_result_{color} = img_result_color\")\n",
    "        \n",
    "    _, src_bin = cv2.threshold(img_mask_color, 0, 255, cv2.THRESH_OTSU)\n",
    "    each_color_filtered = cv2.bitwise_and(img_color, img_color, mask = src_bin)\n",
    "    \n",
    "    if color == 'blue':\n",
    "        cv2.imshow('src_bin', src_bin)\n",
    "        # cv2.imwrite('./test_imgs/blue_mask.png', src_bin)\n",
    "        cv2.imshow(f'{color}_filtered', each_color_filtered)\n",
    "        # cv2.imwrite('./test_imgs/blue_extract.png', each_color_filtered)\n",
    "        cv2.waitKey(0)\n",
    "        cv2.destroyAllWindows()\n",
    "\n",
    "    cnt, labels, stats, centroids = cv2.connectedComponentsWithStats(src_bin)\n",
    "\n",
    "    blocks_color = []\n",
    "    blocks_mask = []\n",
    "\n",
    "    for i in range(1, cnt): # 각각의 객체 정보에 들어가기 위해 반복문. 범위를 1부터 시작한 이유는 배경을 제외\n",
    "        (x, y, w, h, area) = stats[i]\n",
    "        cen_x, cen_y = map(int, centroids[i])\n",
    "        block_mask = (labels==i)*img_mask_color\n",
    "        block_color = cv2.bitwise_and(img_color, img_color, mask = block_mask)\n",
    "        \n",
    "        # 노이즈 제거\n",
    "        if area < 600:\n",
    "            continue\n",
    "        \n",
    "        if color == 'blue' and i==2:\n",
    "            cv2.imshow('blk clr', block_color)\n",
    "            # cv2.imwrite('./test_imgs/blue_block1_color.png', block_color)\n",
    "            cv2.imshow('blk msk', block_mask)\n",
    "            # cv2.imwrite('./test_imgs/blue_block1_mask.png', block_mask)\n",
    "            cv2.waitKey(0)\n",
    "            cv2.destroyAllWindows()\n",
    "            \n",
    "        \n",
    "        blocks_color.append(block_color)\n",
    "        blocks_mask.append(block_mask)\n",
    "        \n",
    "        \n",
    "    exec(f\"blocks_rgb_{color} = blocks_color\")\n",
    "    exec(f\"blocks_mask_{color} = blocks_mask\")\n",
    "    exec(f\"blocks_rgb_by_color.append(blocks_rgb_{color})\")\n",
    "    exec(f\"blocks_mask_by_color.append(blocks_mask_{color})\")\n",
    "    "
   ]
  },
  {
   "cell_type": "code",
   "execution_count": 57,
   "metadata": {},
   "outputs": [],
   "source": [
    "tower_mask = 0\n",
    "tower_color = 0\n",
    "for mask, color in zip(blocks_mask_by_color, blocks_rgb_by_color):\n",
    "    for block_m in mask:\n",
    "        tower_mask += block_m\n",
    "    \n",
    "    for block_c in color:\n",
    "        tower_color += block_c"
   ]
  },
  {
   "cell_type": "code",
   "execution_count": 58,
   "metadata": {},
   "outputs": [],
   "source": [
    "cv2.imshow('tower mask', tower_mask)\n",
    "# cv2.imwrite('./test_imgs/tower_mask.png', tower_mask)\n",
    "cv2.imshow('tower color', tower_color)\n",
    "# cv2.imwrite('./test_imgs/tower_color.png', tower_color)\n",
    "cv2.waitKey(0)\n",
    "cv2.destroyAllWindows()"
   ]
  },
  {
   "cell_type": "code",
   "execution_count": 59,
   "metadata": {},
   "outputs": [
    {
     "name": "stdout",
     "output_type": "stream",
     "text": [
      "green\n",
      "6 Blocks\n",
      "pink\n",
      "6 Blocks\n",
      "yellow\n",
      "6 Blocks\n",
      "blue\n",
      "6 Blocks\n",
      "violet\n",
      "6 Blocks\n",
      "red\n",
      "6 Blocks\n"
     ]
    }
   ],
   "source": [
    "for c, b, rgb_m in zip(colors, blocks_mask_by_color, blocks_rgb_by_color):\n",
    "    print(c)\n",
    "    print(len(b), \"Blocks\")"
   ]
  },
  {
   "attachments": {},
   "cell_type": "markdown",
   "metadata": {},
   "source": [
    "## Get PointCloud from RGB Image + Depth Image"
   ]
  },
  {
   "cell_type": "code",
   "execution_count": 60,
   "metadata": {},
   "outputs": [],
   "source": [
    "# temp intrinsic matrix\n",
    "intrinsic = o3d.camera.PinholeCameraIntrinsic()\n",
    "intrinsic.intrinsic_matrix = [[971.179, 0, 1025.07],[0, 970.984, 778.291],[0, 0, 1]]\n",
    "intrinsic.intrinsic_matrix = [[971.179, 0, 1025.07],[0, 970.984, 778.291],[0, 0, 1]]"
   ]
  },
  {
   "cell_type": "code",
   "execution_count": 61,
   "metadata": {},
   "outputs": [],
   "source": [
    "mesh_frame = o3d.geometry.TriangleMesh.create_coordinate_frame(\n",
    "    size=50, origin=[0, 0, 0])"
   ]
  },
  {
   "cell_type": "code",
   "execution_count": 62,
   "metadata": {},
   "outputs": [],
   "source": [
    "def get_pointcloud_from_color_depth(color_image, depth_image, intrinsic):\n",
    "    o3d_img = o3d.geometry.Image()\n",
    "    \n",
    "    if isinstance(color_image, type(o3d_img)):\n",
    "        pass\n",
    "    elif isinstance(color_image, np.ndarray):\n",
    "        color_image = cv2.cvtColor(color_image, cv2.COLOR_BGR2RGB)\n",
    "        color_image = o3d.geometry.Image(color_image)\n",
    "        \n",
    "    if isinstance(depth_image, type(o3d_img)):\n",
    "        pass\n",
    "    elif isinstance(depth_image, np.ndarray):\n",
    "        depth_image = o3d.geometry.Image(depth_image)\n",
    "        \n",
    "    rgbd_image = o3d.geometry.RGBDImage.create_from_color_and_depth(color_image, depth_image)\n",
    "    pcd = o3d.geometry.PointCloud.create_from_rgbd_image(rgbd_image, intrinsic)\n",
    "    \n",
    "    return pcd"
   ]
  },
  {
   "cell_type": "code",
   "execution_count": 63,
   "metadata": {},
   "outputs": [],
   "source": [
    "masked_depth = cv2.bitwise_and(img_depth, img_depth, mask = tower_mask)"
   ]
  },
  {
   "cell_type": "code",
   "execution_count": 64,
   "metadata": {},
   "outputs": [],
   "source": [
    "tower_pcd = get_pointcloud_from_color_depth(color_image=tower_color, depth_image=masked_depth, intrinsic=intrinsic)"
   ]
  },
  {
   "cell_type": "code",
   "execution_count": 65,
   "metadata": {},
   "outputs": [
    {
     "name": "stdout",
     "output_type": "stream",
     "text": [
      "PointCloud with 105303 points.\n",
      "[[ 3.60051560e-05 -1.69810720e-04  7.45098048e-04]\n",
      " [ 3.67723658e-05 -1.69810720e-04  7.45098048e-04]\n",
      " [ 3.75395756e-05 -1.69810720e-04  7.45098048e-04]\n",
      " ...\n",
      " [ 3.50973437e-05  1.22609574e-04  4.54901950e-04]\n",
      " [ 3.55657454e-05  1.22609574e-04  4.54901950e-04]\n",
      " [ 3.60341472e-05  1.22609574e-04  4.54901950e-04]]\n"
     ]
    }
   ],
   "source": [
    "print(tower_pcd)\n",
    "print(np.asarray(tower_pcd.points))\n",
    "o3d.visualization.draw_geometries([tower_pcd])"
   ]
  },
  {
   "cell_type": "code",
   "execution_count": 66,
   "metadata": {},
   "outputs": [],
   "source": [
    "blocks_pcd_by_color = []\n",
    "all_pcd = []\n",
    "for color, block_mask in zip(colors, blocks_mask_by_color):\n",
    "    # print(color)\n",
    "    blocks_pcd = []\n",
    "    for msk in block_mask:\n",
    "        masked_block_rgb = cv2.bitwise_and(tower_color, tower_color, mask = msk)\n",
    "        masked_block_depth = cv2.bitwise_and(img_depth, img_depth, mask = msk)\n",
    "        \n",
    "        # Get Each Block's PointCloud\n",
    "        pcd = get_pointcloud_from_color_depth(color_image=masked_block_rgb, depth_image=masked_block_depth, intrinsic=intrinsic)\n",
    "        \n",
    "        # Remove Outlier Points\n",
    "        pcd, _ = pcd.remove_radius_outlier(512, 0.0001)\n",
    "        blocks_pcd.append(pcd)\n",
    "        all_pcd.append(pcd)\n",
    "        \n",
    "        # if color=='blue':\n",
    "        #     o3d.visualization.draw_geometries([pcd])\n",
    "    \n",
    "    exec(f\"blocks_pcd_{color} = blocks_pcd\")\n",
    "    exec(f\"blocks_pcd_by_color.append(blocks_pcd_{color})\")"
   ]
  },
  {
   "cell_type": "code",
   "execution_count": 67,
   "metadata": {},
   "outputs": [
    {
     "data": {
      "text/plain": [
       "6"
      ]
     },
     "execution_count": 67,
     "metadata": {},
     "output_type": "execute_result"
    }
   ],
   "source": [
    "len(blocks_pcd_by_color)"
   ]
  },
  {
   "attachments": {},
   "cell_type": "markdown",
   "metadata": {},
   "source": [
    "## Tower ICP"
   ]
  },
  {
   "cell_type": "code",
   "execution_count": 68,
   "metadata": {},
   "outputs": [
    {
     "name": "stdout",
     "output_type": "stream",
     "text": [
      "PointCloud with 103361 points.\n"
     ]
    }
   ],
   "source": [
    "pcd_combined = o3d.geometry.PointCloud()\n",
    "for point_id in range(len(all_pcd)):\n",
    "    pcd_combined += all_pcd[point_id]\n",
    "\n",
    "print(pcd_combined)\n",
    "# print(len(pcd_combined.points))\n",
    "\n",
    "o3d.visualization.draw_geometries([pcd_combined])"
   ]
  },
  {
   "cell_type": "code",
   "execution_count": 69,
   "metadata": {},
   "outputs": [
    {
     "name": "stdout",
     "output_type": "stream",
     "text": [
      "TriangleMesh with 12 points and 4 triangles.\n",
      "PointCloud with 103361 points.\n"
     ]
    }
   ],
   "source": [
    "mesh_tower = o3d.io.read_triangle_mesh(\"mesh/jenga_tower_side_xy.stl\")\n",
    "print(mesh_tower)\n",
    "\n",
    "mesh_tower.compute_vertex_normals()\n",
    "# o3d.visualization.draw_geometries([mesh])\n",
    "\n",
    "pcd_target = mesh_tower.sample_points_uniformly(number_of_points=len(pcd_combined.points))\n",
    "print(pcd_target)\n",
    "o3d.visualization.draw_geometries([pcd_target])"
   ]
  },
  {
   "cell_type": "code",
   "execution_count": 70,
   "metadata": {},
   "outputs": [],
   "source": [
    "initial_transform = np.asarray([[0, 0, -1, 0],\n",
    "                                [1, 0, 0, 0],\n",
    "                                [0, -1, 0, 0],\n",
    "                                [0, 0, 0, 1]])"
   ]
  },
  {
   "cell_type": "code",
   "execution_count": 71,
   "metadata": {},
   "outputs": [],
   "source": [
    "def prepare_icp(source, target):\n",
    "    source_tmp = copy.deepcopy(source)\n",
    "    target_tmp = copy.deepcopy(target)\n",
    "    \n",
    "    # make the point cloud into right position\n",
    "    source_tmp.transform(initial_transform)\n",
    "    \n",
    "    # resize the target pointcloud to make two pointclouds into same scale\n",
    "    resize = (np.array(target_tmp.points)[:,2].max() - np.array(target_tmp.points)[:,2].min()) / (np.array(source_tmp.points)[:,2].max() - np.array(source_tmp.points)[:,2].min())\n",
    "    \n",
    "    # move the source pcd to do icp\n",
    "    move = np.array(target_tmp.get_center() - source_tmp.get_center()*resize)\n",
    "    \n",
    "    # a = o3d.cpu.pybind.utility.Vector3dVector(np.array(target_tmp.points))\n",
    "    b = o3d.cpu.pybind.utility.Vector3dVector(np.array(source_tmp.points)*resize + move)\n",
    "    \n",
    "    # target_tmp.points = a\n",
    "    source_tmp.points = b\n",
    "    \n",
    "    o3d.visualization.draw_geometries([source_tmp, target_tmp, mesh_frame])\n",
    "    \n",
    "    return source_tmp, target_tmp, resize, move"
   ]
  },
  {
   "cell_type": "code",
   "execution_count": 72,
   "metadata": {},
   "outputs": [],
   "source": [
    "source, target, resize, move = prepare_icp(pcd_combined, pcd_target)"
   ]
  },
  {
   "cell_type": "code",
   "execution_count": 73,
   "metadata": {},
   "outputs": [],
   "source": [
    "def draw_registration_result(source, target, transformation):\n",
    "    source_temp = copy.deepcopy(source)\n",
    "    target_temp = copy.deepcopy(target)\n",
    "    source_temp.paint_uniform_color([1, 0.706, 0])\n",
    "    target_temp.paint_uniform_color([0, 0.651, 0.929])\n",
    "    source_temp.transform(transformation)\n",
    "    o3d.visualization.draw_geometries([source_temp, target_temp])"
   ]
  },
  {
   "cell_type": "code",
   "execution_count": 74,
   "metadata": {},
   "outputs": [],
   "source": [
    "threshold = 10\n",
    "trans_init = np.asarray([[1, 0, 0, 0],\n",
    "                         [0, 1, 0, 0],\n",
    "                         [0, 0, 1, 0],\n",
    "                         [0, 0, 0, 1]])\n",
    "draw_registration_result(source, target, trans_init)"
   ]
  },
  {
   "cell_type": "code",
   "execution_count": 75,
   "metadata": {},
   "outputs": [
    {
     "name": "stdout",
     "output_type": "stream",
     "text": [
      "Initial alignment\n",
      "RegistrationResult with fitness=5.185902e-01, inlier_rmse=5.201114e+00, and correspondence_set size of 53602\n",
      "Access transformation to get result.\n"
     ]
    }
   ],
   "source": [
    "print(\"Initial alignment\")\n",
    "evaluation = o3d.pipelines.registration.evaluate_registration(\n",
    "    source, target, threshold, trans_init)\n",
    "print(evaluation)"
   ]
  },
  {
   "cell_type": "code",
   "execution_count": 76,
   "metadata": {},
   "outputs": [
    {
     "name": "stdout",
     "output_type": "stream",
     "text": [
      "RegistrationResult with fitness=9.988487e-01, inlier_rmse=1.293597e+00, and correspondence_set size of 103242\n",
      "Access transformation to get result.\n",
      "Transformation is:\n",
      "[[ 5.14612194e-01 -8.57119033e-01 -2.28309609e-02  2.44370737e+01]\n",
      " [ 8.57414868e-01  5.14308481e-01  1.80701516e-02 -2.11005042e+00]\n",
      " [-3.74611407e-03 -2.88747257e-02  9.99576019e-01  7.40333914e-01]\n",
      " [ 0.00000000e+00  0.00000000e+00  0.00000000e+00  1.00000000e+00]]\n"
     ]
    }
   ],
   "source": [
    "reg_p2p = o3d.pipelines.registration.registration_icp(\n",
    "    source, target, threshold, trans_init,\n",
    "    o3d.pipelines.registration.TransformationEstimationPointToPoint(),\n",
    "    o3d.pipelines.registration.ICPConvergenceCriteria(max_iteration=20000))\n",
    "print(reg_p2p)\n",
    "print(\"Transformation is:\")\n",
    "print(reg_p2p.transformation)\n",
    "draw_registration_result(source, target, reg_p2p.transformation)"
   ]
  },
  {
   "cell_type": "code",
   "execution_count": 77,
   "metadata": {},
   "outputs": [],
   "source": [
    "draw_registration_result(source, target, reg_p2p.transformation)"
   ]
  },
  {
   "cell_type": "code",
   "execution_count": 78,
   "metadata": {},
   "outputs": [
    {
     "data": {
      "text/plain": [
       "PointCloud with 103361 points."
      ]
     },
     "execution_count": 78,
     "metadata": {},
     "output_type": "execute_result"
    }
   ],
   "source": [
    "source_temp = copy.deepcopy(source)\n",
    "\n",
    "source_temp.transform(reg_p2p.transformation)\n"
   ]
  },
  {
   "cell_type": "code",
   "execution_count": 79,
   "metadata": {},
   "outputs": [
    {
     "data": {
      "text/plain": [
       "2.9380191419653854"
      ]
     },
     "execution_count": 79,
     "metadata": {},
     "output_type": "execute_result"
    }
   ],
   "source": [
    "(np.array(source_temp.points))[:,2].min()"
   ]
  },
  {
   "attachments": {},
   "cell_type": "markdown",
   "metadata": {},
   "source": [
    "## Blocks Transformation"
   ]
  },
  {
   "cell_type": "code",
   "execution_count": 80,
   "metadata": {},
   "outputs": [],
   "source": [
    "trans = reg_p2p.transformation"
   ]
  },
  {
   "cell_type": "code",
   "execution_count": 81,
   "metadata": {},
   "outputs": [
    {
     "data": {
      "text/plain": [
       "array([[ 5.14612194e-01, -8.57119033e-01, -2.28309609e-02,\n",
       "         2.44370737e+01],\n",
       "       [ 8.57414868e-01,  5.14308481e-01,  1.80701516e-02,\n",
       "        -2.11005042e+00],\n",
       "       [-3.74611407e-03, -2.88747257e-02,  9.99576019e-01,\n",
       "         7.40333914e-01],\n",
       "       [ 0.00000000e+00,  0.00000000e+00,  0.00000000e+00,\n",
       "         1.00000000e+00]])"
      ]
     },
     "execution_count": 81,
     "metadata": {},
     "output_type": "execute_result"
    }
   ],
   "source": [
    "trans"
   ]
  },
  {
   "cell_type": "code",
   "execution_count": 82,
   "metadata": {},
   "outputs": [],
   "source": [
    "def transform_blocks(pcd, icp_transform):\n",
    "    pcd_temp = copy.deepcopy(pcd)\n",
    "    pcd_temp.transform(initial_transform)\n",
    "    aa = o3d.cpu.pybind.utility.Vector3dVector(np.array(pcd_temp.points)*resize + move)\n",
    "    pcd_temp.points = aa\n",
    "    pcd_temp.transform(icp_transform)\n",
    "    \n",
    "    return pcd_temp"
   ]
  },
  {
   "cell_type": "code",
   "execution_count": 83,
   "metadata": {},
   "outputs": [],
   "source": [
    "# WHAT IS THE TARGET BLOCK?\n",
    "target_block_color = 'pink'\n",
    "target_block_label = 2"
   ]
  },
  {
   "cell_type": "code",
   "execution_count": 84,
   "metadata": {},
   "outputs": [
    {
     "name": "stdout",
     "output_type": "stream",
     "text": [
      "green\n",
      "2\n",
      "BOX EXTENT :  [25.71457455 88.13272491 14.85558201]\n",
      "BOX CENTER COORDINATE :  [25.87339888 -5.75943624 98.40918638]\n",
      "PULL DIRECTION : X\n",
      "-----BLOCK CENTER COORDINATE-----\n",
      "X : 26.23068615600574\n",
      "Y : 0.8069262112240025\n",
      "Z : 98.40918638451224\n",
      "-----TARGET COORDINATE-----\n",
      "X : 126.23068615600573\n",
      "Y : 0.8069262112240025\n",
      "Z : 98.40918638451224\n",
      "----------------------------------\n",
      "pink\n",
      "2\n",
      "BOX EXTENT :  [25.32049557  4.93166789 13.26132457]\n",
      "BOX CENTER COORDINATE :  [ 1.64987393 36.64381175 97.87519687]\n",
      "PUSH DIRECTION : Y or -Y\n",
      "-----BLOCK CENTER COORDINATE-----\n",
      "X : 1.810121710937377\n",
      "Y : 1.6096456962939527\n",
      "Z : 97.87519687177385\n",
      "-----TARGET COORDINATE-----\n",
      "X : 1.810121710937377\n",
      "Y : 151.60964569629397\n",
      "Z : 97.87519687177385\n",
      "----------------------------------\n",
      "yellow\n",
      "2\n",
      "BOX EXTENT :  [27.70909846  7.08239708 14.00584885]\n",
      "BOX CENTER COORDINATE :  [-25.65357955  35.95233969  98.40278049]\n",
      "PULL DIRECTION : -X\n",
      "-----BLOCK CENTER COORDINATE-----\n",
      "X : -24.299030318699046\n",
      "Y : 1.993538226743759\n",
      "Z : 98.4027804895614\n",
      "-----TARGET COORDINATE-----\n",
      "X : -124.29903031869904\n",
      "Y : 1.993538226743759\n",
      "Z : 98.4027804895614\n",
      "----------------------------------\n",
      "blue\n",
      "2\n",
      "BOX EXTENT :  [83.50186732 26.77187724 14.91398066]\n",
      "BOX CENTER COORDINATE :  [ -1.60348821  27.31553168 112.78116103]\n",
      "PULL DIRECTION : Y\n",
      "-----BLOCK CENTER COORDINATE-----\n",
      "X : 2.6474454508313414\n",
      "Y : 28.201470297704354\n",
      "Z : 112.78116102661981\n",
      "-----TARGET COORDINATE-----\n",
      "X : 2.6474454508313414\n",
      "Y : 128.20147029770436\n",
      "Z : 112.78116102661981\n",
      "----------------------------------\n",
      "violet\n",
      "2\n",
      "BOX EXTENT :  [ 3.67284681 27.27970713 14.77338   ]\n",
      "BOX CENTER COORDINATE :  [ 38.28386548   2.918985   113.22124165]\n",
      "PUSH DIRECTION : X or -X\n",
      "-----BLOCK CENTER COORDINATE-----\n",
      "X : 2.6202888858216866\n",
      "Y : 4.058838567371957\n",
      "Z : 113.22124165392246\n",
      "-----TARGET COORDINATE-----\n",
      "X : 152.62028888582168\n",
      "Y : 4.058838567371957\n",
      "Z : 113.22124165392246\n",
      "----------------------------------\n",
      "red\n",
      "2\n",
      "BOX EXTENT :  [ 9.91200975 36.6541161  14.71336551]\n",
      "BOX CENTER COORDINATE :  [ 34.01726215 -29.01500599 113.3557877 ]\n",
      "PULL DIRECTION : -Y\n",
      "-----BLOCK CENTER COORDINATE-----\n",
      "X : 1.4732670273254485\n",
      "Y : -23.187947939174222\n",
      "Z : 113.35578770243822\n",
      "-----TARGET COORDINATE-----\n",
      "X : 1.4732670273254485\n",
      "Y : -123.18794793917422\n",
      "Z : 113.35578770243822\n",
      "----------------------------------\n"
     ]
    }
   ],
   "source": [
    "for col, pcds in zip(colors, blocks_pcd_by_color):\n",
    "    # if col != target_block_color:\n",
    "    #     continue\n",
    "    print(col)\n",
    "    \n",
    "    for idx, pcd in enumerate(pcds):\n",
    "        if idx != target_block_label:\n",
    "            continue\n",
    "        \n",
    "        # print(\"--------------------------------\")\n",
    "        print(idx)\n",
    "        pcd_new = transform_blocks(pcd, trans)\n",
    "        \n",
    "        # o3d.visualization.draw_geometries([pcd_new, mesh_frame, pcd_new.get_axis_aligned_bounding_box()])\n",
    "        \n",
    "        box_extent = pcd_new.get_axis_aligned_bounding_box().get_extent()\n",
    "        print(\"BOX EXTENT : \", box_extent)\n",
    "        \n",
    "        center_coordinate = np.array(pcd_new.get_axis_aligned_bounding_box().get_box_points()).mean(axis=0)\n",
    "        \n",
    "        # print(np.array(pcd_new.get_axis_aligned_bounding_box().get_box_points()))\n",
    "        print(\"BOX CENTER COORDINATE : \", center_coordinate)\n",
    "        \n",
    "        # print(\"BOX MAX X,Y and MEAN Z Coordinate\")\n",
    "        x_max = np.array(pcd_new.get_axis_aligned_bounding_box().get_box_points())[:,0].max()\n",
    "        y_max = np.array(pcd_new.get_axis_aligned_bounding_box().get_box_points())[:,1].max()\n",
    "        z_mean = np.array(pcd_new.get_axis_aligned_bounding_box().get_box_points())[:,2].mean()\n",
    "        \n",
    "        if box_extent[1] > 70:\n",
    "            print(\"PULL DIRECTION : X\")\n",
    "            vector = np.array([-1, 0, 0])\n",
    "            print(\"-----BLOCK CENTER COORDINATE-----\")\n",
    "            cen_x = x_max - 25/2\n",
    "            cen_y = y_max - 75/2\n",
    "            cen_z = z_mean\n",
    "            print(\"X :\", cen_x)\n",
    "            print(\"Y :\", cen_y)\n",
    "            print(\"Z :\", cen_z)\n",
    "            pt1 = o3d.cpu.pybind.utility.Vector3dVector(np.array([[cen_x, cen_y, z_mean], [cen_x - 0.01, cen_y - 0.01, cen_z - 0.01], [cen_x + 0.01, cen_y + 0.01, cen_z + 0.01]]))\n",
    "            print(\"-----TARGET COORDINATE-----\")\n",
    "            target_x = cen_x + 100\n",
    "            target_y = cen_y\n",
    "            target_z = cen_z\n",
    "            print(\"X :\", target_x)\n",
    "            print(\"Y :\", target_y)\n",
    "            print(\"Z :\", target_z)\n",
    "            pt2 = o3d.cpu.pybind.utility.Vector3dVector(np.array([[target_x, target_y, target_z], [target_x - 0.01, target_y - 0.01, target_z - 0.01], [target_x + 0.01, target_y + 0.01, target_z + 0.01]]))\n",
    "            print(\"----------------------------------\")\n",
    "            \n",
    "        elif box_extent[0] > 70:\n",
    "            print(\"PULL DIRECTION : Y\")\n",
    "            vector = np.array([0, -1, 0])\n",
    "            print(\"-----BLOCK CENTER COORDINATE-----\")\n",
    "            cen_x = x_max - 75/2\n",
    "            cen_y = y_max - 25/2\n",
    "            cen_z = z_mean\n",
    "            print(\"X :\", cen_x)\n",
    "            print(\"Y :\", cen_y)\n",
    "            print(\"Z :\", cen_z)\n",
    "            pt1 = o3d.cpu.pybind.utility.Vector3dVector(np.array([[cen_x, cen_y, z_mean], [cen_x - 0.01, cen_y - 0.01, cen_z - 0.01], [cen_x + 0.01, cen_y + 0.01, cen_z + 0.01]]))\n",
    "            print(\"-----TARGET COORDINATE-----\")\n",
    "            target_x = cen_x\n",
    "            target_y = cen_y + 100\n",
    "            target_z = cen_z\n",
    "            print(\"X :\", target_x)\n",
    "            print(\"Y :\", target_y)\n",
    "            print(\"Z :\", target_z)\n",
    "            pt2 = o3d.cpu.pybind.utility.Vector3dVector(np.array([[target_x, target_y, target_z], [target_x - 0.01, target_y - 0.01, target_z - 0.01], [target_x + 0.01, target_y + 0.01, target_z + 0.01]]))\n",
    "            print(\"----------------------------------\")\n",
    "            \n",
    "        elif abs(center_coordinate[0]) < 10 and box_extent [1] < 20:\n",
    "            print(\"PUSH DIRECTION : Y or -Y\")\n",
    "            vector = np.array([0, -1, 0])\n",
    "            print(\"-----BLOCK CENTER COORDINATE-----\")\n",
    "            cen_x = x_max - 25/2\n",
    "            cen_y = y_max - 75/2\n",
    "            cen_z = z_mean\n",
    "            print(\"X :\", cen_x)\n",
    "            print(\"Y :\", cen_y)\n",
    "            print(\"Z :\", cen_z)\n",
    "            pt1 = o3d.cpu.pybind.utility.Vector3dVector(np.array([[cen_x, cen_y, z_mean], [cen_x - 0.01, cen_y - 0.01, cen_z - 0.01], [cen_x + 0.01, cen_y + 0.01, cen_z + 0.01]]))\n",
    "            print(\"-----TARGET COORDINATE-----\")\n",
    "            target_x = cen_x\n",
    "            target_y = cen_y + 150\n",
    "            target_z = cen_z\n",
    "            print(\"X :\", target_x)\n",
    "            print(\"Y :\", target_y)\n",
    "            print(\"Z :\", target_z)\n",
    "            pt2 = o3d.cpu.pybind.utility.Vector3dVector(np.array([[target_x, target_y, target_z], [target_x - 0.01, target_y - 0.01, target_z - 0.01], [target_x + 0.01, target_y + 0.01, target_z + 0.01]]))\n",
    "            print(\"----------------------------------\")\n",
    "            \n",
    "        elif abs(center_coordinate[1]) < 10 and box_extent [0] < 20:\n",
    "            print(\"PUSH DIRECTION : X or -X\")\n",
    "            vector = np.array([-1, 0, 0])\n",
    "            print(\"-----BLOCK CENTER COORDINATE-----\")\n",
    "            cen_x = x_max - 75/2\n",
    "            cen_y = y_max - 25/2\n",
    "            cen_z = z_mean\n",
    "            print(\"X :\", cen_x)\n",
    "            print(\"Y :\", cen_y)\n",
    "            print(\"Z :\", cen_z)\n",
    "            pt1 = o3d.cpu.pybind.utility.Vector3dVector(np.array([[cen_x, cen_y, z_mean], [cen_x - 0.01, cen_y - 0.01, cen_z - 0.01], [cen_x + 0.01, cen_y + 0.01, cen_z + 0.01]]))\n",
    "            print(\"-----TARGET COORDINATE-----\")\n",
    "            target_x = cen_x + 150\n",
    "            target_y = cen_y\n",
    "            target_z = cen_z\n",
    "            print(\"X :\", target_x)\n",
    "            print(\"Y :\", target_y)\n",
    "            print(\"Z :\", target_z)\n",
    "            pt2 = o3d.cpu.pybind.utility.Vector3dVector(np.array([[target_x, target_y, target_z], [target_x - 0.01, target_y - 0.01, target_z - 0.01], [target_x + 0.01, target_y + 0.01, target_z + 0.01]]))\n",
    "            print(\"----------------------------------\")\n",
    "            \n",
    "        elif box_extent[1] < 20:\n",
    "            print(\"PULL DIRECTION : -X\")\n",
    "            vector = np.array([1, 0, 0])\n",
    "            print(\"-----BLOCK CENTER COORDINATE-----\")\n",
    "            cen_x = x_max - 25/2\n",
    "            cen_y = y_max - 75/2\n",
    "            cen_z = z_mean\n",
    "            print(\"X :\", cen_x)\n",
    "            print(\"Y :\", cen_y)\n",
    "            print(\"Z :\", cen_z)\n",
    "            pt1 = o3d.cpu.pybind.utility.Vector3dVector(np.array([[cen_x, cen_y, z_mean], [cen_x - 0.01, cen_y - 0.01, cen_z - 0.01], [cen_x + 0.01, cen_y + 0.01, cen_z + 0.01]]))\n",
    "            print(\"-----TARGET COORDINATE-----\")\n",
    "            target_x = cen_x - 100\n",
    "            target_y = cen_y\n",
    "            target_z = cen_z\n",
    "            print(\"X :\", target_x)\n",
    "            print(\"Y :\", target_y)\n",
    "            print(\"Z :\", target_z)\n",
    "            pt2 = o3d.cpu.pybind.utility.Vector3dVector(np.array([[target_x, target_y, target_z], [target_x - 0.01, target_y - 0.01, target_z - 0.01], [target_x + 0.01, target_y + 0.01, target_z + 0.01]]))\n",
    "            print(\"----------------------------------\")\n",
    "            \n",
    "        elif box_extent[0] < 20:\n",
    "            print(\"PULL DIRECTION : -Y\")\n",
    "            vector = np.array([0, 1, 0])\n",
    "            print(\"-----BLOCK CENTER COORDINATE-----\")\n",
    "            cen_x = x_max - 75/2\n",
    "            cen_y = y_max - 25/2\n",
    "            cen_z = z_mean\n",
    "            print(\"X :\", cen_x)\n",
    "            print(\"Y :\", cen_y)\n",
    "            print(\"Z :\", cen_z)\n",
    "            pt1 = o3d.cpu.pybind.utility.Vector3dVector(np.array([[cen_x, cen_y, z_mean], [cen_x - 0.01, cen_y - 0.01, cen_z - 0.01], [cen_x + 0.01, cen_y + 0.01, cen_z + 0.01]]))\n",
    "            print(\"-----TARGET COORDINATE-----\")\n",
    "            target_x = cen_x\n",
    "            target_y = cen_y - 100\n",
    "            target_z = cen_z\n",
    "            print(\"X :\", target_x)\n",
    "            print(\"Y :\", target_y)\n",
    "            print(\"Z :\", target_z)\n",
    "            pt2 = o3d.cpu.pybind.utility.Vector3dVector(np.array([[target_x, target_y, target_z], [target_x - 0.01, target_y - 0.01, target_z - 0.01], [target_x + 0.01, target_y + 0.01, target_z + 0.01]]))\n",
    "            print(\"----------------------------------\")\n",
    "            \n",
    "        mesh_COORD = o3d.geometry.TriangleMesh.create_coordinate_frame(size=10, origin=center_coordinate)\n",
    "        ptc1 = o3d.geometry.PointCloud()\n",
    "        ptc1.points = pt1\n",
    "        ptc1.paint_uniform_color([1, 0, 0])\n",
    "        ptc2 = o3d.geometry.PointCloud()\n",
    "        ptc2.points = pt2\n",
    "        ptc2.paint_uniform_color([0, 0, 1])\n",
    "        line = o3d.geometry.LineSet.create_from_point_cloud_correspondences(ptc1, ptc2, [(0,0)])\n",
    "        o3d.visualization.draw_geometries([pcd_new, mesh_frame, pcd_new.get_axis_aligned_bounding_box(), ptc1, ptc2, line])"
   ]
  },
  {
   "cell_type": "code",
   "execution_count": 85,
   "metadata": {},
   "outputs": [],
   "source": [
    "o3d.visualization.draw_geometries([source_temp, mesh_frame, source_temp.get_axis_aligned_bounding_box()])"
   ]
  },
  {
   "cell_type": "code",
   "execution_count": 86,
   "metadata": {},
   "outputs": [
    {
     "data": {
      "text/plain": [
       "array([[-43.67668868, -51.67284328,   2.93801914],\n",
       "       [ 40.38913111, -51.67284328,   2.93801914],\n",
       "       [-43.67668868,  41.35199069,   2.93801914],\n",
       "       [-43.67668868, -51.67284328, 183.0877935 ],\n",
       "       [ 40.38913111,  41.35199069, 183.0877935 ],\n",
       "       [-43.67668868,  41.35199069, 183.0877935 ],\n",
       "       [ 40.38913111, -51.67284328, 183.0877935 ],\n",
       "       [ 40.38913111,  41.35199069,   2.93801914]])"
      ]
     },
     "execution_count": 86,
     "metadata": {},
     "output_type": "execute_result"
    }
   ],
   "source": [
    "np.array(source_temp.get_axis_aligned_bounding_box().get_box_points())"
   ]
  },
  {
   "cell_type": "code",
   "execution_count": 87,
   "metadata": {},
   "outputs": [],
   "source": [
    "temp = copy.deepcopy(source_temp)\n",
    "\n",
    "aaa = o3d.cpu.pybind.utility.Vector3dVector(np.array(source_temp.points) - move)\n",
    "\n",
    "temp.points = aaa"
   ]
  },
  {
   "cell_type": "code",
   "execution_count": 88,
   "metadata": {},
   "outputs": [],
   "source": [
    "o3d.visualization.draw_geometries([temp, mesh_frame])"
   ]
  },
  {
   "cell_type": "code",
   "execution_count": 89,
   "metadata": {},
   "outputs": [
    {
     "data": {
      "text/plain": [
       "-348.3766339386123"
      ]
     },
     "execution_count": 89,
     "metadata": {},
     "output_type": "execute_result"
    }
   ],
   "source": [
    "np.array(temp.points)[:,0].max()"
   ]
  },
  {
   "cell_type": "code",
   "execution_count": 90,
   "metadata": {},
   "outputs": [
    {
     "data": {
      "text/plain": [
       "55.66465958084308"
      ]
     },
     "execution_count": 90,
     "metadata": {},
     "output_type": "execute_result"
    }
   ],
   "source": [
    "np.array(temp.points)[:,1].max()"
   ]
  },
  {
   "cell_type": "code",
   "execution_count": 91,
   "metadata": {},
   "outputs": [
    {
     "data": {
      "text/plain": [
       "41.35199068954161"
      ]
     },
     "execution_count": 91,
     "metadata": {},
     "output_type": "execute_result"
    }
   ],
   "source": [
    "np.array(source_temp.points)[:,1].max()"
   ]
  },
  {
   "cell_type": "code",
   "execution_count": 92,
   "metadata": {},
   "outputs": [
    {
     "data": {
      "text/plain": [
       "-51.67284327963441"
      ]
     },
     "execution_count": 92,
     "metadata": {},
     "output_type": "execute_result"
    }
   ],
   "source": [
    "np.array(source_temp.points)[:,1].min()"
   ]
  },
  {
   "cell_type": "code",
   "execution_count": 93,
   "metadata": {},
   "outputs": [
    {
     "data": {
      "text/plain": [
       "2.9380191419653854"
      ]
     },
     "execution_count": 93,
     "metadata": {},
     "output_type": "execute_result"
    }
   ],
   "source": [
    "np.array(source_temp.points)[:,2].min()"
   ]
  },
  {
   "cell_type": "code",
   "execution_count": 94,
   "metadata": {},
   "outputs": [
    {
     "data": {
      "text/plain": [
       "183.08779349913368"
      ]
     },
     "execution_count": 94,
     "metadata": {},
     "output_type": "execute_result"
    }
   ],
   "source": [
    "np.array(source_temp.points)[:,2].max()"
   ]
  },
  {
   "cell_type": "code",
   "execution_count": null,
   "metadata": {},
   "outputs": [],
   "source": []
  }
 ],
 "metadata": {
  "kernelspec": {
   "display_name": "urp",
   "language": "python",
   "name": "python3"
  },
  "language_info": {
   "codemirror_mode": {
    "name": "ipython",
    "version": 3
   },
   "file_extension": ".py",
   "mimetype": "text/x-python",
   "name": "python",
   "nbconvert_exporter": "python",
   "pygments_lexer": "ipython3",
   "version": "3.8.10"
  },
  "orig_nbformat": 4
 },
 "nbformat": 4,
 "nbformat_minor": 2
}
